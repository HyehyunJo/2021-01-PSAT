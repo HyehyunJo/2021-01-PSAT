{
 "cells": [
  {
   "cell_type": "markdown",
   "metadata": {},
   "source": [
    "## Nafactor - Classifierchain"
   ]
  },
  {
   "cell_type": "code",
   "execution_count": 6,
   "metadata": {},
   "outputs": [
    {
     "name": "stdout",
     "output_type": "stream",
     "text": [
      "Learning rate set to 0.038082\n",
      "0:\tlearn: 0.6625691\ttotal: 14.3ms\tremaining: 14.3s\n",
      "1:\tlearn: 0.6354477\ttotal: 29.2ms\tremaining: 14.6s\n",
      "2:\tlearn: 0.6104365\ttotal: 43.9ms\tremaining: 14.6s\n",
      "3:\tlearn: 0.5879030\ttotal: 57.8ms\tremaining: 14.4s\n",
      "4:\tlearn: 0.5700530\ttotal: 70.3ms\tremaining: 14s\n",
      "5:\tlearn: 0.5531432\ttotal: 82.7ms\tremaining: 13.7s\n",
      "6:\tlearn: 0.5363370\ttotal: 95.8ms\tremaining: 13.6s\n",
      "7:\tlearn: 0.5206405\ttotal: 109ms\tremaining: 13.6s\n",
      "8:\tlearn: 0.5081052\ttotal: 124ms\tremaining: 13.6s\n",
      "9:\tlearn: 0.4961863\ttotal: 137ms\tremaining: 13.6s\n",
      "10:\tlearn: 0.4854470\ttotal: 151ms\tremaining: 13.6s\n",
      "11:\tlearn: 0.4751268\ttotal: 165ms\tremaining: 13.6s\n",
      "12:\tlearn: 0.4662190\ttotal: 178ms\tremaining: 13.5s\n",
      "13:\tlearn: 0.4580227\ttotal: 193ms\tremaining: 13.6s\n",
      "14:\tlearn: 0.4503905\ttotal: 209ms\tremaining: 13.7s\n",
      "15:\tlearn: 0.4434180\ttotal: 226ms\tremaining: 13.9s\n",
      "16:\tlearn: 0.4374728\ttotal: 241ms\tremaining: 13.9s\n",
      "17:\tlearn: 0.4308248\ttotal: 255ms\tremaining: 13.9s\n",
      "18:\tlearn: 0.4257092\ttotal: 269ms\tremaining: 13.9s\n",
      "19:\tlearn: 0.4207525\ttotal: 284ms\tremaining: 13.9s\n",
      "20:\tlearn: 0.4166255\ttotal: 298ms\tremaining: 13.9s\n",
      "21:\tlearn: 0.4123447\ttotal: 311ms\tremaining: 13.8s\n",
      "22:\tlearn: 0.4083109\ttotal: 326ms\tremaining: 13.9s\n",
      "23:\tlearn: 0.4050629\ttotal: 342ms\tremaining: 13.9s\n",
      "24:\tlearn: 0.4016745\ttotal: 357ms\tremaining: 13.9s\n",
      "25:\tlearn: 0.3984250\ttotal: 371ms\tremaining: 13.9s\n",
      "26:\tlearn: 0.3958663\ttotal: 385ms\tremaining: 13.9s\n",
      "27:\tlearn: 0.3935079\ttotal: 402ms\tremaining: 13.9s\n",
      "28:\tlearn: 0.3910361\ttotal: 417ms\tremaining: 13.9s\n",
      "29:\tlearn: 0.3890818\ttotal: 430ms\tremaining: 13.9s\n",
      "30:\tlearn: 0.3871550\ttotal: 444ms\tremaining: 13.9s\n",
      "31:\tlearn: 0.3851440\ttotal: 460ms\tremaining: 13.9s\n",
      "32:\tlearn: 0.3831537\ttotal: 475ms\tremaining: 13.9s\n",
      "33:\tlearn: 0.3813789\ttotal: 491ms\tremaining: 13.9s\n",
      "34:\tlearn: 0.3800634\ttotal: 506ms\tremaining: 13.9s\n",
      "35:\tlearn: 0.3785393\ttotal: 520ms\tremaining: 13.9s\n",
      "36:\tlearn: 0.3771269\ttotal: 534ms\tremaining: 13.9s\n",
      "37:\tlearn: 0.3757968\ttotal: 549ms\tremaining: 13.9s\n",
      "38:\tlearn: 0.3745167\ttotal: 563ms\tremaining: 13.9s\n",
      "39:\tlearn: 0.3733404\ttotal: 578ms\tremaining: 13.9s\n",
      "40:\tlearn: 0.3720165\ttotal: 595ms\tremaining: 13.9s\n",
      "41:\tlearn: 0.3708015\ttotal: 609ms\tremaining: 13.9s\n",
      "42:\tlearn: 0.3696623\ttotal: 624ms\tremaining: 13.9s\n",
      "43:\tlearn: 0.3686669\ttotal: 640ms\tremaining: 13.9s\n",
      "44:\tlearn: 0.3679483\ttotal: 656ms\tremaining: 13.9s\n",
      "45:\tlearn: 0.3672390\ttotal: 671ms\tremaining: 13.9s\n",
      "46:\tlearn: 0.3663118\ttotal: 686ms\tremaining: 13.9s\n",
      "47:\tlearn: 0.3655934\ttotal: 701ms\tremaining: 13.9s\n",
      "48:\tlearn: 0.3648190\ttotal: 715ms\tremaining: 13.9s\n",
      "49:\tlearn: 0.3640261\ttotal: 731ms\tremaining: 13.9s\n",
      "50:\tlearn: 0.3631718\ttotal: 752ms\tremaining: 14s\n",
      "51:\tlearn: 0.3624751\ttotal: 770ms\tremaining: 14s\n",
      "52:\tlearn: 0.3616979\ttotal: 785ms\tremaining: 14s\n",
      "53:\tlearn: 0.3608469\ttotal: 800ms\tremaining: 14s\n",
      "54:\tlearn: 0.3602959\ttotal: 815ms\tremaining: 14s\n",
      "55:\tlearn: 0.3596843\ttotal: 830ms\tremaining: 14s\n",
      "56:\tlearn: 0.3592522\ttotal: 844ms\tremaining: 14s\n",
      "57:\tlearn: 0.3586574\ttotal: 859ms\tremaining: 14s\n",
      "58:\tlearn: 0.3580732\ttotal: 874ms\tremaining: 13.9s\n",
      "59:\tlearn: 0.3575024\ttotal: 888ms\tremaining: 13.9s\n",
      "60:\tlearn: 0.3570168\ttotal: 905ms\tremaining: 13.9s\n",
      "61:\tlearn: 0.3565198\ttotal: 922ms\tremaining: 14s\n",
      "62:\tlearn: 0.3559790\ttotal: 938ms\tremaining: 14s\n",
      "63:\tlearn: 0.3553343\ttotal: 957ms\tremaining: 14s\n",
      "64:\tlearn: 0.3548380\ttotal: 974ms\tremaining: 14s\n",
      "65:\tlearn: 0.3544472\ttotal: 990ms\tremaining: 14s\n",
      "66:\tlearn: 0.3539143\ttotal: 1s\tremaining: 14s\n",
      "67:\tlearn: 0.3534541\ttotal: 1.02s\tremaining: 14s\n",
      "68:\tlearn: 0.3530688\ttotal: 1.03s\tremaining: 14s\n",
      "69:\tlearn: 0.3526782\ttotal: 1.05s\tremaining: 14s\n",
      "70:\tlearn: 0.3522643\ttotal: 1.07s\tremaining: 14s\n",
      "71:\tlearn: 0.3519729\ttotal: 1.08s\tremaining: 14s\n",
      "72:\tlearn: 0.3515897\ttotal: 1.1s\tremaining: 14s\n",
      "73:\tlearn: 0.3511986\ttotal: 1.12s\tremaining: 14s\n",
      "74:\tlearn: 0.3506801\ttotal: 1.14s\tremaining: 14.1s\n",
      "75:\tlearn: 0.3504719\ttotal: 1.16s\tremaining: 14.1s\n",
      "76:\tlearn: 0.3501726\ttotal: 1.17s\tremaining: 14.1s\n",
      "77:\tlearn: 0.3498411\ttotal: 1.19s\tremaining: 14.1s\n",
      "78:\tlearn: 0.3494614\ttotal: 1.21s\tremaining: 14.1s\n",
      "79:\tlearn: 0.3490545\ttotal: 1.22s\tremaining: 14s\n",
      "80:\tlearn: 0.3487592\ttotal: 1.24s\tremaining: 14s\n",
      "81:\tlearn: 0.3485085\ttotal: 1.25s\tremaining: 14s\n",
      "82:\tlearn: 0.3481815\ttotal: 1.26s\tremaining: 14s\n",
      "83:\tlearn: 0.3478645\ttotal: 1.28s\tremaining: 14s\n",
      "84:\tlearn: 0.3475777\ttotal: 1.3s\tremaining: 14s\n",
      "85:\tlearn: 0.3472811\ttotal: 1.31s\tremaining: 14s\n",
      "86:\tlearn: 0.3470034\ttotal: 1.33s\tremaining: 13.9s\n",
      "87:\tlearn: 0.3466340\ttotal: 1.34s\tremaining: 13.9s\n",
      "88:\tlearn: 0.3463325\ttotal: 1.35s\tremaining: 13.9s\n",
      "89:\tlearn: 0.3460462\ttotal: 1.37s\tremaining: 13.8s\n",
      "90:\tlearn: 0.3457917\ttotal: 1.38s\tremaining: 13.8s\n",
      "91:\tlearn: 0.3454851\ttotal: 1.4s\tremaining: 13.8s\n",
      "92:\tlearn: 0.3452327\ttotal: 1.42s\tremaining: 13.8s\n",
      "93:\tlearn: 0.3450142\ttotal: 1.43s\tremaining: 13.8s\n",
      "94:\tlearn: 0.3447122\ttotal: 1.45s\tremaining: 13.8s\n",
      "95:\tlearn: 0.3444611\ttotal: 1.46s\tremaining: 13.8s\n",
      "96:\tlearn: 0.3442586\ttotal: 1.48s\tremaining: 13.8s\n",
      "97:\tlearn: 0.3439941\ttotal: 1.5s\tremaining: 13.8s\n",
      "98:\tlearn: 0.3437090\ttotal: 1.52s\tremaining: 13.8s\n",
      "99:\tlearn: 0.3434618\ttotal: 1.53s\tremaining: 13.8s\n",
      "100:\tlearn: 0.3431930\ttotal: 1.55s\tremaining: 13.8s\n",
      "101:\tlearn: 0.3429709\ttotal: 1.57s\tremaining: 13.8s\n",
      "102:\tlearn: 0.3427151\ttotal: 1.58s\tremaining: 13.8s\n",
      "103:\tlearn: 0.3425388\ttotal: 1.6s\tremaining: 13.8s\n",
      "104:\tlearn: 0.3423337\ttotal: 1.61s\tremaining: 13.7s\n",
      "105:\tlearn: 0.3421423\ttotal: 1.62s\tremaining: 13.7s\n",
      "106:\tlearn: 0.3420064\ttotal: 1.64s\tremaining: 13.7s\n",
      "107:\tlearn: 0.3417477\ttotal: 1.65s\tremaining: 13.6s\n",
      "108:\tlearn: 0.3414945\ttotal: 1.66s\tremaining: 13.6s\n",
      "109:\tlearn: 0.3412471\ttotal: 1.68s\tremaining: 13.6s\n",
      "110:\tlearn: 0.3410604\ttotal: 1.7s\tremaining: 13.6s\n",
      "111:\tlearn: 0.3408270\ttotal: 1.71s\tremaining: 13.6s\n",
      "112:\tlearn: 0.3405948\ttotal: 1.72s\tremaining: 13.5s\n",
      "113:\tlearn: 0.3403910\ttotal: 1.74s\tremaining: 13.5s\n",
      "114:\tlearn: 0.3401682\ttotal: 1.75s\tremaining: 13.5s\n",
      "115:\tlearn: 0.3399647\ttotal: 1.76s\tremaining: 13.5s\n",
      "116:\tlearn: 0.3397360\ttotal: 1.78s\tremaining: 13.4s\n",
      "117:\tlearn: 0.3395485\ttotal: 1.79s\tremaining: 13.4s\n",
      "118:\tlearn: 0.3393513\ttotal: 1.81s\tremaining: 13.4s\n",
      "119:\tlearn: 0.3391319\ttotal: 1.82s\tremaining: 13.4s\n",
      "120:\tlearn: 0.3389154\ttotal: 1.83s\tremaining: 13.3s\n",
      "121:\tlearn: 0.3386487\ttotal: 1.85s\tremaining: 13.3s\n",
      "122:\tlearn: 0.3384328\ttotal: 1.86s\tremaining: 13.3s\n",
      "123:\tlearn: 0.3382580\ttotal: 1.88s\tremaining: 13.3s\n",
      "124:\tlearn: 0.3380748\ttotal: 1.89s\tremaining: 13.2s\n",
      "125:\tlearn: 0.3378653\ttotal: 1.9s\tremaining: 13.2s\n",
      "126:\tlearn: 0.3376665\ttotal: 1.92s\tremaining: 13.2s\n",
      "127:\tlearn: 0.3375139\ttotal: 1.93s\tremaining: 13.2s\n",
      "128:\tlearn: 0.3372850\ttotal: 1.95s\tremaining: 13.1s\n",
      "129:\tlearn: 0.3371538\ttotal: 1.96s\tremaining: 13.1s\n",
      "130:\tlearn: 0.3369769\ttotal: 1.97s\tremaining: 13.1s\n",
      "131:\tlearn: 0.3368634\ttotal: 1.99s\tremaining: 13.1s\n",
      "132:\tlearn: 0.3366580\ttotal: 2s\tremaining: 13s\n",
      "133:\tlearn: 0.3365227\ttotal: 2.01s\tremaining: 13s\n",
      "134:\tlearn: 0.3363664\ttotal: 2.02s\tremaining: 13s\n",
      "135:\tlearn: 0.3361674\ttotal: 2.04s\tremaining: 12.9s\n",
      "136:\tlearn: 0.3359932\ttotal: 2.05s\tremaining: 12.9s\n",
      "137:\tlearn: 0.3358487\ttotal: 2.06s\tremaining: 12.9s\n",
      "138:\tlearn: 0.3357323\ttotal: 2.08s\tremaining: 12.9s\n",
      "139:\tlearn: 0.3355843\ttotal: 2.09s\tremaining: 12.8s\n",
      "140:\tlearn: 0.3354048\ttotal: 2.1s\tremaining: 12.8s\n",
      "141:\tlearn: 0.3352169\ttotal: 2.12s\tremaining: 12.8s\n",
      "142:\tlearn: 0.3350609\ttotal: 2.13s\tremaining: 12.8s\n",
      "143:\tlearn: 0.3349669\ttotal: 2.14s\tremaining: 12.7s\n",
      "144:\tlearn: 0.3347901\ttotal: 2.15s\tremaining: 12.7s\n",
      "145:\tlearn: 0.3345901\ttotal: 2.17s\tremaining: 12.7s\n",
      "146:\tlearn: 0.3343544\ttotal: 2.19s\tremaining: 12.7s\n",
      "147:\tlearn: 0.3342314\ttotal: 2.2s\tremaining: 12.7s\n",
      "148:\tlearn: 0.3340358\ttotal: 2.21s\tremaining: 12.6s\n",
      "149:\tlearn: 0.3338902\ttotal: 2.23s\tremaining: 12.6s\n",
      "150:\tlearn: 0.3337586\ttotal: 2.24s\tremaining: 12.6s\n",
      "151:\tlearn: 0.3335753\ttotal: 2.25s\tremaining: 12.6s\n",
      "152:\tlearn: 0.3334195\ttotal: 2.26s\tremaining: 12.5s\n",
      "153:\tlearn: 0.3333849\ttotal: 2.27s\tremaining: 12.5s\n",
      "154:\tlearn: 0.3332532\ttotal: 2.29s\tremaining: 12.5s\n",
      "155:\tlearn: 0.3330438\ttotal: 2.3s\tremaining: 12.4s\n",
      "156:\tlearn: 0.3328931\ttotal: 2.32s\tremaining: 12.4s\n",
      "157:\tlearn: 0.3327604\ttotal: 2.33s\tremaining: 12.4s\n",
      "158:\tlearn: 0.3325910\ttotal: 2.35s\tremaining: 12.4s\n",
      "159:\tlearn: 0.3323668\ttotal: 2.37s\tremaining: 12.4s\n",
      "160:\tlearn: 0.3322527\ttotal: 2.39s\tremaining: 12.5s\n",
      "161:\tlearn: 0.3321008\ttotal: 2.41s\tremaining: 12.5s\n",
      "162:\tlearn: 0.3319291\ttotal: 2.42s\tremaining: 12.5s\n",
      "163:\tlearn: 0.3317905\ttotal: 2.44s\tremaining: 12.5s\n",
      "164:\tlearn: 0.3316898\ttotal: 2.46s\tremaining: 12.4s\n",
      "165:\tlearn: 0.3315282\ttotal: 2.47s\tremaining: 12.4s\n",
      "166:\tlearn: 0.3313399\ttotal: 2.49s\tremaining: 12.4s\n",
      "167:\tlearn: 0.3312010\ttotal: 2.5s\tremaining: 12.4s\n",
      "168:\tlearn: 0.3310771\ttotal: 2.52s\tremaining: 12.4s\n",
      "169:\tlearn: 0.3309394\ttotal: 2.53s\tremaining: 12.4s\n",
      "170:\tlearn: 0.3307871\ttotal: 2.55s\tremaining: 12.3s\n",
      "171:\tlearn: 0.3306537\ttotal: 2.56s\tremaining: 12.3s\n",
      "172:\tlearn: 0.3305389\ttotal: 2.58s\tremaining: 12.3s\n",
      "173:\tlearn: 0.3304060\ttotal: 2.59s\tremaining: 12.3s\n",
      "174:\tlearn: 0.3302862\ttotal: 2.6s\tremaining: 12.3s\n",
      "175:\tlearn: 0.3301450\ttotal: 2.62s\tremaining: 12.3s\n",
      "176:\tlearn: 0.3299117\ttotal: 2.63s\tremaining: 12.2s\n",
      "177:\tlearn: 0.3297727\ttotal: 2.65s\tremaining: 12.2s\n",
      "178:\tlearn: 0.3295733\ttotal: 2.66s\tremaining: 12.2s\n",
      "179:\tlearn: 0.3294658\ttotal: 2.67s\tremaining: 12.2s\n",
      "180:\tlearn: 0.3293173\ttotal: 2.69s\tremaining: 12.2s\n",
      "181:\tlearn: 0.3290713\ttotal: 2.7s\tremaining: 12.1s\n",
      "182:\tlearn: 0.3289167\ttotal: 2.72s\tremaining: 12.1s\n",
      "183:\tlearn: 0.3288107\ttotal: 2.74s\tremaining: 12.1s\n",
      "184:\tlearn: 0.3286114\ttotal: 2.75s\tremaining: 12.1s\n",
      "185:\tlearn: 0.3284339\ttotal: 2.77s\tremaining: 12.1s\n",
      "186:\tlearn: 0.3282382\ttotal: 2.78s\tremaining: 12.1s\n",
      "187:\tlearn: 0.3280238\ttotal: 2.8s\tremaining: 12.1s\n",
      "188:\tlearn: 0.3278539\ttotal: 2.81s\tremaining: 12.1s\n",
      "189:\tlearn: 0.3277770\ttotal: 2.83s\tremaining: 12.1s\n",
      "190:\tlearn: 0.3276493\ttotal: 2.84s\tremaining: 12s\n",
      "191:\tlearn: 0.3274869\ttotal: 2.86s\tremaining: 12s\n",
      "192:\tlearn: 0.3273250\ttotal: 2.87s\tremaining: 12s\n",
      "193:\tlearn: 0.3272418\ttotal: 2.88s\tremaining: 12s\n",
      "194:\tlearn: 0.3271384\ttotal: 2.9s\tremaining: 12s\n",
      "195:\tlearn: 0.3270245\ttotal: 2.91s\tremaining: 12s\n",
      "196:\tlearn: 0.3268312\ttotal: 2.93s\tremaining: 11.9s\n",
      "197:\tlearn: 0.3267273\ttotal: 2.94s\tremaining: 11.9s\n",
      "198:\tlearn: 0.3266063\ttotal: 2.96s\tremaining: 11.9s\n",
      "199:\tlearn: 0.3264898\ttotal: 2.97s\tremaining: 11.9s\n",
      "200:\tlearn: 0.3263631\ttotal: 2.99s\tremaining: 11.9s\n",
      "201:\tlearn: 0.3262229\ttotal: 3s\tremaining: 11.9s\n",
      "202:\tlearn: 0.3261127\ttotal: 3.02s\tremaining: 11.9s\n",
      "203:\tlearn: 0.3259886\ttotal: 3.04s\tremaining: 11.8s\n",
      "204:\tlearn: 0.3258988\ttotal: 3.05s\tremaining: 11.8s\n",
      "205:\tlearn: 0.3256690\ttotal: 3.06s\tremaining: 11.8s\n",
      "206:\tlearn: 0.3255978\ttotal: 3.08s\tremaining: 11.8s\n",
      "207:\tlearn: 0.3254542\ttotal: 3.09s\tremaining: 11.8s\n",
      "208:\tlearn: 0.3252668\ttotal: 3.11s\tremaining: 11.8s\n",
      "209:\tlearn: 0.3250894\ttotal: 3.12s\tremaining: 11.7s\n",
      "210:\tlearn: 0.3249505\ttotal: 3.14s\tremaining: 11.7s\n",
      "211:\tlearn: 0.3247811\ttotal: 3.15s\tremaining: 11.7s\n",
      "212:\tlearn: 0.3246564\ttotal: 3.16s\tremaining: 11.7s\n",
      "213:\tlearn: 0.3245340\ttotal: 3.18s\tremaining: 11.7s\n",
      "214:\tlearn: 0.3244127\ttotal: 3.19s\tremaining: 11.7s\n",
      "215:\tlearn: 0.3243258\ttotal: 3.21s\tremaining: 11.6s\n",
      "216:\tlearn: 0.3242324\ttotal: 3.22s\tremaining: 11.6s\n",
      "217:\tlearn: 0.3241512\ttotal: 3.23s\tremaining: 11.6s\n",
      "218:\tlearn: 0.3240118\ttotal: 3.25s\tremaining: 11.6s\n",
      "219:\tlearn: 0.3238805\ttotal: 3.26s\tremaining: 11.6s\n",
      "220:\tlearn: 0.3237168\ttotal: 3.28s\tremaining: 11.5s\n",
      "221:\tlearn: 0.3236158\ttotal: 3.29s\tremaining: 11.5s\n",
      "222:\tlearn: 0.3235066\ttotal: 3.3s\tremaining: 11.5s\n",
      "223:\tlearn: 0.3233441\ttotal: 3.32s\tremaining: 11.5s\n",
      "224:\tlearn: 0.3231945\ttotal: 3.33s\tremaining: 11.5s\n",
      "225:\tlearn: 0.3230966\ttotal: 3.35s\tremaining: 11.5s\n",
      "226:\tlearn: 0.3229595\ttotal: 3.36s\tremaining: 11.5s\n",
      "227:\tlearn: 0.3228116\ttotal: 3.38s\tremaining: 11.4s\n",
      "228:\tlearn: 0.3227225\ttotal: 3.39s\tremaining: 11.4s\n",
      "229:\tlearn: 0.3226142\ttotal: 3.41s\tremaining: 11.4s\n",
      "230:\tlearn: 0.3224218\ttotal: 3.42s\tremaining: 11.4s\n",
      "231:\tlearn: 0.3223064\ttotal: 3.44s\tremaining: 11.4s\n",
      "232:\tlearn: 0.3221201\ttotal: 3.45s\tremaining: 11.4s\n",
      "233:\tlearn: 0.3220013\ttotal: 3.46s\tremaining: 11.3s\n",
      "234:\tlearn: 0.3218478\ttotal: 3.48s\tremaining: 11.3s\n",
      "235:\tlearn: 0.3217000\ttotal: 3.49s\tremaining: 11.3s\n",
      "236:\tlearn: 0.3214995\ttotal: 3.51s\tremaining: 11.3s\n",
      "237:\tlearn: 0.3213529\ttotal: 3.52s\tremaining: 11.3s\n",
      "238:\tlearn: 0.3212255\ttotal: 3.53s\tremaining: 11.3s\n",
      "239:\tlearn: 0.3210345\ttotal: 3.55s\tremaining: 11.2s\n",
      "240:\tlearn: 0.3209064\ttotal: 3.56s\tremaining: 11.2s\n",
      "241:\tlearn: 0.3207895\ttotal: 3.58s\tremaining: 11.2s\n",
      "242:\tlearn: 0.3206680\ttotal: 3.59s\tremaining: 11.2s\n",
      "243:\tlearn: 0.3205117\ttotal: 3.6s\tremaining: 11.2s\n",
      "244:\tlearn: 0.3203212\ttotal: 3.62s\tremaining: 11.2s\n",
      "245:\tlearn: 0.3201369\ttotal: 3.64s\tremaining: 11.1s\n",
      "246:\tlearn: 0.3200253\ttotal: 3.65s\tremaining: 11.1s\n",
      "247:\tlearn: 0.3198755\ttotal: 3.67s\tremaining: 11.1s\n",
      "248:\tlearn: 0.3196817\ttotal: 3.68s\tremaining: 11.1s\n",
      "249:\tlearn: 0.3195776\ttotal: 3.69s\tremaining: 11.1s\n",
      "250:\tlearn: 0.3194116\ttotal: 3.71s\tremaining: 11.1s\n",
      "251:\tlearn: 0.3193021\ttotal: 3.72s\tremaining: 11s\n",
      "252:\tlearn: 0.3191319\ttotal: 3.74s\tremaining: 11s\n",
      "253:\tlearn: 0.3190213\ttotal: 3.75s\tremaining: 11s\n",
      "254:\tlearn: 0.3188963\ttotal: 3.77s\tremaining: 11s\n",
      "255:\tlearn: 0.3188283\ttotal: 3.78s\tremaining: 11s\n",
      "256:\tlearn: 0.3186699\ttotal: 3.8s\tremaining: 11s\n",
      "257:\tlearn: 0.3185105\ttotal: 3.81s\tremaining: 11s\n",
      "258:\tlearn: 0.3183146\ttotal: 3.83s\tremaining: 11s\n",
      "259:\tlearn: 0.3181720\ttotal: 3.84s\tremaining: 10.9s\n",
      "260:\tlearn: 0.3180443\ttotal: 3.86s\tremaining: 10.9s\n",
      "261:\tlearn: 0.3178850\ttotal: 3.87s\tremaining: 10.9s\n",
      "262:\tlearn: 0.3176877\ttotal: 3.88s\tremaining: 10.9s\n",
      "263:\tlearn: 0.3175157\ttotal: 3.9s\tremaining: 10.9s\n",
      "264:\tlearn: 0.3173961\ttotal: 3.92s\tremaining: 10.9s\n",
      "265:\tlearn: 0.3172711\ttotal: 3.93s\tremaining: 10.8s\n",
      "266:\tlearn: 0.3171741\ttotal: 3.94s\tremaining: 10.8s\n",
      "267:\tlearn: 0.3169863\ttotal: 3.96s\tremaining: 10.8s\n",
      "268:\tlearn: 0.3168312\ttotal: 3.97s\tremaining: 10.8s\n",
      "269:\tlearn: 0.3166575\ttotal: 3.99s\tremaining: 10.8s\n",
      "270:\tlearn: 0.3165216\ttotal: 4s\tremaining: 10.8s\n",
      "271:\tlearn: 0.3163513\ttotal: 4.02s\tremaining: 10.8s\n",
      "272:\tlearn: 0.3162485\ttotal: 4.03s\tremaining: 10.7s\n",
      "273:\tlearn: 0.3161037\ttotal: 4.04s\tremaining: 10.7s\n",
      "274:\tlearn: 0.3158929\ttotal: 4.06s\tremaining: 10.7s\n",
      "275:\tlearn: 0.3157602\ttotal: 4.07s\tremaining: 10.7s\n",
      "276:\tlearn: 0.3156016\ttotal: 4.09s\tremaining: 10.7s\n",
      "277:\tlearn: 0.3154189\ttotal: 4.1s\tremaining: 10.7s\n",
      "278:\tlearn: 0.3152695\ttotal: 4.12s\tremaining: 10.6s\n",
      "279:\tlearn: 0.3151447\ttotal: 4.13s\tremaining: 10.6s\n",
      "280:\tlearn: 0.3149934\ttotal: 4.15s\tremaining: 10.6s\n",
      "281:\tlearn: 0.3148402\ttotal: 4.16s\tremaining: 10.6s\n",
      "282:\tlearn: 0.3147430\ttotal: 4.18s\tremaining: 10.6s\n",
      "283:\tlearn: 0.3145937\ttotal: 4.19s\tremaining: 10.6s\n",
      "284:\tlearn: 0.3144183\ttotal: 4.21s\tremaining: 10.6s\n",
      "285:\tlearn: 0.3143077\ttotal: 4.22s\tremaining: 10.5s\n",
      "286:\tlearn: 0.3141906\ttotal: 4.24s\tremaining: 10.5s\n",
      "287:\tlearn: 0.3140932\ttotal: 4.26s\tremaining: 10.5s\n",
      "288:\tlearn: 0.3139682\ttotal: 4.28s\tremaining: 10.5s\n",
      "289:\tlearn: 0.3138360\ttotal: 4.3s\tremaining: 10.5s\n",
      "290:\tlearn: 0.3137439\ttotal: 4.32s\tremaining: 10.5s\n",
      "291:\tlearn: 0.3136279\ttotal: 4.34s\tremaining: 10.5s\n",
      "292:\tlearn: 0.3134793\ttotal: 4.36s\tremaining: 10.5s\n",
      "293:\tlearn: 0.3133905\ttotal: 4.38s\tremaining: 10.5s\n",
      "294:\tlearn: 0.3132500\ttotal: 4.39s\tremaining: 10.5s\n",
      "295:\tlearn: 0.3130450\ttotal: 4.41s\tremaining: 10.5s\n",
      "296:\tlearn: 0.3129497\ttotal: 4.43s\tremaining: 10.5s\n",
      "297:\tlearn: 0.3128370\ttotal: 4.46s\tremaining: 10.5s\n",
      "298:\tlearn: 0.3126972\ttotal: 4.47s\tremaining: 10.5s\n",
      "299:\tlearn: 0.3125248\ttotal: 4.49s\tremaining: 10.5s\n",
      "300:\tlearn: 0.3123609\ttotal: 4.51s\tremaining: 10.5s\n",
      "301:\tlearn: 0.3122143\ttotal: 4.52s\tremaining: 10.5s\n",
      "302:\tlearn: 0.3121147\ttotal: 4.54s\tremaining: 10.4s\n",
      "303:\tlearn: 0.3119916\ttotal: 4.55s\tremaining: 10.4s\n",
      "304:\tlearn: 0.3118298\ttotal: 4.57s\tremaining: 10.4s\n",
      "305:\tlearn: 0.3116946\ttotal: 4.58s\tremaining: 10.4s\n",
      "306:\tlearn: 0.3115597\ttotal: 4.6s\tremaining: 10.4s\n",
      "307:\tlearn: 0.3114319\ttotal: 4.61s\tremaining: 10.4s\n",
      "308:\tlearn: 0.3113027\ttotal: 4.63s\tremaining: 10.3s\n",
      "309:\tlearn: 0.3111738\ttotal: 4.65s\tremaining: 10.3s\n",
      "310:\tlearn: 0.3110414\ttotal: 4.67s\tremaining: 10.3s\n",
      "311:\tlearn: 0.3108711\ttotal: 4.68s\tremaining: 10.3s\n",
      "312:\tlearn: 0.3107466\ttotal: 4.7s\tremaining: 10.3s\n",
      "313:\tlearn: 0.3105987\ttotal: 4.72s\tremaining: 10.3s\n",
      "314:\tlearn: 0.3104630\ttotal: 4.74s\tremaining: 10.3s\n",
      "315:\tlearn: 0.3103455\ttotal: 4.76s\tremaining: 10.3s\n",
      "316:\tlearn: 0.3102135\ttotal: 4.78s\tremaining: 10.3s\n",
      "317:\tlearn: 0.3101162\ttotal: 4.79s\tremaining: 10.3s\n",
      "318:\tlearn: 0.3099593\ttotal: 4.81s\tremaining: 10.3s\n",
      "319:\tlearn: 0.3098232\ttotal: 4.83s\tremaining: 10.3s\n",
      "320:\tlearn: 0.3096734\ttotal: 4.85s\tremaining: 10.3s\n",
      "321:\tlearn: 0.3095176\ttotal: 4.87s\tremaining: 10.2s\n",
      "322:\tlearn: 0.3093553\ttotal: 4.88s\tremaining: 10.2s\n",
      "323:\tlearn: 0.3092184\ttotal: 4.89s\tremaining: 10.2s\n",
      "324:\tlearn: 0.3091078\ttotal: 4.91s\tremaining: 10.2s\n",
      "325:\tlearn: 0.3089507\ttotal: 4.93s\tremaining: 10.2s\n",
      "326:\tlearn: 0.3088466\ttotal: 4.94s\tremaining: 10.2s\n",
      "327:\tlearn: 0.3086788\ttotal: 4.96s\tremaining: 10.2s\n",
      "328:\tlearn: 0.3085540\ttotal: 4.97s\tremaining: 10.1s\n",
      "329:\tlearn: 0.3084140\ttotal: 4.98s\tremaining: 10.1s\n",
      "330:\tlearn: 0.3083096\ttotal: 5s\tremaining: 10.1s\n",
      "331:\tlearn: 0.3081792\ttotal: 5.01s\tremaining: 10.1s\n",
      "332:\tlearn: 0.3080028\ttotal: 5.03s\tremaining: 10.1s\n",
      "333:\tlearn: 0.3078813\ttotal: 5.04s\tremaining: 10.1s\n",
      "334:\tlearn: 0.3077433\ttotal: 5.06s\tremaining: 10s\n",
      "335:\tlearn: 0.3076197\ttotal: 5.07s\tremaining: 10s\n",
      "336:\tlearn: 0.3075235\ttotal: 5.08s\tremaining: 10s\n",
      "337:\tlearn: 0.3073711\ttotal: 5.09s\tremaining: 9.98s\n",
      "338:\tlearn: 0.3072455\ttotal: 5.11s\tremaining: 9.96s\n",
      "339:\tlearn: 0.3070830\ttotal: 5.12s\tremaining: 9.95s\n",
      "340:\tlearn: 0.3069391\ttotal: 5.14s\tremaining: 9.93s\n",
      "341:\tlearn: 0.3067965\ttotal: 5.15s\tremaining: 9.92s\n",
      "342:\tlearn: 0.3066618\ttotal: 5.17s\tremaining: 9.91s\n",
      "343:\tlearn: 0.3065382\ttotal: 5.19s\tremaining: 9.9s\n",
      "344:\tlearn: 0.3064185\ttotal: 5.21s\tremaining: 9.89s\n",
      "345:\tlearn: 0.3063266\ttotal: 5.23s\tremaining: 9.88s\n",
      "346:\tlearn: 0.3062120\ttotal: 5.25s\tremaining: 9.87s\n",
      "347:\tlearn: 0.3060995\ttotal: 5.26s\tremaining: 9.86s\n",
      "348:\tlearn: 0.3059669\ttotal: 5.28s\tremaining: 9.85s\n",
      "349:\tlearn: 0.3058579\ttotal: 5.29s\tremaining: 9.83s\n",
      "350:\tlearn: 0.3056779\ttotal: 5.31s\tremaining: 9.82s\n",
      "351:\tlearn: 0.3055549\ttotal: 5.33s\tremaining: 9.81s\n",
      "352:\tlearn: 0.3054510\ttotal: 5.34s\tremaining: 9.79s\n",
      "353:\tlearn: 0.3053207\ttotal: 5.36s\tremaining: 9.77s\n",
      "354:\tlearn: 0.3051942\ttotal: 5.37s\tremaining: 9.76s\n",
      "355:\tlearn: 0.3050891\ttotal: 5.38s\tremaining: 9.74s\n",
      "356:\tlearn: 0.3049455\ttotal: 5.4s\tremaining: 9.72s\n",
      "357:\tlearn: 0.3048416\ttotal: 5.41s\tremaining: 9.71s\n",
      "358:\tlearn: 0.3047213\ttotal: 5.43s\tremaining: 9.7s\n",
      "359:\tlearn: 0.3045590\ttotal: 5.44s\tremaining: 9.68s\n",
      "360:\tlearn: 0.3044576\ttotal: 5.46s\tremaining: 9.66s\n",
      "361:\tlearn: 0.3043615\ttotal: 5.47s\tremaining: 9.64s\n",
      "362:\tlearn: 0.3042740\ttotal: 5.49s\tremaining: 9.63s\n",
      "363:\tlearn: 0.3041068\ttotal: 5.5s\tremaining: 9.61s\n",
      "364:\tlearn: 0.3039478\ttotal: 5.51s\tremaining: 9.59s\n",
      "365:\tlearn: 0.3038336\ttotal: 5.53s\tremaining: 9.58s\n",
      "366:\tlearn: 0.3037442\ttotal: 5.54s\tremaining: 9.56s\n",
      "367:\tlearn: 0.3036504\ttotal: 5.56s\tremaining: 9.54s\n",
      "368:\tlearn: 0.3035518\ttotal: 5.57s\tremaining: 9.53s\n",
      "369:\tlearn: 0.3034153\ttotal: 5.58s\tremaining: 9.51s\n",
      "370:\tlearn: 0.3033186\ttotal: 5.6s\tremaining: 9.5s\n",
      "371:\tlearn: 0.3031888\ttotal: 5.62s\tremaining: 9.48s\n",
      "372:\tlearn: 0.3030638\ttotal: 5.63s\tremaining: 9.46s\n",
      "373:\tlearn: 0.3029389\ttotal: 5.64s\tremaining: 9.45s\n",
      "374:\tlearn: 0.3028491\ttotal: 5.66s\tremaining: 9.43s\n",
      "375:\tlearn: 0.3027357\ttotal: 5.67s\tremaining: 9.42s\n",
      "376:\tlearn: 0.3026440\ttotal: 5.69s\tremaining: 9.4s\n",
      "377:\tlearn: 0.3025149\ttotal: 5.7s\tremaining: 9.38s\n",
      "378:\tlearn: 0.3023752\ttotal: 5.72s\tremaining: 9.37s\n",
      "379:\tlearn: 0.3022453\ttotal: 5.73s\tremaining: 9.35s\n",
      "380:\tlearn: 0.3021012\ttotal: 5.74s\tremaining: 9.33s\n",
      "381:\tlearn: 0.3019906\ttotal: 5.76s\tremaining: 9.31s\n",
      "382:\tlearn: 0.3018774\ttotal: 5.77s\tremaining: 9.3s\n",
      "383:\tlearn: 0.3017668\ttotal: 5.79s\tremaining: 9.28s\n",
      "384:\tlearn: 0.3016334\ttotal: 5.8s\tremaining: 9.27s\n",
      "385:\tlearn: 0.3015014\ttotal: 5.82s\tremaining: 9.25s\n",
      "386:\tlearn: 0.3013797\ttotal: 5.83s\tremaining: 9.24s\n",
      "387:\tlearn: 0.3012847\ttotal: 5.85s\tremaining: 9.22s\n",
      "388:\tlearn: 0.3011719\ttotal: 5.86s\tremaining: 9.21s\n",
      "389:\tlearn: 0.3010932\ttotal: 5.88s\tremaining: 9.19s\n",
      "390:\tlearn: 0.3009921\ttotal: 5.89s\tremaining: 9.17s\n",
      "391:\tlearn: 0.3008656\ttotal: 5.9s\tremaining: 9.16s\n",
      "392:\tlearn: 0.3007772\ttotal: 5.92s\tremaining: 9.14s\n",
      "393:\tlearn: 0.3006265\ttotal: 5.93s\tremaining: 9.12s\n",
      "394:\tlearn: 0.3005149\ttotal: 5.94s\tremaining: 9.11s\n",
      "395:\tlearn: 0.3003701\ttotal: 5.96s\tremaining: 9.09s\n",
      "396:\tlearn: 0.3002799\ttotal: 5.97s\tremaining: 9.07s\n",
      "397:\tlearn: 0.3001923\ttotal: 5.99s\tremaining: 9.06s\n",
      "398:\tlearn: 0.3000845\ttotal: 6s\tremaining: 9.04s\n",
      "399:\tlearn: 0.2999846\ttotal: 6.02s\tremaining: 9.03s\n",
      "400:\tlearn: 0.2999118\ttotal: 6.03s\tremaining: 9.01s\n",
      "401:\tlearn: 0.2998074\ttotal: 6.05s\tremaining: 8.99s\n",
      "402:\tlearn: 0.2996808\ttotal: 6.06s\tremaining: 8.98s\n",
      "403:\tlearn: 0.2996065\ttotal: 6.07s\tremaining: 8.96s\n",
      "404:\tlearn: 0.2995214\ttotal: 6.09s\tremaining: 8.94s\n",
      "405:\tlearn: 0.2994130\ttotal: 6.1s\tremaining: 8.92s\n",
      "406:\tlearn: 0.2993292\ttotal: 6.11s\tremaining: 8.91s\n",
      "407:\tlearn: 0.2992137\ttotal: 6.13s\tremaining: 8.89s\n",
      "408:\tlearn: 0.2991352\ttotal: 6.14s\tremaining: 8.87s\n",
      "409:\tlearn: 0.2990379\ttotal: 6.16s\tremaining: 8.86s\n",
      "410:\tlearn: 0.2989450\ttotal: 6.17s\tremaining: 8.84s\n",
      "411:\tlearn: 0.2987698\ttotal: 6.18s\tremaining: 8.82s\n",
      "412:\tlearn: 0.2986261\ttotal: 6.2s\tremaining: 8.81s\n",
      "413:\tlearn: 0.2984787\ttotal: 6.21s\tremaining: 8.79s\n",
      "414:\tlearn: 0.2983681\ttotal: 6.22s\tremaining: 8.78s\n",
      "415:\tlearn: 0.2982349\ttotal: 6.24s\tremaining: 8.76s\n",
      "416:\tlearn: 0.2980934\ttotal: 6.25s\tremaining: 8.74s\n",
      "417:\tlearn: 0.2979916\ttotal: 6.27s\tremaining: 8.73s\n",
      "418:\tlearn: 0.2978573\ttotal: 6.28s\tremaining: 8.71s\n",
      "419:\tlearn: 0.2977289\ttotal: 6.29s\tremaining: 8.69s\n",
      "420:\tlearn: 0.2976424\ttotal: 6.31s\tremaining: 8.68s\n",
      "421:\tlearn: 0.2975324\ttotal: 6.32s\tremaining: 8.66s\n",
      "422:\tlearn: 0.2974309\ttotal: 6.34s\tremaining: 8.64s\n",
      "423:\tlearn: 0.2973202\ttotal: 6.35s\tremaining: 8.63s\n",
      "424:\tlearn: 0.2971761\ttotal: 6.36s\tremaining: 8.61s\n",
      "425:\tlearn: 0.2970466\ttotal: 6.38s\tremaining: 8.6s\n",
      "426:\tlearn: 0.2968872\ttotal: 6.39s\tremaining: 8.58s\n",
      "427:\tlearn: 0.2967563\ttotal: 6.41s\tremaining: 8.56s\n",
      "428:\tlearn: 0.2966293\ttotal: 6.42s\tremaining: 8.55s\n",
      "429:\tlearn: 0.2965399\ttotal: 6.44s\tremaining: 8.53s\n",
      "430:\tlearn: 0.2964143\ttotal: 6.45s\tremaining: 8.52s\n",
      "431:\tlearn: 0.2963200\ttotal: 6.47s\tremaining: 8.5s\n",
      "432:\tlearn: 0.2961949\ttotal: 6.48s\tremaining: 8.49s\n",
      "433:\tlearn: 0.2960803\ttotal: 6.5s\tremaining: 8.47s\n",
      "434:\tlearn: 0.2959981\ttotal: 6.51s\tremaining: 8.46s\n",
      "435:\tlearn: 0.2959100\ttotal: 6.52s\tremaining: 8.44s\n",
      "436:\tlearn: 0.2957784\ttotal: 6.54s\tremaining: 8.42s\n",
      "437:\tlearn: 0.2956909\ttotal: 6.55s\tremaining: 8.41s\n",
      "438:\tlearn: 0.2955348\ttotal: 6.57s\tremaining: 8.39s\n",
      "439:\tlearn: 0.2953861\ttotal: 6.58s\tremaining: 8.37s\n",
      "440:\tlearn: 0.2952787\ttotal: 6.59s\tremaining: 8.36s\n",
      "441:\tlearn: 0.2952002\ttotal: 6.61s\tremaining: 8.34s\n",
      "442:\tlearn: 0.2950587\ttotal: 6.62s\tremaining: 8.32s\n",
      "443:\tlearn: 0.2949642\ttotal: 6.63s\tremaining: 8.31s\n",
      "444:\tlearn: 0.2948810\ttotal: 6.65s\tremaining: 8.29s\n",
      "445:\tlearn: 0.2947684\ttotal: 6.67s\tremaining: 8.28s\n",
      "446:\tlearn: 0.2947026\ttotal: 6.68s\tremaining: 8.27s\n",
      "447:\tlearn: 0.2946068\ttotal: 6.7s\tremaining: 8.25s\n",
      "448:\tlearn: 0.2945317\ttotal: 6.72s\tremaining: 8.24s\n",
      "449:\tlearn: 0.2944433\ttotal: 6.73s\tremaining: 8.23s\n",
      "450:\tlearn: 0.2943593\ttotal: 6.75s\tremaining: 8.21s\n",
      "451:\tlearn: 0.2942327\ttotal: 6.76s\tremaining: 8.2s\n",
      "452:\tlearn: 0.2941215\ttotal: 6.78s\tremaining: 8.19s\n",
      "453:\tlearn: 0.2940034\ttotal: 6.8s\tremaining: 8.18s\n",
      "454:\tlearn: 0.2938813\ttotal: 6.81s\tremaining: 8.16s\n",
      "455:\tlearn: 0.2938072\ttotal: 6.83s\tremaining: 8.15s\n",
      "456:\tlearn: 0.2937051\ttotal: 6.85s\tremaining: 8.13s\n",
      "457:\tlearn: 0.2936208\ttotal: 6.86s\tremaining: 8.12s\n",
      "458:\tlearn: 0.2934994\ttotal: 6.88s\tremaining: 8.11s\n",
      "459:\tlearn: 0.2933830\ttotal: 6.9s\tremaining: 8.1s\n",
      "460:\tlearn: 0.2932567\ttotal: 6.91s\tremaining: 8.08s\n",
      "461:\tlearn: 0.2931558\ttotal: 6.93s\tremaining: 8.07s\n",
      "462:\tlearn: 0.2930213\ttotal: 6.95s\tremaining: 8.06s\n",
      "463:\tlearn: 0.2929465\ttotal: 6.96s\tremaining: 8.04s\n",
      "464:\tlearn: 0.2928551\ttotal: 6.98s\tremaining: 8.03s\n",
      "465:\tlearn: 0.2927650\ttotal: 7s\tremaining: 8.02s\n",
      "466:\tlearn: 0.2926522\ttotal: 7.01s\tremaining: 8.01s\n",
      "467:\tlearn: 0.2925463\ttotal: 7.03s\tremaining: 7.99s\n",
      "468:\tlearn: 0.2923819\ttotal: 7.04s\tremaining: 7.98s\n",
      "469:\tlearn: 0.2922776\ttotal: 7.06s\tremaining: 7.96s\n",
      "470:\tlearn: 0.2921444\ttotal: 7.07s\tremaining: 7.94s\n",
      "471:\tlearn: 0.2920345\ttotal: 7.08s\tremaining: 7.93s\n",
      "472:\tlearn: 0.2919109\ttotal: 7.1s\tremaining: 7.91s\n",
      "473:\tlearn: 0.2917387\ttotal: 7.11s\tremaining: 7.89s\n",
      "474:\tlearn: 0.2916516\ttotal: 7.13s\tremaining: 7.88s\n",
      "475:\tlearn: 0.2915231\ttotal: 7.14s\tremaining: 7.86s\n",
      "476:\tlearn: 0.2914384\ttotal: 7.15s\tremaining: 7.84s\n",
      "477:\tlearn: 0.2913065\ttotal: 7.17s\tremaining: 7.83s\n",
      "478:\tlearn: 0.2912073\ttotal: 7.18s\tremaining: 7.81s\n",
      "479:\tlearn: 0.2911170\ttotal: 7.2s\tremaining: 7.79s\n",
      "480:\tlearn: 0.2909597\ttotal: 7.21s\tremaining: 7.78s\n",
      "481:\tlearn: 0.2908615\ttotal: 7.22s\tremaining: 7.76s\n",
      "482:\tlearn: 0.2907512\ttotal: 7.24s\tremaining: 7.75s\n",
      "483:\tlearn: 0.2906498\ttotal: 7.25s\tremaining: 7.73s\n",
      "484:\tlearn: 0.2905513\ttotal: 7.26s\tremaining: 7.71s\n",
      "485:\tlearn: 0.2904710\ttotal: 7.28s\tremaining: 7.7s\n",
      "486:\tlearn: 0.2903978\ttotal: 7.29s\tremaining: 7.68s\n",
      "487:\tlearn: 0.2903037\ttotal: 7.3s\tremaining: 7.66s\n",
      "488:\tlearn: 0.2901979\ttotal: 7.32s\tremaining: 7.65s\n",
      "489:\tlearn: 0.2900852\ttotal: 7.33s\tremaining: 7.63s\n",
      "490:\tlearn: 0.2899587\ttotal: 7.34s\tremaining: 7.61s\n",
      "491:\tlearn: 0.2898708\ttotal: 7.36s\tremaining: 7.6s\n",
      "492:\tlearn: 0.2897765\ttotal: 7.37s\tremaining: 7.58s\n",
      "493:\tlearn: 0.2896418\ttotal: 7.39s\tremaining: 7.57s\n",
      "494:\tlearn: 0.2895649\ttotal: 7.4s\tremaining: 7.55s\n",
      "495:\tlearn: 0.2894977\ttotal: 7.41s\tremaining: 7.53s\n",
      "496:\tlearn: 0.2893703\ttotal: 7.43s\tremaining: 7.52s\n",
      "497:\tlearn: 0.2892899\ttotal: 7.44s\tremaining: 7.5s\n",
      "498:\tlearn: 0.2891989\ttotal: 7.46s\tremaining: 7.49s\n",
      "499:\tlearn: 0.2891004\ttotal: 7.47s\tremaining: 7.47s\n",
      "500:\tlearn: 0.2889829\ttotal: 7.49s\tremaining: 7.46s\n",
      "501:\tlearn: 0.2888813\ttotal: 7.5s\tremaining: 7.45s\n",
      "502:\tlearn: 0.2888140\ttotal: 7.52s\tremaining: 7.43s\n",
      "503:\tlearn: 0.2887091\ttotal: 7.54s\tremaining: 7.42s\n",
      "504:\tlearn: 0.2885889\ttotal: 7.55s\tremaining: 7.4s\n",
      "505:\tlearn: 0.2885179\ttotal: 7.56s\tremaining: 7.38s\n",
      "506:\tlearn: 0.2884150\ttotal: 7.58s\tremaining: 7.37s\n",
      "507:\tlearn: 0.2883271\ttotal: 7.6s\tremaining: 7.36s\n",
      "508:\tlearn: 0.2882496\ttotal: 7.61s\tremaining: 7.34s\n",
      "509:\tlearn: 0.2881623\ttotal: 7.63s\tremaining: 7.33s\n",
      "510:\tlearn: 0.2880654\ttotal: 7.64s\tremaining: 7.31s\n",
      "511:\tlearn: 0.2879472\ttotal: 7.66s\tremaining: 7.3s\n",
      "512:\tlearn: 0.2877950\ttotal: 7.67s\tremaining: 7.28s\n",
      "513:\tlearn: 0.2877056\ttotal: 7.69s\tremaining: 7.27s\n",
      "514:\tlearn: 0.2876466\ttotal: 7.7s\tremaining: 7.25s\n",
      "515:\tlearn: 0.2874910\ttotal: 7.71s\tremaining: 7.24s\n",
      "516:\tlearn: 0.2873565\ttotal: 7.73s\tremaining: 7.22s\n",
      "517:\tlearn: 0.2872727\ttotal: 7.74s\tremaining: 7.21s\n",
      "518:\tlearn: 0.2871563\ttotal: 7.76s\tremaining: 7.19s\n",
      "519:\tlearn: 0.2870594\ttotal: 7.77s\tremaining: 7.17s\n",
      "520:\tlearn: 0.2869650\ttotal: 7.79s\tremaining: 7.16s\n",
      "521:\tlearn: 0.2868691\ttotal: 7.8s\tremaining: 7.14s\n",
      "522:\tlearn: 0.2867444\ttotal: 7.82s\tremaining: 7.13s\n",
      "523:\tlearn: 0.2866037\ttotal: 7.83s\tremaining: 7.11s\n",
      "524:\tlearn: 0.2865331\ttotal: 7.85s\tremaining: 7.1s\n",
      "525:\tlearn: 0.2864304\ttotal: 7.86s\tremaining: 7.08s\n",
      "526:\tlearn: 0.2863708\ttotal: 7.87s\tremaining: 7.07s\n",
      "527:\tlearn: 0.2863066\ttotal: 7.89s\tremaining: 7.05s\n",
      "528:\tlearn: 0.2862232\ttotal: 7.9s\tremaining: 7.04s\n",
      "529:\tlearn: 0.2861256\ttotal: 7.92s\tremaining: 7.02s\n",
      "530:\tlearn: 0.2860206\ttotal: 7.93s\tremaining: 7.01s\n",
      "531:\tlearn: 0.2859131\ttotal: 7.95s\tremaining: 6.99s\n",
      "532:\tlearn: 0.2858562\ttotal: 7.96s\tremaining: 6.98s\n",
      "533:\tlearn: 0.2857225\ttotal: 7.98s\tremaining: 6.96s\n",
      "534:\tlearn: 0.2855924\ttotal: 7.99s\tremaining: 6.95s\n",
      "535:\tlearn: 0.2855033\ttotal: 8.01s\tremaining: 6.93s\n",
      "536:\tlearn: 0.2853696\ttotal: 8.02s\tremaining: 6.92s\n",
      "537:\tlearn: 0.2853065\ttotal: 8.04s\tremaining: 6.9s\n",
      "538:\tlearn: 0.2851964\ttotal: 8.05s\tremaining: 6.88s\n",
      "539:\tlearn: 0.2851334\ttotal: 8.06s\tremaining: 6.87s\n",
      "540:\tlearn: 0.2850511\ttotal: 8.08s\tremaining: 6.85s\n",
      "541:\tlearn: 0.2849350\ttotal: 8.09s\tremaining: 6.84s\n",
      "542:\tlearn: 0.2848157\ttotal: 8.11s\tremaining: 6.83s\n",
      "543:\tlearn: 0.2847240\ttotal: 8.12s\tremaining: 6.81s\n",
      "544:\tlearn: 0.2846306\ttotal: 8.14s\tremaining: 6.79s\n",
      "545:\tlearn: 0.2845057\ttotal: 8.15s\tremaining: 6.78s\n",
      "546:\tlearn: 0.2844237\ttotal: 8.17s\tremaining: 6.76s\n",
      "547:\tlearn: 0.2843151\ttotal: 8.18s\tremaining: 6.75s\n",
      "548:\tlearn: 0.2842439\ttotal: 8.2s\tremaining: 6.73s\n",
      "549:\tlearn: 0.2841314\ttotal: 8.21s\tremaining: 6.72s\n",
      "550:\tlearn: 0.2840379\ttotal: 8.23s\tremaining: 6.71s\n",
      "551:\tlearn: 0.2839623\ttotal: 8.24s\tremaining: 6.69s\n",
      "552:\tlearn: 0.2838741\ttotal: 8.26s\tremaining: 6.67s\n",
      "553:\tlearn: 0.2838192\ttotal: 8.27s\tremaining: 6.66s\n",
      "554:\tlearn: 0.2837456\ttotal: 8.29s\tremaining: 6.65s\n",
      "555:\tlearn: 0.2836856\ttotal: 8.3s\tremaining: 6.63s\n",
      "556:\tlearn: 0.2835916\ttotal: 8.32s\tremaining: 6.62s\n",
      "557:\tlearn: 0.2834969\ttotal: 8.33s\tremaining: 6.6s\n",
      "558:\tlearn: 0.2834538\ttotal: 8.35s\tremaining: 6.58s\n",
      "559:\tlearn: 0.2833436\ttotal: 8.36s\tremaining: 6.57s\n",
      "560:\tlearn: 0.2832257\ttotal: 8.38s\tremaining: 6.55s\n",
      "561:\tlearn: 0.2831480\ttotal: 8.39s\tremaining: 6.54s\n",
      "562:\tlearn: 0.2830663\ttotal: 8.4s\tremaining: 6.52s\n",
      "563:\tlearn: 0.2829853\ttotal: 8.42s\tremaining: 6.51s\n",
      "564:\tlearn: 0.2828392\ttotal: 8.44s\tremaining: 6.5s\n",
      "565:\tlearn: 0.2827206\ttotal: 8.46s\tremaining: 6.48s\n",
      "566:\tlearn: 0.2826525\ttotal: 8.47s\tremaining: 6.47s\n",
      "567:\tlearn: 0.2826126\ttotal: 8.48s\tremaining: 6.45s\n",
      "568:\tlearn: 0.2825067\ttotal: 8.5s\tremaining: 6.44s\n",
      "569:\tlearn: 0.2824292\ttotal: 8.51s\tremaining: 6.42s\n",
      "570:\tlearn: 0.2823552\ttotal: 8.53s\tremaining: 6.41s\n",
      "571:\tlearn: 0.2823154\ttotal: 8.54s\tremaining: 6.39s\n",
      "572:\tlearn: 0.2822040\ttotal: 8.55s\tremaining: 6.37s\n",
      "573:\tlearn: 0.2821226\ttotal: 8.56s\tremaining: 6.36s\n",
      "574:\tlearn: 0.2820156\ttotal: 8.58s\tremaining: 6.34s\n",
      "575:\tlearn: 0.2819254\ttotal: 8.59s\tremaining: 6.33s\n",
      "576:\tlearn: 0.2818717\ttotal: 8.61s\tremaining: 6.31s\n",
      "577:\tlearn: 0.2817827\ttotal: 8.62s\tremaining: 6.29s\n",
      "578:\tlearn: 0.2817091\ttotal: 8.63s\tremaining: 6.28s\n",
      "579:\tlearn: 0.2815916\ttotal: 8.65s\tremaining: 6.26s\n",
      "580:\tlearn: 0.2815058\ttotal: 8.66s\tremaining: 6.25s\n",
      "581:\tlearn: 0.2814050\ttotal: 8.68s\tremaining: 6.23s\n",
      "582:\tlearn: 0.2813240\ttotal: 8.69s\tremaining: 6.22s\n",
      "583:\tlearn: 0.2812183\ttotal: 8.71s\tremaining: 6.2s\n",
      "584:\tlearn: 0.2810696\ttotal: 8.72s\tremaining: 6.19s\n",
      "585:\tlearn: 0.2809549\ttotal: 8.73s\tremaining: 6.17s\n",
      "586:\tlearn: 0.2808622\ttotal: 8.75s\tremaining: 6.16s\n",
      "587:\tlearn: 0.2807589\ttotal: 8.76s\tremaining: 6.14s\n",
      "588:\tlearn: 0.2807149\ttotal: 8.78s\tremaining: 6.12s\n",
      "589:\tlearn: 0.2805734\ttotal: 8.79s\tremaining: 6.11s\n",
      "590:\tlearn: 0.2804658\ttotal: 8.81s\tremaining: 6.1s\n",
      "591:\tlearn: 0.2803894\ttotal: 8.82s\tremaining: 6.08s\n",
      "592:\tlearn: 0.2802796\ttotal: 8.84s\tremaining: 6.07s\n",
      "593:\tlearn: 0.2801770\ttotal: 8.85s\tremaining: 6.05s\n",
      "594:\tlearn: 0.2800431\ttotal: 8.87s\tremaining: 6.04s\n",
      "595:\tlearn: 0.2799542\ttotal: 8.88s\tremaining: 6.02s\n",
      "596:\tlearn: 0.2798939\ttotal: 8.89s\tremaining: 6s\n",
      "597:\tlearn: 0.2797871\ttotal: 8.91s\tremaining: 5.99s\n",
      "598:\tlearn: 0.2797038\ttotal: 8.92s\tremaining: 5.97s\n",
      "599:\tlearn: 0.2796504\ttotal: 8.93s\tremaining: 5.96s\n",
      "600:\tlearn: 0.2795372\ttotal: 8.95s\tremaining: 5.94s\n",
      "601:\tlearn: 0.2794471\ttotal: 8.96s\tremaining: 5.92s\n",
      "602:\tlearn: 0.2793389\ttotal: 8.98s\tremaining: 5.91s\n",
      "603:\tlearn: 0.2792659\ttotal: 8.99s\tremaining: 5.89s\n",
      "604:\tlearn: 0.2791561\ttotal: 9.01s\tremaining: 5.88s\n",
      "605:\tlearn: 0.2790806\ttotal: 9.02s\tremaining: 5.86s\n",
      "606:\tlearn: 0.2790062\ttotal: 9.03s\tremaining: 5.85s\n",
      "607:\tlearn: 0.2788918\ttotal: 9.05s\tremaining: 5.83s\n",
      "608:\tlearn: 0.2788220\ttotal: 9.06s\tremaining: 5.82s\n",
      "609:\tlearn: 0.2787299\ttotal: 9.07s\tremaining: 5.8s\n",
      "610:\tlearn: 0.2786509\ttotal: 9.09s\tremaining: 5.79s\n",
      "611:\tlearn: 0.2785505\ttotal: 9.1s\tremaining: 5.77s\n",
      "612:\tlearn: 0.2784485\ttotal: 9.12s\tremaining: 5.76s\n",
      "613:\tlearn: 0.2783720\ttotal: 9.13s\tremaining: 5.74s\n",
      "614:\tlearn: 0.2783127\ttotal: 9.15s\tremaining: 5.72s\n",
      "615:\tlearn: 0.2782358\ttotal: 9.16s\tremaining: 5.71s\n",
      "616:\tlearn: 0.2780922\ttotal: 9.18s\tremaining: 5.7s\n",
      "617:\tlearn: 0.2779609\ttotal: 9.19s\tremaining: 5.68s\n",
      "618:\tlearn: 0.2778563\ttotal: 9.2s\tremaining: 5.67s\n",
      "619:\tlearn: 0.2777720\ttotal: 9.22s\tremaining: 5.65s\n",
      "620:\tlearn: 0.2777354\ttotal: 9.23s\tremaining: 5.63s\n",
      "621:\tlearn: 0.2776878\ttotal: 9.24s\tremaining: 5.62s\n",
      "622:\tlearn: 0.2775659\ttotal: 9.26s\tremaining: 5.6s\n",
      "623:\tlearn: 0.2774599\ttotal: 9.27s\tremaining: 5.59s\n",
      "624:\tlearn: 0.2773837\ttotal: 9.29s\tremaining: 5.57s\n",
      "625:\tlearn: 0.2773326\ttotal: 9.3s\tremaining: 5.55s\n",
      "626:\tlearn: 0.2772644\ttotal: 9.31s\tremaining: 5.54s\n",
      "627:\tlearn: 0.2771584\ttotal: 9.32s\tremaining: 5.52s\n",
      "628:\tlearn: 0.2770887\ttotal: 9.34s\tremaining: 5.51s\n",
      "629:\tlearn: 0.2769357\ttotal: 9.35s\tremaining: 5.49s\n",
      "630:\tlearn: 0.2768432\ttotal: 9.37s\tremaining: 5.48s\n",
      "631:\tlearn: 0.2767848\ttotal: 9.38s\tremaining: 5.46s\n",
      "632:\tlearn: 0.2767143\ttotal: 9.39s\tremaining: 5.45s\n",
      "633:\tlearn: 0.2766467\ttotal: 9.41s\tremaining: 5.43s\n",
      "634:\tlearn: 0.2765844\ttotal: 9.42s\tremaining: 5.41s\n",
      "635:\tlearn: 0.2764576\ttotal: 9.43s\tremaining: 5.4s\n",
      "636:\tlearn: 0.2763786\ttotal: 9.45s\tremaining: 5.38s\n",
      "637:\tlearn: 0.2762874\ttotal: 9.46s\tremaining: 5.37s\n",
      "638:\tlearn: 0.2761930\ttotal: 9.47s\tremaining: 5.35s\n",
      "639:\tlearn: 0.2761090\ttotal: 9.48s\tremaining: 5.33s\n",
      "640:\tlearn: 0.2760451\ttotal: 9.5s\tremaining: 5.32s\n",
      "641:\tlearn: 0.2759448\ttotal: 9.51s\tremaining: 5.3s\n",
      "642:\tlearn: 0.2758072\ttotal: 9.53s\tremaining: 5.29s\n",
      "643:\tlearn: 0.2757319\ttotal: 9.54s\tremaining: 5.27s\n",
      "644:\tlearn: 0.2756716\ttotal: 9.55s\tremaining: 5.26s\n",
      "645:\tlearn: 0.2755755\ttotal: 9.56s\tremaining: 5.24s\n",
      "646:\tlearn: 0.2754650\ttotal: 9.58s\tremaining: 5.23s\n",
      "647:\tlearn: 0.2753763\ttotal: 9.59s\tremaining: 5.21s\n",
      "648:\tlearn: 0.2752839\ttotal: 9.61s\tremaining: 5.2s\n",
      "649:\tlearn: 0.2752062\ttotal: 9.62s\tremaining: 5.18s\n",
      "650:\tlearn: 0.2751130\ttotal: 9.63s\tremaining: 5.16s\n",
      "651:\tlearn: 0.2750505\ttotal: 9.64s\tremaining: 5.15s\n",
      "652:\tlearn: 0.2749851\ttotal: 9.66s\tremaining: 5.13s\n",
      "653:\tlearn: 0.2748688\ttotal: 9.67s\tremaining: 5.12s\n",
      "654:\tlearn: 0.2747715\ttotal: 9.69s\tremaining: 5.1s\n",
      "655:\tlearn: 0.2746742\ttotal: 9.7s\tremaining: 5.09s\n",
      "656:\tlearn: 0.2746379\ttotal: 9.71s\tremaining: 5.07s\n",
      "657:\tlearn: 0.2745390\ttotal: 9.73s\tremaining: 5.05s\n",
      "658:\tlearn: 0.2744326\ttotal: 9.74s\tremaining: 5.04s\n",
      "659:\tlearn: 0.2743314\ttotal: 9.75s\tremaining: 5.02s\n",
      "660:\tlearn: 0.2742125\ttotal: 9.77s\tremaining: 5.01s\n",
      "661:\tlearn: 0.2741267\ttotal: 9.78s\tremaining: 4.99s\n",
      "662:\tlearn: 0.2740628\ttotal: 9.79s\tremaining: 4.98s\n",
      "663:\tlearn: 0.2739993\ttotal: 9.81s\tremaining: 4.96s\n",
      "664:\tlearn: 0.2739021\ttotal: 9.82s\tremaining: 4.95s\n",
      "665:\tlearn: 0.2738424\ttotal: 9.83s\tremaining: 4.93s\n",
      "666:\tlearn: 0.2737795\ttotal: 9.85s\tremaining: 4.92s\n",
      "667:\tlearn: 0.2737193\ttotal: 9.86s\tremaining: 4.9s\n",
      "668:\tlearn: 0.2735738\ttotal: 9.87s\tremaining: 4.88s\n",
      "669:\tlearn: 0.2734637\ttotal: 9.89s\tremaining: 4.87s\n",
      "670:\tlearn: 0.2733908\ttotal: 9.9s\tremaining: 4.85s\n",
      "671:\tlearn: 0.2732784\ttotal: 9.91s\tremaining: 4.84s\n",
      "672:\tlearn: 0.2731952\ttotal: 9.93s\tremaining: 4.82s\n",
      "673:\tlearn: 0.2730953\ttotal: 9.94s\tremaining: 4.81s\n",
      "674:\tlearn: 0.2730206\ttotal: 9.95s\tremaining: 4.79s\n",
      "675:\tlearn: 0.2729124\ttotal: 9.97s\tremaining: 4.78s\n",
      "676:\tlearn: 0.2727870\ttotal: 9.98s\tremaining: 4.76s\n",
      "677:\tlearn: 0.2726890\ttotal: 9.99s\tremaining: 4.75s\n",
      "678:\tlearn: 0.2726269\ttotal: 10s\tremaining: 4.73s\n",
      "679:\tlearn: 0.2725595\ttotal: 10s\tremaining: 4.71s\n",
      "680:\tlearn: 0.2724404\ttotal: 10s\tremaining: 4.7s\n",
      "681:\tlearn: 0.2723770\ttotal: 10s\tremaining: 4.68s\n",
      "682:\tlearn: 0.2722705\ttotal: 10.1s\tremaining: 4.67s\n",
      "683:\tlearn: 0.2722165\ttotal: 10.1s\tremaining: 4.65s\n",
      "684:\tlearn: 0.2721102\ttotal: 10.1s\tremaining: 4.64s\n",
      "685:\tlearn: 0.2719801\ttotal: 10.1s\tremaining: 4.62s\n",
      "686:\tlearn: 0.2718997\ttotal: 10.1s\tremaining: 4.61s\n",
      "687:\tlearn: 0.2717916\ttotal: 10.1s\tremaining: 4.59s\n",
      "688:\tlearn: 0.2717138\ttotal: 10.1s\tremaining: 4.58s\n",
      "689:\tlearn: 0.2716589\ttotal: 10.2s\tremaining: 4.56s\n",
      "690:\tlearn: 0.2715354\ttotal: 10.2s\tremaining: 4.55s\n",
      "691:\tlearn: 0.2714404\ttotal: 10.2s\tremaining: 4.53s\n",
      "692:\tlearn: 0.2713916\ttotal: 10.2s\tremaining: 4.52s\n",
      "693:\tlearn: 0.2713038\ttotal: 10.2s\tremaining: 4.5s\n",
      "694:\tlearn: 0.2712551\ttotal: 10.2s\tremaining: 4.49s\n",
      "695:\tlearn: 0.2711425\ttotal: 10.2s\tremaining: 4.47s\n",
      "696:\tlearn: 0.2710132\ttotal: 10.3s\tremaining: 4.46s\n",
      "697:\tlearn: 0.2709113\ttotal: 10.3s\tremaining: 4.44s\n",
      "698:\tlearn: 0.2707991\ttotal: 10.3s\tremaining: 4.43s\n",
      "699:\tlearn: 0.2707068\ttotal: 10.3s\tremaining: 4.41s\n",
      "700:\tlearn: 0.2706154\ttotal: 10.3s\tremaining: 4.4s\n",
      "701:\tlearn: 0.2705113\ttotal: 10.3s\tremaining: 4.38s\n",
      "702:\tlearn: 0.2704407\ttotal: 10.3s\tremaining: 4.37s\n",
      "703:\tlearn: 0.2703505\ttotal: 10.3s\tremaining: 4.35s\n",
      "704:\tlearn: 0.2703163\ttotal: 10.4s\tremaining: 4.33s\n",
      "705:\tlearn: 0.2702513\ttotal: 10.4s\tremaining: 4.32s\n",
      "706:\tlearn: 0.2701675\ttotal: 10.4s\tremaining: 4.3s\n",
      "707:\tlearn: 0.2701098\ttotal: 10.4s\tremaining: 4.29s\n",
      "708:\tlearn: 0.2700325\ttotal: 10.4s\tremaining: 4.28s\n",
      "709:\tlearn: 0.2699017\ttotal: 10.4s\tremaining: 4.26s\n",
      "710:\tlearn: 0.2697779\ttotal: 10.4s\tremaining: 4.25s\n",
      "711:\tlearn: 0.2696882\ttotal: 10.5s\tremaining: 4.23s\n",
      "712:\tlearn: 0.2696013\ttotal: 10.5s\tremaining: 4.22s\n",
      "713:\tlearn: 0.2694917\ttotal: 10.5s\tremaining: 4.2s\n",
      "714:\tlearn: 0.2693887\ttotal: 10.5s\tremaining: 4.19s\n",
      "715:\tlearn: 0.2693437\ttotal: 10.5s\tremaining: 4.17s\n",
      "716:\tlearn: 0.2692776\ttotal: 10.5s\tremaining: 4.16s\n",
      "717:\tlearn: 0.2692229\ttotal: 10.5s\tremaining: 4.14s\n",
      "718:\tlearn: 0.2691231\ttotal: 10.6s\tremaining: 4.13s\n",
      "719:\tlearn: 0.2690071\ttotal: 10.6s\tremaining: 4.11s\n",
      "720:\tlearn: 0.2689093\ttotal: 10.6s\tremaining: 4.09s\n",
      "721:\tlearn: 0.2688483\ttotal: 10.6s\tremaining: 4.08s\n",
      "722:\tlearn: 0.2687432\ttotal: 10.6s\tremaining: 4.07s\n",
      "723:\tlearn: 0.2686852\ttotal: 10.6s\tremaining: 4.05s\n",
      "724:\tlearn: 0.2686181\ttotal: 10.6s\tremaining: 4.04s\n",
      "725:\tlearn: 0.2685140\ttotal: 10.7s\tremaining: 4.02s\n",
      "726:\tlearn: 0.2684642\ttotal: 10.7s\tremaining: 4.01s\n",
      "727:\tlearn: 0.2684179\ttotal: 10.7s\tremaining: 3.99s\n",
      "728:\tlearn: 0.2683241\ttotal: 10.7s\tremaining: 3.98s\n",
      "729:\tlearn: 0.2682837\ttotal: 10.7s\tremaining: 3.96s\n",
      "730:\tlearn: 0.2681795\ttotal: 10.7s\tremaining: 3.94s\n",
      "731:\tlearn: 0.2681366\ttotal: 10.7s\tremaining: 3.93s\n",
      "732:\tlearn: 0.2680517\ttotal: 10.7s\tremaining: 3.92s\n",
      "733:\tlearn: 0.2679412\ttotal: 10.8s\tremaining: 3.9s\n",
      "734:\tlearn: 0.2678534\ttotal: 10.8s\tremaining: 3.89s\n",
      "735:\tlearn: 0.2677510\ttotal: 10.8s\tremaining: 3.87s\n",
      "736:\tlearn: 0.2676449\ttotal: 10.8s\tremaining: 3.86s\n",
      "737:\tlearn: 0.2675847\ttotal: 10.8s\tremaining: 3.84s\n",
      "738:\tlearn: 0.2675160\ttotal: 10.8s\tremaining: 3.83s\n",
      "739:\tlearn: 0.2674746\ttotal: 10.8s\tremaining: 3.81s\n",
      "740:\tlearn: 0.2673938\ttotal: 10.9s\tremaining: 3.8s\n",
      "741:\tlearn: 0.2673408\ttotal: 10.9s\tremaining: 3.78s\n",
      "742:\tlearn: 0.2672468\ttotal: 10.9s\tremaining: 3.77s\n",
      "743:\tlearn: 0.2671903\ttotal: 10.9s\tremaining: 3.75s\n",
      "744:\tlearn: 0.2671066\ttotal: 10.9s\tremaining: 3.74s\n",
      "745:\tlearn: 0.2670289\ttotal: 10.9s\tremaining: 3.72s\n",
      "746:\tlearn: 0.2669676\ttotal: 11s\tremaining: 3.71s\n",
      "747:\tlearn: 0.2668901\ttotal: 11s\tremaining: 3.69s\n",
      "748:\tlearn: 0.2668007\ttotal: 11s\tremaining: 3.68s\n",
      "749:\tlearn: 0.2667336\ttotal: 11s\tremaining: 3.66s\n",
      "750:\tlearn: 0.2666682\ttotal: 11s\tremaining: 3.65s\n",
      "751:\tlearn: 0.2666009\ttotal: 11s\tremaining: 3.63s\n",
      "752:\tlearn: 0.2665218\ttotal: 11s\tremaining: 3.62s\n",
      "753:\tlearn: 0.2664735\ttotal: 11s\tremaining: 3.6s\n",
      "754:\tlearn: 0.2663944\ttotal: 11.1s\tremaining: 3.59s\n",
      "755:\tlearn: 0.2662511\ttotal: 11.1s\tremaining: 3.57s\n",
      "756:\tlearn: 0.2661562\ttotal: 11.1s\tremaining: 3.56s\n",
      "757:\tlearn: 0.2660641\ttotal: 11.1s\tremaining: 3.54s\n",
      "758:\tlearn: 0.2659876\ttotal: 11.1s\tremaining: 3.53s\n",
      "759:\tlearn: 0.2658971\ttotal: 11.1s\tremaining: 3.52s\n",
      "760:\tlearn: 0.2658596\ttotal: 11.1s\tremaining: 3.5s\n",
      "761:\tlearn: 0.2657424\ttotal: 11.2s\tremaining: 3.49s\n",
      "762:\tlearn: 0.2656496\ttotal: 11.2s\tremaining: 3.47s\n",
      "763:\tlearn: 0.2655558\ttotal: 11.2s\tremaining: 3.46s\n",
      "764:\tlearn: 0.2654828\ttotal: 11.2s\tremaining: 3.44s\n",
      "765:\tlearn: 0.2653964\ttotal: 11.2s\tremaining: 3.43s\n",
      "766:\tlearn: 0.2653091\ttotal: 11.2s\tremaining: 3.41s\n",
      "767:\tlearn: 0.2652613\ttotal: 11.2s\tremaining: 3.4s\n",
      "768:\tlearn: 0.2652007\ttotal: 11.3s\tremaining: 3.38s\n",
      "769:\tlearn: 0.2651434\ttotal: 11.3s\tremaining: 3.37s\n",
      "770:\tlearn: 0.2650746\ttotal: 11.3s\tremaining: 3.35s\n",
      "771:\tlearn: 0.2649895\ttotal: 11.3s\tremaining: 3.34s\n",
      "772:\tlearn: 0.2649087\ttotal: 11.3s\tremaining: 3.32s\n",
      "773:\tlearn: 0.2648081\ttotal: 11.3s\tremaining: 3.31s\n",
      "774:\tlearn: 0.2647550\ttotal: 11.3s\tremaining: 3.29s\n",
      "775:\tlearn: 0.2646939\ttotal: 11.4s\tremaining: 3.28s\n",
      "776:\tlearn: 0.2645782\ttotal: 11.4s\tremaining: 3.26s\n",
      "777:\tlearn: 0.2645012\ttotal: 11.4s\tremaining: 3.25s\n",
      "778:\tlearn: 0.2644484\ttotal: 11.4s\tremaining: 3.23s\n",
      "779:\tlearn: 0.2643674\ttotal: 11.4s\tremaining: 3.22s\n",
      "780:\tlearn: 0.2643257\ttotal: 11.4s\tremaining: 3.21s\n",
      "781:\tlearn: 0.2642201\ttotal: 11.4s\tremaining: 3.19s\n",
      "782:\tlearn: 0.2641545\ttotal: 11.5s\tremaining: 3.18s\n",
      "783:\tlearn: 0.2641091\ttotal: 11.5s\tremaining: 3.16s\n",
      "784:\tlearn: 0.2640234\ttotal: 11.5s\tremaining: 3.15s\n",
      "785:\tlearn: 0.2639185\ttotal: 11.5s\tremaining: 3.13s\n",
      "786:\tlearn: 0.2637881\ttotal: 11.5s\tremaining: 3.12s\n",
      "787:\tlearn: 0.2636917\ttotal: 11.5s\tremaining: 3.11s\n",
      "788:\tlearn: 0.2635923\ttotal: 11.6s\tremaining: 3.09s\n",
      "789:\tlearn: 0.2634850\ttotal: 11.6s\tremaining: 3.08s\n",
      "790:\tlearn: 0.2634164\ttotal: 11.6s\tremaining: 3.06s\n",
      "791:\tlearn: 0.2633205\ttotal: 11.6s\tremaining: 3.05s\n",
      "792:\tlearn: 0.2632124\ttotal: 11.6s\tremaining: 3.03s\n",
      "793:\tlearn: 0.2631504\ttotal: 11.6s\tremaining: 3.02s\n",
      "794:\tlearn: 0.2631036\ttotal: 11.7s\tremaining: 3s\n",
      "795:\tlearn: 0.2630078\ttotal: 11.7s\tremaining: 2.99s\n",
      "796:\tlearn: 0.2629484\ttotal: 11.7s\tremaining: 2.98s\n",
      "797:\tlearn: 0.2628419\ttotal: 11.7s\tremaining: 2.96s\n",
      "798:\tlearn: 0.2627970\ttotal: 11.7s\tremaining: 2.95s\n",
      "799:\tlearn: 0.2626994\ttotal: 11.7s\tremaining: 2.93s\n",
      "800:\tlearn: 0.2626403\ttotal: 11.7s\tremaining: 2.92s\n",
      "801:\tlearn: 0.2625875\ttotal: 11.8s\tremaining: 2.9s\n",
      "802:\tlearn: 0.2625223\ttotal: 11.8s\tremaining: 2.89s\n",
      "803:\tlearn: 0.2624501\ttotal: 11.8s\tremaining: 2.87s\n",
      "804:\tlearn: 0.2623651\ttotal: 11.8s\tremaining: 2.86s\n",
      "805:\tlearn: 0.2622916\ttotal: 11.8s\tremaining: 2.85s\n",
      "806:\tlearn: 0.2622362\ttotal: 11.8s\tremaining: 2.83s\n",
      "807:\tlearn: 0.2621384\ttotal: 11.9s\tremaining: 2.82s\n",
      "808:\tlearn: 0.2620866\ttotal: 11.9s\tremaining: 2.8s\n",
      "809:\tlearn: 0.2619970\ttotal: 11.9s\tremaining: 2.79s\n",
      "810:\tlearn: 0.2619409\ttotal: 11.9s\tremaining: 2.77s\n",
      "811:\tlearn: 0.2618772\ttotal: 11.9s\tremaining: 2.76s\n",
      "812:\tlearn: 0.2617809\ttotal: 11.9s\tremaining: 2.74s\n",
      "813:\tlearn: 0.2616802\ttotal: 11.9s\tremaining: 2.73s\n",
      "814:\tlearn: 0.2616229\ttotal: 12s\tremaining: 2.71s\n",
      "815:\tlearn: 0.2615591\ttotal: 12s\tremaining: 2.7s\n",
      "816:\tlearn: 0.2614668\ttotal: 12s\tremaining: 2.69s\n",
      "817:\tlearn: 0.2613834\ttotal: 12s\tremaining: 2.67s\n",
      "818:\tlearn: 0.2612939\ttotal: 12s\tremaining: 2.66s\n",
      "819:\tlearn: 0.2612473\ttotal: 12s\tremaining: 2.64s\n",
      "820:\tlearn: 0.2611839\ttotal: 12s\tremaining: 2.63s\n",
      "821:\tlearn: 0.2611205\ttotal: 12.1s\tremaining: 2.61s\n",
      "822:\tlearn: 0.2610139\ttotal: 12.1s\tremaining: 2.6s\n",
      "823:\tlearn: 0.2609654\ttotal: 12.1s\tremaining: 2.58s\n",
      "824:\tlearn: 0.2608786\ttotal: 12.1s\tremaining: 2.57s\n",
      "825:\tlearn: 0.2607829\ttotal: 12.1s\tremaining: 2.55s\n",
      "826:\tlearn: 0.2606879\ttotal: 12.1s\tremaining: 2.54s\n",
      "827:\tlearn: 0.2606009\ttotal: 12.1s\tremaining: 2.52s\n",
      "828:\tlearn: 0.2605032\ttotal: 12.2s\tremaining: 2.51s\n",
      "829:\tlearn: 0.2604423\ttotal: 12.2s\tremaining: 2.49s\n",
      "830:\tlearn: 0.2604093\ttotal: 12.2s\tremaining: 2.48s\n",
      "831:\tlearn: 0.2603400\ttotal: 12.2s\tremaining: 2.46s\n",
      "832:\tlearn: 0.2602873\ttotal: 12.2s\tremaining: 2.45s\n",
      "833:\tlearn: 0.2602263\ttotal: 12.2s\tremaining: 2.43s\n",
      "834:\tlearn: 0.2601789\ttotal: 12.2s\tremaining: 2.42s\n",
      "835:\tlearn: 0.2601036\ttotal: 12.3s\tremaining: 2.4s\n",
      "836:\tlearn: 0.2600078\ttotal: 12.3s\tremaining: 2.39s\n",
      "837:\tlearn: 0.2599036\ttotal: 12.3s\tremaining: 2.37s\n",
      "838:\tlearn: 0.2597988\ttotal: 12.3s\tremaining: 2.36s\n",
      "839:\tlearn: 0.2597088\ttotal: 12.3s\tremaining: 2.34s\n",
      "840:\tlearn: 0.2596054\ttotal: 12.3s\tremaining: 2.33s\n",
      "841:\tlearn: 0.2595479\ttotal: 12.3s\tremaining: 2.31s\n",
      "842:\tlearn: 0.2595053\ttotal: 12.3s\tremaining: 2.3s\n",
      "843:\tlearn: 0.2594083\ttotal: 12.4s\tremaining: 2.28s\n",
      "844:\tlearn: 0.2593128\ttotal: 12.4s\tremaining: 2.27s\n",
      "845:\tlearn: 0.2592350\ttotal: 12.4s\tremaining: 2.25s\n",
      "846:\tlearn: 0.2591822\ttotal: 12.4s\tremaining: 2.24s\n",
      "847:\tlearn: 0.2591300\ttotal: 12.4s\tremaining: 2.22s\n",
      "848:\tlearn: 0.2590530\ttotal: 12.4s\tremaining: 2.21s\n",
      "849:\tlearn: 0.2589503\ttotal: 12.4s\tremaining: 2.19s\n",
      "850:\tlearn: 0.2588514\ttotal: 12.5s\tremaining: 2.18s\n",
      "851:\tlearn: 0.2587380\ttotal: 12.5s\tremaining: 2.17s\n",
      "852:\tlearn: 0.2586427\ttotal: 12.5s\tremaining: 2.15s\n",
      "853:\tlearn: 0.2585525\ttotal: 12.5s\tremaining: 2.13s\n",
      "854:\tlearn: 0.2584710\ttotal: 12.5s\tremaining: 2.12s\n",
      "855:\tlearn: 0.2583801\ttotal: 12.5s\tremaining: 2.11s\n",
      "856:\tlearn: 0.2582983\ttotal: 12.5s\tremaining: 2.09s\n",
      "857:\tlearn: 0.2582155\ttotal: 12.5s\tremaining: 2.08s\n",
      "858:\tlearn: 0.2581349\ttotal: 12.6s\tremaining: 2.06s\n",
      "859:\tlearn: 0.2580377\ttotal: 12.6s\tremaining: 2.05s\n",
      "860:\tlearn: 0.2579385\ttotal: 12.6s\tremaining: 2.03s\n",
      "861:\tlearn: 0.2578841\ttotal: 12.6s\tremaining: 2.02s\n",
      "862:\tlearn: 0.2577624\ttotal: 12.6s\tremaining: 2s\n",
      "863:\tlearn: 0.2576877\ttotal: 12.6s\tremaining: 1.99s\n",
      "864:\tlearn: 0.2575626\ttotal: 12.6s\tremaining: 1.97s\n",
      "865:\tlearn: 0.2574718\ttotal: 12.7s\tremaining: 1.96s\n",
      "866:\tlearn: 0.2574121\ttotal: 12.7s\tremaining: 1.94s\n",
      "867:\tlearn: 0.2573432\ttotal: 12.7s\tremaining: 1.93s\n",
      "868:\tlearn: 0.2572672\ttotal: 12.7s\tremaining: 1.91s\n",
      "869:\tlearn: 0.2571671\ttotal: 12.7s\tremaining: 1.9s\n",
      "870:\tlearn: 0.2571208\ttotal: 12.7s\tremaining: 1.88s\n",
      "871:\tlearn: 0.2570653\ttotal: 12.7s\tremaining: 1.87s\n",
      "872:\tlearn: 0.2569886\ttotal: 12.8s\tremaining: 1.85s\n",
      "873:\tlearn: 0.2569155\ttotal: 12.8s\tremaining: 1.84s\n",
      "874:\tlearn: 0.2568317\ttotal: 12.8s\tremaining: 1.82s\n",
      "875:\tlearn: 0.2567322\ttotal: 12.8s\tremaining: 1.81s\n",
      "876:\tlearn: 0.2566877\ttotal: 12.8s\tremaining: 1.79s\n",
      "877:\tlearn: 0.2566315\ttotal: 12.8s\tremaining: 1.78s\n",
      "878:\tlearn: 0.2565655\ttotal: 12.8s\tremaining: 1.77s\n",
      "879:\tlearn: 0.2564936\ttotal: 12.8s\tremaining: 1.75s\n",
      "880:\tlearn: 0.2563812\ttotal: 12.9s\tremaining: 1.74s\n",
      "881:\tlearn: 0.2562921\ttotal: 12.9s\tremaining: 1.72s\n",
      "882:\tlearn: 0.2562123\ttotal: 12.9s\tremaining: 1.71s\n",
      "883:\tlearn: 0.2561556\ttotal: 12.9s\tremaining: 1.69s\n",
      "884:\tlearn: 0.2560607\ttotal: 12.9s\tremaining: 1.68s\n",
      "885:\tlearn: 0.2559944\ttotal: 12.9s\tremaining: 1.66s\n",
      "886:\tlearn: 0.2559258\ttotal: 12.9s\tremaining: 1.65s\n",
      "887:\tlearn: 0.2558756\ttotal: 13s\tremaining: 1.63s\n",
      "888:\tlearn: 0.2557956\ttotal: 13s\tremaining: 1.62s\n",
      "889:\tlearn: 0.2557153\ttotal: 13s\tremaining: 1.6s\n",
      "890:\tlearn: 0.2556285\ttotal: 13s\tremaining: 1.59s\n",
      "891:\tlearn: 0.2555655\ttotal: 13s\tremaining: 1.57s\n",
      "892:\tlearn: 0.2555154\ttotal: 13s\tremaining: 1.56s\n",
      "893:\tlearn: 0.2554081\ttotal: 13s\tremaining: 1.55s\n",
      "894:\tlearn: 0.2553059\ttotal: 13.1s\tremaining: 1.53s\n",
      "895:\tlearn: 0.2552285\ttotal: 13.1s\tremaining: 1.52s\n",
      "896:\tlearn: 0.2551329\ttotal: 13.1s\tremaining: 1.5s\n",
      "897:\tlearn: 0.2550262\ttotal: 13.1s\tremaining: 1.49s\n",
      "898:\tlearn: 0.2549698\ttotal: 13.1s\tremaining: 1.47s\n",
      "899:\tlearn: 0.2549158\ttotal: 13.1s\tremaining: 1.46s\n",
      "900:\tlearn: 0.2548772\ttotal: 13.1s\tremaining: 1.44s\n",
      "901:\tlearn: 0.2547850\ttotal: 13.2s\tremaining: 1.43s\n",
      "902:\tlearn: 0.2546969\ttotal: 13.2s\tremaining: 1.41s\n",
      "903:\tlearn: 0.2546447\ttotal: 13.2s\tremaining: 1.4s\n",
      "904:\tlearn: 0.2545499\ttotal: 13.2s\tremaining: 1.39s\n",
      "905:\tlearn: 0.2544294\ttotal: 13.2s\tremaining: 1.37s\n",
      "906:\tlearn: 0.2543369\ttotal: 13.2s\tremaining: 1.35s\n",
      "907:\tlearn: 0.2542368\ttotal: 13.2s\tremaining: 1.34s\n",
      "908:\tlearn: 0.2542008\ttotal: 13.3s\tremaining: 1.33s\n",
      "909:\tlearn: 0.2541151\ttotal: 13.3s\tremaining: 1.31s\n",
      "910:\tlearn: 0.2540237\ttotal: 13.3s\tremaining: 1.3s\n",
      "911:\tlearn: 0.2539645\ttotal: 13.3s\tremaining: 1.28s\n",
      "912:\tlearn: 0.2539232\ttotal: 13.3s\tremaining: 1.27s\n",
      "913:\tlearn: 0.2538907\ttotal: 13.3s\tremaining: 1.25s\n",
      "914:\tlearn: 0.2537863\ttotal: 13.3s\tremaining: 1.24s\n",
      "915:\tlearn: 0.2537393\ttotal: 13.3s\tremaining: 1.22s\n",
      "916:\tlearn: 0.2536836\ttotal: 13.4s\tremaining: 1.21s\n",
      "917:\tlearn: 0.2535898\ttotal: 13.4s\tremaining: 1.19s\n",
      "918:\tlearn: 0.2535523\ttotal: 13.4s\tremaining: 1.18s\n",
      "919:\tlearn: 0.2534804\ttotal: 13.4s\tremaining: 1.17s\n",
      "920:\tlearn: 0.2534040\ttotal: 13.4s\tremaining: 1.15s\n",
      "921:\tlearn: 0.2533438\ttotal: 13.4s\tremaining: 1.14s\n",
      "922:\tlearn: 0.2532386\ttotal: 13.4s\tremaining: 1.12s\n",
      "923:\tlearn: 0.2531627\ttotal: 13.5s\tremaining: 1.11s\n",
      "924:\tlearn: 0.2530748\ttotal: 13.5s\tremaining: 1.09s\n",
      "925:\tlearn: 0.2530131\ttotal: 13.5s\tremaining: 1.08s\n",
      "926:\tlearn: 0.2529257\ttotal: 13.5s\tremaining: 1.06s\n",
      "927:\tlearn: 0.2528283\ttotal: 13.5s\tremaining: 1.05s\n",
      "928:\tlearn: 0.2527502\ttotal: 13.5s\tremaining: 1.03s\n",
      "929:\tlearn: 0.2526613\ttotal: 13.5s\tremaining: 1.02s\n",
      "930:\tlearn: 0.2525897\ttotal: 13.6s\tremaining: 1s\n",
      "931:\tlearn: 0.2525009\ttotal: 13.6s\tremaining: 991ms\n",
      "932:\tlearn: 0.2523895\ttotal: 13.6s\tremaining: 976ms\n",
      "933:\tlearn: 0.2522933\ttotal: 13.6s\tremaining: 962ms\n",
      "934:\tlearn: 0.2522000\ttotal: 13.6s\tremaining: 947ms\n",
      "935:\tlearn: 0.2521170\ttotal: 13.6s\tremaining: 933ms\n",
      "936:\tlearn: 0.2520687\ttotal: 13.7s\tremaining: 918ms\n",
      "937:\tlearn: 0.2519809\ttotal: 13.7s\tremaining: 903ms\n",
      "938:\tlearn: 0.2519081\ttotal: 13.7s\tremaining: 889ms\n",
      "939:\tlearn: 0.2518395\ttotal: 13.7s\tremaining: 874ms\n",
      "940:\tlearn: 0.2517900\ttotal: 13.7s\tremaining: 859ms\n",
      "941:\tlearn: 0.2517484\ttotal: 13.7s\tremaining: 845ms\n",
      "942:\tlearn: 0.2516982\ttotal: 13.7s\tremaining: 830ms\n",
      "943:\tlearn: 0.2516032\ttotal: 13.7s\tremaining: 815ms\n",
      "944:\tlearn: 0.2515402\ttotal: 13.8s\tremaining: 801ms\n",
      "945:\tlearn: 0.2514332\ttotal: 13.8s\tremaining: 786ms\n",
      "946:\tlearn: 0.2513501\ttotal: 13.8s\tremaining: 772ms\n",
      "947:\tlearn: 0.2512478\ttotal: 13.8s\tremaining: 757ms\n",
      "948:\tlearn: 0.2511770\ttotal: 13.8s\tremaining: 743ms\n",
      "949:\tlearn: 0.2511252\ttotal: 13.8s\tremaining: 728ms\n",
      "950:\tlearn: 0.2510494\ttotal: 13.8s\tremaining: 713ms\n",
      "951:\tlearn: 0.2509542\ttotal: 13.9s\tremaining: 699ms\n",
      "952:\tlearn: 0.2509029\ttotal: 13.9s\tremaining: 684ms\n",
      "953:\tlearn: 0.2508382\ttotal: 13.9s\tremaining: 670ms\n",
      "954:\tlearn: 0.2507274\ttotal: 13.9s\tremaining: 655ms\n",
      "955:\tlearn: 0.2506549\ttotal: 13.9s\tremaining: 641ms\n",
      "956:\tlearn: 0.2505622\ttotal: 13.9s\tremaining: 626ms\n",
      "957:\tlearn: 0.2504858\ttotal: 13.9s\tremaining: 611ms\n",
      "958:\tlearn: 0.2504319\ttotal: 14s\tremaining: 597ms\n",
      "959:\tlearn: 0.2503400\ttotal: 14s\tremaining: 582ms\n",
      "960:\tlearn: 0.2502337\ttotal: 14s\tremaining: 568ms\n",
      "961:\tlearn: 0.2501796\ttotal: 14s\tremaining: 553ms\n",
      "962:\tlearn: 0.2501028\ttotal: 14s\tremaining: 539ms\n",
      "963:\tlearn: 0.2500137\ttotal: 14s\tremaining: 524ms\n",
      "964:\tlearn: 0.2499499\ttotal: 14s\tremaining: 509ms\n",
      "965:\tlearn: 0.2498772\ttotal: 14.1s\tremaining: 495ms\n",
      "966:\tlearn: 0.2498012\ttotal: 14.1s\tremaining: 480ms\n",
      "967:\tlearn: 0.2497258\ttotal: 14.1s\tremaining: 466ms\n",
      "968:\tlearn: 0.2496907\ttotal: 14.1s\tremaining: 451ms\n",
      "969:\tlearn: 0.2495885\ttotal: 14.1s\tremaining: 436ms\n",
      "970:\tlearn: 0.2495108\ttotal: 14.1s\tremaining: 422ms\n",
      "971:\tlearn: 0.2494224\ttotal: 14.1s\tremaining: 407ms\n",
      "972:\tlearn: 0.2493661\ttotal: 14.2s\tremaining: 393ms\n",
      "973:\tlearn: 0.2493056\ttotal: 14.2s\tremaining: 378ms\n",
      "974:\tlearn: 0.2492030\ttotal: 14.2s\tremaining: 364ms\n",
      "975:\tlearn: 0.2491275\ttotal: 14.2s\tremaining: 349ms\n",
      "976:\tlearn: 0.2490787\ttotal: 14.2s\tremaining: 335ms\n",
      "977:\tlearn: 0.2489991\ttotal: 14.2s\tremaining: 320ms\n",
      "978:\tlearn: 0.2489530\ttotal: 14.2s\tremaining: 305ms\n",
      "979:\tlearn: 0.2488987\ttotal: 14.3s\tremaining: 291ms\n",
      "980:\tlearn: 0.2488338\ttotal: 14.3s\tremaining: 276ms\n",
      "981:\tlearn: 0.2487907\ttotal: 14.3s\tremaining: 262ms\n",
      "982:\tlearn: 0.2487197\ttotal: 14.3s\tremaining: 247ms\n",
      "983:\tlearn: 0.2486281\ttotal: 14.3s\tremaining: 233ms\n",
      "984:\tlearn: 0.2485658\ttotal: 14.3s\tremaining: 218ms\n",
      "985:\tlearn: 0.2485394\ttotal: 14.3s\tremaining: 204ms\n",
      "986:\tlearn: 0.2484571\ttotal: 14.3s\tremaining: 189ms\n",
      "987:\tlearn: 0.2483688\ttotal: 14.4s\tremaining: 174ms\n",
      "988:\tlearn: 0.2482541\ttotal: 14.4s\tremaining: 160ms\n",
      "989:\tlearn: 0.2481995\ttotal: 14.4s\tremaining: 145ms\n",
      "990:\tlearn: 0.2481144\ttotal: 14.4s\tremaining: 131ms\n",
      "991:\tlearn: 0.2480717\ttotal: 14.4s\tremaining: 116ms\n",
      "992:\tlearn: 0.2480200\ttotal: 14.4s\tremaining: 102ms\n",
      "993:\tlearn: 0.2479521\ttotal: 14.5s\tremaining: 87.2ms\n",
      "994:\tlearn: 0.2478568\ttotal: 14.5s\tremaining: 72.7ms\n",
      "995:\tlearn: 0.2478108\ttotal: 14.5s\tremaining: 58.2ms\n",
      "996:\tlearn: 0.2477391\ttotal: 14.5s\tremaining: 43.6ms\n",
      "997:\tlearn: 0.2476527\ttotal: 14.5s\tremaining: 29.1ms\n",
      "998:\tlearn: 0.2475749\ttotal: 14.5s\tremaining: 14.5ms\n",
      "999:\tlearn: 0.2474872\ttotal: 14.5s\tremaining: 0us\n",
      "Learning rate set to 0.038082\n",
      "0:\tlearn: 0.6737510\ttotal: 13.2ms\tremaining: 13.2s\n",
      "1:\tlearn: 0.6575233\ttotal: 26.5ms\tremaining: 13.2s\n",
      "2:\tlearn: 0.6412747\ttotal: 40.4ms\tremaining: 13.4s\n",
      "3:\tlearn: 0.6263863\ttotal: 54.2ms\tremaining: 13.5s\n",
      "4:\tlearn: 0.6132232\ttotal: 68.2ms\tremaining: 13.6s\n",
      "5:\tlearn: 0.6018048\ttotal: 82.6ms\tremaining: 13.7s\n",
      "6:\tlearn: 0.5910551\ttotal: 96ms\tremaining: 13.6s\n",
      "7:\tlearn: 0.5814126\ttotal: 109ms\tremaining: 13.5s\n",
      "8:\tlearn: 0.5727552\ttotal: 123ms\tremaining: 13.5s\n",
      "9:\tlearn: 0.5649931\ttotal: 136ms\tremaining: 13.5s\n",
      "10:\tlearn: 0.5579764\ttotal: 150ms\tremaining: 13.4s\n",
      "11:\tlearn: 0.5501396\ttotal: 163ms\tremaining: 13.4s\n",
      "12:\tlearn: 0.5435757\ttotal: 176ms\tremaining: 13.4s\n",
      "13:\tlearn: 0.5384293\ttotal: 189ms\tremaining: 13.3s\n",
      "14:\tlearn: 0.5331923\ttotal: 204ms\tremaining: 13.4s\n",
      "15:\tlearn: 0.5277640\ttotal: 218ms\tremaining: 13.4s\n",
      "16:\tlearn: 0.5235359\ttotal: 231ms\tremaining: 13.4s\n",
      "17:\tlearn: 0.5184888\ttotal: 245ms\tremaining: 13.4s\n",
      "18:\tlearn: 0.5147793\ttotal: 259ms\tremaining: 13.4s\n",
      "19:\tlearn: 0.5105694\ttotal: 274ms\tremaining: 13.4s\n",
      "20:\tlearn: 0.5075376\ttotal: 287ms\tremaining: 13.4s\n",
      "21:\tlearn: 0.5043509\ttotal: 301ms\tremaining: 13.4s\n",
      "22:\tlearn: 0.5010031\ttotal: 314ms\tremaining: 13.3s\n",
      "23:\tlearn: 0.4977580\ttotal: 328ms\tremaining: 13.3s\n",
      "24:\tlearn: 0.4947118\ttotal: 342ms\tremaining: 13.3s\n",
      "25:\tlearn: 0.4923716\ttotal: 357ms\tremaining: 13.4s\n",
      "26:\tlearn: 0.4897984\ttotal: 371ms\tremaining: 13.4s\n",
      "27:\tlearn: 0.4874133\ttotal: 385ms\tremaining: 13.4s\n",
      "28:\tlearn: 0.4853262\ttotal: 399ms\tremaining: 13.4s\n",
      "29:\tlearn: 0.4831977\ttotal: 413ms\tremaining: 13.4s\n",
      "30:\tlearn: 0.4815357\ttotal: 428ms\tremaining: 13.4s\n",
      "31:\tlearn: 0.4798670\ttotal: 442ms\tremaining: 13.4s\n",
      "32:\tlearn: 0.4784012\ttotal: 457ms\tremaining: 13.4s\n",
      "33:\tlearn: 0.4764648\ttotal: 472ms\tremaining: 13.4s\n",
      "34:\tlearn: 0.4749194\ttotal: 487ms\tremaining: 13.4s\n",
      "35:\tlearn: 0.4735793\ttotal: 501ms\tremaining: 13.4s\n",
      "36:\tlearn: 0.4722215\ttotal: 515ms\tremaining: 13.4s\n",
      "37:\tlearn: 0.4710121\ttotal: 529ms\tremaining: 13.4s\n",
      "38:\tlearn: 0.4697216\ttotal: 543ms\tremaining: 13.4s\n",
      "39:\tlearn: 0.4686047\ttotal: 556ms\tremaining: 13.3s\n",
      "40:\tlearn: 0.4675044\ttotal: 571ms\tremaining: 13.3s\n",
      "41:\tlearn: 0.4663919\ttotal: 585ms\tremaining: 13.3s\n",
      "42:\tlearn: 0.4651227\ttotal: 598ms\tremaining: 13.3s\n",
      "43:\tlearn: 0.4639774\ttotal: 612ms\tremaining: 13.3s\n",
      "44:\tlearn: 0.4629137\ttotal: 626ms\tremaining: 13.3s\n",
      "45:\tlearn: 0.4618937\ttotal: 641ms\tremaining: 13.3s\n",
      "46:\tlearn: 0.4609508\ttotal: 656ms\tremaining: 13.3s\n",
      "47:\tlearn: 0.4598220\ttotal: 670ms\tremaining: 13.3s\n",
      "48:\tlearn: 0.4589241\ttotal: 685ms\tremaining: 13.3s\n",
      "49:\tlearn: 0.4580000\ttotal: 699ms\tremaining: 13.3s\n",
      "50:\tlearn: 0.4570674\ttotal: 713ms\tremaining: 13.3s\n",
      "51:\tlearn: 0.4564055\ttotal: 727ms\tremaining: 13.3s\n",
      "52:\tlearn: 0.4556153\ttotal: 741ms\tremaining: 13.2s\n",
      "53:\tlearn: 0.4549320\ttotal: 756ms\tremaining: 13.2s\n",
      "54:\tlearn: 0.4542372\ttotal: 770ms\tremaining: 13.2s\n",
      "55:\tlearn: 0.4532554\ttotal: 784ms\tremaining: 13.2s\n",
      "56:\tlearn: 0.4524346\ttotal: 799ms\tremaining: 13.2s\n",
      "57:\tlearn: 0.4516950\ttotal: 815ms\tremaining: 13.2s\n",
      "58:\tlearn: 0.4511433\ttotal: 830ms\tremaining: 13.2s\n",
      "59:\tlearn: 0.4504515\ttotal: 845ms\tremaining: 13.2s\n",
      "60:\tlearn: 0.4498348\ttotal: 859ms\tremaining: 13.2s\n",
      "61:\tlearn: 0.4492133\ttotal: 873ms\tremaining: 13.2s\n",
      "62:\tlearn: 0.4485014\ttotal: 886ms\tremaining: 13.2s\n",
      "63:\tlearn: 0.4478378\ttotal: 901ms\tremaining: 13.2s\n",
      "64:\tlearn: 0.4474292\ttotal: 914ms\tremaining: 13.1s\n",
      "65:\tlearn: 0.4470054\ttotal: 928ms\tremaining: 13.1s\n",
      "66:\tlearn: 0.4463329\ttotal: 942ms\tremaining: 13.1s\n",
      "67:\tlearn: 0.4455863\ttotal: 958ms\tremaining: 13.1s\n",
      "68:\tlearn: 0.4451396\ttotal: 974ms\tremaining: 13.1s\n",
      "69:\tlearn: 0.4446038\ttotal: 989ms\tremaining: 13.1s\n",
      "70:\tlearn: 0.4441826\ttotal: 1s\tremaining: 13.1s\n",
      "71:\tlearn: 0.4436714\ttotal: 1.02s\tremaining: 13.1s\n",
      "72:\tlearn: 0.4432354\ttotal: 1.03s\tremaining: 13.1s\n",
      "73:\tlearn: 0.4426333\ttotal: 1.05s\tremaining: 13.1s\n",
      "74:\tlearn: 0.4421180\ttotal: 1.06s\tremaining: 13.1s\n",
      "75:\tlearn: 0.4416350\ttotal: 1.07s\tremaining: 13s\n",
      "76:\tlearn: 0.4411599\ttotal: 1.08s\tremaining: 13s\n",
      "77:\tlearn: 0.4408442\ttotal: 1.1s\tremaining: 13s\n",
      "78:\tlearn: 0.4403322\ttotal: 1.11s\tremaining: 13s\n",
      "79:\tlearn: 0.4399758\ttotal: 1.13s\tremaining: 13s\n",
      "80:\tlearn: 0.4395270\ttotal: 1.14s\tremaining: 13s\n",
      "81:\tlearn: 0.4391149\ttotal: 1.16s\tremaining: 13s\n",
      "82:\tlearn: 0.4387589\ttotal: 1.17s\tremaining: 12.9s\n",
      "83:\tlearn: 0.4383552\ttotal: 1.19s\tremaining: 12.9s\n",
      "84:\tlearn: 0.4379190\ttotal: 1.2s\tremaining: 12.9s\n",
      "85:\tlearn: 0.4374115\ttotal: 1.21s\tremaining: 12.9s\n",
      "86:\tlearn: 0.4369713\ttotal: 1.23s\tremaining: 12.9s\n",
      "87:\tlearn: 0.4365613\ttotal: 1.24s\tremaining: 12.9s\n",
      "88:\tlearn: 0.4362443\ttotal: 1.25s\tremaining: 12.9s\n",
      "89:\tlearn: 0.4358893\ttotal: 1.27s\tremaining: 12.8s\n",
      "90:\tlearn: 0.4355532\ttotal: 1.28s\tremaining: 12.8s\n",
      "91:\tlearn: 0.4353418\ttotal: 1.29s\tremaining: 12.8s\n",
      "92:\tlearn: 0.4350263\ttotal: 1.31s\tremaining: 12.8s\n",
      "93:\tlearn: 0.4347625\ttotal: 1.32s\tremaining: 12.7s\n",
      "94:\tlearn: 0.4343956\ttotal: 1.33s\tremaining: 12.7s\n",
      "95:\tlearn: 0.4340815\ttotal: 1.35s\tremaining: 12.7s\n",
      "96:\tlearn: 0.4338441\ttotal: 1.37s\tremaining: 12.7s\n",
      "97:\tlearn: 0.4335421\ttotal: 1.38s\tremaining: 12.7s\n",
      "98:\tlearn: 0.4332276\ttotal: 1.39s\tremaining: 12.7s\n",
      "99:\tlearn: 0.4329776\ttotal: 1.41s\tremaining: 12.7s\n",
      "100:\tlearn: 0.4326942\ttotal: 1.42s\tremaining: 12.6s\n",
      "101:\tlearn: 0.4323978\ttotal: 1.44s\tremaining: 12.6s\n",
      "102:\tlearn: 0.4320679\ttotal: 1.45s\tremaining: 12.6s\n",
      "103:\tlearn: 0.4317860\ttotal: 1.46s\tremaining: 12.6s\n",
      "104:\tlearn: 0.4315224\ttotal: 1.47s\tremaining: 12.6s\n",
      "105:\tlearn: 0.4312369\ttotal: 1.49s\tremaining: 12.5s\n",
      "106:\tlearn: 0.4309945\ttotal: 1.5s\tremaining: 12.5s\n",
      "107:\tlearn: 0.4307442\ttotal: 1.51s\tremaining: 12.5s\n",
      "108:\tlearn: 0.4304651\ttotal: 1.53s\tremaining: 12.5s\n",
      "109:\tlearn: 0.4301663\ttotal: 1.55s\tremaining: 12.5s\n",
      "110:\tlearn: 0.4299224\ttotal: 1.56s\tremaining: 12.5s\n",
      "111:\tlearn: 0.4295779\ttotal: 1.57s\tremaining: 12.5s\n",
      "112:\tlearn: 0.4293378\ttotal: 1.59s\tremaining: 12.5s\n",
      "113:\tlearn: 0.4291266\ttotal: 1.6s\tremaining: 12.5s\n",
      "114:\tlearn: 0.4288626\ttotal: 1.62s\tremaining: 12.4s\n",
      "115:\tlearn: 0.4286841\ttotal: 1.63s\tremaining: 12.4s\n",
      "116:\tlearn: 0.4285161\ttotal: 1.64s\tremaining: 12.4s\n",
      "117:\tlearn: 0.4283367\ttotal: 1.66s\tremaining: 12.4s\n",
      "118:\tlearn: 0.4280055\ttotal: 1.67s\tremaining: 12.4s\n",
      "119:\tlearn: 0.4277539\ttotal: 1.68s\tremaining: 12.4s\n",
      "120:\tlearn: 0.4275150\ttotal: 1.7s\tremaining: 12.3s\n",
      "121:\tlearn: 0.4271945\ttotal: 1.71s\tremaining: 12.3s\n",
      "122:\tlearn: 0.4269529\ttotal: 1.73s\tremaining: 12.3s\n",
      "123:\tlearn: 0.4267507\ttotal: 1.74s\tremaining: 12.3s\n",
      "124:\tlearn: 0.4265396\ttotal: 1.75s\tremaining: 12.3s\n",
      "125:\tlearn: 0.4263255\ttotal: 1.77s\tremaining: 12.3s\n",
      "126:\tlearn: 0.4260918\ttotal: 1.78s\tremaining: 12.3s\n",
      "127:\tlearn: 0.4258688\ttotal: 1.8s\tremaining: 12.2s\n",
      "128:\tlearn: 0.4256798\ttotal: 1.81s\tremaining: 12.2s\n",
      "129:\tlearn: 0.4255048\ttotal: 1.82s\tremaining: 12.2s\n",
      "130:\tlearn: 0.4253848\ttotal: 1.84s\tremaining: 12.2s\n",
      "131:\tlearn: 0.4251768\ttotal: 1.85s\tremaining: 12.2s\n",
      "132:\tlearn: 0.4249869\ttotal: 1.86s\tremaining: 12.2s\n",
      "133:\tlearn: 0.4248463\ttotal: 1.88s\tremaining: 12.1s\n",
      "134:\tlearn: 0.4246364\ttotal: 1.89s\tremaining: 12.1s\n",
      "135:\tlearn: 0.4243918\ttotal: 1.91s\tremaining: 12.1s\n",
      "136:\tlearn: 0.4241440\ttotal: 1.92s\tremaining: 12.1s\n",
      "137:\tlearn: 0.4238878\ttotal: 1.93s\tremaining: 12.1s\n",
      "138:\tlearn: 0.4236334\ttotal: 1.95s\tremaining: 12.1s\n",
      "139:\tlearn: 0.4233411\ttotal: 1.96s\tremaining: 12s\n",
      "140:\tlearn: 0.4231711\ttotal: 1.98s\tremaining: 12s\n",
      "141:\tlearn: 0.4229810\ttotal: 1.99s\tremaining: 12s\n",
      "142:\tlearn: 0.4227376\ttotal: 2s\tremaining: 12s\n",
      "143:\tlearn: 0.4225706\ttotal: 2.02s\tremaining: 12s\n",
      "144:\tlearn: 0.4224359\ttotal: 2.03s\tremaining: 12s\n",
      "145:\tlearn: 0.4222072\ttotal: 2.04s\tremaining: 11.9s\n",
      "146:\tlearn: 0.4220313\ttotal: 2.06s\tremaining: 11.9s\n",
      "147:\tlearn: 0.4218268\ttotal: 2.07s\tremaining: 11.9s\n",
      "148:\tlearn: 0.4215059\ttotal: 2.09s\tremaining: 11.9s\n",
      "149:\tlearn: 0.4212866\ttotal: 2.1s\tremaining: 11.9s\n",
      "150:\tlearn: 0.4210419\ttotal: 2.11s\tremaining: 11.9s\n",
      "151:\tlearn: 0.4208523\ttotal: 2.13s\tremaining: 11.9s\n",
      "152:\tlearn: 0.4206233\ttotal: 2.14s\tremaining: 11.8s\n",
      "153:\tlearn: 0.4203822\ttotal: 2.15s\tremaining: 11.8s\n",
      "154:\tlearn: 0.4201210\ttotal: 2.17s\tremaining: 11.8s\n",
      "155:\tlearn: 0.4199356\ttotal: 2.18s\tremaining: 11.8s\n",
      "156:\tlearn: 0.4197385\ttotal: 2.19s\tremaining: 11.8s\n",
      "157:\tlearn: 0.4195446\ttotal: 2.21s\tremaining: 11.8s\n",
      "158:\tlearn: 0.4194005\ttotal: 2.22s\tremaining: 11.8s\n",
      "159:\tlearn: 0.4191679\ttotal: 2.24s\tremaining: 11.7s\n",
      "160:\tlearn: 0.4190035\ttotal: 2.25s\tremaining: 11.7s\n",
      "161:\tlearn: 0.4188974\ttotal: 2.26s\tremaining: 11.7s\n",
      "162:\tlearn: 0.4187709\ttotal: 2.28s\tremaining: 11.7s\n",
      "163:\tlearn: 0.4186386\ttotal: 2.29s\tremaining: 11.7s\n",
      "164:\tlearn: 0.4184771\ttotal: 2.31s\tremaining: 11.7s\n",
      "165:\tlearn: 0.4183672\ttotal: 2.32s\tremaining: 11.7s\n",
      "166:\tlearn: 0.4181219\ttotal: 2.33s\tremaining: 11.6s\n",
      "167:\tlearn: 0.4179523\ttotal: 2.35s\tremaining: 11.6s\n",
      "168:\tlearn: 0.4177757\ttotal: 2.36s\tremaining: 11.6s\n",
      "169:\tlearn: 0.4176198\ttotal: 2.37s\tremaining: 11.6s\n",
      "170:\tlearn: 0.4174710\ttotal: 2.39s\tremaining: 11.6s\n",
      "171:\tlearn: 0.4172709\ttotal: 2.4s\tremaining: 11.6s\n",
      "172:\tlearn: 0.4171261\ttotal: 2.42s\tremaining: 11.5s\n",
      "173:\tlearn: 0.4169620\ttotal: 2.43s\tremaining: 11.5s\n",
      "174:\tlearn: 0.4167608\ttotal: 2.44s\tremaining: 11.5s\n",
      "175:\tlearn: 0.4165686\ttotal: 2.46s\tremaining: 11.5s\n",
      "176:\tlearn: 0.4163176\ttotal: 2.47s\tremaining: 11.5s\n",
      "177:\tlearn: 0.4161598\ttotal: 2.49s\tremaining: 11.5s\n",
      "178:\tlearn: 0.4160103\ttotal: 2.5s\tremaining: 11.5s\n",
      "179:\tlearn: 0.4158810\ttotal: 2.52s\tremaining: 11.5s\n",
      "180:\tlearn: 0.4157719\ttotal: 2.53s\tremaining: 11.4s\n",
      "181:\tlearn: 0.4155880\ttotal: 2.54s\tremaining: 11.4s\n",
      "182:\tlearn: 0.4154334\ttotal: 2.56s\tremaining: 11.4s\n",
      "183:\tlearn: 0.4153086\ttotal: 2.57s\tremaining: 11.4s\n",
      "184:\tlearn: 0.4151610\ttotal: 2.58s\tremaining: 11.4s\n",
      "185:\tlearn: 0.4149781\ttotal: 2.6s\tremaining: 11.4s\n",
      "186:\tlearn: 0.4148426\ttotal: 2.61s\tremaining: 11.3s\n",
      "187:\tlearn: 0.4146957\ttotal: 2.63s\tremaining: 11.3s\n",
      "188:\tlearn: 0.4145191\ttotal: 2.64s\tremaining: 11.3s\n",
      "189:\tlearn: 0.4142647\ttotal: 2.65s\tremaining: 11.3s\n",
      "190:\tlearn: 0.4141326\ttotal: 2.66s\tremaining: 11.3s\n",
      "191:\tlearn: 0.4139499\ttotal: 2.68s\tremaining: 11.3s\n",
      "192:\tlearn: 0.4138230\ttotal: 2.69s\tremaining: 11.2s\n",
      "193:\tlearn: 0.4136468\ttotal: 2.7s\tremaining: 11.2s\n",
      "194:\tlearn: 0.4134807\ttotal: 2.72s\tremaining: 11.2s\n",
      "195:\tlearn: 0.4132446\ttotal: 2.73s\tremaining: 11.2s\n",
      "196:\tlearn: 0.4130842\ttotal: 2.74s\tremaining: 11.2s\n",
      "197:\tlearn: 0.4129603\ttotal: 2.76s\tremaining: 11.2s\n",
      "198:\tlearn: 0.4127691\ttotal: 2.77s\tremaining: 11.1s\n",
      "199:\tlearn: 0.4126228\ttotal: 2.78s\tremaining: 11.1s\n",
      "200:\tlearn: 0.4124546\ttotal: 2.8s\tremaining: 11.1s\n",
      "201:\tlearn: 0.4122890\ttotal: 2.81s\tremaining: 11.1s\n",
      "202:\tlearn: 0.4121860\ttotal: 2.82s\tremaining: 11.1s\n",
      "203:\tlearn: 0.4120370\ttotal: 2.84s\tremaining: 11.1s\n",
      "204:\tlearn: 0.4118820\ttotal: 2.85s\tremaining: 11.1s\n",
      "205:\tlearn: 0.4117397\ttotal: 2.86s\tremaining: 11s\n",
      "206:\tlearn: 0.4115578\ttotal: 2.88s\tremaining: 11s\n",
      "207:\tlearn: 0.4114356\ttotal: 2.89s\tremaining: 11s\n",
      "208:\tlearn: 0.4112837\ttotal: 2.9s\tremaining: 11s\n",
      "209:\tlearn: 0.4110300\ttotal: 2.91s\tremaining: 11s\n",
      "210:\tlearn: 0.4109080\ttotal: 2.93s\tremaining: 10.9s\n",
      "211:\tlearn: 0.4108321\ttotal: 2.94s\tremaining: 10.9s\n",
      "212:\tlearn: 0.4106106\ttotal: 2.95s\tremaining: 10.9s\n",
      "213:\tlearn: 0.4105361\ttotal: 2.97s\tremaining: 10.9s\n",
      "214:\tlearn: 0.4104203\ttotal: 2.98s\tremaining: 10.9s\n",
      "215:\tlearn: 0.4103256\ttotal: 2.99s\tremaining: 10.9s\n",
      "216:\tlearn: 0.4102434\ttotal: 3.01s\tremaining: 10.8s\n",
      "217:\tlearn: 0.4101014\ttotal: 3.02s\tremaining: 10.8s\n",
      "218:\tlearn: 0.4100113\ttotal: 3.03s\tremaining: 10.8s\n",
      "219:\tlearn: 0.4098508\ttotal: 3.05s\tremaining: 10.8s\n",
      "220:\tlearn: 0.4096968\ttotal: 3.06s\tremaining: 10.8s\n",
      "221:\tlearn: 0.4095815\ttotal: 3.07s\tremaining: 10.8s\n",
      "222:\tlearn: 0.4094226\ttotal: 3.08s\tremaining: 10.8s\n",
      "223:\tlearn: 0.4093143\ttotal: 3.1s\tremaining: 10.7s\n",
      "224:\tlearn: 0.4091616\ttotal: 3.11s\tremaining: 10.7s\n",
      "225:\tlearn: 0.4090070\ttotal: 3.12s\tremaining: 10.7s\n",
      "226:\tlearn: 0.4088821\ttotal: 3.14s\tremaining: 10.7s\n",
      "227:\tlearn: 0.4087082\ttotal: 3.15s\tremaining: 10.7s\n",
      "228:\tlearn: 0.4085896\ttotal: 3.16s\tremaining: 10.7s\n",
      "229:\tlearn: 0.4084891\ttotal: 3.18s\tremaining: 10.6s\n",
      "230:\tlearn: 0.4084052\ttotal: 3.19s\tremaining: 10.6s\n",
      "231:\tlearn: 0.4082362\ttotal: 3.2s\tremaining: 10.6s\n",
      "232:\tlearn: 0.4080961\ttotal: 3.22s\tremaining: 10.6s\n",
      "233:\tlearn: 0.4080143\ttotal: 3.23s\tremaining: 10.6s\n",
      "234:\tlearn: 0.4078676\ttotal: 3.24s\tremaining: 10.6s\n",
      "235:\tlearn: 0.4076963\ttotal: 3.26s\tremaining: 10.5s\n",
      "236:\tlearn: 0.4075491\ttotal: 3.27s\tremaining: 10.5s\n",
      "237:\tlearn: 0.4073406\ttotal: 3.28s\tremaining: 10.5s\n",
      "238:\tlearn: 0.4071582\ttotal: 3.3s\tremaining: 10.5s\n",
      "239:\tlearn: 0.4069994\ttotal: 3.31s\tremaining: 10.5s\n",
      "240:\tlearn: 0.4068419\ttotal: 3.33s\tremaining: 10.5s\n",
      "241:\tlearn: 0.4066493\ttotal: 3.34s\tremaining: 10.5s\n",
      "242:\tlearn: 0.4064643\ttotal: 3.35s\tremaining: 10.4s\n",
      "243:\tlearn: 0.4063833\ttotal: 3.37s\tremaining: 10.4s\n",
      "244:\tlearn: 0.4062437\ttotal: 3.38s\tremaining: 10.4s\n",
      "245:\tlearn: 0.4061156\ttotal: 3.39s\tremaining: 10.4s\n",
      "246:\tlearn: 0.4060016\ttotal: 3.4s\tremaining: 10.4s\n",
      "247:\tlearn: 0.4058561\ttotal: 3.42s\tremaining: 10.4s\n",
      "248:\tlearn: 0.4057168\ttotal: 3.43s\tremaining: 10.3s\n",
      "249:\tlearn: 0.4056108\ttotal: 3.44s\tremaining: 10.3s\n",
      "250:\tlearn: 0.4054556\ttotal: 3.45s\tremaining: 10.3s\n",
      "251:\tlearn: 0.4052668\ttotal: 3.47s\tremaining: 10.3s\n",
      "252:\tlearn: 0.4051225\ttotal: 3.48s\tremaining: 10.3s\n",
      "253:\tlearn: 0.4049371\ttotal: 3.5s\tremaining: 10.3s\n",
      "254:\tlearn: 0.4048128\ttotal: 3.51s\tremaining: 10.3s\n",
      "255:\tlearn: 0.4046995\ttotal: 3.52s\tremaining: 10.2s\n",
      "256:\tlearn: 0.4046165\ttotal: 3.54s\tremaining: 10.2s\n",
      "257:\tlearn: 0.4044990\ttotal: 3.55s\tremaining: 10.2s\n",
      "258:\tlearn: 0.4043272\ttotal: 3.56s\tremaining: 10.2s\n",
      "259:\tlearn: 0.4041363\ttotal: 3.58s\tremaining: 10.2s\n",
      "260:\tlearn: 0.4039730\ttotal: 3.59s\tremaining: 10.2s\n",
      "261:\tlearn: 0.4038272\ttotal: 3.6s\tremaining: 10.2s\n",
      "262:\tlearn: 0.4036369\ttotal: 3.62s\tremaining: 10.1s\n",
      "263:\tlearn: 0.4035170\ttotal: 3.63s\tremaining: 10.1s\n",
      "264:\tlearn: 0.4033336\ttotal: 3.65s\tremaining: 10.1s\n",
      "265:\tlearn: 0.4031634\ttotal: 3.66s\tremaining: 10.1s\n",
      "266:\tlearn: 0.4030114\ttotal: 3.67s\tremaining: 10.1s\n",
      "267:\tlearn: 0.4029017\ttotal: 3.69s\tremaining: 10.1s\n",
      "268:\tlearn: 0.4027764\ttotal: 3.7s\tremaining: 10.1s\n",
      "269:\tlearn: 0.4026031\ttotal: 3.72s\tremaining: 10s\n",
      "270:\tlearn: 0.4024310\ttotal: 3.73s\tremaining: 10s\n",
      "271:\tlearn: 0.4022585\ttotal: 3.74s\tremaining: 10s\n",
      "272:\tlearn: 0.4020775\ttotal: 3.76s\tremaining: 10s\n",
      "273:\tlearn: 0.4019085\ttotal: 3.77s\tremaining: 10s\n",
      "274:\tlearn: 0.4017448\ttotal: 3.79s\tremaining: 9.98s\n",
      "275:\tlearn: 0.4015887\ttotal: 3.8s\tremaining: 9.97s\n",
      "276:\tlearn: 0.4014066\ttotal: 3.82s\tremaining: 9.96s\n",
      "277:\tlearn: 0.4012573\ttotal: 3.83s\tremaining: 9.95s\n",
      "278:\tlearn: 0.4011337\ttotal: 3.84s\tremaining: 9.93s\n",
      "279:\tlearn: 0.4009591\ttotal: 3.86s\tremaining: 9.92s\n",
      "280:\tlearn: 0.4008100\ttotal: 3.87s\tremaining: 9.91s\n",
      "281:\tlearn: 0.4006626\ttotal: 3.89s\tremaining: 9.9s\n",
      "282:\tlearn: 0.4005254\ttotal: 3.9s\tremaining: 9.89s\n",
      "283:\tlearn: 0.4003685\ttotal: 3.92s\tremaining: 9.87s\n",
      "284:\tlearn: 0.4002406\ttotal: 3.93s\tremaining: 9.86s\n",
      "285:\tlearn: 0.4000561\ttotal: 3.94s\tremaining: 9.85s\n",
      "286:\tlearn: 0.3998851\ttotal: 3.96s\tremaining: 9.83s\n",
      "287:\tlearn: 0.3996799\ttotal: 3.97s\tremaining: 9.82s\n",
      "288:\tlearn: 0.3995228\ttotal: 3.99s\tremaining: 9.81s\n",
      "289:\tlearn: 0.3993912\ttotal: 4s\tremaining: 9.8s\n",
      "290:\tlearn: 0.3992111\ttotal: 4.02s\tremaining: 9.79s\n",
      "291:\tlearn: 0.3990892\ttotal: 4.03s\tremaining: 9.78s\n",
      "292:\tlearn: 0.3989215\ttotal: 4.05s\tremaining: 9.77s\n",
      "293:\tlearn: 0.3987680\ttotal: 4.06s\tremaining: 9.76s\n",
      "294:\tlearn: 0.3985682\ttotal: 4.08s\tremaining: 9.75s\n",
      "295:\tlearn: 0.3984059\ttotal: 4.09s\tremaining: 9.74s\n",
      "296:\tlearn: 0.3982138\ttotal: 4.11s\tremaining: 9.72s\n",
      "297:\tlearn: 0.3980776\ttotal: 4.12s\tremaining: 9.71s\n",
      "298:\tlearn: 0.3979391\ttotal: 4.13s\tremaining: 9.69s\n",
      "299:\tlearn: 0.3977599\ttotal: 4.15s\tremaining: 9.68s\n",
      "300:\tlearn: 0.3976686\ttotal: 4.16s\tremaining: 9.67s\n",
      "301:\tlearn: 0.3975200\ttotal: 4.18s\tremaining: 9.65s\n",
      "302:\tlearn: 0.3973960\ttotal: 4.19s\tremaining: 9.64s\n",
      "303:\tlearn: 0.3972217\ttotal: 4.21s\tremaining: 9.63s\n",
      "304:\tlearn: 0.3970447\ttotal: 4.22s\tremaining: 9.63s\n",
      "305:\tlearn: 0.3969717\ttotal: 4.24s\tremaining: 9.62s\n",
      "306:\tlearn: 0.3968120\ttotal: 4.25s\tremaining: 9.6s\n",
      "307:\tlearn: 0.3966439\ttotal: 4.27s\tremaining: 9.59s\n",
      "308:\tlearn: 0.3964752\ttotal: 4.28s\tremaining: 9.58s\n",
      "309:\tlearn: 0.3963424\ttotal: 4.3s\tremaining: 9.57s\n",
      "310:\tlearn: 0.3961697\ttotal: 4.31s\tremaining: 9.55s\n",
      "311:\tlearn: 0.3960332\ttotal: 4.33s\tremaining: 9.54s\n",
      "312:\tlearn: 0.3958599\ttotal: 4.34s\tremaining: 9.53s\n",
      "313:\tlearn: 0.3957145\ttotal: 4.36s\tremaining: 9.52s\n",
      "314:\tlearn: 0.3955408\ttotal: 4.37s\tremaining: 9.51s\n",
      "315:\tlearn: 0.3954340\ttotal: 4.38s\tremaining: 9.49s\n",
      "316:\tlearn: 0.3952770\ttotal: 4.4s\tremaining: 9.48s\n",
      "317:\tlearn: 0.3951085\ttotal: 4.42s\tremaining: 9.47s\n",
      "318:\tlearn: 0.3949291\ttotal: 4.43s\tremaining: 9.46s\n",
      "319:\tlearn: 0.3947645\ttotal: 4.45s\tremaining: 9.45s\n",
      "320:\tlearn: 0.3946201\ttotal: 4.46s\tremaining: 9.44s\n",
      "321:\tlearn: 0.3944555\ttotal: 4.48s\tremaining: 9.43s\n",
      "322:\tlearn: 0.3942999\ttotal: 4.49s\tremaining: 9.42s\n",
      "323:\tlearn: 0.3942046\ttotal: 4.51s\tremaining: 9.41s\n",
      "324:\tlearn: 0.3941254\ttotal: 4.52s\tremaining: 9.39s\n",
      "325:\tlearn: 0.3939791\ttotal: 4.54s\tremaining: 9.38s\n",
      "326:\tlearn: 0.3938691\ttotal: 4.55s\tremaining: 9.37s\n",
      "327:\tlearn: 0.3937118\ttotal: 4.56s\tremaining: 9.35s\n",
      "328:\tlearn: 0.3935733\ttotal: 4.58s\tremaining: 9.34s\n",
      "329:\tlearn: 0.3934321\ttotal: 4.59s\tremaining: 9.33s\n",
      "330:\tlearn: 0.3932922\ttotal: 4.61s\tremaining: 9.31s\n",
      "331:\tlearn: 0.3931676\ttotal: 4.62s\tremaining: 9.3s\n",
      "332:\tlearn: 0.3929955\ttotal: 4.63s\tremaining: 9.28s\n",
      "333:\tlearn: 0.3928376\ttotal: 4.65s\tremaining: 9.27s\n",
      "334:\tlearn: 0.3927152\ttotal: 4.66s\tremaining: 9.26s\n",
      "335:\tlearn: 0.3925929\ttotal: 4.68s\tremaining: 9.24s\n",
      "336:\tlearn: 0.3925056\ttotal: 4.69s\tremaining: 9.23s\n",
      "337:\tlearn: 0.3923825\ttotal: 4.7s\tremaining: 9.21s\n",
      "338:\tlearn: 0.3922236\ttotal: 4.72s\tremaining: 9.2s\n",
      "339:\tlearn: 0.3920933\ttotal: 4.73s\tremaining: 9.18s\n",
      "340:\tlearn: 0.3919862\ttotal: 4.74s\tremaining: 9.17s\n",
      "341:\tlearn: 0.3919027\ttotal: 4.76s\tremaining: 9.15s\n",
      "342:\tlearn: 0.3917418\ttotal: 4.77s\tremaining: 9.14s\n",
      "343:\tlearn: 0.3915812\ttotal: 4.78s\tremaining: 9.12s\n",
      "344:\tlearn: 0.3914638\ttotal: 4.8s\tremaining: 9.11s\n",
      "345:\tlearn: 0.3913167\ttotal: 4.81s\tremaining: 9.09s\n",
      "346:\tlearn: 0.3911534\ttotal: 4.82s\tremaining: 9.08s\n",
      "347:\tlearn: 0.3910447\ttotal: 4.84s\tremaining: 9.06s\n",
      "348:\tlearn: 0.3909046\ttotal: 4.85s\tremaining: 9.05s\n",
      "349:\tlearn: 0.3907990\ttotal: 4.86s\tremaining: 9.03s\n",
      "350:\tlearn: 0.3906188\ttotal: 4.88s\tremaining: 9.02s\n",
      "351:\tlearn: 0.3904781\ttotal: 4.89s\tremaining: 9.01s\n",
      "352:\tlearn: 0.3903195\ttotal: 4.91s\tremaining: 8.99s\n",
      "353:\tlearn: 0.3902143\ttotal: 4.92s\tremaining: 8.97s\n",
      "354:\tlearn: 0.3900730\ttotal: 4.93s\tremaining: 8.96s\n",
      "355:\tlearn: 0.3899467\ttotal: 4.95s\tremaining: 8.95s\n",
      "356:\tlearn: 0.3897871\ttotal: 4.96s\tremaining: 8.94s\n",
      "357:\tlearn: 0.3896459\ttotal: 4.97s\tremaining: 8.92s\n",
      "358:\tlearn: 0.3895150\ttotal: 4.99s\tremaining: 8.9s\n",
      "359:\tlearn: 0.3894123\ttotal: 5s\tremaining: 8.89s\n",
      "360:\tlearn: 0.3893375\ttotal: 5.01s\tremaining: 8.88s\n",
      "361:\tlearn: 0.3891873\ttotal: 5.03s\tremaining: 8.86s\n",
      "362:\tlearn: 0.3890555\ttotal: 5.04s\tremaining: 8.85s\n",
      "363:\tlearn: 0.3889515\ttotal: 5.06s\tremaining: 8.83s\n",
      "364:\tlearn: 0.3888237\ttotal: 5.07s\tremaining: 8.82s\n",
      "365:\tlearn: 0.3886658\ttotal: 5.08s\tremaining: 8.81s\n",
      "366:\tlearn: 0.3885100\ttotal: 5.1s\tremaining: 8.79s\n",
      "367:\tlearn: 0.3883720\ttotal: 5.12s\tremaining: 8.79s\n",
      "368:\tlearn: 0.3882279\ttotal: 5.13s\tremaining: 8.78s\n",
      "369:\tlearn: 0.3881598\ttotal: 5.14s\tremaining: 8.76s\n",
      "370:\tlearn: 0.3880144\ttotal: 5.16s\tremaining: 8.75s\n",
      "371:\tlearn: 0.3878653\ttotal: 5.17s\tremaining: 8.74s\n",
      "372:\tlearn: 0.3877454\ttotal: 5.19s\tremaining: 8.72s\n",
      "373:\tlearn: 0.3876776\ttotal: 5.2s\tremaining: 8.71s\n",
      "374:\tlearn: 0.3875568\ttotal: 5.21s\tremaining: 8.69s\n",
      "375:\tlearn: 0.3874969\ttotal: 5.23s\tremaining: 8.67s\n",
      "376:\tlearn: 0.3873798\ttotal: 5.24s\tremaining: 8.66s\n",
      "377:\tlearn: 0.3872492\ttotal: 5.25s\tremaining: 8.64s\n",
      "378:\tlearn: 0.3871336\ttotal: 5.27s\tremaining: 8.63s\n",
      "379:\tlearn: 0.3870356\ttotal: 5.28s\tremaining: 8.62s\n",
      "380:\tlearn: 0.3868885\ttotal: 5.29s\tremaining: 8.6s\n",
      "381:\tlearn: 0.3867843\ttotal: 5.31s\tremaining: 8.59s\n",
      "382:\tlearn: 0.3866514\ttotal: 5.32s\tremaining: 8.57s\n",
      "383:\tlearn: 0.3865569\ttotal: 5.33s\tremaining: 8.56s\n",
      "384:\tlearn: 0.3864212\ttotal: 5.35s\tremaining: 8.54s\n",
      "385:\tlearn: 0.3862870\ttotal: 5.36s\tremaining: 8.53s\n",
      "386:\tlearn: 0.3861768\ttotal: 5.37s\tremaining: 8.51s\n",
      "387:\tlearn: 0.3861020\ttotal: 5.38s\tremaining: 8.49s\n",
      "388:\tlearn: 0.3859967\ttotal: 5.4s\tremaining: 8.48s\n",
      "389:\tlearn: 0.3858935\ttotal: 5.41s\tremaining: 8.46s\n",
      "390:\tlearn: 0.3857973\ttotal: 5.42s\tremaining: 8.45s\n",
      "391:\tlearn: 0.3856539\ttotal: 5.44s\tremaining: 8.43s\n",
      "392:\tlearn: 0.3855295\ttotal: 5.45s\tremaining: 8.42s\n",
      "393:\tlearn: 0.3854017\ttotal: 5.46s\tremaining: 8.4s\n",
      "394:\tlearn: 0.3852877\ttotal: 5.48s\tremaining: 8.39s\n",
      "395:\tlearn: 0.3851561\ttotal: 5.49s\tremaining: 8.37s\n",
      "396:\tlearn: 0.3850608\ttotal: 5.5s\tremaining: 8.36s\n",
      "397:\tlearn: 0.3849177\ttotal: 5.51s\tremaining: 8.34s\n",
      "398:\tlearn: 0.3848054\ttotal: 5.53s\tremaining: 8.33s\n",
      "399:\tlearn: 0.3846904\ttotal: 5.54s\tremaining: 8.31s\n",
      "400:\tlearn: 0.3845970\ttotal: 5.55s\tremaining: 8.3s\n",
      "401:\tlearn: 0.3844920\ttotal: 5.57s\tremaining: 8.28s\n",
      "402:\tlearn: 0.3843597\ttotal: 5.58s\tremaining: 8.27s\n",
      "403:\tlearn: 0.3841861\ttotal: 5.59s\tremaining: 8.25s\n",
      "404:\tlearn: 0.3840872\ttotal: 5.61s\tremaining: 8.23s\n",
      "405:\tlearn: 0.3839605\ttotal: 5.62s\tremaining: 8.22s\n",
      "406:\tlearn: 0.3838504\ttotal: 5.63s\tremaining: 8.21s\n",
      "407:\tlearn: 0.3837294\ttotal: 5.65s\tremaining: 8.19s\n",
      "408:\tlearn: 0.3836207\ttotal: 5.66s\tremaining: 8.18s\n",
      "409:\tlearn: 0.3834725\ttotal: 5.67s\tremaining: 8.17s\n",
      "410:\tlearn: 0.3833384\ttotal: 5.69s\tremaining: 8.15s\n",
      "411:\tlearn: 0.3832051\ttotal: 5.7s\tremaining: 8.14s\n",
      "412:\tlearn: 0.3831235\ttotal: 5.72s\tremaining: 8.13s\n",
      "413:\tlearn: 0.3830327\ttotal: 5.73s\tremaining: 8.11s\n",
      "414:\tlearn: 0.3829597\ttotal: 5.75s\tremaining: 8.1s\n",
      "415:\tlearn: 0.3828692\ttotal: 5.76s\tremaining: 8.08s\n",
      "416:\tlearn: 0.3827574\ttotal: 5.77s\tremaining: 8.07s\n",
      "417:\tlearn: 0.3826859\ttotal: 5.78s\tremaining: 8.05s\n",
      "418:\tlearn: 0.3825726\ttotal: 5.8s\tremaining: 8.04s\n",
      "419:\tlearn: 0.3824402\ttotal: 5.81s\tremaining: 8.02s\n",
      "420:\tlearn: 0.3823220\ttotal: 5.82s\tremaining: 8.01s\n",
      "421:\tlearn: 0.3822383\ttotal: 5.84s\tremaining: 8s\n",
      "422:\tlearn: 0.3821243\ttotal: 5.85s\tremaining: 7.98s\n",
      "423:\tlearn: 0.3819959\ttotal: 5.87s\tremaining: 7.97s\n",
      "424:\tlearn: 0.3818654\ttotal: 5.88s\tremaining: 7.95s\n",
      "425:\tlearn: 0.3817501\ttotal: 5.89s\tremaining: 7.94s\n",
      "426:\tlearn: 0.3816336\ttotal: 5.91s\tremaining: 7.93s\n",
      "427:\tlearn: 0.3814986\ttotal: 5.92s\tremaining: 7.91s\n",
      "428:\tlearn: 0.3813657\ttotal: 5.93s\tremaining: 7.9s\n",
      "429:\tlearn: 0.3812811\ttotal: 5.95s\tremaining: 7.88s\n",
      "430:\tlearn: 0.3812128\ttotal: 5.96s\tremaining: 7.87s\n",
      "431:\tlearn: 0.3811189\ttotal: 5.97s\tremaining: 7.85s\n",
      "432:\tlearn: 0.3809671\ttotal: 5.99s\tremaining: 7.84s\n",
      "433:\tlearn: 0.3808223\ttotal: 6s\tremaining: 7.83s\n",
      "434:\tlearn: 0.3806880\ttotal: 6.01s\tremaining: 7.81s\n",
      "435:\tlearn: 0.3805987\ttotal: 6.03s\tremaining: 7.8s\n",
      "436:\tlearn: 0.3805118\ttotal: 6.04s\tremaining: 7.78s\n",
      "437:\tlearn: 0.3804306\ttotal: 6.05s\tremaining: 7.77s\n",
      "438:\tlearn: 0.3803291\ttotal: 6.07s\tremaining: 7.75s\n",
      "439:\tlearn: 0.3802495\ttotal: 6.08s\tremaining: 7.74s\n",
      "440:\tlearn: 0.3801125\ttotal: 6.11s\tremaining: 7.74s\n",
      "441:\tlearn: 0.3800079\ttotal: 6.13s\tremaining: 7.74s\n",
      "442:\tlearn: 0.3799204\ttotal: 6.15s\tremaining: 7.73s\n",
      "443:\tlearn: 0.3798198\ttotal: 6.17s\tremaining: 7.72s\n",
      "444:\tlearn: 0.3796996\ttotal: 6.19s\tremaining: 7.72s\n",
      "445:\tlearn: 0.3795460\ttotal: 6.2s\tremaining: 7.71s\n",
      "446:\tlearn: 0.3794699\ttotal: 6.22s\tremaining: 7.7s\n",
      "447:\tlearn: 0.3793717\ttotal: 6.24s\tremaining: 7.69s\n",
      "448:\tlearn: 0.3792539\ttotal: 6.25s\tremaining: 7.68s\n",
      "449:\tlearn: 0.3791567\ttotal: 6.27s\tremaining: 7.66s\n",
      "450:\tlearn: 0.3790154\ttotal: 6.29s\tremaining: 7.65s\n",
      "451:\tlearn: 0.3789030\ttotal: 6.3s\tremaining: 7.64s\n",
      "452:\tlearn: 0.3788219\ttotal: 6.32s\tremaining: 7.63s\n",
      "453:\tlearn: 0.3787171\ttotal: 6.33s\tremaining: 7.61s\n",
      "454:\tlearn: 0.3786369\ttotal: 6.35s\tremaining: 7.6s\n",
      "455:\tlearn: 0.3785472\ttotal: 6.37s\tremaining: 7.59s\n",
      "456:\tlearn: 0.3784561\ttotal: 6.38s\tremaining: 7.58s\n",
      "457:\tlearn: 0.3783123\ttotal: 6.4s\tremaining: 7.58s\n",
      "458:\tlearn: 0.3782377\ttotal: 6.42s\tremaining: 7.57s\n",
      "459:\tlearn: 0.3781054\ttotal: 6.44s\tremaining: 7.56s\n",
      "460:\tlearn: 0.3780092\ttotal: 6.45s\tremaining: 7.55s\n",
      "461:\tlearn: 0.3779450\ttotal: 6.47s\tremaining: 7.53s\n",
      "462:\tlearn: 0.3778691\ttotal: 6.49s\tremaining: 7.52s\n",
      "463:\tlearn: 0.3777715\ttotal: 6.5s\tremaining: 7.51s\n",
      "464:\tlearn: 0.3776538\ttotal: 6.51s\tremaining: 7.5s\n",
      "465:\tlearn: 0.3775776\ttotal: 6.53s\tremaining: 7.48s\n",
      "466:\tlearn: 0.3774151\ttotal: 6.54s\tremaining: 7.47s\n",
      "467:\tlearn: 0.3772769\ttotal: 6.56s\tremaining: 7.46s\n",
      "468:\tlearn: 0.3772114\ttotal: 6.57s\tremaining: 7.44s\n",
      "469:\tlearn: 0.3770750\ttotal: 6.59s\tremaining: 7.44s\n",
      "470:\tlearn: 0.3769336\ttotal: 6.61s\tremaining: 7.43s\n",
      "471:\tlearn: 0.3768350\ttotal: 6.63s\tremaining: 7.41s\n",
      "472:\tlearn: 0.3766912\ttotal: 6.64s\tremaining: 7.4s\n",
      "473:\tlearn: 0.3766063\ttotal: 6.66s\tremaining: 7.39s\n",
      "474:\tlearn: 0.3764785\ttotal: 6.68s\tremaining: 7.38s\n",
      "475:\tlearn: 0.3764095\ttotal: 6.69s\tremaining: 7.37s\n",
      "476:\tlearn: 0.3763336\ttotal: 6.71s\tremaining: 7.35s\n",
      "477:\tlearn: 0.3762250\ttotal: 6.72s\tremaining: 7.34s\n",
      "478:\tlearn: 0.3760901\ttotal: 6.73s\tremaining: 7.33s\n",
      "479:\tlearn: 0.3759910\ttotal: 6.75s\tremaining: 7.31s\n",
      "480:\tlearn: 0.3759092\ttotal: 6.76s\tremaining: 7.3s\n",
      "481:\tlearn: 0.3757702\ttotal: 6.78s\tremaining: 7.29s\n",
      "482:\tlearn: 0.3757083\ttotal: 6.79s\tremaining: 7.27s\n",
      "483:\tlearn: 0.3756252\ttotal: 6.8s\tremaining: 7.25s\n",
      "484:\tlearn: 0.3755042\ttotal: 6.82s\tremaining: 7.24s\n",
      "485:\tlearn: 0.3754123\ttotal: 6.83s\tremaining: 7.22s\n",
      "486:\tlearn: 0.3752878\ttotal: 6.85s\tremaining: 7.21s\n",
      "487:\tlearn: 0.3751721\ttotal: 6.86s\tremaining: 7.2s\n",
      "488:\tlearn: 0.3751080\ttotal: 6.88s\tremaining: 7.19s\n",
      "489:\tlearn: 0.3749723\ttotal: 6.89s\tremaining: 7.17s\n",
      "490:\tlearn: 0.3748298\ttotal: 6.91s\tremaining: 7.16s\n",
      "491:\tlearn: 0.3746966\ttotal: 6.92s\tremaining: 7.15s\n",
      "492:\tlearn: 0.3746120\ttotal: 6.94s\tremaining: 7.14s\n",
      "493:\tlearn: 0.3745356\ttotal: 6.96s\tremaining: 7.13s\n",
      "494:\tlearn: 0.3744710\ttotal: 6.97s\tremaining: 7.12s\n",
      "495:\tlearn: 0.3743839\ttotal: 6.99s\tremaining: 7.1s\n",
      "496:\tlearn: 0.3742360\ttotal: 7.01s\tremaining: 7.09s\n",
      "497:\tlearn: 0.3741254\ttotal: 7.03s\tremaining: 7.08s\n",
      "498:\tlearn: 0.3740280\ttotal: 7.04s\tremaining: 7.07s\n",
      "499:\tlearn: 0.3739475\ttotal: 7.05s\tremaining: 7.05s\n",
      "500:\tlearn: 0.3738088\ttotal: 7.07s\tremaining: 7.04s\n",
      "501:\tlearn: 0.3736920\ttotal: 7.08s\tremaining: 7.03s\n",
      "502:\tlearn: 0.3736113\ttotal: 7.1s\tremaining: 7.01s\n",
      "503:\tlearn: 0.3735218\ttotal: 7.11s\tremaining: 7s\n",
      "504:\tlearn: 0.3734045\ttotal: 7.13s\tremaining: 6.99s\n",
      "505:\tlearn: 0.3733456\ttotal: 7.14s\tremaining: 6.97s\n",
      "506:\tlearn: 0.3732823\ttotal: 7.16s\tremaining: 6.96s\n",
      "507:\tlearn: 0.3731244\ttotal: 7.17s\tremaining: 6.95s\n",
      "508:\tlearn: 0.3730408\ttotal: 7.19s\tremaining: 6.93s\n",
      "509:\tlearn: 0.3729456\ttotal: 7.2s\tremaining: 6.92s\n",
      "510:\tlearn: 0.3728424\ttotal: 7.21s\tremaining: 6.9s\n",
      "511:\tlearn: 0.3727208\ttotal: 7.23s\tremaining: 6.89s\n",
      "512:\tlearn: 0.3726405\ttotal: 7.24s\tremaining: 6.87s\n",
      "513:\tlearn: 0.3725157\ttotal: 7.25s\tremaining: 6.86s\n",
      "514:\tlearn: 0.3723614\ttotal: 7.27s\tremaining: 6.85s\n",
      "515:\tlearn: 0.3721986\ttotal: 7.28s\tremaining: 6.83s\n",
      "516:\tlearn: 0.3721213\ttotal: 7.3s\tremaining: 6.82s\n",
      "517:\tlearn: 0.3720328\ttotal: 7.31s\tremaining: 6.8s\n",
      "518:\tlearn: 0.3719287\ttotal: 7.33s\tremaining: 6.79s\n",
      "519:\tlearn: 0.3718526\ttotal: 7.34s\tremaining: 6.78s\n",
      "520:\tlearn: 0.3717324\ttotal: 7.36s\tremaining: 6.76s\n",
      "521:\tlearn: 0.3715920\ttotal: 7.37s\tremaining: 6.75s\n",
      "522:\tlearn: 0.3715068\ttotal: 7.38s\tremaining: 6.73s\n",
      "523:\tlearn: 0.3714126\ttotal: 7.4s\tremaining: 6.72s\n",
      "524:\tlearn: 0.3713029\ttotal: 7.41s\tremaining: 6.7s\n",
      "525:\tlearn: 0.3712372\ttotal: 7.42s\tremaining: 6.69s\n",
      "526:\tlearn: 0.3711235\ttotal: 7.44s\tremaining: 6.68s\n",
      "527:\tlearn: 0.3710513\ttotal: 7.45s\tremaining: 6.66s\n",
      "528:\tlearn: 0.3709966\ttotal: 7.47s\tremaining: 6.65s\n",
      "529:\tlearn: 0.3708709\ttotal: 7.48s\tremaining: 6.63s\n",
      "530:\tlearn: 0.3708123\ttotal: 7.5s\tremaining: 6.62s\n",
      "531:\tlearn: 0.3707089\ttotal: 7.51s\tremaining: 6.61s\n",
      "532:\tlearn: 0.3706443\ttotal: 7.52s\tremaining: 6.59s\n",
      "533:\tlearn: 0.3705883\ttotal: 7.54s\tremaining: 6.58s\n",
      "534:\tlearn: 0.3704591\ttotal: 7.55s\tremaining: 6.57s\n",
      "535:\tlearn: 0.3703882\ttotal: 7.57s\tremaining: 6.55s\n",
      "536:\tlearn: 0.3702962\ttotal: 7.58s\tremaining: 6.54s\n",
      "537:\tlearn: 0.3702342\ttotal: 7.59s\tremaining: 6.52s\n",
      "538:\tlearn: 0.3701624\ttotal: 7.61s\tremaining: 6.51s\n",
      "539:\tlearn: 0.3700420\ttotal: 7.63s\tremaining: 6.5s\n",
      "540:\tlearn: 0.3699724\ttotal: 7.65s\tremaining: 6.49s\n",
      "541:\tlearn: 0.3698806\ttotal: 7.67s\tremaining: 6.48s\n",
      "542:\tlearn: 0.3697847\ttotal: 7.69s\tremaining: 6.47s\n",
      "543:\tlearn: 0.3696662\ttotal: 7.71s\tremaining: 6.47s\n",
      "544:\tlearn: 0.3695715\ttotal: 7.73s\tremaining: 6.46s\n",
      "545:\tlearn: 0.3694622\ttotal: 7.75s\tremaining: 6.45s\n",
      "546:\tlearn: 0.3694102\ttotal: 7.77s\tremaining: 6.44s\n",
      "547:\tlearn: 0.3693422\ttotal: 7.8s\tremaining: 6.43s\n",
      "548:\tlearn: 0.3692104\ttotal: 7.82s\tremaining: 6.42s\n",
      "549:\tlearn: 0.3691190\ttotal: 7.84s\tremaining: 6.42s\n",
      "550:\tlearn: 0.3690256\ttotal: 7.86s\tremaining: 6.41s\n",
      "551:\tlearn: 0.3689071\ttotal: 7.88s\tremaining: 6.4s\n",
      "552:\tlearn: 0.3687997\ttotal: 7.9s\tremaining: 6.39s\n",
      "553:\tlearn: 0.3687382\ttotal: 7.92s\tremaining: 6.38s\n",
      "554:\tlearn: 0.3686543\ttotal: 7.94s\tremaining: 6.37s\n",
      "555:\tlearn: 0.3685740\ttotal: 7.96s\tremaining: 6.35s\n",
      "556:\tlearn: 0.3684768\ttotal: 7.97s\tremaining: 6.34s\n",
      "557:\tlearn: 0.3684015\ttotal: 7.99s\tremaining: 6.33s\n",
      "558:\tlearn: 0.3683051\ttotal: 8.02s\tremaining: 6.32s\n",
      "559:\tlearn: 0.3682112\ttotal: 8.04s\tremaining: 6.31s\n",
      "560:\tlearn: 0.3681069\ttotal: 8.06s\tremaining: 6.3s\n",
      "561:\tlearn: 0.3680143\ttotal: 8.07s\tremaining: 6.29s\n",
      "562:\tlearn: 0.3678613\ttotal: 8.1s\tremaining: 6.28s\n",
      "563:\tlearn: 0.3677872\ttotal: 8.12s\tremaining: 6.28s\n",
      "564:\tlearn: 0.3676934\ttotal: 8.13s\tremaining: 6.26s\n",
      "565:\tlearn: 0.3675822\ttotal: 8.15s\tremaining: 6.25s\n",
      "566:\tlearn: 0.3674693\ttotal: 8.16s\tremaining: 6.23s\n",
      "567:\tlearn: 0.3673920\ttotal: 8.18s\tremaining: 6.22s\n",
      "568:\tlearn: 0.3672867\ttotal: 8.2s\tremaining: 6.21s\n",
      "569:\tlearn: 0.3671696\ttotal: 8.21s\tremaining: 6.19s\n",
      "570:\tlearn: 0.3670906\ttotal: 8.22s\tremaining: 6.18s\n",
      "571:\tlearn: 0.3670297\ttotal: 8.24s\tremaining: 6.16s\n",
      "572:\tlearn: 0.3669510\ttotal: 8.25s\tremaining: 6.15s\n",
      "573:\tlearn: 0.3668244\ttotal: 8.26s\tremaining: 6.13s\n",
      "574:\tlearn: 0.3667459\ttotal: 8.28s\tremaining: 6.12s\n",
      "575:\tlearn: 0.3666401\ttotal: 8.29s\tremaining: 6.1s\n",
      "576:\tlearn: 0.3665344\ttotal: 8.3s\tremaining: 6.09s\n",
      "577:\tlearn: 0.3663981\ttotal: 8.32s\tremaining: 6.07s\n",
      "578:\tlearn: 0.3663006\ttotal: 8.33s\tremaining: 6.06s\n",
      "579:\tlearn: 0.3661926\ttotal: 8.35s\tremaining: 6.04s\n",
      "580:\tlearn: 0.3661194\ttotal: 8.36s\tremaining: 6.03s\n",
      "581:\tlearn: 0.3660652\ttotal: 8.37s\tremaining: 6.01s\n",
      "582:\tlearn: 0.3659548\ttotal: 8.38s\tremaining: 6s\n",
      "583:\tlearn: 0.3658863\ttotal: 8.4s\tremaining: 5.98s\n",
      "584:\tlearn: 0.3658059\ttotal: 8.41s\tremaining: 5.97s\n",
      "585:\tlearn: 0.3657316\ttotal: 8.42s\tremaining: 5.95s\n",
      "586:\tlearn: 0.3656713\ttotal: 8.44s\tremaining: 5.93s\n",
      "587:\tlearn: 0.3655515\ttotal: 8.45s\tremaining: 5.92s\n",
      "588:\tlearn: 0.3654447\ttotal: 8.46s\tremaining: 5.91s\n",
      "589:\tlearn: 0.3653720\ttotal: 8.48s\tremaining: 5.89s\n",
      "590:\tlearn: 0.3652872\ttotal: 8.49s\tremaining: 5.88s\n",
      "591:\tlearn: 0.3651850\ttotal: 8.51s\tremaining: 5.87s\n",
      "592:\tlearn: 0.3650845\ttotal: 8.53s\tremaining: 5.85s\n",
      "593:\tlearn: 0.3649636\ttotal: 8.54s\tremaining: 5.84s\n",
      "594:\tlearn: 0.3648980\ttotal: 8.56s\tremaining: 5.83s\n",
      "595:\tlearn: 0.3647892\ttotal: 8.58s\tremaining: 5.82s\n",
      "596:\tlearn: 0.3646801\ttotal: 8.59s\tremaining: 5.8s\n",
      "597:\tlearn: 0.3645645\ttotal: 8.61s\tremaining: 5.79s\n",
      "598:\tlearn: 0.3644837\ttotal: 8.63s\tremaining: 5.78s\n",
      "599:\tlearn: 0.3643738\ttotal: 8.64s\tremaining: 5.76s\n",
      "600:\tlearn: 0.3643047\ttotal: 8.66s\tremaining: 5.75s\n",
      "601:\tlearn: 0.3641598\ttotal: 8.67s\tremaining: 5.73s\n",
      "602:\tlearn: 0.3640024\ttotal: 8.69s\tremaining: 5.72s\n",
      "603:\tlearn: 0.3638932\ttotal: 8.7s\tremaining: 5.7s\n",
      "604:\tlearn: 0.3638409\ttotal: 8.71s\tremaining: 5.69s\n",
      "605:\tlearn: 0.3637492\ttotal: 8.73s\tremaining: 5.67s\n",
      "606:\tlearn: 0.3636224\ttotal: 8.74s\tremaining: 5.66s\n",
      "607:\tlearn: 0.3635414\ttotal: 8.76s\tremaining: 5.65s\n",
      "608:\tlearn: 0.3634711\ttotal: 8.77s\tremaining: 5.63s\n",
      "609:\tlearn: 0.3633464\ttotal: 8.79s\tremaining: 5.62s\n",
      "610:\tlearn: 0.3632175\ttotal: 8.81s\tremaining: 5.61s\n",
      "611:\tlearn: 0.3631460\ttotal: 8.82s\tremaining: 5.59s\n",
      "612:\tlearn: 0.3630437\ttotal: 8.84s\tremaining: 5.58s\n",
      "613:\tlearn: 0.3629404\ttotal: 8.85s\tremaining: 5.56s\n",
      "614:\tlearn: 0.3628291\ttotal: 8.87s\tremaining: 5.55s\n",
      "615:\tlearn: 0.3627006\ttotal: 8.88s\tremaining: 5.54s\n",
      "616:\tlearn: 0.3626229\ttotal: 8.89s\tremaining: 5.52s\n",
      "617:\tlearn: 0.3625402\ttotal: 8.91s\tremaining: 5.51s\n",
      "618:\tlearn: 0.3624191\ttotal: 8.93s\tremaining: 5.5s\n",
      "619:\tlearn: 0.3623154\ttotal: 8.94s\tremaining: 5.48s\n",
      "620:\tlearn: 0.3622340\ttotal: 8.96s\tremaining: 5.47s\n",
      "621:\tlearn: 0.3621383\ttotal: 8.97s\tremaining: 5.45s\n",
      "622:\tlearn: 0.3620323\ttotal: 8.98s\tremaining: 5.44s\n",
      "623:\tlearn: 0.3618985\ttotal: 9s\tremaining: 5.42s\n",
      "624:\tlearn: 0.3617855\ttotal: 9.02s\tremaining: 5.41s\n",
      "625:\tlearn: 0.3616503\ttotal: 9.03s\tremaining: 5.39s\n",
      "626:\tlearn: 0.3615927\ttotal: 9.04s\tremaining: 5.38s\n",
      "627:\tlearn: 0.3614556\ttotal: 9.06s\tremaining: 5.37s\n",
      "628:\tlearn: 0.3613312\ttotal: 9.08s\tremaining: 5.35s\n",
      "629:\tlearn: 0.3612544\ttotal: 9.09s\tremaining: 5.34s\n",
      "630:\tlearn: 0.3611384\ttotal: 9.11s\tremaining: 5.33s\n",
      "631:\tlearn: 0.3610224\ttotal: 9.12s\tremaining: 5.31s\n",
      "632:\tlearn: 0.3609116\ttotal: 9.13s\tremaining: 5.3s\n",
      "633:\tlearn: 0.3608255\ttotal: 9.15s\tremaining: 5.28s\n",
      "634:\tlearn: 0.3607647\ttotal: 9.17s\tremaining: 5.27s\n",
      "635:\tlearn: 0.3607147\ttotal: 9.18s\tremaining: 5.25s\n",
      "636:\tlearn: 0.3606412\ttotal: 9.2s\tremaining: 5.24s\n",
      "637:\tlearn: 0.3604782\ttotal: 9.21s\tremaining: 5.23s\n",
      "638:\tlearn: 0.3603740\ttotal: 9.23s\tremaining: 5.22s\n",
      "639:\tlearn: 0.3603352\ttotal: 9.25s\tremaining: 5.2s\n",
      "640:\tlearn: 0.3602657\ttotal: 9.27s\tremaining: 5.19s\n",
      "641:\tlearn: 0.3602180\ttotal: 9.28s\tremaining: 5.18s\n",
      "642:\tlearn: 0.3601387\ttotal: 9.3s\tremaining: 5.17s\n",
      "643:\tlearn: 0.3600289\ttotal: 9.32s\tremaining: 5.15s\n",
      "644:\tlearn: 0.3598672\ttotal: 9.34s\tremaining: 5.14s\n",
      "645:\tlearn: 0.3597963\ttotal: 9.35s\tremaining: 5.13s\n",
      "646:\tlearn: 0.3596807\ttotal: 9.37s\tremaining: 5.11s\n",
      "647:\tlearn: 0.3595658\ttotal: 9.38s\tremaining: 5.1s\n",
      "648:\tlearn: 0.3594604\ttotal: 9.4s\tremaining: 5.08s\n",
      "649:\tlearn: 0.3593096\ttotal: 9.41s\tremaining: 5.07s\n",
      "650:\tlearn: 0.3592122\ttotal: 9.43s\tremaining: 5.05s\n",
      "651:\tlearn: 0.3591581\ttotal: 9.45s\tremaining: 5.04s\n",
      "652:\tlearn: 0.3590451\ttotal: 9.46s\tremaining: 5.03s\n",
      "653:\tlearn: 0.3589990\ttotal: 9.48s\tremaining: 5.01s\n",
      "654:\tlearn: 0.3588974\ttotal: 9.49s\tremaining: 5s\n",
      "655:\tlearn: 0.3587929\ttotal: 9.51s\tremaining: 4.99s\n",
      "656:\tlearn: 0.3587296\ttotal: 9.53s\tremaining: 4.97s\n",
      "657:\tlearn: 0.3586705\ttotal: 9.54s\tremaining: 4.96s\n",
      "658:\tlearn: 0.3585463\ttotal: 9.56s\tremaining: 4.95s\n",
      "659:\tlearn: 0.3584451\ttotal: 9.58s\tremaining: 4.94s\n",
      "660:\tlearn: 0.3583187\ttotal: 9.6s\tremaining: 4.92s\n",
      "661:\tlearn: 0.3581889\ttotal: 9.62s\tremaining: 4.91s\n",
      "662:\tlearn: 0.3580911\ttotal: 9.64s\tremaining: 4.9s\n",
      "663:\tlearn: 0.3579874\ttotal: 9.66s\tremaining: 4.89s\n",
      "664:\tlearn: 0.3578908\ttotal: 9.67s\tremaining: 4.87s\n",
      "665:\tlearn: 0.3578206\ttotal: 9.69s\tremaining: 4.86s\n",
      "666:\tlearn: 0.3577341\ttotal: 9.7s\tremaining: 4.84s\n",
      "667:\tlearn: 0.3576289\ttotal: 9.71s\tremaining: 4.83s\n",
      "668:\tlearn: 0.3575260\ttotal: 9.73s\tremaining: 4.81s\n",
      "669:\tlearn: 0.3574275\ttotal: 9.74s\tremaining: 4.8s\n",
      "670:\tlearn: 0.3573013\ttotal: 9.76s\tremaining: 4.78s\n",
      "671:\tlearn: 0.3572438\ttotal: 9.77s\tremaining: 4.77s\n",
      "672:\tlearn: 0.3571872\ttotal: 9.78s\tremaining: 4.75s\n",
      "673:\tlearn: 0.3570915\ttotal: 9.79s\tremaining: 4.74s\n",
      "674:\tlearn: 0.3569982\ttotal: 9.81s\tremaining: 4.72s\n",
      "675:\tlearn: 0.3569112\ttotal: 9.82s\tremaining: 4.71s\n",
      "676:\tlearn: 0.3567930\ttotal: 9.83s\tremaining: 4.69s\n",
      "677:\tlearn: 0.3566858\ttotal: 9.85s\tremaining: 4.68s\n",
      "678:\tlearn: 0.3565660\ttotal: 9.86s\tremaining: 4.66s\n",
      "679:\tlearn: 0.3564630\ttotal: 9.88s\tremaining: 4.65s\n",
      "680:\tlearn: 0.3563555\ttotal: 9.89s\tremaining: 4.63s\n",
      "681:\tlearn: 0.3562827\ttotal: 9.9s\tremaining: 4.62s\n",
      "682:\tlearn: 0.3561870\ttotal: 9.92s\tremaining: 4.6s\n",
      "683:\tlearn: 0.3561147\ttotal: 9.93s\tremaining: 4.59s\n",
      "684:\tlearn: 0.3560469\ttotal: 9.95s\tremaining: 4.57s\n",
      "685:\tlearn: 0.3559821\ttotal: 9.96s\tremaining: 4.56s\n",
      "686:\tlearn: 0.3558929\ttotal: 9.97s\tremaining: 4.54s\n",
      "687:\tlearn: 0.3558281\ttotal: 9.98s\tremaining: 4.53s\n",
      "688:\tlearn: 0.3557785\ttotal: 10s\tremaining: 4.51s\n",
      "689:\tlearn: 0.3557091\ttotal: 10s\tremaining: 4.5s\n",
      "690:\tlearn: 0.3556360\ttotal: 10s\tremaining: 4.48s\n",
      "691:\tlearn: 0.3555716\ttotal: 10s\tremaining: 4.47s\n",
      "692:\tlearn: 0.3555039\ttotal: 10.1s\tremaining: 4.45s\n",
      "693:\tlearn: 0.3554260\ttotal: 10.1s\tremaining: 4.44s\n",
      "694:\tlearn: 0.3552835\ttotal: 10.1s\tremaining: 4.42s\n",
      "695:\tlearn: 0.3552077\ttotal: 10.1s\tremaining: 4.41s\n",
      "696:\tlearn: 0.3551467\ttotal: 10.1s\tremaining: 4.39s\n",
      "697:\tlearn: 0.3550673\ttotal: 10.1s\tremaining: 4.38s\n",
      "698:\tlearn: 0.3549569\ttotal: 10.1s\tremaining: 4.36s\n",
      "699:\tlearn: 0.3548866\ttotal: 10.1s\tremaining: 4.35s\n",
      "700:\tlearn: 0.3547797\ttotal: 10.2s\tremaining: 4.33s\n",
      "701:\tlearn: 0.3547013\ttotal: 10.2s\tremaining: 4.32s\n",
      "702:\tlearn: 0.3545725\ttotal: 10.2s\tremaining: 4.3s\n",
      "703:\tlearn: 0.3544836\ttotal: 10.2s\tremaining: 4.29s\n",
      "704:\tlearn: 0.3543891\ttotal: 10.2s\tremaining: 4.28s\n",
      "705:\tlearn: 0.3542922\ttotal: 10.2s\tremaining: 4.26s\n",
      "706:\tlearn: 0.3541875\ttotal: 10.2s\tremaining: 4.25s\n",
      "707:\tlearn: 0.3540848\ttotal: 10.3s\tremaining: 4.23s\n",
      "708:\tlearn: 0.3539675\ttotal: 10.3s\tremaining: 4.22s\n",
      "709:\tlearn: 0.3538904\ttotal: 10.3s\tremaining: 4.2s\n",
      "710:\tlearn: 0.3538458\ttotal: 10.3s\tremaining: 4.19s\n",
      "711:\tlearn: 0.3537605\ttotal: 10.3s\tremaining: 4.17s\n",
      "712:\tlearn: 0.3536753\ttotal: 10.3s\tremaining: 4.16s\n",
      "713:\tlearn: 0.3535376\ttotal: 10.3s\tremaining: 4.14s\n",
      "714:\tlearn: 0.3534229\ttotal: 10.4s\tremaining: 4.13s\n",
      "715:\tlearn: 0.3533782\ttotal: 10.4s\tremaining: 4.11s\n",
      "716:\tlearn: 0.3533300\ttotal: 10.4s\tremaining: 4.1s\n",
      "717:\tlearn: 0.3531960\ttotal: 10.4s\tremaining: 4.08s\n",
      "718:\tlearn: 0.3531414\ttotal: 10.4s\tremaining: 4.07s\n",
      "719:\tlearn: 0.3530373\ttotal: 10.4s\tremaining: 4.05s\n",
      "720:\tlearn: 0.3529106\ttotal: 10.4s\tremaining: 4.04s\n",
      "721:\tlearn: 0.3528116\ttotal: 10.5s\tremaining: 4.03s\n",
      "722:\tlearn: 0.3527400\ttotal: 10.5s\tremaining: 4.01s\n",
      "723:\tlearn: 0.3526749\ttotal: 10.5s\tremaining: 4s\n",
      "724:\tlearn: 0.3526150\ttotal: 10.5s\tremaining: 3.98s\n",
      "725:\tlearn: 0.3525070\ttotal: 10.5s\tremaining: 3.97s\n",
      "726:\tlearn: 0.3524533\ttotal: 10.5s\tremaining: 3.95s\n",
      "727:\tlearn: 0.3523456\ttotal: 10.5s\tremaining: 3.94s\n",
      "728:\tlearn: 0.3522118\ttotal: 10.6s\tremaining: 3.93s\n",
      "729:\tlearn: 0.3521503\ttotal: 10.6s\tremaining: 3.91s\n",
      "730:\tlearn: 0.3520628\ttotal: 10.6s\tremaining: 3.9s\n",
      "731:\tlearn: 0.3519481\ttotal: 10.6s\tremaining: 3.89s\n",
      "732:\tlearn: 0.3518966\ttotal: 10.6s\tremaining: 3.87s\n",
      "733:\tlearn: 0.3518150\ttotal: 10.7s\tremaining: 3.86s\n",
      "734:\tlearn: 0.3516949\ttotal: 10.7s\tremaining: 3.85s\n",
      "735:\tlearn: 0.3516043\ttotal: 10.7s\tremaining: 3.83s\n",
      "736:\tlearn: 0.3514870\ttotal: 10.7s\tremaining: 3.82s\n",
      "737:\tlearn: 0.3513740\ttotal: 10.7s\tremaining: 3.81s\n",
      "738:\tlearn: 0.3512667\ttotal: 10.7s\tremaining: 3.79s\n",
      "739:\tlearn: 0.3511865\ttotal: 10.8s\tremaining: 3.78s\n",
      "740:\tlearn: 0.3510880\ttotal: 10.8s\tremaining: 3.76s\n",
      "741:\tlearn: 0.3510217\ttotal: 10.8s\tremaining: 3.75s\n",
      "742:\tlearn: 0.3509567\ttotal: 10.8s\tremaining: 3.73s\n",
      "743:\tlearn: 0.3508793\ttotal: 10.8s\tremaining: 3.72s\n",
      "744:\tlearn: 0.3508073\ttotal: 10.8s\tremaining: 3.7s\n",
      "745:\tlearn: 0.3506864\ttotal: 10.8s\tremaining: 3.69s\n",
      "746:\tlearn: 0.3505867\ttotal: 10.8s\tremaining: 3.67s\n",
      "747:\tlearn: 0.3505167\ttotal: 10.9s\tremaining: 3.66s\n",
      "748:\tlearn: 0.3504192\ttotal: 10.9s\tremaining: 3.65s\n",
      "749:\tlearn: 0.3503536\ttotal: 10.9s\tremaining: 3.63s\n",
      "750:\tlearn: 0.3503171\ttotal: 10.9s\tremaining: 3.62s\n",
      "751:\tlearn: 0.3502829\ttotal: 10.9s\tremaining: 3.6s\n",
      "752:\tlearn: 0.3502223\ttotal: 10.9s\tremaining: 3.59s\n",
      "753:\tlearn: 0.3501226\ttotal: 10.9s\tremaining: 3.57s\n",
      "754:\tlearn: 0.3500597\ttotal: 11s\tremaining: 3.56s\n",
      "755:\tlearn: 0.3499617\ttotal: 11s\tremaining: 3.54s\n",
      "756:\tlearn: 0.3498487\ttotal: 11s\tremaining: 3.53s\n",
      "757:\tlearn: 0.3497294\ttotal: 11s\tremaining: 3.51s\n",
      "758:\tlearn: 0.3496487\ttotal: 11s\tremaining: 3.5s\n",
      "759:\tlearn: 0.3495813\ttotal: 11s\tremaining: 3.48s\n",
      "760:\tlearn: 0.3495066\ttotal: 11s\tremaining: 3.47s\n",
      "761:\tlearn: 0.3494007\ttotal: 11.1s\tremaining: 3.45s\n",
      "762:\tlearn: 0.3492904\ttotal: 11.1s\tremaining: 3.44s\n",
      "763:\tlearn: 0.3492213\ttotal: 11.1s\tremaining: 3.42s\n",
      "764:\tlearn: 0.3491362\ttotal: 11.1s\tremaining: 3.41s\n",
      "765:\tlearn: 0.3490406\ttotal: 11.1s\tremaining: 3.4s\n",
      "766:\tlearn: 0.3489881\ttotal: 11.1s\tremaining: 3.38s\n",
      "767:\tlearn: 0.3488765\ttotal: 11.1s\tremaining: 3.37s\n",
      "768:\tlearn: 0.3488107\ttotal: 11.2s\tremaining: 3.35s\n",
      "769:\tlearn: 0.3487529\ttotal: 11.2s\tremaining: 3.34s\n",
      "770:\tlearn: 0.3486665\ttotal: 11.2s\tremaining: 3.32s\n",
      "771:\tlearn: 0.3486030\ttotal: 11.2s\tremaining: 3.31s\n",
      "772:\tlearn: 0.3485094\ttotal: 11.2s\tremaining: 3.29s\n",
      "773:\tlearn: 0.3484535\ttotal: 11.2s\tremaining: 3.28s\n",
      "774:\tlearn: 0.3483547\ttotal: 11.3s\tremaining: 3.27s\n",
      "775:\tlearn: 0.3482658\ttotal: 11.3s\tremaining: 3.25s\n",
      "776:\tlearn: 0.3481872\ttotal: 11.3s\tremaining: 3.24s\n",
      "777:\tlearn: 0.3480687\ttotal: 11.3s\tremaining: 3.23s\n",
      "778:\tlearn: 0.3479928\ttotal: 11.3s\tremaining: 3.21s\n",
      "779:\tlearn: 0.3478722\ttotal: 11.3s\tremaining: 3.2s\n",
      "780:\tlearn: 0.3477674\ttotal: 11.4s\tremaining: 3.19s\n",
      "781:\tlearn: 0.3476498\ttotal: 11.4s\tremaining: 3.17s\n",
      "782:\tlearn: 0.3475663\ttotal: 11.4s\tremaining: 3.16s\n",
      "783:\tlearn: 0.3474697\ttotal: 11.4s\tremaining: 3.15s\n",
      "784:\tlearn: 0.3473587\ttotal: 11.4s\tremaining: 3.13s\n",
      "785:\tlearn: 0.3472318\ttotal: 11.5s\tremaining: 3.12s\n",
      "786:\tlearn: 0.3471280\ttotal: 11.5s\tremaining: 3.1s\n",
      "787:\tlearn: 0.3470147\ttotal: 11.5s\tremaining: 3.09s\n",
      "788:\tlearn: 0.3469373\ttotal: 11.5s\tremaining: 3.08s\n",
      "789:\tlearn: 0.3468520\ttotal: 11.5s\tremaining: 3.06s\n",
      "790:\tlearn: 0.3467529\ttotal: 11.5s\tremaining: 3.05s\n",
      "791:\tlearn: 0.3466917\ttotal: 11.5s\tremaining: 3.03s\n",
      "792:\tlearn: 0.3466311\ttotal: 11.6s\tremaining: 3.02s\n",
      "793:\tlearn: 0.3465607\ttotal: 11.6s\tremaining: 3s\n",
      "794:\tlearn: 0.3464691\ttotal: 11.6s\tremaining: 2.99s\n",
      "795:\tlearn: 0.3464001\ttotal: 11.6s\tremaining: 2.97s\n",
      "796:\tlearn: 0.3463421\ttotal: 11.6s\tremaining: 2.96s\n",
      "797:\tlearn: 0.3463094\ttotal: 11.6s\tremaining: 2.94s\n",
      "798:\tlearn: 0.3462388\ttotal: 11.6s\tremaining: 2.93s\n",
      "799:\tlearn: 0.3461361\ttotal: 11.7s\tremaining: 2.91s\n",
      "800:\tlearn: 0.3460223\ttotal: 11.7s\tremaining: 2.9s\n",
      "801:\tlearn: 0.3459213\ttotal: 11.7s\tremaining: 2.88s\n",
      "802:\tlearn: 0.3458803\ttotal: 11.7s\tremaining: 2.87s\n",
      "803:\tlearn: 0.3457545\ttotal: 11.7s\tremaining: 2.85s\n",
      "804:\tlearn: 0.3456941\ttotal: 11.7s\tremaining: 2.84s\n",
      "805:\tlearn: 0.3455901\ttotal: 11.7s\tremaining: 2.83s\n",
      "806:\tlearn: 0.3454841\ttotal: 11.8s\tremaining: 2.81s\n",
      "807:\tlearn: 0.3454208\ttotal: 11.8s\tremaining: 2.8s\n",
      "808:\tlearn: 0.3453276\ttotal: 11.8s\tremaining: 2.78s\n",
      "809:\tlearn: 0.3452276\ttotal: 11.8s\tremaining: 2.77s\n",
      "810:\tlearn: 0.3451753\ttotal: 11.8s\tremaining: 2.75s\n",
      "811:\tlearn: 0.3450581\ttotal: 11.8s\tremaining: 2.74s\n",
      "812:\tlearn: 0.3449988\ttotal: 11.8s\tremaining: 2.72s\n",
      "813:\tlearn: 0.3449243\ttotal: 11.9s\tremaining: 2.71s\n",
      "814:\tlearn: 0.3448619\ttotal: 11.9s\tremaining: 2.69s\n",
      "815:\tlearn: 0.3447782\ttotal: 11.9s\tremaining: 2.68s\n",
      "816:\tlearn: 0.3447000\ttotal: 11.9s\tremaining: 2.67s\n",
      "817:\tlearn: 0.3446176\ttotal: 11.9s\tremaining: 2.65s\n",
      "818:\tlearn: 0.3445556\ttotal: 11.9s\tremaining: 2.63s\n",
      "819:\tlearn: 0.3444391\ttotal: 11.9s\tremaining: 2.62s\n",
      "820:\tlearn: 0.3443584\ttotal: 12s\tremaining: 2.61s\n",
      "821:\tlearn: 0.3443138\ttotal: 12s\tremaining: 2.59s\n",
      "822:\tlearn: 0.3442420\ttotal: 12s\tremaining: 2.58s\n",
      "823:\tlearn: 0.3441796\ttotal: 12s\tremaining: 2.56s\n",
      "824:\tlearn: 0.3441164\ttotal: 12s\tremaining: 2.55s\n",
      "825:\tlearn: 0.3440512\ttotal: 12s\tremaining: 2.53s\n",
      "826:\tlearn: 0.3439517\ttotal: 12s\tremaining: 2.52s\n",
      "827:\tlearn: 0.3439079\ttotal: 12s\tremaining: 2.5s\n",
      "828:\tlearn: 0.3438168\ttotal: 12.1s\tremaining: 2.49s\n",
      "829:\tlearn: 0.3437191\ttotal: 12.1s\tremaining: 2.47s\n",
      "830:\tlearn: 0.3436695\ttotal: 12.1s\tremaining: 2.46s\n",
      "831:\tlearn: 0.3436037\ttotal: 12.1s\tremaining: 2.44s\n",
      "832:\tlearn: 0.3435233\ttotal: 12.1s\tremaining: 2.43s\n",
      "833:\tlearn: 0.3434330\ttotal: 12.1s\tremaining: 2.41s\n",
      "834:\tlearn: 0.3433097\ttotal: 12.1s\tremaining: 2.4s\n",
      "835:\tlearn: 0.3431737\ttotal: 12.2s\tremaining: 2.38s\n",
      "836:\tlearn: 0.3430868\ttotal: 12.2s\tremaining: 2.37s\n",
      "837:\tlearn: 0.3429876\ttotal: 12.2s\tremaining: 2.36s\n",
      "838:\tlearn: 0.3429153\ttotal: 12.2s\tremaining: 2.34s\n",
      "839:\tlearn: 0.3428330\ttotal: 12.2s\tremaining: 2.33s\n",
      "840:\tlearn: 0.3427205\ttotal: 12.2s\tremaining: 2.31s\n",
      "841:\tlearn: 0.3426714\ttotal: 12.2s\tremaining: 2.3s\n",
      "842:\tlearn: 0.3425537\ttotal: 12.3s\tremaining: 2.28s\n",
      "843:\tlearn: 0.3424521\ttotal: 12.3s\tremaining: 2.27s\n",
      "844:\tlearn: 0.3423374\ttotal: 12.3s\tremaining: 2.25s\n",
      "845:\tlearn: 0.3422403\ttotal: 12.3s\tremaining: 2.24s\n",
      "846:\tlearn: 0.3421219\ttotal: 12.3s\tremaining: 2.22s\n",
      "847:\tlearn: 0.3420240\ttotal: 12.3s\tremaining: 2.21s\n",
      "848:\tlearn: 0.3419333\ttotal: 12.3s\tremaining: 2.19s\n",
      "849:\tlearn: 0.3418708\ttotal: 12.4s\tremaining: 2.18s\n",
      "850:\tlearn: 0.3417836\ttotal: 12.4s\tremaining: 2.17s\n",
      "851:\tlearn: 0.3417110\ttotal: 12.4s\tremaining: 2.15s\n",
      "852:\tlearn: 0.3416114\ttotal: 12.4s\tremaining: 2.14s\n",
      "853:\tlearn: 0.3415186\ttotal: 12.4s\tremaining: 2.12s\n",
      "854:\tlearn: 0.3414463\ttotal: 12.4s\tremaining: 2.11s\n",
      "855:\tlearn: 0.3413642\ttotal: 12.4s\tremaining: 2.09s\n",
      "856:\tlearn: 0.3412943\ttotal: 12.5s\tremaining: 2.08s\n",
      "857:\tlearn: 0.3411953\ttotal: 12.5s\tremaining: 2.06s\n",
      "858:\tlearn: 0.3410992\ttotal: 12.5s\tremaining: 2.05s\n",
      "859:\tlearn: 0.3410358\ttotal: 12.5s\tremaining: 2.03s\n",
      "860:\tlearn: 0.3409395\ttotal: 12.5s\tremaining: 2.02s\n",
      "861:\tlearn: 0.3408855\ttotal: 12.5s\tremaining: 2s\n",
      "862:\tlearn: 0.3407646\ttotal: 12.5s\tremaining: 1.99s\n",
      "863:\tlearn: 0.3406610\ttotal: 12.6s\tremaining: 1.98s\n",
      "864:\tlearn: 0.3405908\ttotal: 12.6s\tremaining: 1.96s\n",
      "865:\tlearn: 0.3405372\ttotal: 12.6s\tremaining: 1.95s\n",
      "866:\tlearn: 0.3404639\ttotal: 12.6s\tremaining: 1.93s\n",
      "867:\tlearn: 0.3403693\ttotal: 12.6s\tremaining: 1.92s\n",
      "868:\tlearn: 0.3403017\ttotal: 12.6s\tremaining: 1.9s\n",
      "869:\tlearn: 0.3401973\ttotal: 12.6s\tremaining: 1.89s\n",
      "870:\tlearn: 0.3401608\ttotal: 12.6s\tremaining: 1.87s\n",
      "871:\tlearn: 0.3401104\ttotal: 12.7s\tremaining: 1.86s\n",
      "872:\tlearn: 0.3400141\ttotal: 12.7s\tremaining: 1.84s\n",
      "873:\tlearn: 0.3399277\ttotal: 12.7s\tremaining: 1.83s\n",
      "874:\tlearn: 0.3398678\ttotal: 12.7s\tremaining: 1.81s\n",
      "875:\tlearn: 0.3397785\ttotal: 12.7s\tremaining: 1.8s\n",
      "876:\tlearn: 0.3397332\ttotal: 12.7s\tremaining: 1.78s\n",
      "877:\tlearn: 0.3396437\ttotal: 12.7s\tremaining: 1.77s\n",
      "878:\tlearn: 0.3395448\ttotal: 12.8s\tremaining: 1.76s\n",
      "879:\tlearn: 0.3395155\ttotal: 12.8s\tremaining: 1.74s\n",
      "880:\tlearn: 0.3394414\ttotal: 12.8s\tremaining: 1.73s\n",
      "881:\tlearn: 0.3393451\ttotal: 12.8s\tremaining: 1.71s\n",
      "882:\tlearn: 0.3392635\ttotal: 12.8s\tremaining: 1.7s\n",
      "883:\tlearn: 0.3391812\ttotal: 12.8s\tremaining: 1.68s\n",
      "884:\tlearn: 0.3391130\ttotal: 12.8s\tremaining: 1.67s\n",
      "885:\tlearn: 0.3390429\ttotal: 12.9s\tremaining: 1.65s\n",
      "886:\tlearn: 0.3389831\ttotal: 12.9s\tremaining: 1.64s\n",
      "887:\tlearn: 0.3388996\ttotal: 12.9s\tremaining: 1.62s\n",
      "888:\tlearn: 0.3387618\ttotal: 12.9s\tremaining: 1.61s\n",
      "889:\tlearn: 0.3386947\ttotal: 12.9s\tremaining: 1.59s\n",
      "890:\tlearn: 0.3386034\ttotal: 12.9s\tremaining: 1.58s\n",
      "891:\tlearn: 0.3385357\ttotal: 12.9s\tremaining: 1.57s\n",
      "892:\tlearn: 0.3384375\ttotal: 12.9s\tremaining: 1.55s\n",
      "893:\tlearn: 0.3383147\ttotal: 13s\tremaining: 1.54s\n",
      "894:\tlearn: 0.3382220\ttotal: 13s\tremaining: 1.52s\n",
      "895:\tlearn: 0.3381447\ttotal: 13s\tremaining: 1.51s\n",
      "896:\tlearn: 0.3381135\ttotal: 13s\tremaining: 1.49s\n",
      "897:\tlearn: 0.3380111\ttotal: 13s\tremaining: 1.48s\n",
      "898:\tlearn: 0.3379371\ttotal: 13s\tremaining: 1.46s\n",
      "899:\tlearn: 0.3378502\ttotal: 13s\tremaining: 1.45s\n",
      "900:\tlearn: 0.3377790\ttotal: 13.1s\tremaining: 1.43s\n",
      "901:\tlearn: 0.3376784\ttotal: 13.1s\tremaining: 1.42s\n",
      "902:\tlearn: 0.3375979\ttotal: 13.1s\tremaining: 1.41s\n",
      "903:\tlearn: 0.3375623\ttotal: 13.1s\tremaining: 1.39s\n",
      "904:\tlearn: 0.3374773\ttotal: 13.1s\tremaining: 1.38s\n",
      "905:\tlearn: 0.3373979\ttotal: 13.1s\tremaining: 1.36s\n",
      "906:\tlearn: 0.3373392\ttotal: 13.1s\tremaining: 1.35s\n",
      "907:\tlearn: 0.3372225\ttotal: 13.2s\tremaining: 1.33s\n",
      "908:\tlearn: 0.3371306\ttotal: 13.2s\tremaining: 1.32s\n",
      "909:\tlearn: 0.3370749\ttotal: 13.2s\tremaining: 1.3s\n",
      "910:\tlearn: 0.3370274\ttotal: 13.2s\tremaining: 1.29s\n",
      "911:\tlearn: 0.3369730\ttotal: 13.2s\tremaining: 1.27s\n",
      "912:\tlearn: 0.3368604\ttotal: 13.2s\tremaining: 1.26s\n",
      "913:\tlearn: 0.3367703\ttotal: 13.2s\tremaining: 1.25s\n",
      "914:\tlearn: 0.3366656\ttotal: 13.3s\tremaining: 1.23s\n",
      "915:\tlearn: 0.3366267\ttotal: 13.3s\tremaining: 1.22s\n",
      "916:\tlearn: 0.3365265\ttotal: 13.3s\tremaining: 1.2s\n",
      "917:\tlearn: 0.3364680\ttotal: 13.3s\tremaining: 1.19s\n",
      "918:\tlearn: 0.3364013\ttotal: 13.3s\tremaining: 1.17s\n",
      "919:\tlearn: 0.3363312\ttotal: 13.3s\tremaining: 1.16s\n",
      "920:\tlearn: 0.3362264\ttotal: 13.3s\tremaining: 1.14s\n",
      "921:\tlearn: 0.3361494\ttotal: 13.3s\tremaining: 1.13s\n",
      "922:\tlearn: 0.3360586\ttotal: 13.4s\tremaining: 1.11s\n",
      "923:\tlearn: 0.3360090\ttotal: 13.4s\tremaining: 1.1s\n",
      "924:\tlearn: 0.3358881\ttotal: 13.4s\tremaining: 1.08s\n",
      "925:\tlearn: 0.3358289\ttotal: 13.4s\tremaining: 1.07s\n",
      "926:\tlearn: 0.3357907\ttotal: 13.4s\tremaining: 1.06s\n",
      "927:\tlearn: 0.3357509\ttotal: 13.4s\tremaining: 1.04s\n",
      "928:\tlearn: 0.3356771\ttotal: 13.4s\tremaining: 1.03s\n",
      "929:\tlearn: 0.3355963\ttotal: 13.5s\tremaining: 1.01s\n",
      "930:\tlearn: 0.3355187\ttotal: 13.5s\tremaining: 998ms\n",
      "931:\tlearn: 0.3354760\ttotal: 13.5s\tremaining: 984ms\n",
      "932:\tlearn: 0.3354298\ttotal: 13.5s\tremaining: 969ms\n",
      "933:\tlearn: 0.3353098\ttotal: 13.5s\tremaining: 955ms\n",
      "934:\tlearn: 0.3352088\ttotal: 13.5s\tremaining: 940ms\n",
      "935:\tlearn: 0.3351309\ttotal: 13.5s\tremaining: 926ms\n",
      "936:\tlearn: 0.3349981\ttotal: 13.6s\tremaining: 911ms\n",
      "937:\tlearn: 0.3349142\ttotal: 13.6s\tremaining: 897ms\n",
      "938:\tlearn: 0.3348383\ttotal: 13.6s\tremaining: 883ms\n",
      "939:\tlearn: 0.3347420\ttotal: 13.6s\tremaining: 868ms\n",
      "940:\tlearn: 0.3346969\ttotal: 13.6s\tremaining: 854ms\n",
      "941:\tlearn: 0.3346333\ttotal: 13.6s\tremaining: 840ms\n",
      "942:\tlearn: 0.3345511\ttotal: 13.7s\tremaining: 825ms\n",
      "943:\tlearn: 0.3344684\ttotal: 13.7s\tremaining: 811ms\n",
      "944:\tlearn: 0.3344022\ttotal: 13.7s\tremaining: 796ms\n",
      "945:\tlearn: 0.3343366\ttotal: 13.7s\tremaining: 782ms\n",
      "946:\tlearn: 0.3342419\ttotal: 13.7s\tremaining: 768ms\n",
      "947:\tlearn: 0.3341723\ttotal: 13.7s\tremaining: 753ms\n",
      "948:\tlearn: 0.3340822\ttotal: 13.8s\tremaining: 739ms\n",
      "949:\tlearn: 0.3340195\ttotal: 13.8s\tremaining: 725ms\n",
      "950:\tlearn: 0.3339050\ttotal: 13.8s\tremaining: 710ms\n",
      "951:\tlearn: 0.3338397\ttotal: 13.8s\tremaining: 696ms\n",
      "952:\tlearn: 0.3337833\ttotal: 13.8s\tremaining: 681ms\n",
      "953:\tlearn: 0.3337299\ttotal: 13.8s\tremaining: 667ms\n",
      "954:\tlearn: 0.3336900\ttotal: 13.8s\tremaining: 652ms\n",
      "955:\tlearn: 0.3336015\ttotal: 13.9s\tremaining: 638ms\n",
      "956:\tlearn: 0.3335705\ttotal: 13.9s\tremaining: 623ms\n",
      "957:\tlearn: 0.3334846\ttotal: 13.9s\tremaining: 608ms\n",
      "958:\tlearn: 0.3334173\ttotal: 13.9s\tremaining: 594ms\n",
      "959:\tlearn: 0.3333731\ttotal: 13.9s\tremaining: 579ms\n",
      "960:\tlearn: 0.3332632\ttotal: 13.9s\tremaining: 565ms\n",
      "961:\tlearn: 0.3331830\ttotal: 13.9s\tremaining: 550ms\n",
      "962:\tlearn: 0.3330787\ttotal: 13.9s\tremaining: 536ms\n",
      "963:\tlearn: 0.3330211\ttotal: 14s\tremaining: 521ms\n",
      "964:\tlearn: 0.3329722\ttotal: 14s\tremaining: 507ms\n",
      "965:\tlearn: 0.3329191\ttotal: 14s\tremaining: 492ms\n",
      "966:\tlearn: 0.3328760\ttotal: 14s\tremaining: 478ms\n",
      "967:\tlearn: 0.3327800\ttotal: 14s\tremaining: 463ms\n",
      "968:\tlearn: 0.3326923\ttotal: 14s\tremaining: 449ms\n",
      "969:\tlearn: 0.3326510\ttotal: 14s\tremaining: 434ms\n",
      "970:\tlearn: 0.3325904\ttotal: 14.1s\tremaining: 420ms\n",
      "971:\tlearn: 0.3324906\ttotal: 14.1s\tremaining: 405ms\n",
      "972:\tlearn: 0.3323618\ttotal: 14.1s\tremaining: 391ms\n",
      "973:\tlearn: 0.3322893\ttotal: 14.1s\tremaining: 376ms\n",
      "974:\tlearn: 0.3322102\ttotal: 14.1s\tremaining: 362ms\n",
      "975:\tlearn: 0.3321347\ttotal: 14.1s\tremaining: 347ms\n",
      "976:\tlearn: 0.3320445\ttotal: 14.1s\tremaining: 333ms\n",
      "977:\tlearn: 0.3319122\ttotal: 14.1s\tremaining: 318ms\n",
      "978:\tlearn: 0.3318216\ttotal: 14.2s\tremaining: 304ms\n",
      "979:\tlearn: 0.3317896\ttotal: 14.2s\tremaining: 289ms\n",
      "980:\tlearn: 0.3317198\ttotal: 14.2s\tremaining: 275ms\n",
      "981:\tlearn: 0.3316174\ttotal: 14.2s\tremaining: 260ms\n",
      "982:\tlearn: 0.3315308\ttotal: 14.2s\tremaining: 246ms\n",
      "983:\tlearn: 0.3314515\ttotal: 14.2s\tremaining: 231ms\n",
      "984:\tlearn: 0.3313803\ttotal: 14.2s\tremaining: 217ms\n",
      "985:\tlearn: 0.3312920\ttotal: 14.2s\tremaining: 202ms\n",
      "986:\tlearn: 0.3312578\ttotal: 14.3s\tremaining: 188ms\n",
      "987:\tlearn: 0.3311832\ttotal: 14.3s\tremaining: 173ms\n",
      "988:\tlearn: 0.3310880\ttotal: 14.3s\tremaining: 159ms\n",
      "989:\tlearn: 0.3310281\ttotal: 14.3s\tremaining: 144ms\n",
      "990:\tlearn: 0.3309355\ttotal: 14.3s\tremaining: 130ms\n",
      "991:\tlearn: 0.3308336\ttotal: 14.3s\tremaining: 116ms\n",
      "992:\tlearn: 0.3307568\ttotal: 14.3s\tremaining: 101ms\n",
      "993:\tlearn: 0.3306812\ttotal: 14.4s\tremaining: 86.7ms\n",
      "994:\tlearn: 0.3306110\ttotal: 14.4s\tremaining: 72.2ms\n",
      "995:\tlearn: 0.3305343\ttotal: 14.4s\tremaining: 57.8ms\n",
      "996:\tlearn: 0.3304495\ttotal: 14.4s\tremaining: 43.3ms\n",
      "997:\tlearn: 0.3304222\ttotal: 14.4s\tremaining: 28.9ms\n",
      "998:\tlearn: 0.3303761\ttotal: 14.4s\tremaining: 14.4ms\n",
      "999:\tlearn: 0.3303055\ttotal: 14.4s\tremaining: 0us\n"
     ]
    }
   ],
   "source": [
    "import pandas as pd \n",
    "import numpy as np \n",
    "from sklearn.model_selection import train_test_split, KFold, GridSearchCV\n",
    "from sklearn.metrics import make_scorer, accuracy_score, hamming_loss, zero_one_loss\n",
    "from skmultilearn.problem_transform import ClassifierChain\n",
    "from catboost import CatBoostClassifier, Pool, CatBoost\n",
    "from pandas import DataFrame\n",
    "import csv\n",
    "\n",
    "nafactor_train = pd.read_csv('C:/Users/iyuo1/OneDrive/Documents/P-SAT/주제분석/백신 주제/Label_encdoing/nafactor_train.csv')\n",
    "nafactor_test = pd.read_csv('C:/Users/iyuo1/OneDrive/Documents/P-SAT/주제분석/백신 주제/Label_encdoing/nafactor_test.csv')\n",
    "\n",
    "nafactor_train = nafactor_train.drop(['respondent_id','X'],axis=1)\n",
    "nafactor_test = nafactor_test.drop(['respondent_id'], axis=1)\n",
    "nafactor_test = np.array(nafactor_test)\n",
    "\n",
    "y = nafactor_train[['h1n1_vaccine','seasonal_vaccine']]\n",
    "x = nafactor_train.drop(['h1n1_vaccine','seasonal_vaccine'],axis=1)\n",
    "\n",
    "y = np.array(y, dtype=float)\n",
    "x = np.array(x, dtype=float)\n",
    "\n",
    "train_x, val_x , train_y, val_y = train_test_split(x, y, test_size = 0.2)\n",
    "\n",
    "classifier = ClassifierChain(CatBoostClassifier())\n",
    "\n",
    "classifier.fit(train_x, train_y)\n",
    "\n",
    "predictions = classifier.predict(nafactor_test)\n",
    "test_y = classifier.predict_proba(nafactor_test)\n",
    "test_y = test_y.toarray()\n",
    "test_y = DataFrame(test_y)\n",
    "test_y.columns = ['h1n1_vaccine', 'seasonal_vaccine']\n",
    "\n",
    "pd.DataFrame(test_y).to_csv(\"C:/Users/iyuo1/OneDrive/Documents/P-SAT/주제분석/백신 주제/Label_encdoing/result_nafactor.csv\")"
   ]
  },
  {
   "cell_type": "code",
   "execution_count": 5,
   "metadata": {},
   "outputs": [
    {
     "name": "stdout",
     "output_type": "stream",
     "text": [
      "Accuracy =  0.6946836390864845\n",
      "Hamming loss =  0.18139273680269563\n",
      "zero_one_loss =  0.30531636091351555\n"
     ]
    }
   ],
   "source": [
    "predictions = classifier.predict(val_x)\n",
    "\n",
    "print(\"Accuracy = \",accuracy_score(val_y, predictions))\n",
    "print(\"Hamming loss = \",hamming_loss(val_y, predictions))\n",
    "print(\"zero_one_loss = \",zero_one_loss(val_y, predictions))"
   ]
  },
  {
   "cell_type": "markdown",
   "metadata": {},
   "source": [
    "## knn - Classifierchain"
   ]
  },
  {
   "cell_type": "code",
   "execution_count": null,
   "metadata": {},
   "outputs": [],
   "source": [
    "knn_train = pd.read_csv('C:/Users/iyuo1/OneDrive/Documents/P-SAT/주제분석/백신 주제/Label_encdoing/knn_train.csv')\n",
    "knn_test = pd.read_csv('C:/Users/iyuo1/OneDrive/Documents/P-SAT/주제분석/백신 주제/Label_encdoing/knn_test.csv')\n",
    "\n",
    "knn_train = knn_train.drop(['respondent_id'],axis=1)\n",
    "knn_test = knn_test.drop(['respondent_id'], axis=1)\n",
    "knn_test = np.array(knn_test, dtype = float)\n",
    "\n",
    "y = knn_train[['h1n1_vaccine','seasonal_vaccine']]\n",
    "x = knn_train.drop(['h1n1_vaccine','seasonal_vaccine'],axis=1)\n",
    "\n",
    "x = np.array(x,dtype=float)\n",
    "y = np.array(y,dtype=float)\n",
    "val\n",
    "train_x, val_x , train_y, val_y = train_test_split(x, y, test_size = 0.2)\n",
    "\n",
    "classifier = ClassifierChain(CatBoostClassifier())\n",
    "\n",
    "classifier.fit(train_x, train_y)\n",
    "\n",
    "predictions = classifier.predict(knn_test)\n",
    "test_y = classifier.predict_proba(knn_test)\n",
    "test_y = test_y.toarray()\n",
    "test_y = DataFrame(test_y)\n",
    "test_y.columns = ['h1n1_vaccine', 'seasonal_vaccine']\n",
    "\n",
    "pd.DataFrame(test_y).to_csv(\"C:/Users/iyuo1/OneDrive/Documents/P-SAT/주제분석/백신 주제/Label_encdoing/result_knn.csv\")"
   ]
  },
  {
   "cell_type": "code",
   "execution_count": null,
   "metadata": {},
   "outputs": [],
   "source": [
    "## hotdeck - Classifierchain\n",
    "hotdeck_train = pd.read_csv('C:/Users/iyuo1/OneDrive/Documents/P-SAT/주제분석/백신 주제/Label_encdoing/hotdeck_train.csv')\n",
    "hotdeck_test = pd.read_csv('C:/Users/iyuo1/OneDrive/Documents/P-SAT/주제분석/백신 주제/Label_encdoing/hotdeck_test.csv')\n",
    "\n",
    "hotdeck_train = hotdeck_train.drop(['respondent_id','X'],axis=1)\n",
    "hotdeck_test = hotdeck_test.drop(['respondent_id'], axis=1)\n",
    "hotdeck_test = np.array(hotdeck_test, dtype=float)\n",
    "\n",
    "y = hotdeck_train[['h1n1_vaccine','seasonal_vaccine']]\n",
    "x = hotdeck_train.drop(['h1n1_vaccine','seasonal_vaccine'],axis=1)\n",
    "\n",
    "x = np.array(x,dtype=float)\n",
    "y = np.array(y,dtype=float)\n",
    "                     \n",
    "train_x, val_x , train_y, val_y = train_test_split(x, y, test_size = 0.2)\n",
    "                        \n",
    "classifier = ClassifierChain(CatBoostClassifier())\n",
    "                        \n",
    "classifier.fit(train_x, train_y) \n",
    "                        \n",
    "predictions = classifier.predict(hotdeck_test)\n",
    "test_y = classifier.predict_proba(hotdeck_test)\n",
    "test_y = test_y.toarray()\n",
    "test_y = DataFrame(test_y)\n",
    "test_y.columns = ['h1n1_vaccine', 'seasonal_vaccine']\n",
    "                        \n",
    "pd.DataFrame(test_y).to_csv(\"C:/Users/iyuo1/OneDrive/Documents/P-SAT/주제분석/백신 주제/Label_encdoing/result_hotdeck.csv\")"
   ]
  },
  {
   "cell_type": "code",
   "execution_count": null,
   "metadata": {},
   "outputs": [],
   "source": [
    "## mice - Classifierchain\n",
    "mice_train = pd.read_csv('C:/Users/iyuo1/OneDrive/Documents/P-SAT/주제분석/백신 주제/Label_encdoing/mice_train.csv')\n",
    "mice_test = pd.read_csv('C:/Users/iyuo1/OneDrive/Documents/P-SAT/주제분석/백신 주제/Label_encdoing/mice_test.csv')\n",
    "\n",
    "mice_train = mice_train.drop(['respondent_id'],axis=1)\n",
    "mice_test = mice_test.drop(['respondent_id'], axis=1)\n",
    "mice_test = np.array(mice_test, dtype=float)\n",
    "\n",
    "\n",
    "y = mice_train[['h1n1_vaccine','seasonal_vaccine']]\n",
    "x = mice_train.drop(['h1n1_vaccine','seasonal_vaccine'],axis=1)\n",
    "\n",
    "x = np.array(x,dtype=float)\n",
    "y = np.array(y,dtype=float)\n",
    "\n",
    "train_x, val_x , train_y, val_y = train_test_split(x, y, test_size = 0.2)\n",
    "\n",
    "classifier = ClassifierChain(CatBoostClassifier())\n",
    "\n",
    "classifier.fit(train_x, train_y)\n",
    "\n",
    "predictions = classifier.predict(mice_test)\n",
    "test_y = classifier.predict_proba(mice_test)\n",
    "test_y = test_y.toarray()\n",
    "test_y = DataFrame(test_y)\n",
    "test_y.columns = ['h1n1_vaccine', 'seasonal_vaccine']\n",
    "\n",
    "pd.DataFrame(test_y).to_csv(\"C:/Users/iyuo1/OneDrive/Documents/P-SAT/주제분석/백신 주제/Label_encdoing/result_mice.csv\")"
   ]
  },
  {
   "cell_type": "code",
   "execution_count": 1,
   "metadata": {},
   "outputs": [],
   "source": [
    "import pandas as pd \n",
    "import numpy as np \n",
    "from sklearn.model_selection import train_test_split, KFold, GridSearchCV\n",
    "from sklearn.metrics import make_scorer, accuracy_score, hamming_loss\n",
    "from skmultilearn.problem_transform import ClassifierChain\n",
    "from catboost import CatBoostClassifier, Pool, CatBoost, cv\n",
    "from pandas import DataFrame\n",
    "import csv\n",
    "\n",
    "nafactor_train = pd.read_csv('C:/Users/iyuo1/OneDrive/Documents/P-SAT/주제분석/백신 주제/Label_encdoing/nafactor_train.csv')\n",
    "nafactor_test = pd.read_csv('C:/Users/iyuo1/OneDrive/Documents/P-SAT/주제분석/백신 주제/Label_encdoing/nafactor_test.csv')\n",
    "\n",
    "nafactor_train = nafactor_train.drop(['respondent_id','X'],axis=1)\n",
    "nafactor_test = nafactor_test.drop(['respondent_id'], axis=1)\n",
    "nafactor_test = np.array(nafactor_test)\n",
    "\n",
    "y = nafactor_train[['h1n1_vaccine','seasonal_vaccine']]\n",
    "x = nafactor_train.drop(['h1n1_vaccine','seasonal_vaccine'],axis=1)\n",
    "\n",
    "train_x, val_x , train_y, val_y = train_test_split(x, y, test_size = 0.2)\n",
    "categorical_features_indices = np.where(train_x.dtypes != float)[0]\n",
    "\n",
    "classifier = ClassifierChain(CatBoostClassifier())"
   ]
  },
  {
   "cell_type": "markdown",
   "metadata": {},
   "source": [
    "## First part"
   ]
  },
  {
   "cell_type": "code",
   "execution_count": 2,
   "metadata": {},
   "outputs": [],
   "source": [
    "train_dataset = Pool(data=train_x,\n",
    "                     label=train_y.h1n1_vaccine,\n",
    "                     cat_features = categorical_features_indices)"
   ]
  },
  {
   "cell_type": "code",
   "execution_count": 3,
   "metadata": {},
   "outputs": [],
   "source": [
    "def objective(trial):\n",
    "    param = {\n",
    "        'iterations':trial.suggest_categorical('iterations', [100,200,300,500,1000,1200,1500]),\n",
    "        'learning_rate':trial.suggest_float(\"learning_rate\", 0.001, 0.3),\n",
    "        'random_strength':trial.suggest_int(\"random_strength\", 1,10),\n",
    "        'bagging_temperature':trial.suggest_int(\"bagging_temperature\", 0,10),\n",
    "        'max_bin':trial.suggest_categorical('max_bin', [4,5,6,8,10,20,30]),\n",
    "        'grow_policy':trial.suggest_categorical('grow_policy', ['SymmetricTree', 'Depthwise', 'Lossguide']),\n",
    "        'min_data_in_leaf':trial.suggest_int(\"min_data_in_leaf\", 1,10),\n",
    "        'od_type' : \"Iter\",\n",
    "        'od_wait' : 100,\n",
    "        \"depth\": trial.suggest_int(\"max_depth\", 2,10),\n",
    "        \"l2_leaf_reg\": trial.suggest_loguniform(\"l2_leaf_reg\", 1e-8, 100),\n",
    "         'one_hot_max_size':trial.suggest_categorical('one_hot_max_size', [5,10,12,100,500,1024]),\n",
    "        'custom_metric' : ['AUC'],\n",
    "        \"loss_function\": \"Logloss\",\n",
    "        'auto_class_weights':trial.suggest_categorical('auto_class_weights', ['Balanced', 'SqrtBalanced']),\n",
    "        }\n",
    "\n",
    "    scores = cv(train_dataset,\n",
    "            param,\n",
    "            fold_count=5, \n",
    "            early_stopping_rounds=10,         \n",
    "            plot=False, verbose=False)\n",
    "\n",
    "    return scores['test-AUC-mean'].max()"
   ]
  },
  {
   "cell_type": "code",
   "execution_count": 4,
   "metadata": {
    "scrolled": true
   },
   "outputs": [
    {
     "name": "stderr",
     "output_type": "stream",
     "text": [
      "\u001b[32m[I 2021-05-09 00:03:29,788]\u001b[0m A new study created in memory with name: no-name-8d3a7758-b4fc-44ef-8191-2987ce32f9bd\u001b[0m\n",
      "\u001b[32m[I 2021-05-09 00:04:18,823]\u001b[0m Trial 0 finished with value: 0.8667579471067844 and parameters: {'iterations': 1500, 'learning_rate': 0.029356482739949695, 'random_strength': 8, 'bagging_temperature': 10, 'max_bin': 6, 'grow_policy': 'SymmetricTree', 'min_data_in_leaf': 1, 'max_depth': 4, 'l2_leaf_reg': 0.001991194871120998, 'one_hot_max_size': 100, 'auto_class_weights': 'SqrtBalanced'}. Best is trial 0 with value: 0.8667579471067844.\u001b[0m\n"
     ]
    },
    {
     "name": "stdout",
     "output_type": "stream",
     "text": [
      "Stopped by overfitting detector  (10 iterations wait)\n"
     ]
    },
    {
     "name": "stderr",
     "output_type": "stream",
     "text": [
      "\u001b[32m[I 2021-05-09 00:04:30,557]\u001b[0m Trial 1 finished with value: 0.8655665419461082 and parameters: {'iterations': 200, 'learning_rate': 0.1464067066361795, 'random_strength': 10, 'bagging_temperature': 3, 'max_bin': 10, 'grow_policy': 'Depthwise', 'min_data_in_leaf': 1, 'max_depth': 3, 'l2_leaf_reg': 0.028402775147703313, 'one_hot_max_size': 500, 'auto_class_weights': 'SqrtBalanced'}. Best is trial 0 with value: 0.8667579471067844.\u001b[0m\n"
     ]
    },
    {
     "name": "stdout",
     "output_type": "stream",
     "text": [
      "Stopped by overfitting detector  (10 iterations wait)\n"
     ]
    },
    {
     "name": "stderr",
     "output_type": "stream",
     "text": [
      "\u001b[32m[I 2021-05-09 00:04:49,467]\u001b[0m Trial 2 finished with value: 0.8615670873708966 and parameters: {'iterations': 200, 'learning_rate': 0.27287829596201946, 'random_strength': 8, 'bagging_temperature': 8, 'max_bin': 10, 'grow_policy': 'SymmetricTree', 'min_data_in_leaf': 1, 'max_depth': 5, 'l2_leaf_reg': 0.027330135035255495, 'one_hot_max_size': 10, 'auto_class_weights': 'SqrtBalanced'}. Best is trial 0 with value: 0.8667579471067844.\u001b[0m\n"
     ]
    },
    {
     "name": "stdout",
     "output_type": "stream",
     "text": [
      "Stopped by overfitting detector  (10 iterations wait)\n"
     ]
    },
    {
     "name": "stderr",
     "output_type": "stream",
     "text": [
      "\u001b[32m[I 2021-05-09 00:06:02,235]\u001b[0m Trial 3 finished with value: 0.8653121949961629 and parameters: {'iterations': 1200, 'learning_rate': 0.0603209284932487, 'random_strength': 3, 'bagging_temperature': 7, 'max_bin': 4, 'grow_policy': 'SymmetricTree', 'min_data_in_leaf': 2, 'max_depth': 2, 'l2_leaf_reg': 1.300471404766049e-07, 'one_hot_max_size': 10, 'auto_class_weights': 'SqrtBalanced'}. Best is trial 0 with value: 0.8667579471067844.\u001b[0m\n"
     ]
    },
    {
     "name": "stdout",
     "output_type": "stream",
     "text": [
      "Stopped by overfitting detector  (10 iterations wait)\n"
     ]
    },
    {
     "name": "stderr",
     "output_type": "stream",
     "text": [
      "\u001b[32m[I 2021-05-09 00:06:12,110]\u001b[0m Trial 4 finished with value: 0.8625647793566472 and parameters: {'iterations': 300, 'learning_rate': 0.22423670437233847, 'random_strength': 6, 'bagging_temperature': 2, 'max_bin': 30, 'grow_policy': 'SymmetricTree', 'min_data_in_leaf': 4, 'max_depth': 4, 'l2_leaf_reg': 0.00010293033487726667, 'one_hot_max_size': 500, 'auto_class_weights': 'SqrtBalanced'}. Best is trial 0 with value: 0.8667579471067844.\u001b[0m\n"
     ]
    },
    {
     "name": "stdout",
     "output_type": "stream",
     "text": [
      "Stopped by overfitting detector  (10 iterations wait)\n"
     ]
    },
    {
     "name": "stderr",
     "output_type": "stream",
     "text": [
      "\u001b[32m[I 2021-05-09 00:06:18,099]\u001b[0m Trial 5 finished with value: 0.8525580663060441 and parameters: {'iterations': 100, 'learning_rate': 0.06628011038512191, 'random_strength': 4, 'bagging_temperature': 4, 'max_bin': 20, 'grow_policy': 'Lossguide', 'min_data_in_leaf': 3, 'max_depth': 2, 'l2_leaf_reg': 13.751833235431702, 'one_hot_max_size': 100, 'auto_class_weights': 'Balanced'}. Best is trial 0 with value: 0.8667579471067844.\u001b[0m\n",
      "\u001b[32m[I 2021-05-09 00:07:24,441]\u001b[0m Trial 6 finished with value: 0.8641436742141033 and parameters: {'iterations': 1200, 'learning_rate': 0.09658215406978513, 'random_strength': 8, 'bagging_temperature': 2, 'max_bin': 30, 'grow_policy': 'Depthwise', 'min_data_in_leaf': 6, 'max_depth': 10, 'l2_leaf_reg': 2.6558249848041764, 'one_hot_max_size': 5, 'auto_class_weights': 'SqrtBalanced'}. Best is trial 0 with value: 0.8667579471067844.\u001b[0m\n"
     ]
    },
    {
     "name": "stdout",
     "output_type": "stream",
     "text": [
      "Stopped by overfitting detector  (10 iterations wait)\n"
     ]
    },
    {
     "name": "stderr",
     "output_type": "stream",
     "text": [
      "\u001b[32m[I 2021-05-09 00:07:36,686]\u001b[0m Trial 7 finished with value: 0.864439897478821 and parameters: {'iterations': 500, 'learning_rate': 0.2714096381817127, 'random_strength': 4, 'bagging_temperature': 6, 'max_bin': 8, 'grow_policy': 'Depthwise', 'min_data_in_leaf': 1, 'max_depth': 2, 'l2_leaf_reg': 4.9369231964322795, 'one_hot_max_size': 1024, 'auto_class_weights': 'Balanced'}. Best is trial 0 with value: 0.8667579471067844.\u001b[0m\n"
     ]
    },
    {
     "name": "stdout",
     "output_type": "stream",
     "text": [
      "Stopped by overfitting detector  (10 iterations wait)\n"
     ]
    },
    {
     "name": "stderr",
     "output_type": "stream",
     "text": [
      "\u001b[32m[I 2021-05-09 00:07:46,053]\u001b[0m Trial 8 finished with value: 0.8620571198892539 and parameters: {'iterations': 1500, 'learning_rate': 0.2053434310118264, 'random_strength': 8, 'bagging_temperature': 0, 'max_bin': 20, 'grow_policy': 'Depthwise', 'min_data_in_leaf': 10, 'max_depth': 3, 'l2_leaf_reg': 9.501510078266123e-06, 'one_hot_max_size': 500, 'auto_class_weights': 'SqrtBalanced'}. Best is trial 0 with value: 0.8667579471067844.\u001b[0m\n"
     ]
    },
    {
     "name": "stdout",
     "output_type": "stream",
     "text": [
      "Stopped by overfitting detector  (10 iterations wait)\n"
     ]
    },
    {
     "name": "stderr",
     "output_type": "stream",
     "text": [
      "\u001b[32m[I 2021-05-09 00:08:41,358]\u001b[0m Trial 9 finished with value: 0.8540077123190717 and parameters: {'iterations': 100, 'learning_rate': 0.25900665720714294, 'random_strength': 3, 'bagging_temperature': 0, 'max_bin': 6, 'grow_policy': 'Lossguide', 'min_data_in_leaf': 8, 'max_depth': 7, 'l2_leaf_reg': 1.1694576328936887e-07, 'one_hot_max_size': 12, 'auto_class_weights': 'SqrtBalanced'}. Best is trial 0 with value: 0.8667579471067844.\u001b[0m\n"
     ]
    },
    {
     "name": "stdout",
     "output_type": "stream",
     "text": [
      "Stopped by overfitting detector  (10 iterations wait)\n"
     ]
    },
    {
     "name": "stderr",
     "output_type": "stream",
     "text": [
      "\u001b[32m[I 2021-05-09 00:08:47,912]\u001b[0m Trial 10 finished with value: 0.8491470713213728 and parameters: {'iterations': 1000, 'learning_rate': 0.13021330281938878, 'random_strength': 10, 'bagging_temperature': 10, 'max_bin': 5, 'grow_policy': 'SymmetricTree', 'min_data_in_leaf': 5, 'max_depth': 7, 'l2_leaf_reg': 0.006320659045579619, 'one_hot_max_size': 100, 'auto_class_weights': 'Balanced'}. Best is trial 0 with value: 0.8667579471067844.\u001b[0m\n"
     ]
    },
    {
     "name": "stdout",
     "output_type": "stream",
     "text": [
      "Stopped by overfitting detector  (10 iterations wait)\n"
     ]
    },
    {
     "name": "stderr",
     "output_type": "stream",
     "text": [
      "\u001b[32m[I 2021-05-09 00:09:05,838]\u001b[0m Trial 11 finished with value: 0.8465270364919469 and parameters: {'iterations': 200, 'learning_rate': 0.007003502778250969, 'random_strength': 10, 'bagging_temperature': 4, 'max_bin': 6, 'grow_policy': 'Depthwise', 'min_data_in_leaf': 1, 'max_depth': 5, 'l2_leaf_reg': 0.17390750210585448, 'one_hot_max_size': 500, 'auto_class_weights': 'SqrtBalanced'}. Best is trial 0 with value: 0.8667579471067844.\u001b[0m\n",
      "\u001b[32m[I 2021-05-09 00:10:38,157]\u001b[0m Trial 12 finished with value: 0.8597262642675647 and parameters: {'iterations': 1500, 'learning_rate': 0.006770544987418692, 'random_strength': 10, 'bagging_temperature': 10, 'max_bin': 10, 'grow_policy': 'SymmetricTree', 'min_data_in_leaf': 3, 'max_depth': 4, 'l2_leaf_reg': 0.00023247615720569417, 'one_hot_max_size': 100, 'auto_class_weights': 'SqrtBalanced'}. Best is trial 0 with value: 0.8667579471067844.\u001b[0m\n",
      "\u001b[32m[I 2021-05-09 00:11:01,255]\u001b[0m Trial 13 finished with value: 0.8610830336072113 and parameters: {'iterations': 1500, 'learning_rate': 0.18528916920645197, 'random_strength': 7, 'bagging_temperature': 2, 'max_bin': 10, 'grow_policy': 'Depthwise', 'min_data_in_leaf': 1, 'max_depth': 6, 'l2_leaf_reg': 0.11557681396437607, 'one_hot_max_size': 12, 'auto_class_weights': 'SqrtBalanced'}. Best is trial 0 with value: 0.8667579471067844.\u001b[0m\n"
     ]
    },
    {
     "name": "stdout",
     "output_type": "stream",
     "text": [
      "Stopped by overfitting detector  (10 iterations wait)\n"
     ]
    },
    {
     "name": "stderr",
     "output_type": "stream",
     "text": [
      "\u001b[32m[I 2021-05-09 00:11:40,528]\u001b[0m Trial 14 finished with value: 0.866189316548222 and parameters: {'iterations': 200, 'learning_rate': 0.13899016070335465, 'random_strength': 1, 'bagging_temperature': 4, 'max_bin': 6, 'grow_policy': 'Lossguide', 'min_data_in_leaf': 7, 'max_depth': 3, 'l2_leaf_reg': 6.768126159363264e-06, 'one_hot_max_size': 5, 'auto_class_weights': 'SqrtBalanced'}. Best is trial 0 with value: 0.8667579471067844.\u001b[0m\n"
     ]
    },
    {
     "name": "stdout",
     "output_type": "stream",
     "text": [
      "Stopped by overfitting detector  (10 iterations wait)\n"
     ]
    },
    {
     "name": "stderr",
     "output_type": "stream",
     "text": [
      "\u001b[32m[I 2021-05-09 00:13:02,102]\u001b[0m Trial 15 finished with value: 0.8670560981622888 and parameters: {'iterations': 200, 'learning_rate': 0.06169201504423085, 'random_strength': 1, 'bagging_temperature': 8, 'max_bin': 6, 'grow_policy': 'Lossguide', 'min_data_in_leaf': 7, 'max_depth': 4, 'l2_leaf_reg': 1.5911488211061805e-06, 'one_hot_max_size': 5, 'auto_class_weights': 'SqrtBalanced'}. Best is trial 15 with value: 0.8670560981622888.\u001b[0m\n",
      "\u001b[32m[I 2021-05-09 00:17:06,761]\u001b[0m Trial 16 finished with value: 0.8646568978548979 and parameters: {'iterations': 1500, 'learning_rate': 0.040286469220681964, 'random_strength': 1, 'bagging_temperature': 9, 'max_bin': 6, 'grow_policy': 'Lossguide', 'min_data_in_leaf': 9, 'max_depth': 9, 'l2_leaf_reg': 1.623464294651309e-08, 'one_hot_max_size': 5, 'auto_class_weights': 'Balanced'}. Best is trial 15 with value: 0.8670560981622888.\u001b[0m\n"
     ]
    },
    {
     "name": "stdout",
     "output_type": "stream",
     "text": [
      "Stopped by overfitting detector  (10 iterations wait)\n"
     ]
    },
    {
     "name": "stderr",
     "output_type": "stream",
     "text": [
      "\u001b[32m[I 2021-05-09 00:17:24,245]\u001b[0m Trial 17 finished with value: 0.8587984287208329 and parameters: {'iterations': 1000, 'learning_rate': 0.09595448974635568, 'random_strength': 6, 'bagging_temperature': 8, 'max_bin': 6, 'grow_policy': 'Lossguide', 'min_data_in_leaf': 7, 'max_depth': 6, 'l2_leaf_reg': 3.150174551151995e-06, 'one_hot_max_size': 1024, 'auto_class_weights': 'SqrtBalanced'}. Best is trial 15 with value: 0.8670560981622888.\u001b[0m\n"
     ]
    },
    {
     "name": "stdout",
     "output_type": "stream",
     "text": [
      "Stopped by overfitting detector  (10 iterations wait)\n"
     ]
    },
    {
     "name": "stderr",
     "output_type": "stream",
     "text": [
      "\u001b[32m[I 2021-05-09 00:17:41,837]\u001b[0m Trial 18 finished with value: 0.8583737388591345 and parameters: {'iterations': 300, 'learning_rate': 0.030005780746003963, 'random_strength': 9, 'bagging_temperature': 9, 'max_bin': 6, 'grow_policy': 'SymmetricTree', 'min_data_in_leaf': 5, 'max_depth': 4, 'l2_leaf_reg': 0.0006182224258213724, 'one_hot_max_size': 100, 'auto_class_weights': 'SqrtBalanced'}. Best is trial 15 with value: 0.8670560981622888.\u001b[0m\n",
      "\u001b[32m[I 2021-05-09 00:19:53,559]\u001b[0m Trial 19 finished with value: 0.8660247003850469 and parameters: {'iterations': 500, 'learning_rate': 0.08273620309992268, 'random_strength': 5, 'bagging_temperature': 6, 'max_bin': 4, 'grow_policy': 'Lossguide', 'min_data_in_leaf': 10, 'max_depth': 5, 'l2_leaf_reg': 6.645264953019137e-07, 'one_hot_max_size': 5, 'auto_class_weights': 'SqrtBalanced'}. Best is trial 15 with value: 0.8670560981622888.\u001b[0m\n"
     ]
    },
    {
     "name": "stdout",
     "output_type": "stream",
     "text": [
      "Stopped by overfitting detector  (10 iterations wait)\n"
     ]
    },
    {
     "name": "stderr",
     "output_type": "stream",
     "text": [
      "\u001b[32m[I 2021-05-09 00:22:09,353]\u001b[0m Trial 20 finished with value: 0.8556966386324121 and parameters: {'iterations': 1500, 'learning_rate': 0.00195667756481983, 'random_strength': 7, 'bagging_temperature': 10, 'max_bin': 5, 'grow_policy': 'SymmetricTree', 'min_data_in_leaf': 8, 'max_depth': 7, 'l2_leaf_reg': 6.476174819201199e-05, 'one_hot_max_size': 100, 'auto_class_weights': 'SqrtBalanced'}. Best is trial 15 with value: 0.8670560981622888.\u001b[0m\n",
      "\u001b[32m[I 2021-05-09 00:22:54,972]\u001b[0m Trial 21 finished with value: 0.8668182975755053 and parameters: {'iterations': 200, 'learning_rate': 0.11359035832342336, 'random_strength': 1, 'bagging_temperature': 5, 'max_bin': 6, 'grow_policy': 'Lossguide', 'min_data_in_leaf': 7, 'max_depth': 3, 'l2_leaf_reg': 1.8282729049333208e-05, 'one_hot_max_size': 5, 'auto_class_weights': 'SqrtBalanced'}. Best is trial 15 with value: 0.8670560981622888.\u001b[0m\n"
     ]
    },
    {
     "name": "stdout",
     "output_type": "stream",
     "text": [
      "Stopped by overfitting detector  (10 iterations wait)\n"
     ]
    },
    {
     "name": "stderr",
     "output_type": "stream",
     "text": [
      "\u001b[32m[I 2021-05-09 00:23:33,637]\u001b[0m Trial 22 finished with value: 0.8670427651561816 and parameters: {'iterations': 200, 'learning_rate': 0.11625942492258959, 'random_strength': 2, 'bagging_temperature': 7, 'max_bin': 6, 'grow_policy': 'Lossguide', 'min_data_in_leaf': 6, 'max_depth': 3, 'l2_leaf_reg': 0.002046363418619519, 'one_hot_max_size': 5, 'auto_class_weights': 'SqrtBalanced'}. Best is trial 15 with value: 0.8670560981622888.\u001b[0m\n"
     ]
    },
    {
     "name": "stdout",
     "output_type": "stream",
     "text": [
      "Stopped by overfitting detector  (10 iterations wait)\n"
     ]
    },
    {
     "name": "stderr",
     "output_type": "stream",
     "text": [
      "\u001b[32m[I 2021-05-09 00:24:19,312]\u001b[0m Trial 23 finished with value: 0.8665825300156159 and parameters: {'iterations': 200, 'learning_rate': 0.11493352228976328, 'random_strength': 2, 'bagging_temperature': 6, 'max_bin': 8, 'grow_policy': 'Lossguide', 'min_data_in_leaf': 6, 'max_depth': 3, 'l2_leaf_reg': 4.135307823625567e-05, 'one_hot_max_size': 5, 'auto_class_weights': 'SqrtBalanced'}. Best is trial 15 with value: 0.8670560981622888.\u001b[0m\n",
      "\u001b[32m[I 2021-05-09 00:24:44,870]\u001b[0m Trial 24 finished with value: 0.8662009076034926 and parameters: {'iterations': 200, 'learning_rate': 0.1718259779835346, 'random_strength': 2, 'bagging_temperature': 7, 'max_bin': 6, 'grow_policy': 'Lossguide', 'min_data_in_leaf': 7, 'max_depth': 2, 'l2_leaf_reg': 8.903761010377126e-07, 'one_hot_max_size': 5, 'auto_class_weights': 'SqrtBalanced'}. Best is trial 15 with value: 0.8670560981622888.\u001b[0m\n",
      "\u001b[32m[I 2021-05-09 00:25:24,410]\u001b[0m Trial 25 finished with value: 0.8673296715228634 and parameters: {'iterations': 200, 'learning_rate': 0.11609849677055184, 'random_strength': 1, 'bagging_temperature': 5, 'max_bin': 6, 'grow_policy': 'Lossguide', 'min_data_in_leaf': 8, 'max_depth': 3, 'l2_leaf_reg': 2.276556042705353e-08, 'one_hot_max_size': 5, 'auto_class_weights': 'SqrtBalanced'}. Best is trial 25 with value: 0.8673296715228634.\u001b[0m\n"
     ]
    },
    {
     "name": "stdout",
     "output_type": "stream",
     "text": [
      "Stopped by overfitting detector  (10 iterations wait)\n"
     ]
    },
    {
     "name": "stderr",
     "output_type": "stream",
     "text": [
      "\u001b[32m[I 2021-05-09 00:27:28,972]\u001b[0m Trial 26 finished with value: 0.8659065710470746 and parameters: {'iterations': 200, 'learning_rate': 0.0721580218656287, 'random_strength': 2, 'bagging_temperature': 7, 'max_bin': 6, 'grow_policy': 'Lossguide', 'min_data_in_leaf': 9, 'max_depth': 5, 'l2_leaf_reg': 1.0003707308011344e-08, 'one_hot_max_size': 5, 'auto_class_weights': 'SqrtBalanced'}. Best is trial 25 with value: 0.8673296715228634.\u001b[0m\n"
     ]
    },
    {
     "name": "stdout",
     "output_type": "stream",
     "text": [
      "Stopped by overfitting detector  (10 iterations wait)\n"
     ]
    },
    {
     "name": "stderr",
     "output_type": "stream",
     "text": [
      "\u001b[32m[I 2021-05-09 00:28:03,020]\u001b[0m Trial 27 finished with value: 0.8652375196472806 and parameters: {'iterations': 200, 'learning_rate': 0.16266670431791078, 'random_strength': 1, 'bagging_temperature': 8, 'max_bin': 6, 'grow_policy': 'Lossguide', 'min_data_in_leaf': 8, 'max_depth': 4, 'l2_leaf_reg': 4.673838914991445e-08, 'one_hot_max_size': 5, 'auto_class_weights': 'Balanced'}. Best is trial 25 with value: 0.8673296715228634.\u001b[0m\n"
     ]
    },
    {
     "name": "stdout",
     "output_type": "stream",
     "text": [
      "Stopped by overfitting detector  (10 iterations wait)\n"
     ]
    },
    {
     "name": "stderr",
     "output_type": "stream",
     "text": [
      "\u001b[32m[I 2021-05-09 00:28:29,481]\u001b[0m Trial 28 finished with value: 0.8648117645028808 and parameters: {'iterations': 200, 'learning_rate': 0.12141295412649399, 'random_strength': 3, 'bagging_temperature': 6, 'max_bin': 8, 'grow_policy': 'Lossguide', 'min_data_in_leaf': 6, 'max_depth': 2, 'l2_leaf_reg': 1.327753780572406e-06, 'one_hot_max_size': 5, 'auto_class_weights': 'SqrtBalanced'}. Best is trial 25 with value: 0.8673296715228634.\u001b[0m\n",
      "\u001b[32m[I 2021-05-09 00:29:51,481]\u001b[0m Trial 29 finished with value: 0.8642580521969231 and parameters: {'iterations': 200, 'learning_rate': 0.04553580437979615, 'random_strength': 2, 'bagging_temperature': 5, 'max_bin': 6, 'grow_policy': 'Lossguide', 'min_data_in_leaf': 9, 'max_depth': 4, 'l2_leaf_reg': 0.0008688915748590844, 'one_hot_max_size': 5, 'auto_class_weights': 'SqrtBalanced'}. Best is trial 25 with value: 0.8673296715228634.\u001b[0m\n",
      "\u001b[32m[I 2021-05-09 00:30:56,748]\u001b[0m Trial 30 finished with value: 0.8673164851519694 and parameters: {'iterations': 300, 'learning_rate': 0.09351510997080956, 'random_strength': 4, 'bagging_temperature': 9, 'max_bin': 5, 'grow_policy': 'Lossguide', 'min_data_in_leaf': 5, 'max_depth': 3, 'l2_leaf_reg': 0.003963430635215101, 'one_hot_max_size': 5, 'auto_class_weights': 'SqrtBalanced'}. Best is trial 25 with value: 0.8673296715228634.\u001b[0m\n",
      "\u001b[32m[I 2021-05-09 00:32:01,073]\u001b[0m Trial 31 finished with value: 0.8667543718625581 and parameters: {'iterations': 300, 'learning_rate': 0.09389740976459754, 'random_strength': 4, 'bagging_temperature': 9, 'max_bin': 5, 'grow_policy': 'Lossguide', 'min_data_in_leaf': 5, 'max_depth': 3, 'l2_leaf_reg': 0.003685715304544794, 'one_hot_max_size': 5, 'auto_class_weights': 'SqrtBalanced'}. Best is trial 25 with value: 0.8673296715228634.\u001b[0m\n"
     ]
    },
    {
     "name": "stdout",
     "output_type": "stream",
     "text": [
      "Stopped by overfitting detector  (10 iterations wait)\n"
     ]
    },
    {
     "name": "stderr",
     "output_type": "stream",
     "text": [
      "\u001b[32m[I 2021-05-09 00:32:40,336]\u001b[0m Trial 32 finished with value: 0.8669067726763828 and parameters: {'iterations': 300, 'learning_rate': 0.1510811888447828, 'random_strength': 3, 'bagging_temperature': 8, 'max_bin': 5, 'grow_policy': 'Lossguide', 'min_data_in_leaf': 4, 'max_depth': 3, 'l2_leaf_reg': 0.015064483724909927, 'one_hot_max_size': 5, 'auto_class_weights': 'SqrtBalanced'}. Best is trial 25 with value: 0.8673296715228634.\u001b[0m\n"
     ]
    },
    {
     "name": "stdout",
     "output_type": "stream",
     "text": [
      "Stopped by overfitting detector  (10 iterations wait)\n"
     ]
    },
    {
     "name": "stderr",
     "output_type": "stream",
     "text": [
      "\u001b[32m[I 2021-05-09 00:33:16,889]\u001b[0m Trial 33 finished with value: 0.8638415767619423 and parameters: {'iterations': 300, 'learning_rate': 0.057766985889554166, 'random_strength': 2, 'bagging_temperature': 7, 'max_bin': 5, 'grow_policy': 'Lossguide', 'min_data_in_leaf': 6, 'max_depth': 2, 'l2_leaf_reg': 0.001361805885381151, 'one_hot_max_size': 10, 'auto_class_weights': 'SqrtBalanced'}. Best is trial 25 with value: 0.8673296715228634.\u001b[0m\n",
      "\u001b[32m[I 2021-05-09 00:34:21,872]\u001b[0m Trial 34 finished with value: 0.8678449024582449 and parameters: {'iterations': 200, 'learning_rate': 0.10217289256401253, 'random_strength': 1, 'bagging_temperature': 9, 'max_bin': 5, 'grow_policy': 'Lossguide', 'min_data_in_leaf': 4, 'max_depth': 4, 'l2_leaf_reg': 0.06488321673976767, 'one_hot_max_size': 5, 'auto_class_weights': 'SqrtBalanced'}. Best is trial 34 with value: 0.8678449024582449.\u001b[0m\n"
     ]
    },
    {
     "name": "stdout",
     "output_type": "stream",
     "text": [
      "Stopped by overfitting detector  (10 iterations wait)\n"
     ]
    },
    {
     "name": "stderr",
     "output_type": "stream",
     "text": [
      "\u001b[32m[I 2021-05-09 00:35:38,512]\u001b[0m Trial 35 finished with value: 0.8671846587966259 and parameters: {'iterations': 1200, 'learning_rate': 0.08164328494656667, 'random_strength': 1, 'bagging_temperature': 9, 'max_bin': 5, 'grow_policy': 'Lossguide', 'min_data_in_leaf': 4, 'max_depth': 4, 'l2_leaf_reg': 0.28579944227675463, 'one_hot_max_size': 12, 'auto_class_weights': 'SqrtBalanced'}. Best is trial 34 with value: 0.8678449024582449.\u001b[0m\n"
     ]
    },
    {
     "name": "stdout",
     "output_type": "stream",
     "text": [
      "Stopped by overfitting detector  (10 iterations wait)\n"
     ]
    },
    {
     "name": "stderr",
     "output_type": "stream",
     "text": [
      "\u001b[32m[I 2021-05-09 00:37:53,539]\u001b[0m Trial 36 finished with value: 0.867243308571308 and parameters: {'iterations': 1200, 'learning_rate': 0.0798075575106071, 'random_strength': 1, 'bagging_temperature': 9, 'max_bin': 5, 'grow_policy': 'Lossguide', 'min_data_in_leaf': 4, 'max_depth': 5, 'l2_leaf_reg': 0.5697297290356605, 'one_hot_max_size': 12, 'auto_class_weights': 'SqrtBalanced'}. Best is trial 34 with value: 0.8678449024582449.\u001b[0m\n"
     ]
    },
    {
     "name": "stdout",
     "output_type": "stream",
     "text": [
      "Stopped by overfitting detector  (10 iterations wait)\n"
     ]
    },
    {
     "name": "stderr",
     "output_type": "stream",
     "text": [
      "\u001b[32m[I 2021-05-09 00:40:07,170]\u001b[0m Trial 37 finished with value: 0.8669050699906913 and parameters: {'iterations': 1200, 'learning_rate': 0.09479642223371178, 'random_strength': 4, 'bagging_temperature': 10, 'max_bin': 5, 'grow_policy': 'Lossguide', 'min_data_in_leaf': 3, 'max_depth': 5, 'l2_leaf_reg': 0.6502942911394896, 'one_hot_max_size': 12, 'auto_class_weights': 'SqrtBalanced'}. Best is trial 34 with value: 0.8678449024582449.\u001b[0m\n"
     ]
    },
    {
     "name": "stdout",
     "output_type": "stream",
     "text": [
      "Stopped by overfitting detector  (10 iterations wait)\n"
     ]
    },
    {
     "name": "stderr",
     "output_type": "stream",
     "text": [
      "\u001b[32m[I 2021-05-09 00:42:21,474]\u001b[0m Trial 38 finished with value: 0.8635481901074928 and parameters: {'iterations': 1200, 'learning_rate': 0.10571422609723428, 'random_strength': 3, 'bagging_temperature': 9, 'max_bin': 5, 'grow_policy': 'Lossguide', 'min_data_in_leaf': 2, 'max_depth': 6, 'l2_leaf_reg': 0.025800640923338943, 'one_hot_max_size': 12, 'auto_class_weights': 'SqrtBalanced'}. Best is trial 34 with value: 0.8678449024582449.\u001b[0m\n"
     ]
    },
    {
     "name": "stdout",
     "output_type": "stream",
     "text": [
      "Stopped by overfitting detector  (10 iterations wait)\n"
     ]
    },
    {
     "name": "stderr",
     "output_type": "stream",
     "text": [
      "\u001b[32m[I 2021-05-09 00:43:41,986]\u001b[0m Trial 39 finished with value: 0.8623008030244786 and parameters: {'iterations': 1200, 'learning_rate': 0.1418391538187691, 'random_strength': 5, 'bagging_temperature': 8, 'max_bin': 30, 'grow_policy': 'Lossguide', 'min_data_in_leaf': 4, 'max_depth': 5, 'l2_leaf_reg': 0.04396797411222271, 'one_hot_max_size': 10, 'auto_class_weights': 'Balanced'}. Best is trial 34 with value: 0.8678449024582449.\u001b[0m\n"
     ]
    },
    {
     "name": "stdout",
     "output_type": "stream",
     "text": [
      "Stopped by overfitting detector  (10 iterations wait)\n"
     ]
    },
    {
     "name": "stderr",
     "output_type": "stream",
     "text": [
      "\u001b[32m[I 2021-05-09 00:43:49,042]\u001b[0m Trial 40 finished with value: 0.8625118700204493 and parameters: {'iterations': 100, 'learning_rate': 0.07799184083036712, 'random_strength': 1, 'bagging_temperature': 1, 'max_bin': 5, 'grow_policy': 'Lossguide', 'min_data_in_leaf': 3, 'max_depth': 3, 'l2_leaf_reg': 0.727658416345203, 'one_hot_max_size': 1024, 'auto_class_weights': 'SqrtBalanced'}. Best is trial 34 with value: 0.8678449024582449.\u001b[0m\n",
      "\u001b[32m[I 2021-05-09 00:45:24,149]\u001b[0m Trial 41 finished with value: 0.8681254352896591 and parameters: {'iterations': 1200, 'learning_rate': 0.08335318773844057, 'random_strength': 1, 'bagging_temperature': 9, 'max_bin': 5, 'grow_policy': 'Lossguide', 'min_data_in_leaf': 4, 'max_depth': 4, 'l2_leaf_reg': 14.159621794218031, 'one_hot_max_size': 12, 'auto_class_weights': 'SqrtBalanced'}. Best is trial 41 with value: 0.8681254352896591.\u001b[0m\n"
     ]
    },
    {
     "name": "stdout",
     "output_type": "stream",
     "text": [
      "Stopped by overfitting detector  (10 iterations wait)\n"
     ]
    },
    {
     "name": "stderr",
     "output_type": "stream",
     "text": [
      "\u001b[32m[I 2021-05-09 00:48:06,744]\u001b[0m Trial 42 finished with value: 0.8680100902988054 and parameters: {'iterations': 1200, 'learning_rate': 0.05091341678726413, 'random_strength': 2, 'bagging_temperature': 9, 'max_bin': 5, 'grow_policy': 'Lossguide', 'min_data_in_leaf': 5, 'max_depth': 4, 'l2_leaf_reg': 20.01400791316629, 'one_hot_max_size': 12, 'auto_class_weights': 'SqrtBalanced'}. Best is trial 41 with value: 0.8681254352896591.\u001b[0m\n"
     ]
    },
    {
     "name": "stdout",
     "output_type": "stream",
     "text": [
      "Stopped by overfitting detector  (10 iterations wait)\n"
     ]
    },
    {
     "name": "stderr",
     "output_type": "stream",
     "text": [
      "\u001b[32m[I 2021-05-09 00:51:01,783]\u001b[0m Trial 43 finished with value: 0.8679593729399372 and parameters: {'iterations': 1200, 'learning_rate': 0.05067830492488233, 'random_strength': 2, 'bagging_temperature': 10, 'max_bin': 20, 'grow_policy': 'Lossguide', 'min_data_in_leaf': 5, 'max_depth': 4, 'l2_leaf_reg': 7.405625986202802, 'one_hot_max_size': 12, 'auto_class_weights': 'SqrtBalanced'}. Best is trial 41 with value: 0.8681254352896591.\u001b[0m\n"
     ]
    },
    {
     "name": "stdout",
     "output_type": "stream",
     "text": [
      "Stopped by overfitting detector  (10 iterations wait)\n"
     ]
    },
    {
     "name": "stderr",
     "output_type": "stream",
     "text": [
      "\u001b[32m[I 2021-05-09 00:57:55,425]\u001b[0m Trial 44 finished with value: 0.868012127903026 and parameters: {'iterations': 1200, 'learning_rate': 0.01938180184930193, 'random_strength': 2, 'bagging_temperature': 10, 'max_bin': 20, 'grow_policy': 'Lossguide', 'min_data_in_leaf': 5, 'max_depth': 4, 'l2_leaf_reg': 56.34700086508723, 'one_hot_max_size': 12, 'auto_class_weights': 'SqrtBalanced'}. Best is trial 41 with value: 0.8681254352896591.\u001b[0m\n"
     ]
    },
    {
     "name": "stdout",
     "output_type": "stream",
     "text": [
      "Stopped by overfitting detector  (10 iterations wait)\n"
     ]
    },
    {
     "name": "stderr",
     "output_type": "stream",
     "text": [
      "\u001b[32m[I 2021-05-09 01:05:31,928]\u001b[0m Trial 45 finished with value: 0.8680440143118491 and parameters: {'iterations': 1200, 'learning_rate': 0.02047112207206199, 'random_strength': 3, 'bagging_temperature': 10, 'max_bin': 20, 'grow_policy': 'Lossguide', 'min_data_in_leaf': 5, 'max_depth': 4, 'l2_leaf_reg': 78.21013392547914, 'one_hot_max_size': 12, 'auto_class_weights': 'SqrtBalanced'}. Best is trial 41 with value: 0.8681254352896591.\u001b[0m\n"
     ]
    },
    {
     "name": "stdout",
     "output_type": "stream",
     "text": [
      "Stopped by overfitting detector  (10 iterations wait)\n"
     ]
    },
    {
     "name": "stderr",
     "output_type": "stream",
     "text": [
      "\u001b[32m[I 2021-05-09 01:13:34,796]\u001b[0m Trial 46 finished with value: 0.8678695585587736 and parameters: {'iterations': 1200, 'learning_rate': 0.015262743315667977, 'random_strength': 3, 'bagging_temperature': 10, 'max_bin': 20, 'grow_policy': 'Lossguide', 'min_data_in_leaf': 5, 'max_depth': 4, 'l2_leaf_reg': 85.42922237428823, 'one_hot_max_size': 12, 'auto_class_weights': 'SqrtBalanced'}. Best is trial 41 with value: 0.8681254352896591.\u001b[0m\n",
      "\u001b[32m[I 2021-05-09 01:16:48,582]\u001b[0m Trial 47 finished with value: 0.868597121357697 and parameters: {'iterations': 1200, 'learning_rate': 0.0213871602100911, 'random_strength': 2, 'bagging_temperature': 10, 'max_bin': 20, 'grow_policy': 'Depthwise', 'min_data_in_leaf': 5, 'max_depth': 5, 'l2_leaf_reg': 79.47288387810164, 'one_hot_max_size': 12, 'auto_class_weights': 'SqrtBalanced'}. Best is trial 47 with value: 0.868597121357697.\u001b[0m\n"
     ]
    },
    {
     "name": "stdout",
     "output_type": "stream",
     "text": [
      "Stopped by overfitting detector  (10 iterations wait)\n"
     ]
    },
    {
     "name": "stderr",
     "output_type": "stream",
     "text": [
      "\u001b[32m[I 2021-05-09 01:19:52,976]\u001b[0m Trial 48 finished with value: 0.8685679708902366 and parameters: {'iterations': 1200, 'learning_rate': 0.019328366545796782, 'random_strength': 3, 'bagging_temperature': 10, 'max_bin': 20, 'grow_policy': 'Depthwise', 'min_data_in_leaf': 2, 'max_depth': 5, 'l2_leaf_reg': 93.4542897251735, 'one_hot_max_size': 12, 'auto_class_weights': 'SqrtBalanced'}. Best is trial 47 with value: 0.868597121357697.\u001b[0m\n"
     ]
    },
    {
     "name": "stdout",
     "output_type": "stream",
     "text": [
      "Stopped by overfitting detector  (10 iterations wait)\n"
     ]
    },
    {
     "name": "stderr",
     "output_type": "stream",
     "text": [
      "\u001b[32m[I 2021-05-09 01:22:34,523]\u001b[0m Trial 49 finished with value: 0.8686983246187386 and parameters: {'iterations': 1200, 'learning_rate': 0.023173784512515623, 'random_strength': 3, 'bagging_temperature': 10, 'max_bin': 20, 'grow_policy': 'Depthwise', 'min_data_in_leaf': 2, 'max_depth': 6, 'l2_leaf_reg': 60.52009603939393, 'one_hot_max_size': 12, 'auto_class_weights': 'Balanced'}. Best is trial 49 with value: 0.8686983246187386.\u001b[0m\n"
     ]
    },
    {
     "name": "stdout",
     "output_type": "stream",
     "text": [
      "Stopped by overfitting detector  (10 iterations wait)\n"
     ]
    },
    {
     "name": "stderr",
     "output_type": "stream",
     "text": [
      "\u001b[32m[I 2021-05-09 01:24:31,479]\u001b[0m Trial 50 finished with value: 0.8680577989251569 and parameters: {'iterations': 1200, 'learning_rate': 0.031244266573061744, 'random_strength': 3, 'bagging_temperature': 10, 'max_bin': 20, 'grow_policy': 'Depthwise', 'min_data_in_leaf': 2, 'max_depth': 7, 'l2_leaf_reg': 32.33536326011995, 'one_hot_max_size': 12, 'auto_class_weights': 'Balanced'}. Best is trial 49 with value: 0.8686983246187386.\u001b[0m\n"
     ]
    },
    {
     "name": "stdout",
     "output_type": "stream",
     "text": [
      "Stopped by overfitting detector  (10 iterations wait)\n"
     ]
    },
    {
     "name": "stderr",
     "output_type": "stream",
     "text": [
      "\u001b[32m[I 2021-05-09 01:27:03,391]\u001b[0m Trial 51 finished with value: 0.8685120360615199 and parameters: {'iterations': 1200, 'learning_rate': 0.031725473364685244, 'random_strength': 3, 'bagging_temperature': 10, 'max_bin': 20, 'grow_policy': 'Depthwise', 'min_data_in_leaf': 2, 'max_depth': 8, 'l2_leaf_reg': 28.33429491030042, 'one_hot_max_size': 12, 'auto_class_weights': 'Balanced'}. Best is trial 49 with value: 0.8686983246187386.\u001b[0m\n"
     ]
    },
    {
     "name": "stdout",
     "output_type": "stream",
     "text": [
      "Stopped by overfitting detector  (10 iterations wait)\n"
     ]
    },
    {
     "name": "stderr",
     "output_type": "stream",
     "text": [
      "\u001b[32m[I 2021-05-09 01:29:18,722]\u001b[0m Trial 52 finished with value: 0.8681795496076659 and parameters: {'iterations': 1200, 'learning_rate': 0.03319080605736532, 'random_strength': 4, 'bagging_temperature': 10, 'max_bin': 20, 'grow_policy': 'Depthwise', 'min_data_in_leaf': 2, 'max_depth': 8, 'l2_leaf_reg': 27.33573485778151, 'one_hot_max_size': 12, 'auto_class_weights': 'Balanced'}. Best is trial 49 with value: 0.8686983246187386.\u001b[0m\n"
     ]
    },
    {
     "name": "stdout",
     "output_type": "stream",
     "text": [
      "Stopped by overfitting detector  (10 iterations wait)\n"
     ]
    },
    {
     "name": "stderr",
     "output_type": "stream",
     "text": [
      "\u001b[32m[I 2021-05-09 01:31:10,074]\u001b[0m Trial 53 finished with value: 0.8653713424165348 and parameters: {'iterations': 1200, 'learning_rate': 0.03779924169232523, 'random_strength': 4, 'bagging_temperature': 10, 'max_bin': 20, 'grow_policy': 'Depthwise', 'min_data_in_leaf': 2, 'max_depth': 8, 'l2_leaf_reg': 3.8010221328366036, 'one_hot_max_size': 12, 'auto_class_weights': 'Balanced'}. Best is trial 49 with value: 0.8686983246187386.\u001b[0m\n"
     ]
    },
    {
     "name": "stdout",
     "output_type": "stream",
     "text": [
      "Stopped by overfitting detector  (10 iterations wait)\n"
     ]
    },
    {
     "name": "stderr",
     "output_type": "stream",
     "text": [
      "\u001b[32m[I 2021-05-09 01:38:47,095]\u001b[0m Trial 54 finished with value: 0.8606129474159612 and parameters: {'iterations': 1200, 'learning_rate': 0.0024311717685745124, 'random_strength': 5, 'bagging_temperature': 10, 'max_bin': 20, 'grow_policy': 'Depthwise', 'min_data_in_leaf': 1, 'max_depth': 8, 'l2_leaf_reg': 9.94993710246447, 'one_hot_max_size': 12, 'auto_class_weights': 'Balanced'}. Best is trial 49 with value: 0.8686983246187386.\u001b[0m\n",
      "\u001b[32m[I 2021-05-09 01:44:00,728]\u001b[0m Trial 55 finished with value: 0.8656176538547916 and parameters: {'iterations': 1200, 'learning_rate': 0.013333615108667866, 'random_strength': 3, 'bagging_temperature': 10, 'max_bin': 20, 'grow_policy': 'Depthwise', 'min_data_in_leaf': 2, 'max_depth': 10, 'l2_leaf_reg': 2.4707627289220158, 'one_hot_max_size': 12, 'auto_class_weights': 'Balanced'}. Best is trial 49 with value: 0.8686983246187386.\u001b[0m\n"
     ]
    },
    {
     "name": "stdout",
     "output_type": "stream",
     "text": [
      "Stopped by overfitting detector  (10 iterations wait)\n"
     ]
    },
    {
     "name": "stderr",
     "output_type": "stream",
     "text": [
      "\u001b[32m[I 2021-05-09 01:45:24,681]\u001b[0m Trial 56 finished with value: 0.8689744812139202 and parameters: {'iterations': 1000, 'learning_rate': 0.030490852431554145, 'random_strength': 4, 'bagging_temperature': 9, 'max_bin': 20, 'grow_policy': 'Depthwise', 'min_data_in_leaf': 3, 'max_depth': 9, 'l2_leaf_reg': 27.3740040138517, 'one_hot_max_size': 500, 'auto_class_weights': 'Balanced'}. Best is trial 56 with value: 0.8689744812139202.\u001b[0m\n"
     ]
    },
    {
     "name": "stdout",
     "output_type": "stream",
     "text": [
      "Stopped by overfitting detector  (10 iterations wait)\n"
     ]
    },
    {
     "name": "stderr",
     "output_type": "stream",
     "text": [
      "\u001b[32m[I 2021-05-09 01:47:06,238]\u001b[0m Trial 57 finished with value: 0.868503325229194 and parameters: {'iterations': 1000, 'learning_rate': 0.026837923455935726, 'random_strength': 4, 'bagging_temperature': 8, 'max_bin': 20, 'grow_policy': 'Depthwise', 'min_data_in_leaf': 3, 'max_depth': 9, 'l2_leaf_reg': 31.149724383102765, 'one_hot_max_size': 500, 'auto_class_weights': 'Balanced'}. Best is trial 56 with value: 0.8689744812139202.\u001b[0m\n"
     ]
    },
    {
     "name": "stdout",
     "output_type": "stream",
     "text": [
      "Stopped by overfitting detector  (10 iterations wait)\n"
     ]
    },
    {
     "name": "stderr",
     "output_type": "stream",
     "text": [
      "\u001b[32m[I 2021-05-09 01:48:24,530]\u001b[0m Trial 58 finished with value: 0.8653593312736383 and parameters: {'iterations': 1000, 'learning_rate': 0.022993682678382334, 'random_strength': 5, 'bagging_temperature': 8, 'max_bin': 20, 'grow_policy': 'Depthwise', 'min_data_in_leaf': 3, 'max_depth': 9, 'l2_leaf_reg': 1.9784586423843191, 'one_hot_max_size': 500, 'auto_class_weights': 'Balanced'}. Best is trial 56 with value: 0.8689744812139202.\u001b[0m\n"
     ]
    },
    {
     "name": "stdout",
     "output_type": "stream",
     "text": [
      "Stopped by overfitting detector  (10 iterations wait)\n"
     ]
    },
    {
     "name": "stderr",
     "output_type": "stream",
     "text": [
      "\u001b[32m[I 2021-05-09 01:52:33,199]\u001b[0m Trial 59 finished with value: 0.8560174696485433 and parameters: {'iterations': 1000, 'learning_rate': 0.001741282346804915, 'random_strength': 4, 'bagging_temperature': 9, 'max_bin': 20, 'grow_policy': 'Depthwise', 'min_data_in_leaf': 1, 'max_depth': 9, 'l2_leaf_reg': 49.937502046660576, 'one_hot_max_size': 500, 'auto_class_weights': 'Balanced'}. Best is trial 56 with value: 0.8689744812139202.\u001b[0m\n",
      "\u001b[32m[I 2021-05-09 01:53:19,396]\u001b[0m Trial 60 finished with value: 0.868070144199306 and parameters: {'iterations': 1000, 'learning_rate': 0.06063548241978769, 'random_strength': 6, 'bagging_temperature': 8, 'max_bin': 20, 'grow_policy': 'Depthwise', 'min_data_in_leaf': 3, 'max_depth': 9, 'l2_leaf_reg': 97.82208390348069, 'one_hot_max_size': 500, 'auto_class_weights': 'Balanced'}. Best is trial 56 with value: 0.8689744812139202.\u001b[0m\n"
     ]
    },
    {
     "name": "stdout",
     "output_type": "stream",
     "text": [
      "Stopped by overfitting detector  (10 iterations wait)\n"
     ]
    },
    {
     "name": "stderr",
     "output_type": "stream",
     "text": [
      "\u001b[32m[I 2021-05-09 01:54:20,376]\u001b[0m Trial 61 finished with value: 0.8684100822793894 and parameters: {'iterations': 1000, 'learning_rate': 0.033140579268788904, 'random_strength': 4, 'bagging_temperature': 10, 'max_bin': 20, 'grow_policy': 'Depthwise', 'min_data_in_leaf': 2, 'max_depth': 8, 'l2_leaf_reg': 30.133633131242625, 'one_hot_max_size': 500, 'auto_class_weights': 'Balanced'}. Best is trial 56 with value: 0.8689744812139202.\u001b[0m\n"
     ]
    },
    {
     "name": "stdout",
     "output_type": "stream",
     "text": [
      "Stopped by overfitting detector  (10 iterations wait)\n"
     ]
    },
    {
     "name": "stderr",
     "output_type": "stream",
     "text": [
      "\u001b[32m[I 2021-05-09 01:55:05,691]\u001b[0m Trial 62 finished with value: 0.8675083150838928 and parameters: {'iterations': 1000, 'learning_rate': 0.04236525913791228, 'random_strength': 5, 'bagging_temperature': 10, 'max_bin': 20, 'grow_policy': 'Depthwise', 'min_data_in_leaf': 2, 'max_depth': 8, 'l2_leaf_reg': 6.001411665013018, 'one_hot_max_size': 500, 'auto_class_weights': 'Balanced'}. Best is trial 56 with value: 0.8689744812139202.\u001b[0m\n"
     ]
    },
    {
     "name": "stdout",
     "output_type": "stream",
     "text": [
      "Stopped by overfitting detector  (10 iterations wait)\n"
     ]
    },
    {
     "name": "stderr",
     "output_type": "stream",
     "text": [
      "\u001b[32m[I 2021-05-09 01:55:18,276]\u001b[0m Trial 63 finished with value: 0.8628428968654707 and parameters: {'iterations': 1000, 'learning_rate': 0.293878330755058, 'random_strength': 4, 'bagging_temperature': 9, 'max_bin': 4, 'grow_policy': 'Depthwise', 'min_data_in_leaf': 3, 'max_depth': 9, 'l2_leaf_reg': 98.65473723733469, 'one_hot_max_size': 500, 'auto_class_weights': 'Balanced'}. Best is trial 56 with value: 0.8689744812139202.\u001b[0m\n"
     ]
    },
    {
     "name": "stdout",
     "output_type": "stream",
     "text": [
      "Stopped by overfitting detector  (10 iterations wait)\n"
     ]
    },
    {
     "name": "stderr",
     "output_type": "stream",
     "text": [
      "\u001b[32m[I 2021-05-09 01:56:10,813]\u001b[0m Trial 64 finished with value: 0.8687095106998115 and parameters: {'iterations': 1000, 'learning_rate': 0.02710893507594445, 'random_strength': 3, 'bagging_temperature': 9, 'max_bin': 20, 'grow_policy': 'Depthwise', 'min_data_in_leaf': 1, 'max_depth': 6, 'l2_leaf_reg': 28.081764951403528, 'one_hot_max_size': 500, 'auto_class_weights': 'Balanced'}. Best is trial 56 with value: 0.8689744812139202.\u001b[0m\n"
     ]
    },
    {
     "name": "stdout",
     "output_type": "stream",
     "text": [
      "Stopped by overfitting detector  (10 iterations wait)\n"
     ]
    },
    {
     "name": "stderr",
     "output_type": "stream",
     "text": [
      "\u001b[32m[I 2021-05-09 01:57:01,594]\u001b[0m Trial 65 finished with value: 0.8643336475938996 and parameters: {'iterations': 500, 'learning_rate': 0.012175375211470892, 'random_strength': 3, 'bagging_temperature': 9, 'max_bin': 10, 'grow_policy': 'Depthwise', 'min_data_in_leaf': 1, 'max_depth': 6, 'l2_leaf_reg': 1.4764924113033298, 'one_hot_max_size': 500, 'auto_class_weights': 'Balanced'}. Best is trial 56 with value: 0.8689744812139202.\u001b[0m\n",
      "\u001b[32m[I 2021-05-09 01:58:12,941]\u001b[0m Trial 66 finished with value: 0.8664449400031986 and parameters: {'iterations': 1000, 'learning_rate': 0.02725049446770398, 'random_strength': 3, 'bagging_temperature': 3, 'max_bin': 20, 'grow_policy': 'Depthwise', 'min_data_in_leaf': 3, 'max_depth': 10, 'l2_leaf_reg': 9.993741450198618, 'one_hot_max_size': 500, 'auto_class_weights': 'Balanced'}. Best is trial 56 with value: 0.8689744812139202.\u001b[0m\n"
     ]
    },
    {
     "name": "stdout",
     "output_type": "stream",
     "text": [
      "Stopped by overfitting detector  (10 iterations wait)\n"
     ]
    },
    {
     "name": "stderr",
     "output_type": "stream",
     "text": [
      "\u001b[32m[I 2021-05-09 01:58:20,153]\u001b[0m Trial 67 finished with value: 0.8643705803567989 and parameters: {'iterations': 1000, 'learning_rate': 0.23564756036315238, 'random_strength': 3, 'bagging_temperature': 8, 'max_bin': 20, 'grow_policy': 'Depthwise', 'min_data_in_leaf': 2, 'max_depth': 6, 'l2_leaf_reg': 17.15273641793528, 'one_hot_max_size': 500, 'auto_class_weights': 'Balanced'}. Best is trial 56 with value: 0.8689744812139202.\u001b[0m\n"
     ]
    },
    {
     "name": "stdout",
     "output_type": "stream",
     "text": [
      "Stopped by overfitting detector  (10 iterations wait)\n"
     ]
    },
    {
     "name": "stderr",
     "output_type": "stream",
     "text": [
      "\u001b[32m[I 2021-05-09 01:58:32,412]\u001b[0m Trial 68 finished with value: 0.8485201565620006 and parameters: {'iterations': 100, 'learning_rate': 0.008750544580948125, 'random_strength': 3, 'bagging_temperature': 8, 'max_bin': 20, 'grow_policy': 'Depthwise', 'min_data_in_leaf': 1, 'max_depth': 7, 'l2_leaf_reg': 45.69510579020018, 'one_hot_max_size': 500, 'auto_class_weights': 'Balanced'}. Best is trial 56 with value: 0.8689744812139202.\u001b[0m\n",
      "\u001b[32m[I 2021-05-09 01:59:15,156]\u001b[0m Trial 69 finished with value: 0.8635997696534605 and parameters: {'iterations': 1000, 'learning_rate': 0.05455675257059341, 'random_strength': 4, 'bagging_temperature': 9, 'max_bin': 20, 'grow_policy': 'Depthwise', 'min_data_in_leaf': 2, 'max_depth': 10, 'l2_leaf_reg': 5.416772961307529, 'one_hot_max_size': 1024, 'auto_class_weights': 'Balanced'}. Best is trial 56 with value: 0.8689744812139202.\u001b[0m\n"
     ]
    },
    {
     "name": "stdout",
     "output_type": "stream",
     "text": [
      "Stopped by overfitting detector  (10 iterations wait)\n"
     ]
    },
    {
     "name": "stderr",
     "output_type": "stream",
     "text": [
      "\u001b[32m[I 2021-05-09 01:59:45,986]\u001b[0m Trial 70 finished with value: 0.8664238753343365 and parameters: {'iterations': 1000, 'learning_rate': 0.043399234767765915, 'random_strength': 2, 'bagging_temperature': 7, 'max_bin': 30, 'grow_policy': 'Depthwise', 'min_data_in_leaf': 1, 'max_depth': 7, 'l2_leaf_reg': 1.23363394798225, 'one_hot_max_size': 100, 'auto_class_weights': 'Balanced'}. Best is trial 56 with value: 0.8689744812139202.\u001b[0m\n"
     ]
    },
    {
     "name": "stdout",
     "output_type": "stream",
     "text": [
      "Stopped by overfitting detector  (10 iterations wait)\n"
     ]
    },
    {
     "name": "stderr",
     "output_type": "stream",
     "text": [
      "\u001b[32m[I 2021-05-09 02:01:05,959]\u001b[0m Trial 71 finished with value: 0.8688928134012786 and parameters: {'iterations': 1000, 'learning_rate': 0.025543367180233794, 'random_strength': 4, 'bagging_temperature': 10, 'max_bin': 20, 'grow_policy': 'Depthwise', 'min_data_in_leaf': 2, 'max_depth': 8, 'l2_leaf_reg': 27.486424490903985, 'one_hot_max_size': 500, 'auto_class_weights': 'Balanced'}. Best is trial 56 with value: 0.8689744812139202.\u001b[0m\n"
     ]
    },
    {
     "name": "stdout",
     "output_type": "stream",
     "text": [
      "Stopped by overfitting detector  (10 iterations wait)\n"
     ]
    },
    {
     "name": "stderr",
     "output_type": "stream",
     "text": [
      "\u001b[32m[I 2021-05-09 02:02:16,490]\u001b[0m Trial 72 finished with value: 0.8688760269834364 and parameters: {'iterations': 1000, 'learning_rate': 0.022469908250061565, 'random_strength': 3, 'bagging_temperature': 10, 'max_bin': 20, 'grow_policy': 'Depthwise', 'min_data_in_leaf': 3, 'max_depth': 7, 'l2_leaf_reg': 96.29145102971566, 'one_hot_max_size': 500, 'auto_class_weights': 'Balanced'}. Best is trial 56 with value: 0.8689744812139202.\u001b[0m\n"
     ]
    },
    {
     "name": "stdout",
     "output_type": "stream",
     "text": [
      "Stopped by overfitting detector  (10 iterations wait)\n"
     ]
    },
    {
     "name": "stderr",
     "output_type": "stream",
     "text": [
      "\u001b[32m[I 2021-05-09 02:02:39,390]\u001b[0m Trial 73 finished with value: 0.8667876722009098 and parameters: {'iterations': 1000, 'learning_rate': 0.07013655103664772, 'random_strength': 3, 'bagging_temperature': 10, 'max_bin': 20, 'grow_policy': 'Depthwise', 'min_data_in_leaf': 2, 'max_depth': 7, 'l2_leaf_reg': 15.195705008113908, 'one_hot_max_size': 500, 'auto_class_weights': 'Balanced'}. Best is trial 56 with value: 0.8689744812139202.\u001b[0m\n"
     ]
    },
    {
     "name": "stdout",
     "output_type": "stream",
     "text": [
      "Stopped by overfitting detector  (10 iterations wait)\n"
     ]
    },
    {
     "name": "stderr",
     "output_type": "stream",
     "text": [
      "\u001b[32m[I 2021-05-09 02:03:46,999]\u001b[0m Trial 74 finished with value: 0.8686686399088093 and parameters: {'iterations': 1000, 'learning_rate': 0.018946712515003194, 'random_strength': 2, 'bagging_temperature': 10, 'max_bin': 20, 'grow_policy': 'Depthwise', 'min_data_in_leaf': 1, 'max_depth': 6, 'l2_leaf_reg': 91.21838466720766, 'one_hot_max_size': 500, 'auto_class_weights': 'Balanced'}. Best is trial 56 with value: 0.8689744812139202.\u001b[0m\n"
     ]
    },
    {
     "name": "stdout",
     "output_type": "stream",
     "text": [
      "Stopped by overfitting detector  (10 iterations wait)\n"
     ]
    },
    {
     "name": "stderr",
     "output_type": "stream",
     "text": [
      "\u001b[32m[I 2021-05-09 02:05:27,006]\u001b[0m Trial 75 finished with value: 0.8512289578456782 and parameters: {'iterations': 1000, 'learning_rate': 0.0011349863641293978, 'random_strength': 2, 'bagging_temperature': 9, 'max_bin': 8, 'grow_policy': 'Depthwise', 'min_data_in_leaf': 1, 'max_depth': 6, 'l2_leaf_reg': 86.86111518479173, 'one_hot_max_size': 500, 'auto_class_weights': 'Balanced'}. Best is trial 56 with value: 0.8689744812139202.\u001b[0m\n",
      "\u001b[32m[I 2021-05-09 02:06:33,676]\u001b[0m Trial 76 finished with value: 0.8685249270541633 and parameters: {'iterations': 1000, 'learning_rate': 0.02120564329136628, 'random_strength': 2, 'bagging_temperature': 10, 'max_bin': 20, 'grow_policy': 'Depthwise', 'min_data_in_leaf': 1, 'max_depth': 5, 'l2_leaf_reg': 98.54528745741382, 'one_hot_max_size': 500, 'auto_class_weights': 'Balanced'}. Best is trial 56 with value: 0.8689744812139202.\u001b[0m\n"
     ]
    },
    {
     "name": "stdout",
     "output_type": "stream",
     "text": [
      "Stopped by overfitting detector  (10 iterations wait)\n"
     ]
    },
    {
     "name": "stderr",
     "output_type": "stream",
     "text": [
      "\u001b[32m[I 2021-05-09 02:07:06,899]\u001b[0m Trial 77 finished with value: 0.8676927760074088 and parameters: {'iterations': 1000, 'learning_rate': 0.04000622712315732, 'random_strength': 2, 'bagging_temperature': 10, 'max_bin': 4, 'grow_policy': 'Depthwise', 'min_data_in_leaf': 3, 'max_depth': 6, 'l2_leaf_reg': 4.103530687655668, 'one_hot_max_size': 500, 'auto_class_weights': 'Balanced'}. Best is trial 56 with value: 0.8689744812139202.\u001b[0m\n"
     ]
    },
    {
     "name": "stdout",
     "output_type": "stream",
     "text": [
      "Stopped by overfitting detector  (10 iterations wait)\n"
     ]
    },
    {
     "name": "stderr",
     "output_type": "stream",
     "text": [
      "\u001b[32m[I 2021-05-09 02:07:49,253]\u001b[0m Trial 78 finished with value: 0.8607505701635466 and parameters: {'iterations': 500, 'learning_rate': 0.009696723046730735, 'random_strength': 3, 'bagging_temperature': 9, 'max_bin': 20, 'grow_policy': 'SymmetricTree', 'min_data_in_leaf': 2, 'max_depth': 6, 'l2_leaf_reg': 49.63059902288527, 'one_hot_max_size': 500, 'auto_class_weights': 'Balanced'}. Best is trial 56 with value: 0.8689744812139202.\u001b[0m\n",
      "\u001b[32m[I 2021-05-09 02:08:47,994]\u001b[0m Trial 79 finished with value: 0.8678933447031716 and parameters: {'iterations': 1500, 'learning_rate': 0.049450750495633744, 'random_strength': 2, 'bagging_temperature': 9, 'max_bin': 10, 'grow_policy': 'Depthwise', 'min_data_in_leaf': 1, 'max_depth': 5, 'l2_leaf_reg': 12.627698102820908, 'one_hot_max_size': 10, 'auto_class_weights': 'Balanced'}. Best is trial 56 with value: 0.8689744812139202.\u001b[0m\n"
     ]
    },
    {
     "name": "stdout",
     "output_type": "stream",
     "text": [
      "Stopped by overfitting detector  (10 iterations wait)\n"
     ]
    },
    {
     "name": "stderr",
     "output_type": "stream",
     "text": [
      "\u001b[32m[I 2021-05-09 02:09:15,502]\u001b[0m Trial 80 finished with value: 0.8683345347859369 and parameters: {'iterations': 1000, 'learning_rate': 0.06540572276523726, 'random_strength': 3, 'bagging_temperature': 10, 'max_bin': 20, 'grow_policy': 'Depthwise', 'min_data_in_leaf': 3, 'max_depth': 7, 'l2_leaf_reg': 53.500047232133085, 'one_hot_max_size': 500, 'auto_class_weights': 'Balanced'}. Best is trial 56 with value: 0.8689744812139202.\u001b[0m\n"
     ]
    },
    {
     "name": "stdout",
     "output_type": "stream",
     "text": [
      "Stopped by overfitting detector  (10 iterations wait)\n"
     ]
    },
    {
     "name": "stderr",
     "output_type": "stream",
     "text": [
      "\u001b[32m[I 2021-05-09 02:10:20,320]\u001b[0m Trial 81 finished with value: 0.8684248240158278 and parameters: {'iterations': 1000, 'learning_rate': 0.021337824925853965, 'random_strength': 2, 'bagging_temperature': 10, 'max_bin': 20, 'grow_policy': 'Depthwise', 'min_data_in_leaf': 1, 'max_depth': 5, 'l2_leaf_reg': 99.51740394356091, 'one_hot_max_size': 500, 'auto_class_weights': 'Balanced'}. Best is trial 56 with value: 0.8689744812139202.\u001b[0m\n"
     ]
    },
    {
     "name": "stdout",
     "output_type": "stream",
     "text": [
      "Stopped by overfitting detector  (10 iterations wait)\n"
     ]
    },
    {
     "name": "stderr",
     "output_type": "stream",
     "text": [
      "\u001b[32m[I 2021-05-09 02:11:18,955]\u001b[0m Trial 82 finished with value: 0.8682981035701541 and parameters: {'iterations': 1000, 'learning_rate': 0.019062933040997328, 'random_strength': 2, 'bagging_temperature': 10, 'max_bin': 20, 'grow_policy': 'Depthwise', 'min_data_in_leaf': 1, 'max_depth': 5, 'l2_leaf_reg': 22.993641892671796, 'one_hot_max_size': 500, 'auto_class_weights': 'Balanced'}. Best is trial 56 with value: 0.8689744812139202.\u001b[0m\n"
     ]
    },
    {
     "name": "stdout",
     "output_type": "stream",
     "text": [
      "Stopped by overfitting detector  (10 iterations wait)\n"
     ]
    },
    {
     "name": "stderr",
     "output_type": "stream",
     "text": [
      "\u001b[32m[I 2021-05-09 02:12:50,079]\u001b[0m Trial 83 finished with value: 0.8579066418675815 and parameters: {'iterations': 1000, 'learning_rate': 0.0023272278410993753, 'random_strength': 2, 'bagging_temperature': 10, 'max_bin': 20, 'grow_policy': 'Depthwise', 'min_data_in_leaf': 2, 'max_depth': 6, 'l2_leaf_reg': 87.07811001458607, 'one_hot_max_size': 500, 'auto_class_weights': 'Balanced'}. Best is trial 56 with value: 0.8689744812139202.\u001b[0m\n",
      "\u001b[32m[I 2021-05-09 02:13:31,961]\u001b[0m Trial 84 finished with value: 0.8683570323480643 and parameters: {'iterations': 1000, 'learning_rate': 0.02635992571488132, 'random_strength': 3, 'bagging_temperature': 9, 'max_bin': 20, 'grow_policy': 'Depthwise', 'min_data_in_leaf': 1, 'max_depth': 5, 'l2_leaf_reg': 8.090019992908053, 'one_hot_max_size': 500, 'auto_class_weights': 'Balanced'}. Best is trial 56 with value: 0.8689744812139202.\u001b[0m\n"
     ]
    },
    {
     "name": "stdout",
     "output_type": "stream",
     "text": [
      "Stopped by overfitting detector  (10 iterations wait)\n"
     ]
    },
    {
     "name": "stderr",
     "output_type": "stream",
     "text": [
      "\u001b[32m[I 2021-05-09 02:14:14,436]\u001b[0m Trial 85 finished with value: 0.8678877015168991 and parameters: {'iterations': 1000, 'learning_rate': 0.03635710640775382, 'random_strength': 4, 'bagging_temperature': 10, 'max_bin': 20, 'grow_policy': 'Depthwise', 'min_data_in_leaf': 2, 'max_depth': 5, 'l2_leaf_reg': 56.47050593351512, 'one_hot_max_size': 500, 'auto_class_weights': 'Balanced'}. Best is trial 56 with value: 0.8689744812139202.\u001b[0m\n"
     ]
    },
    {
     "name": "stdout",
     "output_type": "stream",
     "text": [
      "Stopped by overfitting detector  (10 iterations wait)\n"
     ]
    },
    {
     "name": "stderr",
     "output_type": "stream",
     "text": [
      "\u001b[32m[I 2021-05-09 02:16:07,930]\u001b[0m Trial 86 finished with value: 0.8679357862491575 and parameters: {'iterations': 1000, 'learning_rate': 0.008031705275693128, 'random_strength': 2, 'bagging_temperature': 9, 'max_bin': 20, 'grow_policy': 'Depthwise', 'min_data_in_leaf': 1, 'max_depth': 7, 'l2_leaf_reg': 18.152198358375344, 'one_hot_max_size': 500, 'auto_class_weights': 'Balanced'}. Best is trial 56 with value: 0.8689744812139202.\u001b[0m\n",
      "\u001b[32m[I 2021-05-09 02:16:18,187]\u001b[0m Trial 87 finished with value: 0.8521967779323605 and parameters: {'iterations': 100, 'learning_rate': 0.015148094251058376, 'random_strength': 3, 'bagging_temperature': 10, 'max_bin': 20, 'grow_policy': 'Depthwise', 'min_data_in_leaf': 3, 'max_depth': 6, 'l2_leaf_reg': 38.30297563083547, 'one_hot_max_size': 1024, 'auto_class_weights': 'Balanced'}. Best is trial 56 with value: 0.8689744812139202.\u001b[0m\n",
      "\u001b[32m[I 2021-05-09 02:16:48,153]\u001b[0m Trial 88 finished with value: 0.8676262505981155 and parameters: {'iterations': 1000, 'learning_rate': 0.045359184651136836, 'random_strength': 4, 'bagging_temperature': 9, 'max_bin': 30, 'grow_policy': 'Depthwise', 'min_data_in_leaf': 4, 'max_depth': 5, 'l2_leaf_reg': 10.097278604741525, 'one_hot_max_size': 100, 'auto_class_weights': 'Balanced'}. Best is trial 56 with value: 0.8689744812139202.\u001b[0m\n"
     ]
    },
    {
     "name": "stdout",
     "output_type": "stream",
     "text": [
      "Stopped by overfitting detector  (10 iterations wait)\n"
     ]
    },
    {
     "name": "stderr",
     "output_type": "stream",
     "text": [
      "\u001b[32m[I 2021-05-09 02:17:39,685]\u001b[0m Trial 89 finished with value: 0.868081002594292 and parameters: {'iterations': 1000, 'learning_rate': 0.02468479299844335, 'random_strength': 2, 'bagging_temperature': 10, 'max_bin': 20, 'grow_policy': 'Depthwise', 'min_data_in_leaf': 2, 'max_depth': 6, 'l2_leaf_reg': 3.7858256933527943, 'one_hot_max_size': 500, 'auto_class_weights': 'Balanced'}. Best is trial 56 with value: 0.8689744812139202.\u001b[0m\n"
     ]
    },
    {
     "name": "stdout",
     "output_type": "stream",
     "text": [
      "Stopped by overfitting detector  (10 iterations wait)\n",
      "Stopped by overfitting detector  (10 iterations wait)\n"
     ]
    },
    {
     "name": "stderr",
     "output_type": "stream",
     "text": [
      "\u001b[32m[I 2021-05-09 02:20:20,250]\u001b[0m Trial 90 finished with value: 0.868680152254085 and parameters: {'iterations': 1500, 'learning_rate': 0.05583913637515264, 'random_strength': 5, 'bagging_temperature': 10, 'max_bin': 8, 'grow_policy': 'SymmetricTree', 'min_data_in_leaf': 1, 'max_depth': 5, 'l2_leaf_reg': 89.42356301708853, 'one_hot_max_size': 10, 'auto_class_weights': 'Balanced'}. Best is trial 56 with value: 0.8689744812139202.\u001b[0m\n"
     ]
    },
    {
     "name": "stdout",
     "output_type": "stream",
     "text": [
      "Stopped by overfitting detector  (10 iterations wait)\n"
     ]
    },
    {
     "name": "stderr",
     "output_type": "stream",
     "text": [
      "\u001b[32m[I 2021-05-09 02:34:52,665]\u001b[0m Trial 91 finished with value: 0.869164598677998 and parameters: {'iterations': 1500, 'learning_rate': 0.016831298709023414, 'random_strength': 5, 'bagging_temperature': 10, 'max_bin': 8, 'grow_policy': 'SymmetricTree', 'min_data_in_leaf': 1, 'max_depth': 5, 'l2_leaf_reg': 88.82916512000496, 'one_hot_max_size': 10, 'auto_class_weights': 'Balanced'}. Best is trial 91 with value: 0.869164598677998.\u001b[0m\n"
     ]
    },
    {
     "name": "stdout",
     "output_type": "stream",
     "text": [
      "Stopped by overfitting detector  (10 iterations wait)\n"
     ]
    },
    {
     "name": "stderr",
     "output_type": "stream",
     "text": [
      "\u001b[32m[I 2021-05-09 02:39:14,263]\u001b[0m Trial 92 finished with value: 0.868236327995052 and parameters: {'iterations': 1500, 'learning_rate': 0.03682950924371789, 'random_strength': 5, 'bagging_temperature': 10, 'max_bin': 8, 'grow_policy': 'SymmetricTree', 'min_data_in_leaf': 1, 'max_depth': 5, 'l2_leaf_reg': 57.473331886375995, 'one_hot_max_size': 10, 'auto_class_weights': 'Balanced'}. Best is trial 91 with value: 0.869164598677998.\u001b[0m\n"
     ]
    },
    {
     "name": "stdout",
     "output_type": "stream",
     "text": [
      "Stopped by overfitting detector  (10 iterations wait)\n"
     ]
    },
    {
     "name": "stderr",
     "output_type": "stream",
     "text": [
      "\u001b[32m[I 2021-05-09 02:55:26,644]\u001b[0m Trial 93 finished with value: 0.8687952249334545 and parameters: {'iterations': 1500, 'learning_rate': 0.0151752797319944, 'random_strength': 6, 'bagging_temperature': 9, 'max_bin': 8, 'grow_policy': 'SymmetricTree', 'min_data_in_leaf': 2, 'max_depth': 5, 'l2_leaf_reg': 31.712617779792403, 'one_hot_max_size': 10, 'auto_class_weights': 'Balanced'}. Best is trial 91 with value: 0.869164598677998.\u001b[0m\n",
      "\u001b[32m[I 2021-05-09 03:16:43,775]\u001b[0m Trial 94 finished with value: 0.8636290641647877 and parameters: {'iterations': 1500, 'learning_rate': 0.006733817903620959, 'random_strength': 7, 'bagging_temperature': 9, 'max_bin': 8, 'grow_policy': 'SymmetricTree', 'min_data_in_leaf': 1, 'max_depth': 6, 'l2_leaf_reg': 21.551858428277907, 'one_hot_max_size': 10, 'auto_class_weights': 'Balanced'}. Best is trial 91 with value: 0.869164598677998.\u001b[0m\n"
     ]
    },
    {
     "name": "stdout",
     "output_type": "stream",
     "text": [
      "Stopped by overfitting detector  (10 iterations wait)\n"
     ]
    },
    {
     "name": "stderr",
     "output_type": "stream",
     "text": [
      "\u001b[32m[I 2021-05-09 03:18:59,047]\u001b[0m Trial 95 finished with value: 0.8678467371029857 and parameters: {'iterations': 1500, 'learning_rate': 0.05486306589753798, 'random_strength': 6, 'bagging_temperature': 9, 'max_bin': 8, 'grow_policy': 'SymmetricTree', 'min_data_in_leaf': 2, 'max_depth': 7, 'l2_leaf_reg': 37.2864137339134, 'one_hot_max_size': 10, 'auto_class_weights': 'Balanced'}. Best is trial 91 with value: 0.869164598677998.\u001b[0m\n"
     ]
    },
    {
     "name": "stdout",
     "output_type": "stream",
     "text": [
      "Stopped by overfitting detector  (10 iterations wait)\n"
     ]
    },
    {
     "name": "stderr",
     "output_type": "stream",
     "text": [
      "\u001b[32m[I 2021-05-09 03:27:33,888]\u001b[0m Trial 96 finished with value: 0.8635689328185624 and parameters: {'iterations': 1500, 'learning_rate': 0.015694469549151966, 'random_strength': 6, 'bagging_temperature': 9, 'max_bin': 8, 'grow_policy': 'SymmetricTree', 'min_data_in_leaf': 1, 'max_depth': 6, 'l2_leaf_reg': 0.00020886319847886032, 'one_hot_max_size': 10, 'auto_class_weights': 'Balanced'}. Best is trial 91 with value: 0.869164598677998.\u001b[0m\n"
     ]
    },
    {
     "name": "stdout",
     "output_type": "stream",
     "text": [
      "Stopped by overfitting detector  (10 iterations wait)\n"
     ]
    },
    {
     "name": "stderr",
     "output_type": "stream",
     "text": [
      "\u001b[32m[I 2021-05-09 03:32:34,871]\u001b[0m Trial 97 finished with value: 0.8678816197131894 and parameters: {'iterations': 1500, 'learning_rate': 0.03186569414500068, 'random_strength': 5, 'bagging_temperature': 10, 'max_bin': 8, 'grow_policy': 'SymmetricTree', 'min_data_in_leaf': 3, 'max_depth': 6, 'l2_leaf_reg': 19.999865428169546, 'one_hot_max_size': 10, 'auto_class_weights': 'Balanced'}. Best is trial 91 with value: 0.869164598677998.\u001b[0m\n"
     ]
    },
    {
     "name": "stdout",
     "output_type": "stream",
     "text": [
      "Stopped by overfitting detector  (10 iterations wait)\n"
     ]
    },
    {
     "name": "stderr",
     "output_type": "stream",
     "text": [
      "\u001b[32m[I 2021-05-09 03:35:18,805]\u001b[0m Trial 98 finished with value: 0.8684568322820374 and parameters: {'iterations': 1500, 'learning_rate': 0.04904635307115132, 'random_strength': 7, 'bagging_temperature': 10, 'max_bin': 8, 'grow_policy': 'SymmetricTree', 'min_data_in_leaf': 2, 'max_depth': 5, 'l2_leaf_reg': 6.507530246386912, 'one_hot_max_size': 10, 'auto_class_weights': 'Balanced'}. Best is trial 91 with value: 0.869164598677998.\u001b[0m\n",
      "\u001b[32m[I 2021-05-09 03:56:05,963]\u001b[0m Trial 99 finished with value: 0.8497806373079404 and parameters: {'iterations': 1500, 'learning_rate': 0.0012709539336798505, 'random_strength': 6, 'bagging_temperature': 9, 'max_bin': 8, 'grow_policy': 'SymmetricTree', 'min_data_in_leaf': 1, 'max_depth': 5, 'l2_leaf_reg': 64.94345023563059, 'one_hot_max_size': 10, 'auto_class_weights': 'Balanced'}. Best is trial 91 with value: 0.869164598677998.\u001b[0m\n"
     ]
    }
   ],
   "source": [
    "import optuna\n",
    "\n",
    "sampler = optuna.samplers.TPESampler(seed=68)  # Make the sampler behave in a deterministic way.\n",
    "study = optuna.create_study(direction=\"maximize\", sampler=sampler)\n",
    "study.optimize(objective, n_trials=100)"
   ]
  },
  {
   "cell_type": "code",
   "execution_count": 5,
   "metadata": {},
   "outputs": [
    {
     "name": "stdout",
     "output_type": "stream",
     "text": [
      "Number of finished trials: 100\n",
      "Best trial:\n",
      "  Value: 0.869164598677998\n",
      "  Params: \n",
      "    iterations=1500,\n",
      "    learning_rate=0.016831298709023414,\n",
      "    random_strength=5,\n",
      "    bagging_temperature=10,\n",
      "    max_bin=8,\n",
      "    grow_policy=SymmetricTree,\n",
      "    min_data_in_leaf=1,\n",
      "    max_depth=5,\n",
      "    l2_leaf_reg=88.82916512000496,\n",
      "    one_hot_max_size=10,\n",
      "    auto_class_weights=Balanced,\n"
     ]
    }
   ],
   "source": [
    "print(\"Number of finished trials: {}\".format(len(study.trials)))\n",
    "print(\"Best trial:\")\n",
    "trial = study.best_trial\n",
    "print(\"  Value: {}\".format(trial.value))\n",
    "print(\"  Params: \")\n",
    "for key, value in trial.params.items():\n",
    "    print(\"    {}={},\".format(key, value))"
   ]
  },
  {
   "cell_type": "code",
   "execution_count": 6,
   "metadata": {},
   "outputs": [],
   "source": [
    "final_model = CatBoostClassifier(verbose=False,  cat_features=categorical_features_indices, \n",
    "                          **trial.params)"
   ]
  },
  {
   "cell_type": "code",
   "execution_count": 7,
   "metadata": {},
   "outputs": [
    {
     "data": {
      "text/plain": [
       "<catboost.core.CatBoostClassifier at 0x226e7a55790>"
      ]
     },
     "execution_count": 7,
     "metadata": {},
     "output_type": "execute_result"
    }
   ],
   "source": [
    "final_model.fit(train_x, train_y.h1n1_vaccine)"
   ]
  },
  {
   "cell_type": "code",
   "execution_count": 9,
   "metadata": {},
   "outputs": [],
   "source": [
    "predictions_h1 = final_model.predict_proba(val_x)"
   ]
  },
  {
   "cell_type": "code",
   "execution_count": 13,
   "metadata": {},
   "outputs": [],
   "source": [
    "from sklearn.metrics import roc_curve, roc_auc_score"
   ]
  },
  {
   "cell_type": "code",
   "execution_count": 15,
   "metadata": {},
   "outputs": [],
   "source": [
    "def plot_roc(y_true, y_score, label_name, ax):\n",
    "    fpr, tpr, thresholds = roc_curve(y_true, y_score)\n",
    "    ax.plot(fpr, tpr)\n",
    "    ax.plot([0, 1], [0, 1], color='grey', linestyle='--')\n",
    "    ax.set_ylabel('TPR')\n",
    "    ax.set_xlabel('FPR')\n",
    "    ax.set_title(\n",
    "        f\"{label_name}: AUC = {roc_auc_score(y_true, y_score):.4f}\"\n",
    "    )"
   ]
  },
  {
   "cell_type": "code",
   "execution_count": 38,
   "metadata": {},
   "outputs": [
    {
     "data": {
      "image/png": "[encoded data removed]",
      "text/plain": [
       "<Figure size 720x576 with 1 Axes>"
      ]
     },
     "metadata": {
      "needs_background": "light"
     },
     "output_type": "display_data"
    }
   ],
   "source": [
    "import matplotlib.pyplot as plt\n",
    "\n",
    "fig, ax = plt.subplots(1, 1, figsize=(10, 8))\n",
    "plot_roc(\n",
    "    val_y['h1n1_vaccine'], \n",
    "    predictions_h1, \n",
    "    'h1n1_vaccine',\n",
    "    ax=ax\n",
    ")"
   ]
  },
  {
   "cell_type": "code",
   "execution_count": 23,
   "metadata": {},
   "outputs": [
    {
     "data": {
      "text/plain": [
       "0.8727109228584156"
      ]
     },
     "execution_count": 23,
     "metadata": {},
     "output_type": "execute_result"
    }
   ],
   "source": [
    "roc_auc_score(val_y.h1n1_vaccine, predictions_h1)"
   ]
  },
  {
   "cell_type": "markdown",
   "metadata": {},
   "source": [
    "## Second part"
   ]
  },
  {
   "cell_type": "code",
   "execution_count": 25,
   "metadata": {},
   "outputs": [],
   "source": [
    "train_dataset_se = Pool(data=train_x,\n",
    "                     label=train_y.seasonal_vaccine,\n",
    "                     cat_features = categorical_features_indices)"
   ]
  },
  {
   "cell_type": "code",
   "execution_count": 26,
   "metadata": {},
   "outputs": [],
   "source": [
    "def objective2(trial):\n",
    "    param = {\n",
    "        'iterations':trial.suggest_categorical('iterations', [100,200,300,500,1000,1200,1500]),\n",
    "        'learning_rate':trial.suggest_float(\"learning_rate\", 0.001, 0.3),\n",
    "        'random_strength':trial.suggest_int(\"random_strength\", 1,10),\n",
    "        'bagging_temperature':trial.suggest_int(\"bagging_temperature\", 0,10),\n",
    "        'max_bin':trial.suggest_categorical('max_bin', [4,5,6,8,10,20,30]),\n",
    "        'grow_policy':trial.suggest_categorical('grow_policy', ['SymmetricTree', 'Depthwise', 'Lossguide']),\n",
    "        'min_data_in_leaf':trial.suggest_int(\"min_data_in_leaf\", 1,10),\n",
    "        'od_type' : \"Iter\",\n",
    "        'od_wait' : 100,\n",
    "        \"depth\": trial.suggest_int(\"max_depth\", 2,10),\n",
    "        \"l2_leaf_reg\": trial.suggest_loguniform(\"l2_leaf_reg\", 1e-8, 100),\n",
    "         'one_hot_max_size':trial.suggest_categorical('one_hot_max_size', [5,10,12,100,500,1024]),\n",
    "        'custom_metric' : ['AUC'],\n",
    "        \"loss_function\": \"Logloss\",\n",
    "        'auto_class_weights':trial.suggest_categorical('auto_class_weights', ['Balanced', 'SqrtBalanced']),\n",
    "        }\n",
    "\n",
    "    scores = cv(train_dataset_se,\n",
    "            param,\n",
    "            fold_count=5, \n",
    "            early_stopping_rounds=10,         \n",
    "            plot=False, verbose=False) \n",
    "\n",
    "    return scores['test-AUC-mean'].max()"
   ]
  },
  {
   "cell_type": "code",
   "execution_count": 28,
   "metadata": {},
   "outputs": [
    {
     "name": "stderr",
     "output_type": "stream",
     "text": [
      "\u001b[32m[I 2021-05-09 14:51:11,020]\u001b[0m A new study created in memory with name: no-name-c55e8dcf-dc0d-4cb7-88cf-6a62ed0cfced\u001b[0m\n",
      "\u001b[32m[I 2021-05-09 14:52:06,032]\u001b[0m Trial 0 finished with value: 0.8601622373118065 and parameters: {'iterations': 1500, 'learning_rate': 0.029356482739949695, 'random_strength': 8, 'bagging_temperature': 10, 'max_bin': 6, 'grow_policy': 'SymmetricTree', 'min_data_in_leaf': 1, 'max_depth': 4, 'l2_leaf_reg': 0.001991194871120998, 'one_hot_max_size': 100, 'auto_class_weights': 'SqrtBalanced'}. Best is trial 0 with value: 0.8601622373118065.\u001b[0m\n"
     ]
    },
    {
     "name": "stdout",
     "output_type": "stream",
     "text": [
      "Stopped by overfitting detector  (10 iterations wait)\n"
     ]
    },
    {
     "name": "stderr",
     "output_type": "stream",
     "text": [
      "\u001b[32m[I 2021-05-09 14:52:21,379]\u001b[0m Trial 1 finished with value: 0.8595801104771932 and parameters: {'iterations': 200, 'learning_rate': 0.1464067066361795, 'random_strength': 10, 'bagging_temperature': 3, 'max_bin': 10, 'grow_policy': 'Depthwise', 'min_data_in_leaf': 1, 'max_depth': 3, 'l2_leaf_reg': 0.028402775147703313, 'one_hot_max_size': 500, 'auto_class_weights': 'SqrtBalanced'}. Best is trial 0 with value: 0.8601622373118065.\u001b[0m\n"
     ]
    },
    {
     "name": "stdout",
     "output_type": "stream",
     "text": [
      "Stopped by overfitting detector  (10 iterations wait)\n"
     ]
    },
    {
     "name": "stderr",
     "output_type": "stream",
     "text": [
      "\u001b[32m[I 2021-05-09 14:52:45,653]\u001b[0m Trial 2 finished with value: 0.8582552256082415 and parameters: {'iterations': 200, 'learning_rate': 0.27287829596201946, 'random_strength': 8, 'bagging_temperature': 8, 'max_bin': 10, 'grow_policy': 'SymmetricTree', 'min_data_in_leaf': 1, 'max_depth': 5, 'l2_leaf_reg': 0.027330135035255495, 'one_hot_max_size': 10, 'auto_class_weights': 'SqrtBalanced'}. Best is trial 0 with value: 0.8601622373118065.\u001b[0m\n"
     ]
    },
    {
     "name": "stdout",
     "output_type": "stream",
     "text": [
      "Stopped by overfitting detector  (10 iterations wait)\n"
     ]
    },
    {
     "name": "stderr",
     "output_type": "stream",
     "text": [
      "\u001b[32m[I 2021-05-09 14:54:55,602]\u001b[0m Trial 3 finished with value: 0.8598144786029269 and parameters: {'iterations': 1200, 'learning_rate': 0.0603209284932487, 'random_strength': 3, 'bagging_temperature': 7, 'max_bin': 4, 'grow_policy': 'SymmetricTree', 'min_data_in_leaf': 2, 'max_depth': 2, 'l2_leaf_reg': 1.300471404766049e-07, 'one_hot_max_size': 10, 'auto_class_weights': 'SqrtBalanced'}. Best is trial 0 with value: 0.8601622373118065.\u001b[0m\n"
     ]
    },
    {
     "name": "stdout",
     "output_type": "stream",
     "text": [
      "Stopped by overfitting detector  (10 iterations wait)\n"
     ]
    },
    {
     "name": "stderr",
     "output_type": "stream",
     "text": [
      "\u001b[32m[I 2021-05-09 14:55:04,656]\u001b[0m Trial 4 finished with value: 0.8574940430020064 and parameters: {'iterations': 300, 'learning_rate': 0.22423670437233847, 'random_strength': 6, 'bagging_temperature': 2, 'max_bin': 30, 'grow_policy': 'SymmetricTree', 'min_data_in_leaf': 4, 'max_depth': 4, 'l2_leaf_reg': 0.00010293033487726667, 'one_hot_max_size': 500, 'auto_class_weights': 'SqrtBalanced'}. Best is trial 0 with value: 0.8601622373118065.\u001b[0m\n"
     ]
    },
    {
     "name": "stdout",
     "output_type": "stream",
     "text": [
      "Stopped by overfitting detector  (10 iterations wait)\n"
     ]
    },
    {
     "name": "stderr",
     "output_type": "stream",
     "text": [
      "\u001b[32m[I 2021-05-09 14:55:13,640]\u001b[0m Trial 5 finished with value: 0.8472528367058247 and parameters: {'iterations': 100, 'learning_rate': 0.06628011038512191, 'random_strength': 4, 'bagging_temperature': 4, 'max_bin': 20, 'grow_policy': 'Lossguide', 'min_data_in_leaf': 3, 'max_depth': 2, 'l2_leaf_reg': 13.751833235431702, 'one_hot_max_size': 100, 'auto_class_weights': 'Balanced'}. Best is trial 0 with value: 0.8601622373118065.\u001b[0m\n",
      "\u001b[32m[I 2021-05-09 14:56:40,518]\u001b[0m Trial 6 finished with value: 0.8598189574069457 and parameters: {'iterations': 1200, 'learning_rate': 0.09658215406978513, 'random_strength': 8, 'bagging_temperature': 2, 'max_bin': 30, 'grow_policy': 'Depthwise', 'min_data_in_leaf': 6, 'max_depth': 10, 'l2_leaf_reg': 2.6558249848041764, 'one_hot_max_size': 5, 'auto_class_weights': 'SqrtBalanced'}. Best is trial 0 with value: 0.8601622373118065.\u001b[0m\n"
     ]
    },
    {
     "name": "stdout",
     "output_type": "stream",
     "text": [
      "Stopped by overfitting detector  (10 iterations wait)\n"
     ]
    },
    {
     "name": "stderr",
     "output_type": "stream",
     "text": [
      "\u001b[32m[I 2021-05-09 14:56:52,541]\u001b[0m Trial 7 finished with value: 0.8595436828436963 and parameters: {'iterations': 500, 'learning_rate': 0.2714096381817127, 'random_strength': 4, 'bagging_temperature': 6, 'max_bin': 8, 'grow_policy': 'Depthwise', 'min_data_in_leaf': 1, 'max_depth': 2, 'l2_leaf_reg': 4.9369231964322795, 'one_hot_max_size': 1024, 'auto_class_weights': 'Balanced'}. Best is trial 0 with value: 0.8601622373118065.\u001b[0m\n"
     ]
    },
    {
     "name": "stdout",
     "output_type": "stream",
     "text": [
      "Stopped by overfitting detector  (10 iterations wait)\n"
     ]
    },
    {
     "name": "stderr",
     "output_type": "stream",
     "text": [
      "\u001b[32m[I 2021-05-09 14:57:05,437]\u001b[0m Trial 8 finished with value: 0.8579519562452746 and parameters: {'iterations': 1500, 'learning_rate': 0.2053434310118264, 'random_strength': 8, 'bagging_temperature': 0, 'max_bin': 20, 'grow_policy': 'Depthwise', 'min_data_in_leaf': 10, 'max_depth': 3, 'l2_leaf_reg': 9.501510078266123e-06, 'one_hot_max_size': 500, 'auto_class_weights': 'SqrtBalanced'}. Best is trial 0 with value: 0.8601622373118065.\u001b[0m\n"
     ]
    },
    {
     "name": "stdout",
     "output_type": "stream",
     "text": [
      "Stopped by overfitting detector  (10 iterations wait)\n"
     ]
    },
    {
     "name": "stderr",
     "output_type": "stream",
     "text": [
      "\u001b[32m[I 2021-05-09 14:57:52,059]\u001b[0m Trial 9 finished with value: 0.8527239368256814 and parameters: {'iterations': 100, 'learning_rate': 0.25900665720714294, 'random_strength': 3, 'bagging_temperature': 0, 'max_bin': 6, 'grow_policy': 'Lossguide', 'min_data_in_leaf': 8, 'max_depth': 7, 'l2_leaf_reg': 1.1694576328936887e-07, 'one_hot_max_size': 12, 'auto_class_weights': 'SqrtBalanced'}. Best is trial 0 with value: 0.8601622373118065.\u001b[0m\n"
     ]
    },
    {
     "name": "stdout",
     "output_type": "stream",
     "text": [
      "Stopped by overfitting detector  (10 iterations wait)\n"
     ]
    },
    {
     "name": "stderr",
     "output_type": "stream",
     "text": [
      "\u001b[32m[I 2021-05-09 14:58:07,247]\u001b[0m Trial 10 finished with value: 0.8529289125270042 and parameters: {'iterations': 1000, 'learning_rate': 0.13021330281938878, 'random_strength': 10, 'bagging_temperature': 10, 'max_bin': 5, 'grow_policy': 'SymmetricTree', 'min_data_in_leaf': 5, 'max_depth': 7, 'l2_leaf_reg': 0.006320659045579619, 'one_hot_max_size': 100, 'auto_class_weights': 'Balanced'}. Best is trial 0 with value: 0.8601622373118065.\u001b[0m\n"
     ]
    },
    {
     "name": "stdout",
     "output_type": "stream",
     "text": [
      "Stopped by overfitting detector  (10 iterations wait)\n"
     ]
    },
    {
     "name": "stderr",
     "output_type": "stream",
     "text": [
      "\u001b[32m[I 2021-05-09 15:02:29,619]\u001b[0m Trial 11 finished with value: 0.8619446037913864 and parameters: {'iterations': 1200, 'learning_rate': 0.028802921007305166, 'random_strength': 7, 'bagging_temperature': 10, 'max_bin': 6, 'grow_policy': 'Depthwise', 'min_data_in_leaf': 7, 'max_depth': 10, 'l2_leaf_reg': 0.5053326329334117, 'one_hot_max_size': 5, 'auto_class_weights': 'SqrtBalanced'}. Best is trial 11 with value: 0.8619446037913864.\u001b[0m\n"
     ]
    },
    {
     "name": "stdout",
     "output_type": "stream",
     "text": [
      "Stopped by overfitting detector  (10 iterations wait)\n"
     ]
    },
    {
     "name": "stderr",
     "output_type": "stream",
     "text": [
      "\u001b[32m[I 2021-05-09 15:17:58,976]\u001b[0m Trial 12 finished with value: 0.8610070474060011 and parameters: {'iterations': 1500, 'learning_rate': 0.004806416713353634, 'random_strength': 6, 'bagging_temperature': 10, 'max_bin': 6, 'grow_policy': 'Depthwise', 'min_data_in_leaf': 7, 'max_depth': 10, 'l2_leaf_reg': 0.39274390182974916, 'one_hot_max_size': 5, 'auto_class_weights': 'SqrtBalanced'}. Best is trial 11 with value: 0.8619446037913864.\u001b[0m\n",
      "\u001b[32m[I 2021-05-09 15:34:10,887]\u001b[0m Trial 13 finished with value: 0.8553699332340257 and parameters: {'iterations': 1500, 'learning_rate': 0.0018539653874744778, 'random_strength': 6, 'bagging_temperature': 9, 'max_bin': 6, 'grow_policy': 'Depthwise', 'min_data_in_leaf': 8, 'max_depth': 10, 'l2_leaf_reg': 0.1344048180960952, 'one_hot_max_size': 5, 'auto_class_weights': 'SqrtBalanced'}. Best is trial 11 with value: 0.8619446037913864.\u001b[0m\n",
      "\u001b[32m[I 2021-05-09 15:46:07,274]\u001b[0m Trial 14 finished with value: 0.8627521749327866 and parameters: {'iterations': 1200, 'learning_rate': 0.005365810116370785, 'random_strength': 1, 'bagging_temperature': 10, 'max_bin': 6, 'grow_policy': 'Depthwise', 'min_data_in_leaf': 7, 'max_depth': 9, 'l2_leaf_reg': 79.59789255665319, 'one_hot_max_size': 5, 'auto_class_weights': 'SqrtBalanced'}. Best is trial 14 with value: 0.8627521749327866.\u001b[0m\n",
      "\u001b[32m[I 2021-05-09 15:48:15,141]\u001b[0m Trial 15 finished with value: 0.8633363372209552 and parameters: {'iterations': 1200, 'learning_rate': 0.03712180214817459, 'random_strength': 1, 'bagging_temperature': 8, 'max_bin': 6, 'grow_policy': 'Depthwise', 'min_data_in_leaf': 10, 'max_depth': 8, 'l2_leaf_reg': 21.860122017608457, 'one_hot_max_size': 5, 'auto_class_weights': 'SqrtBalanced'}. Best is trial 15 with value: 0.8633363372209552.\u001b[0m\n"
     ]
    },
    {
     "name": "stdout",
     "output_type": "stream",
     "text": [
      "Stopped by overfitting detector  (10 iterations wait)\n"
     ]
    },
    {
     "name": "stderr",
     "output_type": "stream",
     "text": [
      "\u001b[32m[I 2021-05-09 15:49:24,355]\u001b[0m Trial 16 finished with value: 0.862364944126987 and parameters: {'iterations': 1200, 'learning_rate': 0.08781690539854634, 'random_strength': 1, 'bagging_temperature': 8, 'max_bin': 6, 'grow_policy': 'Depthwise', 'min_data_in_leaf': 10, 'max_depth': 8, 'l2_leaf_reg': 90.16547309894712, 'one_hot_max_size': 5, 'auto_class_weights': 'SqrtBalanced'}. Best is trial 15 with value: 0.8633363372209552.\u001b[0m\n"
     ]
    },
    {
     "name": "stdout",
     "output_type": "stream",
     "text": [
      "Stopped by overfitting detector  (10 iterations wait)\n"
     ]
    },
    {
     "name": "stderr",
     "output_type": "stream",
     "text": [
      "\u001b[32m[I 2021-05-09 16:16:59,278]\u001b[0m Trial 17 finished with value: 0.8471413857287619 and parameters: {'iterations': 1200, 'learning_rate': 0.0010489943699003666, 'random_strength': 1, 'bagging_temperature': 5, 'max_bin': 4, 'grow_policy': 'Lossguide', 'min_data_in_leaf': 9, 'max_depth': 8, 'l2_leaf_reg': 84.8391590318839, 'one_hot_max_size': 5, 'auto_class_weights': 'Balanced'}. Best is trial 15 with value: 0.8633363372209552.\u001b[0m\n",
      "\u001b[32m[I 2021-05-09 16:18:11,338]\u001b[0m Trial 18 finished with value: 0.8632124025911303 and parameters: {'iterations': 1200, 'learning_rate': 0.03873280558903594, 'random_strength': 2, 'bagging_temperature': 8, 'max_bin': 5, 'grow_policy': 'Depthwise', 'min_data_in_leaf': 9, 'max_depth': 9, 'l2_leaf_reg': 47.07833804980341, 'one_hot_max_size': 1024, 'auto_class_weights': 'SqrtBalanced'}. Best is trial 15 with value: 0.8633363372209552.\u001b[0m\n"
     ]
    },
    {
     "name": "stdout",
     "output_type": "stream",
     "text": [
      "Stopped by overfitting detector  (10 iterations wait)\n"
     ]
    },
    {
     "name": "stderr",
     "output_type": "stream",
     "text": [
      "\u001b[32m[I 2021-05-09 16:18:43,830]\u001b[0m Trial 19 finished with value: 0.8553783554593846 and parameters: {'iterations': 300, 'learning_rate': 0.04546386594608555, 'random_strength': 2, 'bagging_temperature': 7, 'max_bin': 5, 'grow_policy': 'Depthwise', 'min_data_in_leaf': 10, 'max_depth': 8, 'l2_leaf_reg': 0.0001236863459209741, 'one_hot_max_size': 1024, 'auto_class_weights': 'SqrtBalanced'}. Best is trial 15 with value: 0.8633363372209552.\u001b[0m\n"
     ]
    },
    {
     "name": "stdout",
     "output_type": "stream",
     "text": [
      "Stopped by overfitting detector  (10 iterations wait)\n"
     ]
    },
    {
     "name": "stderr",
     "output_type": "stream",
     "text": [
      "\u001b[32m[I 2021-05-09 16:19:03,894]\u001b[0m Trial 20 finished with value: 0.861251437446182 and parameters: {'iterations': 500, 'learning_rate': 0.10836595795722473, 'random_strength': 2, 'bagging_temperature': 8, 'max_bin': 5, 'grow_policy': 'Depthwise', 'min_data_in_leaf': 9, 'max_depth': 6, 'l2_leaf_reg': 19.906387771046983, 'one_hot_max_size': 1024, 'auto_class_weights': 'Balanced'}. Best is trial 15 with value: 0.8633363372209552.\u001b[0m\n"
     ]
    },
    {
     "name": "stdout",
     "output_type": "stream",
     "text": [
      "Stopped by overfitting detector  (10 iterations wait)\n"
     ]
    },
    {
     "name": "stderr",
     "output_type": "stream",
     "text": [
      "\u001b[32m[I 2021-05-09 16:22:46,458]\u001b[0m Trial 21 finished with value: 0.8628191067282156 and parameters: {'iterations': 1200, 'learning_rate': 0.027052430356303277, 'random_strength': 1, 'bagging_temperature': 9, 'max_bin': 8, 'grow_policy': 'Depthwise', 'min_data_in_leaf': 9, 'max_depth': 9, 'l2_leaf_reg': 56.78549989682262, 'one_hot_max_size': 12, 'auto_class_weights': 'SqrtBalanced'}. Best is trial 15 with value: 0.8633363372209552.\u001b[0m\n"
     ]
    },
    {
     "name": "stdout",
     "output_type": "stream",
     "text": [
      "Stopped by overfitting detector  (10 iterations wait)\n"
     ]
    },
    {
     "name": "stderr",
     "output_type": "stream",
     "text": [
      "\u001b[32m[I 2021-05-09 16:24:02,747]\u001b[0m Trial 22 finished with value: 0.8601394119624078 and parameters: {'iterations': 1200, 'learning_rate': 0.06984726054339181, 'random_strength': 2, 'bagging_temperature': 6, 'max_bin': 8, 'grow_policy': 'Depthwise', 'min_data_in_leaf': 9, 'max_depth': 9, 'l2_leaf_reg': 1.643413916228117, 'one_hot_max_size': 12, 'auto_class_weights': 'SqrtBalanced'}. Best is trial 15 with value: 0.8633363372209552.\u001b[0m\n"
     ]
    },
    {
     "name": "stdout",
     "output_type": "stream",
     "text": [
      "Stopped by overfitting detector  (10 iterations wait)\n"
     ]
    },
    {
     "name": "stderr",
     "output_type": "stream",
     "text": [
      "\u001b[32m[I 2021-05-09 16:27:08,049]\u001b[0m Trial 23 finished with value: 0.863457140445831 and parameters: {'iterations': 1000, 'learning_rate': 0.03305355114751323, 'random_strength': 1, 'bagging_temperature': 9, 'max_bin': 8, 'grow_policy': 'Depthwise', 'min_data_in_leaf': 8, 'max_depth': 9, 'l2_leaf_reg': 82.29003949503945, 'one_hot_max_size': 12, 'auto_class_weights': 'SqrtBalanced'}. Best is trial 23 with value: 0.863457140445831.\u001b[0m\n"
     ]
    },
    {
     "name": "stdout",
     "output_type": "stream",
     "text": [
      "Stopped by overfitting detector  (10 iterations wait)\n"
     ]
    },
    {
     "name": "stderr",
     "output_type": "stream",
     "text": [
      "\u001b[32m[I 2021-05-09 16:27:51,167]\u001b[0m Trial 24 finished with value: 0.8608729529012409 and parameters: {'iterations': 1000, 'learning_rate': 0.11799977397728953, 'random_strength': 3, 'bagging_temperature': 9, 'max_bin': 5, 'grow_policy': 'Depthwise', 'min_data_in_leaf': 8, 'max_depth': 7, 'l2_leaf_reg': 7.4695568778591115, 'one_hot_max_size': 12, 'auto_class_weights': 'SqrtBalanced'}. Best is trial 23 with value: 0.863457140445831.\u001b[0m\n"
     ]
    },
    {
     "name": "stdout",
     "output_type": "stream",
     "text": [
      "Stopped by overfitting detector  (10 iterations wait)\n"
     ]
    },
    {
     "name": "stderr",
     "output_type": "stream",
     "text": [
      "\u001b[32m[I 2021-05-09 16:28:59,481]\u001b[0m Trial 25 finished with value: 0.8625829765267993 and parameters: {'iterations': 1000, 'learning_rate': 0.04670345535891107, 'random_strength': 4, 'bagging_temperature': 7, 'max_bin': 8, 'grow_policy': 'Depthwise', 'min_data_in_leaf': 10, 'max_depth': 9, 'l2_leaf_reg': 82.01033887944385, 'one_hot_max_size': 1024, 'auto_class_weights': 'SqrtBalanced'}. Best is trial 23 with value: 0.863457140445831.\u001b[0m\n"
     ]
    },
    {
     "name": "stdout",
     "output_type": "stream",
     "text": [
      "Stopped by overfitting detector  (10 iterations wait)\n"
     ]
    },
    {
     "name": "stderr",
     "output_type": "stream",
     "text": [
      "\u001b[32m[I 2021-05-09 16:29:14,339]\u001b[0m Trial 26 finished with value: 0.8589997378554797 and parameters: {'iterations': 1000, 'learning_rate': 0.1714531531800296, 'random_strength': 2, 'bagging_temperature': 6, 'max_bin': 5, 'grow_policy': 'Lossguide', 'min_data_in_leaf': 6, 'max_depth': 8, 'l2_leaf_reg': 1.0580283391111578, 'one_hot_max_size': 1024, 'auto_class_weights': 'SqrtBalanced'}. Best is trial 23 with value: 0.863457140445831.\u001b[0m\n"
     ]
    },
    {
     "name": "stdout",
     "output_type": "stream",
     "text": [
      "Stopped by overfitting detector  (10 iterations wait)\n"
     ]
    },
    {
     "name": "stderr",
     "output_type": "stream",
     "text": [
      "\u001b[32m[I 2021-05-09 16:29:58,966]\u001b[0m Trial 27 finished with value: 0.860766004934068 and parameters: {'iterations': 1000, 'learning_rate': 0.08030688332740973, 'random_strength': 1, 'bagging_temperature': 8, 'max_bin': 8, 'grow_policy': 'Depthwise', 'min_data_in_leaf': 8, 'max_depth': 6, 'l2_leaf_reg': 0.1057119009273888, 'one_hot_max_size': 12, 'auto_class_weights': 'SqrtBalanced'}. Best is trial 23 with value: 0.863457140445831.\u001b[0m\n"
     ]
    },
    {
     "name": "stdout",
     "output_type": "stream",
     "text": [
      "Stopped by overfitting detector  (10 iterations wait)\n"
     ]
    },
    {
     "name": "stderr",
     "output_type": "stream",
     "text": [
      "\u001b[32m[I 2021-05-09 16:31:08,642]\u001b[0m Trial 28 finished with value: 0.8621093791896028 and parameters: {'iterations': 500, 'learning_rate': 0.0397990893455594, 'random_strength': 3, 'bagging_temperature': 9, 'max_bin': 30, 'grow_policy': 'Depthwise', 'min_data_in_leaf': 9, 'max_depth': 9, 'l2_leaf_reg': 18.74232183837078, 'one_hot_max_size': 1024, 'auto_class_weights': 'SqrtBalanced'}. Best is trial 23 with value: 0.863457140445831.\u001b[0m\n"
     ]
    },
    {
     "name": "stdout",
     "output_type": "stream",
     "text": [
      "Stopped by overfitting detector  (10 iterations wait)\n"
     ]
    },
    {
     "name": "stderr",
     "output_type": "stream",
     "text": [
      "\u001b[32m[I 2021-05-09 16:32:19,982]\u001b[0m Trial 29 finished with value: 0.859356991711841 and parameters: {'iterations': 200, 'learning_rate': 0.020614222400799, 'random_strength': 2, 'bagging_temperature': 5, 'max_bin': 5, 'grow_policy': 'Depthwise', 'min_data_in_leaf': 10, 'max_depth': 7, 'l2_leaf_reg': 15.452397430833479, 'one_hot_max_size': 12, 'auto_class_weights': 'SqrtBalanced'}. Best is trial 23 with value: 0.863457140445831.\u001b[0m\n",
      "\u001b[32m[I 2021-05-09 16:32:59,673]\u001b[0m Trial 30 finished with value: 0.854958474981572 and parameters: {'iterations': 100, 'learning_rate': 0.055772842970322714, 'random_strength': 5, 'bagging_temperature': 7, 'max_bin': 8, 'grow_policy': 'Depthwise', 'min_data_in_leaf': 7, 'max_depth': 8, 'l2_leaf_reg': 0.0009642372991925828, 'one_hot_max_size': 10, 'auto_class_weights': 'SqrtBalanced'}. Best is trial 23 with value: 0.863457140445831.\u001b[0m\n",
      "\u001b[32m[I 2021-05-09 16:36:26,846]\u001b[0m Trial 31 finished with value: 0.8630762132540127 and parameters: {'iterations': 1200, 'learning_rate': 0.025131935880395168, 'random_strength': 1, 'bagging_temperature': 9, 'max_bin': 8, 'grow_policy': 'Depthwise', 'min_data_in_leaf': 9, 'max_depth': 9, 'l2_leaf_reg': 46.99242095718668, 'one_hot_max_size': 12, 'auto_class_weights': 'SqrtBalanced'}. Best is trial 23 with value: 0.863457140445831.\u001b[0m\n"
     ]
    },
    {
     "name": "stdout",
     "output_type": "stream",
     "text": [
      "Stopped by overfitting detector  (10 iterations wait)\n"
     ]
    },
    {
     "name": "stderr",
     "output_type": "stream",
     "text": [
      "\u001b[32m[I 2021-05-09 16:39:52,646]\u001b[0m Trial 32 finished with value: 0.8623606416324543 and parameters: {'iterations': 1200, 'learning_rate': 0.0196449865410541, 'random_strength': 1, 'bagging_temperature': 9, 'max_bin': 8, 'grow_policy': 'Depthwise', 'min_data_in_leaf': 9, 'max_depth': 9, 'l2_leaf_reg': 3.9502803187242628, 'one_hot_max_size': 12, 'auto_class_weights': 'SqrtBalanced'}. Best is trial 23 with value: 0.863457140445831.\u001b[0m\n"
     ]
    },
    {
     "name": "stdout",
     "output_type": "stream",
     "text": [
      "Stopped by overfitting detector  (10 iterations wait)\n"
     ]
    },
    {
     "name": "stderr",
     "output_type": "stream",
     "text": [
      "\u001b[32m[I 2021-05-09 16:43:21,211]\u001b[0m Trial 33 finished with value: 0.8632973684762979 and parameters: {'iterations': 1200, 'learning_rate': 0.03884252297502129, 'random_strength': 2, 'bagging_temperature': 8, 'max_bin': 10, 'grow_policy': 'Depthwise', 'min_data_in_leaf': 8, 'max_depth': 10, 'l2_leaf_reg': 95.30498610204435, 'one_hot_max_size': 12, 'auto_class_weights': 'SqrtBalanced'}. Best is trial 23 with value: 0.863457140445831.\u001b[0m\n"
     ]
    },
    {
     "name": "stdout",
     "output_type": "stream",
     "text": [
      "Stopped by overfitting detector  (10 iterations wait)\n"
     ]
    },
    {
     "name": "stderr",
     "output_type": "stream",
     "text": [
      "\u001b[32m[I 2021-05-09 16:44:49,070]\u001b[0m Trial 34 finished with value: 0.8616511740684031 and parameters: {'iterations': 1200, 'learning_rate': 0.07791953717722755, 'random_strength': 2, 'bagging_temperature': 8, 'max_bin': 10, 'grow_policy': 'Depthwise', 'min_data_in_leaf': 8, 'max_depth': 10, 'l2_leaf_reg': 22.905113856365297, 'one_hot_max_size': 12, 'auto_class_weights': 'SqrtBalanced'}. Best is trial 23 with value: 0.863457140445831.\u001b[0m\n"
     ]
    },
    {
     "name": "stdout",
     "output_type": "stream",
     "text": [
      "Stopped by overfitting detector  (10 iterations wait)\n"
     ]
    },
    {
     "name": "stderr",
     "output_type": "stream",
     "text": [
      "\u001b[32m[I 2021-05-09 16:45:07,266]\u001b[0m Trial 35 finished with value: 0.8338367856819688 and parameters: {'iterations': 200, 'learning_rate': 0.15413590330845148, 'random_strength': 3, 'bagging_temperature': 7, 'max_bin': 10, 'grow_policy': 'Depthwise', 'min_data_in_leaf': 6, 'max_depth': 10, 'l2_leaf_reg': 1.3854614114808697e-08, 'one_hot_max_size': 10, 'auto_class_weights': 'SqrtBalanced'}. Best is trial 23 with value: 0.863457140445831.\u001b[0m\n"
     ]
    },
    {
     "name": "stdout",
     "output_type": "stream",
     "text": [
      "Stopped by overfitting detector  (10 iterations wait)\n"
     ]
    },
    {
     "name": "stderr",
     "output_type": "stream",
     "text": [
      "\u001b[32m[I 2021-05-09 16:45:31,780]\u001b[0m Trial 36 finished with value: 0.8588369039325325 and parameters: {'iterations': 300, 'learning_rate': 0.05431452228820234, 'random_strength': 2, 'bagging_temperature': 8, 'max_bin': 10, 'grow_policy': 'SymmetricTree', 'min_data_in_leaf': 8, 'max_depth': 8, 'l2_leaf_reg': 0.04721845437930483, 'one_hot_max_size': 500, 'auto_class_weights': 'SqrtBalanced'}. Best is trial 23 with value: 0.863457140445831.\u001b[0m\n"
     ]
    },
    {
     "name": "stdout",
     "output_type": "stream",
     "text": [
      "Stopped by overfitting detector  (10 iterations wait)\n"
     ]
    },
    {
     "name": "stderr",
     "output_type": "stream",
     "text": [
      "\u001b[32m[I 2021-05-09 16:46:11,139]\u001b[0m Trial 37 finished with value: 0.8564823265522555 and parameters: {'iterations': 1200, 'learning_rate': 0.09405876175580583, 'random_strength': 3, 'bagging_temperature': 6, 'max_bin': 10, 'grow_policy': 'SymmetricTree', 'min_data_in_leaf': 5, 'max_depth': 10, 'l2_leaf_reg': 1.3072647017623618, 'one_hot_max_size': 100, 'auto_class_weights': 'SqrtBalanced'}. Best is trial 23 with value: 0.863457140445831.\u001b[0m\n"
     ]
    },
    {
     "name": "stdout",
     "output_type": "stream",
     "text": [
      "Stopped by overfitting detector  (10 iterations wait)\n",
      "Stopped by overfitting detector  (10 iterations wait)\n"
     ]
    },
    {
     "name": "stderr",
     "output_type": "stream",
     "text": [
      "\u001b[32m[I 2021-05-09 16:48:22,667]\u001b[0m Trial 38 finished with value: 0.8629305129761107 and parameters: {'iterations': 1000, 'learning_rate': 0.04007745519779967, 'random_strength': 5, 'bagging_temperature': 4, 'max_bin': 4, 'grow_policy': 'Depthwise', 'min_data_in_leaf': 10, 'max_depth': 5, 'l2_leaf_reg': 5.890661686904427, 'one_hot_max_size': 12, 'auto_class_weights': 'SqrtBalanced'}. Best is trial 23 with value: 0.863457140445831.\u001b[0m\n",
      "\u001b[32m[I 2021-05-09 16:48:53,800]\u001b[0m Trial 39 finished with value: 0.859291805049638 and parameters: {'iterations': 1200, 'learning_rate': 0.06651123869243686, 'random_strength': 4, 'bagging_temperature': 8, 'max_bin': 20, 'grow_policy': 'Lossguide', 'min_data_in_leaf': 7, 'max_depth': 9, 'l2_leaf_reg': 0.008424096781619001, 'one_hot_max_size': 1024, 'auto_class_weights': 'Balanced'}. Best is trial 23 with value: 0.863457140445831.\u001b[0m\n"
     ]
    },
    {
     "name": "stdout",
     "output_type": "stream",
     "text": [
      "Stopped by overfitting detector  (10 iterations wait)\n"
     ]
    },
    {
     "name": "stderr",
     "output_type": "stream",
     "text": [
      "\u001b[32m[I 2021-05-09 16:50:33,570]\u001b[0m Trial 40 finished with value: 0.8625130155601546 and parameters: {'iterations': 1200, 'learning_rate': 0.014840983104191699, 'random_strength': 1, 'bagging_temperature': 7, 'max_bin': 10, 'grow_policy': 'Depthwise', 'min_data_in_leaf': 8, 'max_depth': 8, 'l2_leaf_reg': 0.3039687172811694, 'one_hot_max_size': 500, 'auto_class_weights': 'SqrtBalanced'}. Best is trial 23 with value: 0.863457140445831.\u001b[0m\n"
     ]
    },
    {
     "name": "stdout",
     "output_type": "stream",
     "text": [
      "Stopped by overfitting detector  (10 iterations wait)\n"
     ]
    },
    {
     "name": "stderr",
     "output_type": "stream",
     "text": [
      "\u001b[32m[I 2021-05-09 16:53:35,050]\u001b[0m Trial 41 finished with value: 0.8632375334244191 and parameters: {'iterations': 1200, 'learning_rate': 0.03106584713497279, 'random_strength': 1, 'bagging_temperature': 9, 'max_bin': 8, 'grow_policy': 'Depthwise', 'min_data_in_leaf': 9, 'max_depth': 9, 'l2_leaf_reg': 38.71477146939, 'one_hot_max_size': 12, 'auto_class_weights': 'SqrtBalanced'}. Best is trial 23 with value: 0.863457140445831.\u001b[0m\n"
     ]
    },
    {
     "name": "stdout",
     "output_type": "stream",
     "text": [
      "Stopped by overfitting detector  (10 iterations wait)\n"
     ]
    },
    {
     "name": "stderr",
     "output_type": "stream",
     "text": [
      "\u001b[32m[I 2021-05-09 16:57:09,467]\u001b[0m Trial 42 finished with value: 0.863162552711556 and parameters: {'iterations': 1200, 'learning_rate': 0.03648460958576231, 'random_strength': 2, 'bagging_temperature': 10, 'max_bin': 8, 'grow_policy': 'Depthwise', 'min_data_in_leaf': 9, 'max_depth': 9, 'l2_leaf_reg': 88.63856123550477, 'one_hot_max_size': 12, 'auto_class_weights': 'SqrtBalanced'}. Best is trial 23 with value: 0.863457140445831.\u001b[0m\n"
     ]
    },
    {
     "name": "stdout",
     "output_type": "stream",
     "text": [
      "Stopped by overfitting detector  (10 iterations wait)\n"
     ]
    },
    {
     "name": "stderr",
     "output_type": "stream",
     "text": [
      "\u001b[32m[I 2021-05-09 16:58:46,867]\u001b[0m Trial 43 finished with value: 0.8619355167560023 and parameters: {'iterations': 1200, 'learning_rate': 0.05939900289904469, 'random_strength': 1, 'bagging_temperature': 9, 'max_bin': 30, 'grow_policy': 'Depthwise', 'min_data_in_leaf': 10, 'max_depth': 10, 'l2_leaf_reg': 20.809637136273917, 'one_hot_max_size': 12, 'auto_class_weights': 'SqrtBalanced'}. Best is trial 23 with value: 0.863457140445831.\u001b[0m\n"
     ]
    },
    {
     "name": "stdout",
     "output_type": "stream",
     "text": [
      "Stopped by overfitting detector  (10 iterations wait)\n"
     ]
    },
    {
     "name": "stderr",
     "output_type": "stream",
     "text": [
      "\u001b[32m[I 2021-05-09 16:59:43,190]\u001b[0m Trial 44 finished with value: 0.8486099272759773 and parameters: {'iterations': 100, 'learning_rate': 0.01337481028712701, 'random_strength': 3, 'bagging_temperature': 8, 'max_bin': 20, 'grow_policy': 'Depthwise', 'min_data_in_leaf': 8, 'max_depth': 10, 'l2_leaf_reg': 5.163592344515008, 'one_hot_max_size': 12, 'auto_class_weights': 'SqrtBalanced'}. Best is trial 23 with value: 0.863457140445831.\u001b[0m\n",
      "\u001b[32m[I 2021-05-09 17:00:06,330]\u001b[0m Trial 45 finished with value: 0.8616388602899759 and parameters: {'iterations': 1200, 'learning_rate': 0.10418568721348001, 'random_strength': 2, 'bagging_temperature': 10, 'max_bin': 6, 'grow_policy': 'Depthwise', 'min_data_in_leaf': 9, 'max_depth': 7, 'l2_leaf_reg': 35.21513792468995, 'one_hot_max_size': 100, 'auto_class_weights': 'SqrtBalanced'}. Best is trial 23 with value: 0.863457140445831.\u001b[0m\n"
     ]
    },
    {
     "name": "stdout",
     "output_type": "stream",
     "text": [
      "Stopped by overfitting detector  (10 iterations wait)\n"
     ]
    },
    {
     "name": "stderr",
     "output_type": "stream",
     "text": [
      "\u001b[32m[I 2021-05-09 17:02:03,775]\u001b[0m Trial 46 finished with value: 0.8612286137038607 and parameters: {'iterations': 200, 'learning_rate': 0.0741530134888786, 'random_strength': 10, 'bagging_temperature': 9, 'max_bin': 10, 'grow_policy': 'SymmetricTree', 'min_data_in_leaf': 10, 'max_depth': 9, 'l2_leaf_reg': 10.056092205002642, 'one_hot_max_size': 10, 'auto_class_weights': 'SqrtBalanced'}. Best is trial 23 with value: 0.863457140445831.\u001b[0m\n",
      "\u001b[32m[I 2021-05-09 17:02:19,039]\u001b[0m Trial 47 finished with value: 0.8554167064719458 and parameters: {'iterations': 1500, 'learning_rate': 0.2927431868847321, 'random_strength': 1, 'bagging_temperature': 7, 'max_bin': 8, 'grow_policy': 'Depthwise', 'min_data_in_leaf': 7, 'max_depth': 8, 'l2_leaf_reg': 2.157482670380523, 'one_hot_max_size': 5, 'auto_class_weights': 'SqrtBalanced'}. Best is trial 23 with value: 0.863457140445831.\u001b[0m\n"
     ]
    },
    {
     "name": "stdout",
     "output_type": "stream",
     "text": [
      "Stopped by overfitting detector  (10 iterations wait)\n"
     ]
    },
    {
     "name": "stderr",
     "output_type": "stream",
     "text": [
      "\u001b[32m[I 2021-05-09 17:24:04,170]\u001b[0m Trial 48 finished with value: 0.8534169347116574 and parameters: {'iterations': 1200, 'learning_rate': 0.0012464669234276832, 'random_strength': 2, 'bagging_temperature': 8, 'max_bin': 4, 'grow_policy': 'Depthwise', 'min_data_in_leaf': 3, 'max_depth': 10, 'l2_leaf_reg': 4.233528984763037e-06, 'one_hot_max_size': 12, 'auto_class_weights': 'SqrtBalanced'}. Best is trial 23 with value: 0.863457140445831.\u001b[0m\n",
      "\u001b[32m[I 2021-05-09 17:26:21,549]\u001b[0m Trial 49 finished with value: 0.8597780285686923 and parameters: {'iterations': 300, 'learning_rate': 0.0332369007802545, 'random_strength': 9, 'bagging_temperature': 10, 'max_bin': 6, 'grow_policy': 'Depthwise', 'min_data_in_leaf': 8, 'max_depth': 9, 'l2_leaf_reg': 0.8349476774550885, 'one_hot_max_size': 5, 'auto_class_weights': 'Balanced'}. Best is trial 23 with value: 0.863457140445831.\u001b[0m\n",
      "\u001b[32m[I 2021-05-09 17:26:59,562]\u001b[0m Trial 50 finished with value: 0.8625949766486993 and parameters: {'iterations': 1000, 'learning_rate': 0.049585677422803794, 'random_strength': 1, 'bagging_temperature': 9, 'max_bin': 5, 'grow_policy': 'Lossguide', 'min_data_in_leaf': 9, 'max_depth': 10, 'l2_leaf_reg': 40.249800778562424, 'one_hot_max_size': 1024, 'auto_class_weights': 'SqrtBalanced'}. Best is trial 23 with value: 0.863457140445831.\u001b[0m\n"
     ]
    },
    {
     "name": "stdout",
     "output_type": "stream",
     "text": [
      "Stopped by overfitting detector  (10 iterations wait)\n"
     ]
    },
    {
     "name": "stderr",
     "output_type": "stream",
     "text": [
      "\u001b[32m[I 2021-05-09 17:30:52,884]\u001b[0m Trial 51 finished with value: 0.863244355606757 and parameters: {'iterations': 1200, 'learning_rate': 0.03275547225621445, 'random_strength': 2, 'bagging_temperature': 10, 'max_bin': 8, 'grow_policy': 'Depthwise', 'min_data_in_leaf': 9, 'max_depth': 9, 'l2_leaf_reg': 99.69235052115198, 'one_hot_max_size': 12, 'auto_class_weights': 'SqrtBalanced'}. Best is trial 23 with value: 0.863457140445831.\u001b[0m\n"
     ]
    },
    {
     "name": "stdout",
     "output_type": "stream",
     "text": [
      "Stopped by overfitting detector  (10 iterations wait)\n"
     ]
    },
    {
     "name": "stderr",
     "output_type": "stream",
     "text": [
      "\u001b[32m[I 2021-05-09 17:40:26,281]\u001b[0m Trial 52 finished with value: 0.8638540964000672 and parameters: {'iterations': 1200, 'learning_rate': 0.012133095913870618, 'random_strength': 2, 'bagging_temperature': 10, 'max_bin': 8, 'grow_policy': 'Depthwise', 'min_data_in_leaf': 10, 'max_depth': 9, 'l2_leaf_reg': 98.60792390256522, 'one_hot_max_size': 12, 'auto_class_weights': 'SqrtBalanced'}. Best is trial 52 with value: 0.8638540964000672.\u001b[0m\n",
      "\u001b[32m[I 2021-05-09 17:48:15,887]\u001b[0m Trial 53 finished with value: 0.8636315673330721 and parameters: {'iterations': 1200, 'learning_rate': 0.011758371920207178, 'random_strength': 3, 'bagging_temperature': 10, 'max_bin': 8, 'grow_policy': 'Depthwise', 'min_data_in_leaf': 10, 'max_depth': 8, 'l2_leaf_reg': 97.64372432647822, 'one_hot_max_size': 12, 'auto_class_weights': 'SqrtBalanced'}. Best is trial 52 with value: 0.8638540964000672.\u001b[0m\n",
      "\u001b[32m[I 2021-05-09 17:56:30,004]\u001b[0m Trial 54 finished with value: 0.8633541143349273 and parameters: {'iterations': 1200, 'learning_rate': 0.010642462069120142, 'random_strength': 4, 'bagging_temperature': 10, 'max_bin': 8, 'grow_policy': 'Depthwise', 'min_data_in_leaf': 10, 'max_depth': 8, 'l2_leaf_reg': 9.723643290473861, 'one_hot_max_size': 12, 'auto_class_weights': 'SqrtBalanced'}. Best is trial 52 with value: 0.8638540964000672.\u001b[0m\n",
      "\u001b[32m[I 2021-05-09 18:03:14,988]\u001b[0m Trial 55 finished with value: 0.8616876794261712 and parameters: {'iterations': 1200, 'learning_rate': 0.008166084767251962, 'random_strength': 4, 'bagging_temperature': 10, 'max_bin': 8, 'grow_policy': 'Depthwise', 'min_data_in_leaf': 10, 'max_depth': 7, 'l2_leaf_reg': 8.904328491779731, 'one_hot_max_size': 12, 'auto_class_weights': 'SqrtBalanced'}. Best is trial 52 with value: 0.8638540964000672.\u001b[0m\n",
      "\u001b[32m[I 2021-05-09 18:06:35,934]\u001b[0m Trial 56 finished with value: 0.8593722494231628 and parameters: {'iterations': 500, 'learning_rate': 0.012837738148538974, 'random_strength': 3, 'bagging_temperature': 10, 'max_bin': 8, 'grow_policy': 'Depthwise', 'min_data_in_leaf': 10, 'max_depth': 8, 'l2_leaf_reg': 95.55174470177617, 'one_hot_max_size': 12, 'auto_class_weights': 'SqrtBalanced'}. Best is trial 52 with value: 0.8638540964000672.\u001b[0m\n",
      "\u001b[32m[I 2021-05-09 18:13:09,729]\u001b[0m Trial 57 finished with value: 0.8493014690665632 and parameters: {'iterations': 1200, 'learning_rate': 0.001777925259361329, 'random_strength': 5, 'bagging_temperature': 2, 'max_bin': 8, 'grow_policy': 'Depthwise', 'min_data_in_leaf': 10, 'max_depth': 7, 'l2_leaf_reg': 2.6264427751717747, 'one_hot_max_size': 12, 'auto_class_weights': 'SqrtBalanced'}. Best is trial 52 with value: 0.8638540964000672.\u001b[0m\n",
      "\u001b[32m[I 2021-05-09 18:17:34,743]\u001b[0m Trial 58 finished with value: 0.8633667328216686 and parameters: {'iterations': 1200, 'learning_rate': 0.021473402482387265, 'random_strength': 4, 'bagging_temperature': 10, 'max_bin': 8, 'grow_policy': 'Depthwise', 'min_data_in_leaf': 5, 'max_depth': 8, 'l2_leaf_reg': 10.647826048378835, 'one_hot_max_size': 12, 'auto_class_weights': 'SqrtBalanced'}. Best is trial 52 with value: 0.8638540964000672.\u001b[0m\n"
     ]
    },
    {
     "name": "stdout",
     "output_type": "stream",
     "text": [
      "Stopped by overfitting detector  (10 iterations wait)\n"
     ]
    },
    {
     "name": "stderr",
     "output_type": "stream",
     "text": [
      "\u001b[32m[I 2021-05-09 18:28:54,420]\u001b[0m Trial 59 finished with value: 0.8514579506322925 and parameters: {'iterations': 1500, 'learning_rate': 0.0012737977919170685, 'random_strength': 4, 'bagging_temperature': 10, 'max_bin': 8, 'grow_policy': 'Depthwise', 'min_data_in_leaf': 4, 'max_depth': 8, 'l2_leaf_reg': 0.40663609931994243, 'one_hot_max_size': 5, 'auto_class_weights': 'SqrtBalanced'}. Best is trial 52 with value: 0.8638540964000672.\u001b[0m\n",
      "\u001b[32m[I 2021-05-09 18:33:34,026]\u001b[0m Trial 60 finished with value: 0.863261866592681 and parameters: {'iterations': 1000, 'learning_rate': 0.01869500211010696, 'random_strength': 5, 'bagging_temperature': 10, 'max_bin': 8, 'grow_policy': 'Depthwise', 'min_data_in_leaf': 5, 'max_depth': 7, 'l2_leaf_reg': 11.779062382501213, 'one_hot_max_size': 12, 'auto_class_weights': 'Balanced'}. Best is trial 52 with value: 0.8638540964000672.\u001b[0m\n"
     ]
    },
    {
     "name": "stdout",
     "output_type": "stream",
     "text": [
      "Stopped by overfitting detector  (10 iterations wait)\n"
     ]
    },
    {
     "name": "stderr",
     "output_type": "stream",
     "text": [
      "\u001b[32m[I 2021-05-09 18:37:29,975]\u001b[0m Trial 61 finished with value: 0.8629405484947622 and parameters: {'iterations': 1200, 'learning_rate': 0.02568257244094819, 'random_strength': 4, 'bagging_temperature': 9, 'max_bin': 8, 'grow_policy': 'Depthwise', 'min_data_in_leaf': 4, 'max_depth': 8, 'l2_leaf_reg': 3.368188109214526, 'one_hot_max_size': 12, 'auto_class_weights': 'SqrtBalanced'}. Best is trial 52 with value: 0.8638540964000672.\u001b[0m\n"
     ]
    },
    {
     "name": "stdout",
     "output_type": "stream",
     "text": [
      "Stopped by overfitting detector  (10 iterations wait)\n"
     ]
    },
    {
     "name": "stderr",
     "output_type": "stream",
     "text": [
      "\u001b[32m[I 2021-05-09 18:44:45,886]\u001b[0m Trial 62 finished with value: 0.8635212600305829 and parameters: {'iterations': 1200, 'learning_rate': 0.013039377077545601, 'random_strength': 3, 'bagging_temperature': 10, 'max_bin': 6, 'grow_policy': 'Depthwise', 'min_data_in_leaf': 5, 'max_depth': 8, 'l2_leaf_reg': 24.85919174737203, 'one_hot_max_size': 12, 'auto_class_weights': 'SqrtBalanced'}. Best is trial 52 with value: 0.8638540964000672.\u001b[0m\n"
     ]
    },
    {
     "name": "stdout",
     "output_type": "stream",
     "text": [
      "Stopped by overfitting detector  (10 iterations wait)\n"
     ]
    },
    {
     "name": "stderr",
     "output_type": "stream",
     "text": [
      "\u001b[32m[I 2021-05-09 18:53:17,997]\u001b[0m Trial 63 finished with value: 0.863532179372777 and parameters: {'iterations': 1200, 'learning_rate': 0.010288774502093048, 'random_strength': 3, 'bagging_temperature': 10, 'max_bin': 6, 'grow_policy': 'Depthwise', 'min_data_in_leaf': 6, 'max_depth': 8, 'l2_leaf_reg': 29.696494392479114, 'one_hot_max_size': 12, 'auto_class_weights': 'SqrtBalanced'}. Best is trial 52 with value: 0.8638540964000672.\u001b[0m\n",
      "\u001b[32m[I 2021-05-09 19:01:58,415]\u001b[0m Trial 64 finished with value: 0.863028173021989 and parameters: {'iterations': 1200, 'learning_rate': 0.009553734381236611, 'random_strength': 3, 'bagging_temperature': 10, 'max_bin': 6, 'grow_policy': 'Depthwise', 'min_data_in_leaf': 5, 'max_depth': 8, 'l2_leaf_reg': 30.20014473603511, 'one_hot_max_size': 12, 'auto_class_weights': 'SqrtBalanced'}. Best is trial 52 with value: 0.8638540964000672.\u001b[0m\n",
      "\u001b[32m[I 2021-05-09 19:02:23,904]\u001b[0m Trial 65 finished with value: 0.8587609396706375 and parameters: {'iterations': 1200, 'learning_rate': 0.2305311900740938, 'random_strength': 4, 'bagging_temperature': 10, 'max_bin': 6, 'grow_policy': 'Depthwise', 'min_data_in_leaf': 6, 'max_depth': 7, 'l2_leaf_reg': 7.837580235452683, 'one_hot_max_size': 12, 'auto_class_weights': 'SqrtBalanced'}. Best is trial 52 with value: 0.8638540964000672.\u001b[0m\n"
     ]
    },
    {
     "name": "stdout",
     "output_type": "stream",
     "text": [
      "Stopped by overfitting detector  (10 iterations wait)\n"
     ]
    },
    {
     "name": "stderr",
     "output_type": "stream",
     "text": [
      "\u001b[32m[I 2021-05-09 19:05:55,066]\u001b[0m Trial 66 finished with value: 0.8634000138431996 and parameters: {'iterations': 1200, 'learning_rate': 0.023572691495286697, 'random_strength': 3, 'bagging_temperature': 10, 'max_bin': 6, 'grow_policy': 'Depthwise', 'min_data_in_leaf': 5, 'max_depth': 6, 'l2_leaf_reg': 11.60222843259783, 'one_hot_max_size': 12, 'auto_class_weights': 'SqrtBalanced'}. Best is trial 52 with value: 0.8638540964000672.\u001b[0m\n"
     ]
    },
    {
     "name": "stdout",
     "output_type": "stream",
     "text": [
      "Stopped by overfitting detector  (10 iterations wait)\n"
     ]
    },
    {
     "name": "stderr",
     "output_type": "stream",
     "text": [
      "\u001b[32m[I 2021-05-09 19:06:18,278]\u001b[0m Trial 67 finished with value: 0.8535652106764905 and parameters: {'iterations': 100, 'learning_rate': 0.04672963881516032, 'random_strength': 3, 'bagging_temperature': 9, 'max_bin': 6, 'grow_policy': 'Depthwise', 'min_data_in_leaf': 5, 'max_depth': 4, 'l2_leaf_reg': 0.1742111400534251, 'one_hot_max_size': 12, 'auto_class_weights': 'SqrtBalanced'}. Best is trial 52 with value: 0.8638540964000672.\u001b[0m\n",
      "\u001b[32m[I 2021-05-09 19:17:23,984]\u001b[0m Trial 68 finished with value: 0.8609747688701713 and parameters: {'iterations': 1200, 'learning_rate': 0.02032342953954496, 'random_strength': 3, 'bagging_temperature': 10, 'max_bin': 6, 'grow_policy': 'SymmetricTree', 'min_data_in_leaf': 4, 'max_depth': 3, 'l2_leaf_reg': 50.67486656609473, 'one_hot_max_size': 12, 'auto_class_weights': 'SqrtBalanced'}. Best is trial 52 with value: 0.8638540964000672.\u001b[0m\n",
      "\u001b[32m[I 2021-05-09 19:18:41,571]\u001b[0m Trial 69 finished with value: 0.8627794441869578 and parameters: {'iterations': 1200, 'learning_rate': 0.06206160974909803, 'random_strength': 3, 'bagging_temperature': 9, 'max_bin': 6, 'grow_policy': 'Depthwise', 'min_data_in_leaf': 3, 'max_depth': 6, 'l2_leaf_reg': 16.098014377442233, 'one_hot_max_size': 12, 'auto_class_weights': 'SqrtBalanced'}. Best is trial 52 with value: 0.8638540964000672.\u001b[0m\n"
     ]
    },
    {
     "name": "stdout",
     "output_type": "stream",
     "text": [
      "Stopped by overfitting detector  (10 iterations wait)\n"
     ]
    },
    {
     "name": "stderr",
     "output_type": "stream",
     "text": [
      "\u001b[32m[I 2021-05-09 19:27:44,597]\u001b[0m Trial 70 finished with value: 0.8627059550807832 and parameters: {'iterations': 1000, 'learning_rate': 0.027655936884419523, 'random_strength': 3, 'bagging_temperature': 10, 'max_bin': 6, 'grow_policy': 'Lossguide', 'min_data_in_leaf': 6, 'max_depth': 6, 'l2_leaf_reg': 2.0554329788632146, 'one_hot_max_size': 12, 'auto_class_weights': 'SqrtBalanced'}. Best is trial 52 with value: 0.8638540964000672.\u001b[0m\n"
     ]
    },
    {
     "name": "stdout",
     "output_type": "stream",
     "text": [
      "Stopped by overfitting detector  (10 iterations wait)\n"
     ]
    },
    {
     "name": "stderr",
     "output_type": "stream",
     "text": [
      "\u001b[32m[I 2021-05-09 19:36:38,361]\u001b[0m Trial 71 finished with value: 0.8589849782941481 and parameters: {'iterations': 1200, 'learning_rate': 0.005336449830735261, 'random_strength': 4, 'bagging_temperature': 10, 'max_bin': 8, 'grow_policy': 'Depthwise', 'min_data_in_leaf': 5, 'max_depth': 8, 'l2_leaf_reg': 98.48405300215356, 'one_hot_max_size': 12, 'auto_class_weights': 'SqrtBalanced'}. Best is trial 52 with value: 0.8638540964000672.\u001b[0m\n",
      "\u001b[32m[I 2021-05-09 19:41:43,565]\u001b[0m Trial 72 finished with value: 0.8631669057130573 and parameters: {'iterations': 1200, 'learning_rate': 0.012485706683537576, 'random_strength': 4, 'bagging_temperature': 10, 'max_bin': 8, 'grow_policy': 'Depthwise', 'min_data_in_leaf': 4, 'max_depth': 5, 'l2_leaf_reg': 4.798442687713954, 'one_hot_max_size': 12, 'auto_class_weights': 'SqrtBalanced'}. Best is trial 52 with value: 0.8638540964000672.\u001b[0m\n",
      "\u001b[32m[I 2021-05-09 19:46:40,680]\u001b[0m Trial 73 finished with value: 0.8624285978283377 and parameters: {'iterations': 1200, 'learning_rate': 0.015895293842810472, 'random_strength': 3, 'bagging_temperature': 9, 'max_bin': 6, 'grow_policy': 'Depthwise', 'min_data_in_leaf': 6, 'max_depth': 8, 'l2_leaf_reg': 0.7205324194243371, 'one_hot_max_size': 12, 'auto_class_weights': 'SqrtBalanced'}. Best is trial 52 with value: 0.8638540964000672.\u001b[0m\n"
     ]
    },
    {
     "name": "stdout",
     "output_type": "stream",
     "text": [
      "Stopped by overfitting detector  (10 iterations wait)\n"
     ]
    },
    {
     "name": "stderr",
     "output_type": "stream",
     "text": [
      "\u001b[32m[I 2021-05-09 19:50:24,152]\u001b[0m Trial 74 finished with value: 0.8634578570145652 and parameters: {'iterations': 1200, 'learning_rate': 0.024142454286765813, 'random_strength': 4, 'bagging_temperature': 10, 'max_bin': 30, 'grow_policy': 'Depthwise', 'min_data_in_leaf': 5, 'max_depth': 7, 'l2_leaf_reg': 12.932007312388906, 'one_hot_max_size': 12, 'auto_class_weights': 'SqrtBalanced'}. Best is trial 52 with value: 0.8638540964000672.\u001b[0m\n"
     ]
    },
    {
     "name": "stdout",
     "output_type": "stream",
     "text": [
      "Stopped by overfitting detector  (10 iterations wait)\n"
     ]
    },
    {
     "name": "stderr",
     "output_type": "stream",
     "text": [
      "\u001b[32m[I 2021-05-09 19:51:39,240]\u001b[0m Trial 75 finished with value: 0.8621050148189167 and parameters: {'iterations': 500, 'learning_rate': 0.02559239827759676, 'random_strength': 5, 'bagging_temperature': 10, 'max_bin': 30, 'grow_policy': 'Depthwise', 'min_data_in_leaf': 5, 'max_depth': 7, 'l2_leaf_reg': 24.867672645740246, 'one_hot_max_size': 500, 'auto_class_weights': 'SqrtBalanced'}. Best is trial 52 with value: 0.8638540964000672.\u001b[0m\n",
      "\u001b[32m[I 2021-05-09 19:53:34,018]\u001b[0m Trial 76 finished with value: 0.8632415973710528 and parameters: {'iterations': 1200, 'learning_rate': 0.0471651446646504, 'random_strength': 6, 'bagging_temperature': 1, 'max_bin': 30, 'grow_policy': 'Depthwise', 'min_data_in_leaf': 5, 'max_depth': 6, 'l2_leaf_reg': 54.54933202668854, 'one_hot_max_size': 12, 'auto_class_weights': 'SqrtBalanced'}. Best is trial 52 with value: 0.8638540964000672.\u001b[0m\n"
     ]
    },
    {
     "name": "stdout",
     "output_type": "stream",
     "text": [
      "Stopped by overfitting detector  (10 iterations wait)\n"
     ]
    },
    {
     "name": "stderr",
     "output_type": "stream",
     "text": [
      "\u001b[32m[I 2021-05-09 19:54:22,078]\u001b[0m Trial 77 finished with value: 0.8312666351490068 and parameters: {'iterations': 300, 'learning_rate': 0.001185708065985733, 'random_strength': 3, 'bagging_temperature': 9, 'max_bin': 30, 'grow_policy': 'Depthwise', 'min_data_in_leaf': 4, 'max_depth': 7, 'l2_leaf_reg': 14.556186139198545, 'one_hot_max_size': 100, 'auto_class_weights': 'SqrtBalanced'}. Best is trial 52 with value: 0.8638540964000672.\u001b[0m\n",
      "\u001b[32m[I 2021-05-09 19:56:23,483]\u001b[0m Trial 78 finished with value: 0.8630651807650951 and parameters: {'iterations': 1200, 'learning_rate': 0.04238667153451947, 'random_strength': 4, 'bagging_temperature': 10, 'max_bin': 30, 'grow_policy': 'Depthwise', 'min_data_in_leaf': 6, 'max_depth': 7, 'l2_leaf_reg': 4.07096531160681, 'one_hot_max_size': 12, 'auto_class_weights': 'SqrtBalanced'}. Best is trial 52 with value: 0.8638540964000672.\u001b[0m\n"
     ]
    },
    {
     "name": "stdout",
     "output_type": "stream",
     "text": [
      "Stopped by overfitting detector  (10 iterations wait)\n"
     ]
    },
    {
     "name": "stderr",
     "output_type": "stream",
     "text": [
      "\u001b[32m[I 2021-05-09 19:57:38,297]\u001b[0m Trial 79 finished with value: 0.8629366198276369 and parameters: {'iterations': 1200, 'learning_rate': 0.05338790641069063, 'random_strength': 3, 'bagging_temperature': 9, 'max_bin': 6, 'grow_policy': 'Depthwise', 'min_data_in_leaf': 5, 'max_depth': 5, 'l2_leaf_reg': 27.483777656343182, 'one_hot_max_size': 12, 'auto_class_weights': 'SqrtBalanced'}. Best is trial 52 with value: 0.8638540964000672.\u001b[0m\n"
     ]
    },
    {
     "name": "stdout",
     "output_type": "stream",
     "text": [
      "Stopped by overfitting detector  (10 iterations wait)\n"
     ]
    },
    {
     "name": "stderr",
     "output_type": "stream",
     "text": [
      "\u001b[32m[I 2021-05-09 20:01:58,669]\u001b[0m Trial 80 finished with value: 0.8634268941094886 and parameters: {'iterations': 1000, 'learning_rate': 0.02184455802476732, 'random_strength': 2, 'bagging_temperature': 10, 'max_bin': 6, 'grow_policy': 'Depthwise', 'min_data_in_leaf': 6, 'max_depth': 8, 'l2_leaf_reg': 58.597659233859, 'one_hot_max_size': 12, 'auto_class_weights': 'SqrtBalanced'}. Best is trial 52 with value: 0.8638540964000672.\u001b[0m\n"
     ]
    },
    {
     "name": "stdout",
     "output_type": "stream",
     "text": [
      "Stopped by overfitting detector  (10 iterations wait)\n"
     ]
    },
    {
     "name": "stderr",
     "output_type": "stream",
     "text": [
      "\u001b[32m[I 2021-05-09 20:05:34,563]\u001b[0m Trial 81 finished with value: 0.8630009978544709 and parameters: {'iterations': 1000, 'learning_rate': 0.026373954066393156, 'random_strength': 2, 'bagging_temperature': 10, 'max_bin': 6, 'grow_policy': 'Depthwise', 'min_data_in_leaf': 6, 'max_depth': 8, 'l2_leaf_reg': 60.17173347041477, 'one_hot_max_size': 12, 'auto_class_weights': 'SqrtBalanced'}. Best is trial 52 with value: 0.8638540964000672.\u001b[0m\n"
     ]
    },
    {
     "name": "stdout",
     "output_type": "stream",
     "text": [
      "Stopped by overfitting detector  (10 iterations wait)\n"
     ]
    },
    {
     "name": "stderr",
     "output_type": "stream",
     "text": [
      "\u001b[32m[I 2021-05-09 20:11:07,271]\u001b[0m Trial 82 finished with value: 0.8635678005251439 and parameters: {'iterations': 1000, 'learning_rate': 0.021336746969848726, 'random_strength': 2, 'bagging_temperature': 10, 'max_bin': 6, 'grow_policy': 'Depthwise', 'min_data_in_leaf': 6, 'max_depth': 9, 'l2_leaf_reg': 35.7892727080079, 'one_hot_max_size': 12, 'auto_class_weights': 'SqrtBalanced'}. Best is trial 52 with value: 0.8638540964000672.\u001b[0m\n"
     ]
    },
    {
     "name": "stdout",
     "output_type": "stream",
     "text": [
      "Stopped by overfitting detector  (10 iterations wait)\n"
     ]
    },
    {
     "name": "stderr",
     "output_type": "stream",
     "text": [
      "\u001b[32m[I 2021-05-09 20:14:26,422]\u001b[0m Trial 83 finished with value: 0.8634229118775428 and parameters: {'iterations': 1000, 'learning_rate': 0.038474769675346646, 'random_strength': 2, 'bagging_temperature': 9, 'max_bin': 6, 'grow_policy': 'Depthwise', 'min_data_in_leaf': 7, 'max_depth': 9, 'l2_leaf_reg': 89.40852714740079, 'one_hot_max_size': 12, 'auto_class_weights': 'SqrtBalanced'}. Best is trial 52 with value: 0.8638540964000672.\u001b[0m\n"
     ]
    },
    {
     "name": "stdout",
     "output_type": "stream",
     "text": [
      "Stopped by overfitting detector  (10 iterations wait)\n"
     ]
    },
    {
     "name": "stderr",
     "output_type": "stream",
     "text": [
      "\u001b[32m[I 2021-05-09 20:17:44,034]\u001b[0m Trial 84 finished with value: 0.8633790808625099 and parameters: {'iterations': 1000, 'learning_rate': 0.03378200053558676, 'random_strength': 2, 'bagging_temperature': 9, 'max_bin': 6, 'grow_policy': 'Depthwise', 'min_data_in_leaf': 7, 'max_depth': 9, 'l2_leaf_reg': 92.91523104424928, 'one_hot_max_size': 12, 'auto_class_weights': 'SqrtBalanced'}. Best is trial 52 with value: 0.8638540964000672.\u001b[0m\n"
     ]
    },
    {
     "name": "stdout",
     "output_type": "stream",
     "text": [
      "Stopped by overfitting detector  (10 iterations wait)\n"
     ]
    },
    {
     "name": "stderr",
     "output_type": "stream",
     "text": [
      "\u001b[32m[I 2021-05-09 20:20:27,115]\u001b[0m Trial 85 finished with value: 0.8628478869670773 and parameters: {'iterations': 1000, 'learning_rate': 0.03952665074172651, 'random_strength': 2, 'bagging_temperature': 9, 'max_bin': 6, 'grow_policy': 'Depthwise', 'min_data_in_leaf': 7, 'max_depth': 9, 'l2_leaf_reg': 48.121240790657616, 'one_hot_max_size': 10, 'auto_class_weights': 'SqrtBalanced'}. Best is trial 52 with value: 0.8638540964000672.\u001b[0m\n"
     ]
    },
    {
     "name": "stdout",
     "output_type": "stream",
     "text": [
      "Stopped by overfitting detector  (10 iterations wait)\n"
     ]
    },
    {
     "name": "stderr",
     "output_type": "stream",
     "text": [
      "\u001b[32m[I 2021-05-09 20:27:18,673]\u001b[0m Trial 86 finished with value: 0.8633230512437124 and parameters: {'iterations': 1000, 'learning_rate': 0.01707039047218756, 'random_strength': 2, 'bagging_temperature': 9, 'max_bin': 6, 'grow_policy': 'Depthwise', 'min_data_in_leaf': 6, 'max_depth': 9, 'l2_leaf_reg': 32.130181148451854, 'one_hot_max_size': 12, 'auto_class_weights': 'SqrtBalanced'}. Best is trial 52 with value: 0.8638540964000672.\u001b[0m\n"
     ]
    },
    {
     "name": "stdout",
     "output_type": "stream",
     "text": [
      "Stopped by overfitting detector  (10 iterations wait)\n",
      "Stopped by overfitting detector  (10 iterations wait)\n"
     ]
    },
    {
     "name": "stderr",
     "output_type": "stream",
     "text": [
      "\u001b[32m[I 2021-05-09 20:35:32,375]\u001b[0m Trial 87 finished with value: 0.860515207623556 and parameters: {'iterations': 1000, 'learning_rate': 0.00663443530685291, 'random_strength': 2, 'bagging_temperature': 9, 'max_bin': 20, 'grow_policy': 'Depthwise', 'min_data_in_leaf': 7, 'max_depth': 9, 'l2_leaf_reg': 0.0005177171753359481, 'one_hot_max_size': 12, 'auto_class_weights': 'Balanced'}. Best is trial 52 with value: 0.8638540964000672.\u001b[0m\n",
      "\u001b[32m[I 2021-05-09 20:36:02,243]\u001b[0m Trial 88 finished with value: 0.8587848456821321 and parameters: {'iterations': 1000, 'learning_rate': 0.17253949228691537, 'random_strength': 1, 'bagging_temperature': 10, 'max_bin': 6, 'grow_policy': 'Depthwise', 'min_data_in_leaf': 6, 'max_depth': 9, 'l2_leaf_reg': 22.150751739923944, 'one_hot_max_size': 12, 'auto_class_weights': 'SqrtBalanced'}. Best is trial 52 with value: 0.8638540964000672.\u001b[0m\n"
     ]
    },
    {
     "name": "stdout",
     "output_type": "stream",
     "text": [
      "Stopped by overfitting detector  (10 iterations wait)\n"
     ]
    },
    {
     "name": "stderr",
     "output_type": "stream",
     "text": [
      "\u001b[32m[I 2021-05-09 20:40:02,672]\u001b[0m Trial 89 finished with value: 0.8636104513005772 and parameters: {'iterations': 1000, 'learning_rate': 0.030470123557667157, 'random_strength': 2, 'bagging_temperature': 10, 'max_bin': 4, 'grow_policy': 'Depthwise', 'min_data_in_leaf': 6, 'max_depth': 8, 'l2_leaf_reg': 94.95715493676707, 'one_hot_max_size': 12, 'auto_class_weights': 'SqrtBalanced'}. Best is trial 52 with value: 0.8638540964000672.\u001b[0m\n"
     ]
    },
    {
     "name": "stdout",
     "output_type": "stream",
     "text": [
      "Stopped by overfitting detector  (10 iterations wait)\n"
     ]
    },
    {
     "name": "stderr",
     "output_type": "stream",
     "text": [
      "\u001b[32m[I 2021-05-09 20:42:22,276]\u001b[0m Trial 90 finished with value: 0.8453891686381072 and parameters: {'iterations': 1000, 'learning_rate': 0.001047264998519615, 'random_strength': 1, 'bagging_temperature': 10, 'max_bin': 4, 'grow_policy': 'SymmetricTree', 'min_data_in_leaf': 6, 'max_depth': 8, 'l2_leaf_reg': 53.0061883346165, 'one_hot_max_size': 500, 'auto_class_weights': 'SqrtBalanced'}. Best is trial 52 with value: 0.8638540964000672.\u001b[0m\n",
      "\u001b[32m[I 2021-05-09 20:45:30,383]\u001b[0m Trial 91 finished with value: 0.8632552917386681 and parameters: {'iterations': 1000, 'learning_rate': 0.0332852337602596, 'random_strength': 2, 'bagging_temperature': 10, 'max_bin': 4, 'grow_policy': 'Depthwise', 'min_data_in_leaf': 7, 'max_depth': 8, 'l2_leaf_reg': 90.16776002527237, 'one_hot_max_size': 12, 'auto_class_weights': 'SqrtBalanced'}. Best is trial 52 with value: 0.8638540964000672.\u001b[0m\n"
     ]
    },
    {
     "name": "stdout",
     "output_type": "stream",
     "text": [
      "Stopped by overfitting detector  (10 iterations wait)\n"
     ]
    },
    {
     "name": "stderr",
     "output_type": "stream",
     "text": [
      "\u001b[32m[I 2021-05-09 20:47:41,402]\u001b[0m Trial 92 finished with value: 0.8632302888104137 and parameters: {'iterations': 1000, 'learning_rate': 0.055148508137326455, 'random_strength': 2, 'bagging_temperature': 9, 'max_bin': 4, 'grow_policy': 'Depthwise', 'min_data_in_leaf': 6, 'max_depth': 9, 'l2_leaf_reg': 96.86116612720565, 'one_hot_max_size': 12, 'auto_class_weights': 'SqrtBalanced'}. Best is trial 52 with value: 0.8638540964000672.\u001b[0m\n"
     ]
    },
    {
     "name": "stdout",
     "output_type": "stream",
     "text": [
      "Stopped by overfitting detector  (10 iterations wait)\n"
     ]
    },
    {
     "name": "stderr",
     "output_type": "stream",
     "text": [
      "\u001b[32m[I 2021-05-09 20:50:41,893]\u001b[0m Trial 93 finished with value: 0.8630258301493642 and parameters: {'iterations': 1000, 'learning_rate': 0.030078469407857605, 'random_strength': 2, 'bagging_temperature': 10, 'max_bin': 6, 'grow_policy': 'Depthwise', 'min_data_in_leaf': 6, 'max_depth': 8, 'l2_leaf_reg': 34.1293598254563, 'one_hot_max_size': 12, 'auto_class_weights': 'SqrtBalanced'}. Best is trial 52 with value: 0.8638540964000672.\u001b[0m\n"
     ]
    },
    {
     "name": "stdout",
     "output_type": "stream",
     "text": [
      "Stopped by overfitting detector  (10 iterations wait)\n"
     ]
    },
    {
     "name": "stderr",
     "output_type": "stream",
     "text": [
      "\u001b[32m[I 2021-05-09 20:57:18,603]\u001b[0m Trial 94 finished with value: 0.8636983677570701 and parameters: {'iterations': 1000, 'learning_rate': 0.01799547541804524, 'random_strength': 3, 'bagging_temperature': 4, 'max_bin': 4, 'grow_policy': 'Depthwise', 'min_data_in_leaf': 7, 'max_depth': 9, 'l2_leaf_reg': 63.59867457164673, 'one_hot_max_size': 12, 'auto_class_weights': 'SqrtBalanced'}. Best is trial 52 with value: 0.8638540964000672.\u001b[0m\n"
     ]
    },
    {
     "name": "stdout",
     "output_type": "stream",
     "text": [
      "Stopped by overfitting detector  (10 iterations wait)\n"
     ]
    },
    {
     "name": "stderr",
     "output_type": "stream",
     "text": [
      "\u001b[32m[I 2021-05-09 21:02:44,893]\u001b[0m Trial 95 finished with value: 0.8589358507169107 and parameters: {'iterations': 1000, 'learning_rate': 0.010425720923949172, 'random_strength': 3, 'bagging_temperature': 4, 'max_bin': 4, 'grow_policy': 'Depthwise', 'min_data_in_leaf': 7, 'max_depth': 9, 'l2_leaf_reg': 2.408030022936118e-06, 'one_hot_max_size': 12, 'auto_class_weights': 'SqrtBalanced'}. Best is trial 52 with value: 0.8638540964000672.\u001b[0m\n"
     ]
    },
    {
     "name": "stdout",
     "output_type": "stream",
     "text": [
      "Stopped by overfitting detector  (10 iterations wait)\n"
     ]
    },
    {
     "name": "stderr",
     "output_type": "stream",
     "text": [
      "\u001b[32m[I 2021-05-09 21:06:47,302]\u001b[0m Trial 96 finished with value: 0.8550178879621164 and parameters: {'iterations': 200, 'learning_rate': 0.020553679031947103, 'random_strength': 3, 'bagging_temperature': 3, 'max_bin': 4, 'grow_policy': 'Lossguide', 'min_data_in_leaf': 6, 'max_depth': 8, 'l2_leaf_reg': 15.59026861478669, 'one_hot_max_size': 12, 'auto_class_weights': 'SqrtBalanced'}. Best is trial 52 with value: 0.8638540964000672.\u001b[0m\n",
      "\u001b[32m[I 2021-05-09 21:13:05,593]\u001b[0m Trial 97 finished with value: 0.8637756574678319 and parameters: {'iterations': 1000, 'learning_rate': 0.01630978384570022, 'random_strength': 3, 'bagging_temperature': 5, 'max_bin': 4, 'grow_policy': 'Depthwise', 'min_data_in_leaf': 6, 'max_depth': 8, 'l2_leaf_reg': 57.27880389214356, 'one_hot_max_size': 12, 'auto_class_weights': 'SqrtBalanced'}. Best is trial 52 with value: 0.8638540964000672.\u001b[0m\n"
     ]
    },
    {
     "name": "stdout",
     "output_type": "stream",
     "text": [
      "Stopped by overfitting detector  (10 iterations wait)\n"
     ]
    },
    {
     "name": "stderr",
     "output_type": "stream",
     "text": [
      "\u001b[32m[I 2021-05-09 21:15:20,382]\u001b[0m Trial 98 finished with value: 0.862985547085632 and parameters: {'iterations': 1000, 'learning_rate': 0.015563931864459668, 'random_strength': 3, 'bagging_temperature': 3, 'max_bin': 4, 'grow_policy': 'Depthwise', 'min_data_in_leaf': 5, 'max_depth': 7, 'l2_leaf_reg': 20.498851831615912, 'one_hot_max_size': 100, 'auto_class_weights': 'SqrtBalanced'}. Best is trial 52 with value: 0.8638540964000672.\u001b[0m\n"
     ]
    },
    {
     "name": "stdout",
     "output_type": "stream",
     "text": [
      "Stopped by overfitting detector  (10 iterations wait)\n"
     ]
    },
    {
     "name": "stderr",
     "output_type": "stream",
     "text": [
      "\u001b[32m[I 2021-05-09 21:28:33,902]\u001b[0m Trial 99 finished with value: 0.8632505921327501 and parameters: {'iterations': 1500, 'learning_rate': 0.007307998441618221, 'random_strength': 3, 'bagging_temperature': 4, 'max_bin': 4, 'grow_policy': 'Depthwise', 'min_data_in_leaf': 7, 'max_depth': 9, 'l2_leaf_reg': 7.298667665571378, 'one_hot_max_size': 12, 'auto_class_weights': 'SqrtBalanced'}. Best is trial 52 with value: 0.8638540964000672.\u001b[0m\n"
     ]
    }
   ],
   "source": [
    "sampler = optuna.samplers.TPESampler(seed=68)  # Make the sampler behave in a deterministic way.\n",
    "study2 = optuna.create_study(direction=\"maximize\", sampler=sampler)\n",
    "study2.optimize(objective2, n_trials=100)"
   ]
  },
  {
   "cell_type": "code",
   "execution_count": 29,
   "metadata": {},
   "outputs": [
    {
     "name": "stdout",
     "output_type": "stream",
     "text": [
      "Number of finished trials: 100\n",
      "Best trial:\n",
      "  Value: 0.8638540964000672\n",
      "  Params: \n",
      "    iterations=1200,\n",
      "    learning_rate=0.012133095913870618,\n",
      "    random_strength=2,\n",
      "    bagging_temperature=10,\n",
      "    max_bin=8,\n",
      "    grow_policy=Depthwise,\n",
      "    min_data_in_leaf=10,\n",
      "    max_depth=9,\n",
      "    l2_leaf_reg=98.60792390256522,\n",
      "    one_hot_max_size=12,\n",
      "    auto_class_weights=SqrtBalanced,\n"
     ]
    }
   ],
   "source": [
    "print(\"Number of finished trials: {}\".format(len(study2.trials)))\n",
    "print(\"Best trial:\")\n",
    "trial2 = study2.best_trial\n",
    "print(\"  Value: {}\".format(trial2.value))\n",
    "print(\"  Params: \")\n",
    "for key, value in trial2.params.items():\n",
    "    print(\"    {}={},\".format(key, value))"
   ]
  },
  {
   "cell_type": "code",
   "execution_count": 30,
   "metadata": {},
   "outputs": [],
   "source": [
    "final_model_se = CatBoostClassifier(verbose=False,  cat_features=categorical_features_indices, \n",
    "                                    **trial2.params)"
   ]
  },
  {
   "cell_type": "code",
   "execution_count": 33,
   "metadata": {},
   "outputs": [
    {
     "data": {
      "text/plain": [
       "<catboost.core.CatBoostClassifier at 0x226e26f14f0>"
      ]
     },
     "execution_count": 33,
     "metadata": {},
     "output_type": "execute_result"
    }
   ],
   "source": [
    "final_model_se.fit(train_x, train_y.seasonal_vaccine)"
   ]
  },
  {
   "cell_type": "code",
   "execution_count": 34,
   "metadata": {},
   "outputs": [],
   "source": [
    "predictions_se = final_model_se.predict_proba(val_x)"
   ]
  },
  {
   "cell_type": "code",
   "execution_count": 39,
   "metadata": {},
   "outputs": [
    {
     "data": {
      "image/png": "[encoded data removed]",
      "text/plain": [
       "<Figure size 720x576 with 1 Axes>"
      ]
     },
     "metadata": {
      "needs_background": "light"
     },
     "output_type": "display_data"
    }
   ],
   "source": [
    "fig, ax = plt.subplots(1, 1, figsize=(10, 8))\n",
    "plot_roc(\n",
    "    val_y['seasonal_vaccine'], \n",
    "    predictions_se, \n",
    "    'seasonal_vaccine',\n",
    "    ax=ax\n",
    ")"
   ]
  },
  {
   "cell_type": "code",
   "execution_count": 42,
   "metadata": {},
   "outputs": [
    {
     "data": {
      "text/plain": [
       "0.8684624159490002"
      ]
     },
     "execution_count": 42,
     "metadata": {},
     "output_type": "execute_result"
    }
   ],
   "source": [
    "roc_auc_score(val_y.seasonal_vaccine, predictions_se)"
   ]
  },
  {
   "cell_type": "code",
   "execution_count": 44,
   "metadata": {},
   "outputs": [
    {
     "data": {
      "text/plain": [
       "0.8705866694037079"
      ]
     },
     "execution_count": 44,
     "metadata": {},
     "output_type": "execute_result"
    }
   ],
   "source": [
    "roc_auc_score(val_y, np.hstack((predictions_h1, predictions_se)))"
   ]
  },
  {
   "cell_type": "code",
   "execution_count": 50,
   "metadata": {},
   "outputs": [
    {
     "data": {
      "text/plain": [
       "<catboost.core.CatBoostClassifier at 0x226e26f14f0>"
      ]
     },
     "execution_count": 50,
     "metadata": {},
     "output_type": "execute_result"
    }
   ],
   "source": [
    "final_model_se.fit(x, y.seasonal_vaccine)"
   ]
  },
  {
   "cell_type": "code",
   "execution_count": 53,
   "metadata": {},
   "outputs": [],
   "source": [
    "final_se = final_model_se.predict_proba(nafactor_test)"
   ]
  },
  {
   "cell_type": "code",
   "execution_count": 54,
   "metadata": {},
   "outputs": [],
   "source": [
    "final_se = final_se[:,1].reshape(-1,1)"
   ]
  },
  {
   "cell_type": "code",
   "execution_count": 55,
   "metadata": {},
   "outputs": [
    {
     "data": {
      "text/plain": [
       "<catboost.core.CatBoostClassifier at 0x226e7a55790>"
      ]
     },
     "execution_count": 55,
     "metadata": {},
     "output_type": "execute_result"
    }
   ],
   "source": [
    "final_model.fit(x, y.h1n1_vaccine)"
   ]
  },
  {
   "cell_type": "code",
   "execution_count": 56,
   "metadata": {},
   "outputs": [],
   "source": [
    "final_h1 = final_model.predict_proba(nafactor_test)"
   ]
  },
  {
   "cell_type": "code",
   "execution_count": 59,
   "metadata": {},
   "outputs": [
    {
     "ename": "IndexError",
     "evalue": "index 1 is out of bounds for axis 1 with size 1",
     "output_type": "error",
     "traceback": [
      "\u001b[1;31m---------------------------------------------------------------------------\u001b[0m",
      "\u001b[1;31mIndexError\u001b[0m                                Traceback (most recent call last)",
      "\u001b[1;32m<ipython-input-59-c63a5b51ec51>\u001b[0m in \u001b[0;36m<module>\u001b[1;34m\u001b[0m\n\u001b[1;32m----> 1\u001b[1;33m \u001b[0mfinal_h1\u001b[0m \u001b[1;33m=\u001b[0m \u001b[0mfinal_h1\u001b[0m\u001b[1;33m[\u001b[0m\u001b[1;33m:\u001b[0m\u001b[1;33m,\u001b[0m\u001b[1;36m1\u001b[0m\u001b[1;33m]\u001b[0m\u001b[1;33m.\u001b[0m\u001b[0mreshape\u001b[0m\u001b[1;33m(\u001b[0m\u001b[1;33m-\u001b[0m\u001b[1;36m1\u001b[0m\u001b[1;33m,\u001b[0m\u001b[1;36m1\u001b[0m\u001b[1;33m)\u001b[0m\u001b[1;33m\u001b[0m\u001b[1;33m\u001b[0m\u001b[0m\n\u001b[0m",
      "\u001b[1;31mIndexError\u001b[0m: index 1 is out of bounds for axis 1 with size 1"
     ]
    }
   ],
   "source": [
    "final_h1 = final_h1[:,1].reshape(-1,1)"
   ]
  },
  {
   "cell_type": "code",
   "execution_count": 61,
   "metadata": {},
   "outputs": [],
   "source": [
    "submission_df = pd.read_csv(\"C:/Users/iyuo1/OneDrive/Documents/P-SAT/주제분석/백신 주제/submission_format.csv\", \n",
    "                            index_col=\"respondent_id\")"
   ]
  },
  {
   "cell_type": "code",
   "execution_count": 65,
   "metadata": {},
   "outputs": [
    {
     "data": {
      "text/html": [
       "<div>\n",
       "<style scoped>\n",
       "    .dataframe tbody tr th:only-of-type {\n",
       "        vertical-align: middle;\n",
       "    }\n",
       "\n",
       "    .dataframe tbody tr th {\n",
       "        vertical-align: top;\n",
       "    }\n",
       "\n",
       "    .dataframe thead th {\n",
       "        text-align: right;\n",
       "    }\n",
       "</style>\n",
       "<table border=\"1\" class=\"dataframe\">\n",
       "  <thead>\n",
       "    <tr style=\"text-align: right;\">\n",
       "      <th></th>\n",
       "      <th>h1n1_vaccine</th>\n",
       "      <th>seasonal_vaccine</th>\n",
       "    </tr>\n",
       "    <tr>\n",
       "      <th>respondent_id</th>\n",
       "      <th></th>\n",
       "      <th></th>\n",
       "    </tr>\n",
       "  </thead>\n",
       "  <tbody>\n",
       "    <tr>\n",
       "      <th>26707</th>\n",
       "      <td>0.382285</td>\n",
       "      <td>0.239996</td>\n",
       "    </tr>\n",
       "    <tr>\n",
       "      <th>26708</th>\n",
       "      <td>0.089460</td>\n",
       "      <td>0.024227</td>\n",
       "    </tr>\n",
       "    <tr>\n",
       "      <th>26709</th>\n",
       "      <td>0.486450</td>\n",
       "      <td>0.731505</td>\n",
       "    </tr>\n",
       "    <tr>\n",
       "      <th>26710</th>\n",
       "      <td>0.814936</td>\n",
       "      <td>0.890731</td>\n",
       "    </tr>\n",
       "    <tr>\n",
       "      <th>26711</th>\n",
       "      <td>0.708821</td>\n",
       "      <td>0.457560</td>\n",
       "    </tr>\n",
       "  </tbody>\n",
       "</table>\n",
       "</div>"
      ],
      "text/plain": [
       "               h1n1_vaccine  seasonal_vaccine\n",
       "respondent_id                                \n",
       "26707              0.382285          0.239996\n",
       "26708              0.089460          0.024227\n",
       "26709              0.486450          0.731505\n",
       "26710              0.814936          0.890731\n",
       "26711              0.708821          0.457560"
      ]
     },
     "execution_count": 65,
     "metadata": {},
     "output_type": "execute_result"
    }
   ],
   "source": [
    "# Save predictions to submission data frame\n",
    "submission_df[\"h1n1_vaccine\"] = final_h1\n",
    "submission_df[\"seasonal_vaccine\"] = final_se\n",
    "\n",
    "submission_df.head()"
   ]
  },
  {
   "cell_type": "code",
   "execution_count": 66,
   "metadata": {},
   "outputs": [],
   "source": [
    "submission_df.to_csv('C:/Users/iyuo1/OneDrive/Documents/P-SAT/주제분석/백신 주제/submssion_catboost_optunacvi.csv', index=True)"
   ]
  }
 ],
 "metadata": {
  "kernelspec": {
   "display_name": "Python 3",
   "language": "python",
   "name": "python3"
  },
  "language_info": {
   "codemirror_mode": {
    "name": "ipython",
    "version": 3
   },
   "file_extension": ".py",
   "mimetype": "text/x-python",
   "name": "python",
   "nbconvert_exporter": "python",
   "pygments_lexer": "ipython3",
   "version": "3.9.4"
  }
 },
 "nbformat": 4,
 "nbformat_minor": 4
}
