{
 "cells": [
  {
   "cell_type": "code",
   "execution_count": 6,
   "metadata": {},
   "outputs": [],
   "source": [
    "import pandas as pd \n",
    "import numpy as np"
   ]
  },
  {
   "cell_type": "code",
   "execution_count": 8,
   "metadata": {},
   "outputs": [],
   "source": [
    "knn = pd.read_csv('C:/Users/iyuo1/OneDrive/Documents/P-SAT/주제분석/백신 주제/Label_encdoing/knn_train.csv')\n",
    "hotdeck = pd.read_csv('C:/Users/iyuo1/OneDrive/Documents/P-SAT/주제분석/백신 주제/Label_encdoing/hotdeck_train.csv')\n",
    "final = pd.read_csv('C:/Users/iyuo1/OneDrive/Documents/P-SAT/주제분석/백신 주제/Label_encdoing/nafactor_train.csv')\n",
    "mice=pd.read_csv('C:/Users/iyuo1/OneDrive/Documents/P-SAT/주제분석/백신 주제/Label_encdoing/mice_train.csv')\n",
    "\n",
    "mice_test = pd.read_csv('C:/Users/iyuo1/OneDrive/Documents/P-SAT/주제분석/백신 주제/Label_encdoing/mice_test.csv')\n",
    "final_test = pd.read_csv('C:/Users/iyuo1/OneDrive/Documents/P-SAT/주제분석/백신 주제/Label_encdoing/nafactor_test.csv')\n",
    "knn_test = pd.read_csv('C:/Users/iyuo1/OneDrive/Documents/P-SAT/주제분석/백신 주제/Label_encdoing/knn_test.csv')\n",
    "hotdeck_test = pd.read_csv('C:/Users/iyuo1/OneDrive/Documents/P-SAT/주제분석/백신 주제/Label_encdoing/hotdeck_test.csv')"
   ]
  },
  {
   "cell_type": "code",
   "execution_count": 10,
   "metadata": {},
   "outputs": [],
   "source": [
    "k1 = mice_test['respondent_id']\n",
    "k2 = final_test['respondent_id']\n",
    "k3 = knn_test['respondent_id']\n",
    "k4 = hotdeck_test['respondent_id']"
   ]
  },
  {
   "cell_type": "code",
   "execution_count": 12,
   "metadata": {},
   "outputs": [],
   "source": [
    "final_x = final.drop(['h1n1_vaccine', 'seasonal_vaccine','respondent_id','X'],axis=1)\n",
    "final_y = final[['h1n1_vaccine', 'seasonal_vaccine']]\n",
    "\n",
    "hotdeck_x = hotdeck.drop(['h1n1_vaccine', 'seasonal_vaccine','respondent_id'],axis=1)\n",
    "hotdeck_y = hotdeck[['h1n1_vaccine', 'seasonal_vaccine']]\n",
    "\n",
    "knn_x = knn.drop(['h1n1_vaccine', 'seasonal_vaccine','respondent_id','Unnamed: 0'],axis=1)\n",
    "knn_y = knn[['h1n1_vaccine', 'seasonal_vaccine']]\n",
    "\n",
    "mice_x = mice.drop(['h1n1_vaccine', 'seasonal_vaccine','respondent_id'],axis=1)\n",
    "mice_y = mice[['h1n1_vaccine', 'seasonal_vaccine']]"
   ]
  },
  {
   "cell_type": "code",
   "execution_count": 13,
   "metadata": {},
   "outputs": [],
   "source": [
    "mice_test = mice_test.drop(['respondent_id'],axis=1)\n",
    "mice_test = np.array(mice_test, dtype=float)\n",
    "\n",
    "final_test = final_test.drop(['respondent_id'],axis=1)\n",
    "final_test = np.array(final_test, dtype=float)\n",
    "\n",
    "knn_test = knn_test.drop(['respondent_id','Unnamed: 0'],axis=1)\n",
    "knn_test = np.array(knn_test, dtype=float)\n",
    "\n",
    "hotdeck_test = hotdeck_test.drop(['respondent_id','X'],axis=1)\n",
    "hotdeck_test = np.array(hotdeck_test, dtype=float)"
   ]
  },
  {
   "cell_type": "code",
   "execution_count": 14,
   "metadata": {},
   "outputs": [],
   "source": [
    "knn_x = np.array(knn_x, dtype=float)\n",
    "knn_y = np.array(knn_y, dtype=float)"
   ]
  },
  {
   "cell_type": "code",
   "execution_count": 15,
   "metadata": {},
   "outputs": [],
   "source": [
    "hotdeck_x = np.array(hotdeck_x, dtype=float)\n",
    "hotdeck_y = np.array(hotdeck_y, dtype=float)"
   ]
  },
  {
   "cell_type": "code",
   "execution_count": 16,
   "metadata": {},
   "outputs": [],
   "source": [
    "final_x = np.array(final_x,dtype=float)\n",
    "final_y = np.array(final_y,dtype=float)"
   ]
  },
  {
   "cell_type": "code",
   "execution_count": 17,
   "metadata": {},
   "outputs": [],
   "source": [
    "mice_x = np.array(mice_x, dtype=float)\n",
    "mice_y = np.array(mice_y, dtype=float)"
   ]
  },
  {
   "cell_type": "code",
   "execution_count": 19,
   "metadata": {},
   "outputs": [],
   "source": [
    "from sklearn.model_selection import train_test_split,GridSearchCV, KFold\n",
    "\n",
    "final_x_train, final_x_val, final_y_train, final_y_val = train_test_split(final_x, final_y, test_size=0.2, random_state=1234)\n",
    "hotdeck_x_train, hotdeck_x_val, hotdeck_y_train, hotdeck_y_val = train_test_split(hotdeck_x, hotdeck_y, test_size=0.2, random_state=1234)\n",
    "knn_x_train, knn_x_val, knn_y_train, knn_y_val = train_test_split(knn_x, knn_y, test_size=0.2, random_state=1234)\n",
    "mice_x_train, mice_x_val, mice_y_train, mice_y_val = train_test_split(mice_x,mice_y,test_size=0.2,random_state=1234)"
   ]
  },
  {
   "cell_type": "code",
   "execution_count": 21,
   "metadata": {},
   "outputs": [],
   "source": [
    "from skmultilearn.problem_transform import ClassifierChain\n",
    "from catboost import CatBoostClassifier\n",
    "from sklearn.metrics import accuracy_score, hamming_loss\n",
    "from sklearn.model_selection import KFold    \n",
    "from sklearn.metrics import roc_auc_score"
   ]
  },
  {
   "cell_type": "code",
   "execution_count": 30,
   "metadata": {},
   "outputs": [
    {
     "ename": "TypeError",
     "evalue": "__init__() got an unexpected keyword argument 'reg_alpha'",
     "output_type": "error",
     "traceback": [
      "\u001b[1;31m---------------------------------------------------------------------------\u001b[0m",
      "\u001b[1;31mTypeError\u001b[0m                                 Traceback (most recent call last)",
      "\u001b[1;32m<ipython-input-30-973808e9f4a6>\u001b[0m in \u001b[0;36m<module>\u001b[1;34m\u001b[0m\n\u001b[0;32m      2\u001b[0m \u001b[1;33m\u001b[0m\u001b[0m\n\u001b[0;32m      3\u001b[0m         \u001b[0mparam\u001b[0m \u001b[1;33m=\u001b[0m\u001b[1;33m{\u001b[0m\u001b[1;34m'learning_rate'\u001b[0m\u001b[1;33m:\u001b[0m\u001b[1;36m0.03\u001b[0m\u001b[1;33m,\u001b[0m \u001b[1;34m'n_estimators'\u001b[0m\u001b[1;33m:\u001b[0m\u001b[1;36m700\u001b[0m\u001b[1;33m,\u001b[0m\u001b[1;34m'num_leaves'\u001b[0m\u001b[1;33m:\u001b[0m\u001b[1;36m10\u001b[0m\u001b[1;33m,\u001b[0m\u001b[1;34m'max_depth'\u001b[0m\u001b[1;33m:\u001b[0m\u001b[1;36m9\u001b[0m\u001b[1;33m,\u001b[0m\u001b[1;34m'reg_lambda'\u001b[0m\u001b[1;33m:\u001b[0m\u001b[1;36m88\u001b[0m\u001b[1;33m,\u001b[0m\u001b[1;34m'reg_alpha'\u001b[0m\u001b[1;33m:\u001b[0m\u001b[0mr\u001b[0m\u001b[1;33m}\u001b[0m\u001b[1;33m\u001b[0m\u001b[1;33m\u001b[0m\u001b[0m\n\u001b[1;32m----> 4\u001b[1;33m         \u001b[0mclassifier\u001b[0m \u001b[1;33m=\u001b[0m \u001b[0mClassifierChain\u001b[0m\u001b[1;33m(\u001b[0m\u001b[0mCatBoostClassifier\u001b[0m\u001b[1;33m(\u001b[0m\u001b[1;33m**\u001b[0m\u001b[0mparam\u001b[0m\u001b[1;33m)\u001b[0m\u001b[1;33m)\u001b[0m\u001b[1;33m\u001b[0m\u001b[1;33m\u001b[0m\u001b[0m\n\u001b[0m\u001b[0;32m      5\u001b[0m \u001b[1;31m# Training logistic regression model on train data\u001b[0m\u001b[1;33m\u001b[0m\u001b[1;33m\u001b[0m\u001b[1;33m\u001b[0m\u001b[0m\n\u001b[0;32m      6\u001b[0m         \u001b[0mclassifier\u001b[0m\u001b[1;33m.\u001b[0m\u001b[0mfit\u001b[0m\u001b[1;33m(\u001b[0m\u001b[0mknn_x_train\u001b[0m\u001b[1;33m,\u001b[0m \u001b[0mknn_y_train\u001b[0m\u001b[1;33m)\u001b[0m\u001b[1;33m\u001b[0m\u001b[1;33m\u001b[0m\u001b[0m\n",
      "\u001b[1;31mTypeError\u001b[0m: __init__() got an unexpected keyword argument 'reg_alpha'"
     ]
    }
   ],
   "source": [
    "for r in reg:    \n",
    "        param ={'learning_rate':0.03, 'n_estimators':700,'num_leaves':10,'max_depth':9,'reg_lambda':88}\n",
    "        classifier = ClassifierChain(CatBoostClassifier(**param))\n",
    "# Training logistic regression model on train data\n",
    "        classifier.fit(knn_x_train, knn_y_train)\n",
    "# predict\n",
    "        predictions = classifier.predict(knn_x_val)\n",
    "        print(\"Accuracy = \",accuracy_score(knn_y_val,predictions))"
   ]
  },
  {
   "cell_type": "code",
   "execution_count": 24,
   "metadata": {},
   "outputs": [],
   "source": [
    "n=[700,800,900,1000,1100]              #[300,500,700,900,1000]\n",
    "rate=[0.009,0.01,0.02,0.03,0.04,0.05]         #[0.0001,0.001,0.01,0.1,0.5]  \n",
    "dep=[8,9,10,11,12,13]\n",
    "num=[8,9,10,11,12]              #[38,39,40,41,42]\n",
    "reg=[10,30,50,70] #[87,88,89,90,91,92,93]                 #[21,22,23,24,25]\n",
    "col=[0.7,0.8,0.9,1]\n",
    "bag=[0.0001,0.001,0.01,0.1]#무의미"
   ]
  }
 ],
 "metadata": {
  "kernelspec": {
   "display_name": "Python 3",
   "language": "python",
   "name": "python3"
  },
  "language_info": {
   "codemirror_mode": {
    "name": "ipython",
    "version": 3
   },
   "file_extension": ".py",
   "mimetype": "text/x-python",
   "name": "python",
   "nbconvert_exporter": "python",
   "pygments_lexer": "ipython3",
   "version": "3.9.4"
  }
 },
 "nbformat": 4,
 "nbformat_minor": 4
}
