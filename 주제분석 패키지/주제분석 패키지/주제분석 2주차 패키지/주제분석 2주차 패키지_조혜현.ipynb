{
 "cells": [
  {
   "cell_type": "code",
   "execution_count": 1,
   "id": "gorgeous-accordance",
   "metadata": {},
   "outputs": [],
   "source": [
    "import pandas as pd \n",
    "import numpy as np"
   ]
  },
  {
   "cell_type": "code",
   "execution_count": 2,
   "id": "protective-profile",
   "metadata": {},
   "outputs": [],
   "source": [
    "### 1.1 데이터 불러오기\n",
    "train = pd.read_csv('C:/Users/iyuo1/OneDrive/Documents/P-SAT/주제분석 패키지/주제분석 2주차 패키지/train.csv')\n",
    "test = pd.read_csv('C:/Users/iyuo1/OneDrive/Documents/P-SAT/주제분석 패키지/주제분석 2주차 패키지/test.csv')"
   ]
  },
  {
   "cell_type": "code",
   "execution_count": 3,
   "id": "working-diamond",
   "metadata": {},
   "outputs": [],
   "source": [
    "### 1.2 단위 수정\n",
    "train_x = train.drop('price',axis=1)\n",
    "train_y = train['price']"
   ]
  },
  {
   "cell_type": "code",
   "execution_count": 4,
   "id": "mineral-stake",
   "metadata": {},
   "outputs": [
    {
     "data": {
      "text/plain": [
       "[          dong           apt  exclusive_use_area  floor   price  \\\n",
       " 365616     개포동       삼익대청아파트             39.5300     10   49500   \n",
       " 300918     사당동      사당롯데캐슬2차             84.6140      7   52800   \n",
       " 294501     대방동     보라매코오롱하늘채             84.7000      4   41800   \n",
       " 349021     도곡동          도곡렉슬            119.8906     19  150000   \n",
       " 167241     응암동    백련산힐스테이트1차             59.8500      6   37000   \n",
       " ...        ...           ...                 ...    ...     ...   \n",
       " 246104     등촌동  등촌1,2단지주공아파트             41.8500     10   32000   \n",
       " 115308      창동          현대조합             84.2100      2   36700   \n",
       " 32422      화양동          화양타워             18.6200      2    9000   \n",
       " 282811  영등포동3가      포레스트힐 시티             13.5300      7   11890   \n",
       " 239342     방화동      대림e-편한세상             96.2800      2   40000   \n",
       " \n",
       "         transaction_year  until_trans      sin_date      cos_date  \n",
       " 365616                 4           25  1.000000e+00 -9.803364e-16  \n",
       " 300918                 2           11  1.000000e+00  4.892397e-16  \n",
       " 294501                 0            8 -1.000000e+00 -3.429630e-15  \n",
       " 349021                 1            8 -1.224647e-15  1.000000e+00  \n",
       " 167241                 3            5  1.000000e+00 -7.354071e-16  \n",
       " ...                  ...          ...           ...           ...  \n",
       " 246104                 4           22 -1.000000e+00 -3.674559e-15  \n",
       " 115308                 4           17 -1.960673e-15 -1.000000e+00  \n",
       " 32422                  1           15 -9.797174e-16  1.000000e+00  \n",
       " 282811                 2            1  5.389684e-15 -1.000000e+00  \n",
       " 239342                 3           13 -1.959435e-15  1.000000e+00  \n",
       " \n",
       " [337731 rows x 9 columns],\n",
       "        dong                    apt  exclusive_use_area  floor   price  \\\n",
       " 10687   동자동            센트레빌아스테리움서울             145.200     27  109361   \n",
       " 63412   신내동                    데시앙              59.990     10   35000   \n",
       " 339549  잠원동                     우성             144.330      8  156500   \n",
       " 139764  월계동                    주공2              58.650      4   22300   \n",
       " 87877   길음동          길음뉴타운6단지(래미안)             113.226     11   66700   \n",
       " ...     ...                    ...                 ...    ...     ...   \n",
       " 201221   목동                목동신시가지1              83.230      1   71500   \n",
       " 275091  가산동                     두산             101.670     13   40000   \n",
       " 169134  진관동  은평뉴타운상림마을(현대아이파크B-11)              84.950      3   49000   \n",
       " 189948  망원동                    대림2              84.730     11   53500   \n",
       " 152586  상계동              상계주공1(고층)              58.010      7   27000   \n",
       " \n",
       "         transaction_year  until_trans      sin_date      cos_date  \n",
       " 10687                  2            2 -1.000000e+00 -3.184701e-15  \n",
       " 63412                  3            6 -1.469576e-15  1.000000e+00  \n",
       " 339549                 4           39  3.673940e-16 -1.000000e+00  \n",
       " 139764                 3           24 -7.347881e-16  1.000000e+00  \n",
       " 87877                  4           10 -1.960673e-15 -1.000000e+00  \n",
       " ...                  ...          ...           ...           ...  \n",
       " 201221                 0           28 -1.000000e+00 -2.694842e-15  \n",
       " 275091                 4           19 -1.000000e+00 -3.429630e-15  \n",
       " 169134                 3            8  1.000000e+00 -6.861117e-15  \n",
       " 189948                 2           13  1.000000e+00 -7.354071e-16  \n",
       " 152586                 4           29 -1.000000e+00 -2.939771e-15  \n",
       " \n",
       " [84433 rows x 9 columns]]"
      ]
     },
     "execution_count": 4,
     "metadata": {},
     "output_type": "execute_result"
    }
   ],
   "source": [
    "### 1.3 validation set 분할 - 첫번째\n",
    "from sklearn.model_selection import train_test_split\n",
    "train_test_split(train, test_size=0.2) "
   ]
  },
  {
   "cell_type": "code",
   "execution_count": null,
   "id": "hollow-circle",
   "metadata": {},
   "outputs": [],
   "source": [
    "### 1.4 질문\n",
    "현재 데이터는 관측된 시간이 존재하다 보니 random으로 섞게 되면, \n",
    "시간 순서의 관계가 깨져버려 정확한 분석이 되지 않을 것이다."
   ]
  },
  {
   "cell_type": "code",
   "execution_count": 5,
   "id": "coated-sunday",
   "metadata": {},
   "outputs": [],
   "source": [
    "### 1.5 validation set 분할 - 두번째\n",
    "val_x = train_x[train_x['transaction_year']==4]\n",
    "val_y = train[train['transaction_year']==4]\n",
    "val_y = val_y['price']\n",
    "\n",
    "train2_x = train_x[train_x['transaction_year']!=4]\n",
    "train2_y = train[train['transaction_year']!=4]\n",
    "train2_y = train2_y['price']"
   ]
  },
  {
   "cell_type": "code",
   "execution_count": 6,
   "id": "sitting-feelings",
   "metadata": {},
   "outputs": [
    {
     "name": "stdout",
     "output_type": "stream",
     "text": [
      "Requirement already satisfied: category_encoders in c:\\users\\iyuo1\\appdata\\local\\programs\\python\\python39\\lib\\site-packages (2.2.2)\n",
      "Requirement already satisfied: scikit-learn>=0.20.0 in c:\\users\\iyuo1\\appdata\\local\\programs\\python\\python39\\lib\\site-packages (from category_encoders) (0.24.1)\n",
      "Requirement already satisfied: scipy>=1.0.0 in c:\\users\\iyuo1\\appdata\\local\\programs\\python\\python39\\lib\\site-packages (from category_encoders) (1.6.2)\n",
      "Requirement already satisfied: pandas>=0.21.1 in c:\\users\\iyuo1\\appdata\\local\\programs\\python\\python39\\lib\\site-packages (from category_encoders) (1.2.4)\n",
      "Requirement already satisfied: patsy>=0.5.1 in c:\\users\\iyuo1\\appdata\\local\\programs\\python\\python39\\lib\\site-packages (from category_encoders) (0.5.1)\n",
      "Requirement already satisfied: statsmodels>=0.9.0 in c:\\users\\iyuo1\\appdata\\local\\programs\\python\\python39\\lib\\site-packages (from category_encoders) (0.12.2)\n",
      "Requirement already satisfied: numpy>=1.14.0 in c:\\users\\iyuo1\\appdata\\local\\programs\\python\\python39\\lib\\site-packages (from category_encoders) (1.20.2)\n",
      "Requirement already satisfied: pytz>=2017.3 in c:\\users\\iyuo1\\appdata\\local\\programs\\python\\python39\\lib\\site-packages (from pandas>=0.21.1->category_encoders) (2021.1)\n",
      "Requirement already satisfied: python-dateutil>=2.7.3 in c:\\users\\iyuo1\\appdata\\local\\programs\\python\\python39\\lib\\site-packages (from pandas>=0.21.1->category_encoders) (2.8.1)\n",
      "Requirement already satisfied: six in c:\\users\\iyuo1\\appdata\\local\\programs\\python\\python39\\lib\\site-packages (from patsy>=0.5.1->category_encoders) (1.15.0)\n",
      "Requirement already satisfied: joblib>=0.11 in c:\\users\\iyuo1\\appdata\\local\\programs\\python\\python39\\lib\\site-packages (from scikit-learn>=0.20.0->category_encoders) (1.0.1)\n",
      "Requirement already satisfied: threadpoolctl>=2.0.0 in c:\\users\\iyuo1\\appdata\\local\\programs\\python\\python39\\lib\\site-packages (from scikit-learn>=0.20.0->category_encoders) (2.1.0)\n"
     ]
    },
    {
     "name": "stderr",
     "output_type": "stream",
     "text": [
      "WARNING: Value for scheme.headers does not match. Please report this to <https://github.com/pypa/pip/issues/9617>\n",
      "distutils: c:\\users\\iyuo1\\appdata\\local\\programs\\python\\python39\\Include\\UNKNOWN\n",
      "sysconfig: c:\\users\\iyuo1\\appdata\\local\\programs\\python\\python39\\Include\n",
      "WARNING: Additional context:\n",
      "user = False\n",
      "home = None\n",
      "root = None\n",
      "prefix = None\n",
      "WARNING: Value for scheme.headers does not match. Please report this to <https://github.com/pypa/pip/issues/9617>\n",
      "distutils: c:\\users\\iyuo1\\appdata\\local\\programs\\python\\python39\\Include\\UNKNOWN\n",
      "sysconfig: c:\\users\\iyuo1\\appdata\\local\\programs\\python\\python39\\Include\n",
      "WARNING: Additional context:\n",
      "user = False\n",
      "home = None\n",
      "root = None\n",
      "prefix = None\n"
     ]
    }
   ],
   "source": [
    "### 1.5 캣부스트 인코딩 전에\n",
    "! pip install category_encoders"
   ]
  },
  {
   "cell_type": "code",
   "execution_count": 7,
   "id": "narrative-tragedy",
   "metadata": {},
   "outputs": [],
   "source": [
    "from category_encoders.cat_boost import CatBoostEncoder"
   ]
  },
  {
   "cell_type": "code",
   "execution_count": 8,
   "id": "loving-parallel",
   "metadata": {},
   "outputs": [
    {
     "name": "stderr",
     "output_type": "stream",
     "text": [
      "c:\\users\\iyuo1\\appdata\\local\\programs\\python\\python39\\lib\\site-packages\\category_encoders\\utils.py:21: FutureWarning: is_categorical is deprecated and will be removed in a future version.  Use is_categorical_dtype instead\n",
      "  elif pd.api.types.is_categorical(cols):\n"
     ]
    },
    {
     "data": {
      "text/html": [
       "<div>\n",
       "<style scoped>\n",
       "    .dataframe tbody tr th:only-of-type {\n",
       "        vertical-align: middle;\n",
       "    }\n",
       "\n",
       "    .dataframe tbody tr th {\n",
       "        vertical-align: top;\n",
       "    }\n",
       "\n",
       "    .dataframe thead th {\n",
       "        text-align: right;\n",
       "    }\n",
       "</style>\n",
       "<table border=\"1\" class=\"dataframe\">\n",
       "  <thead>\n",
       "    <tr style=\"text-align: right;\">\n",
       "      <th></th>\n",
       "      <th>dong</th>\n",
       "      <th>apt</th>\n",
       "      <th>exclusive_use_area</th>\n",
       "      <th>floor</th>\n",
       "      <th>transaction_year</th>\n",
       "      <th>until_trans</th>\n",
       "      <th>sin_date</th>\n",
       "      <th>cos_date</th>\n",
       "    </tr>\n",
       "  </thead>\n",
       "  <tbody>\n",
       "    <tr>\n",
       "      <th>2451</th>\n",
       "      <td>89176.597368</td>\n",
       "      <td>86280.203194</td>\n",
       "      <td>107.91</td>\n",
       "      <td>14</td>\n",
       "      <td>4</td>\n",
       "      <td>9</td>\n",
       "      <td>-1.000000e+00</td>\n",
       "      <td>-1.836970e-16</td>\n",
       "    </tr>\n",
       "    <tr>\n",
       "      <th>2452</th>\n",
       "      <td>89176.597368</td>\n",
       "      <td>86280.203194</td>\n",
       "      <td>151.81</td>\n",
       "      <td>10</td>\n",
       "      <td>4</td>\n",
       "      <td>9</td>\n",
       "      <td>-1.000000e+00</td>\n",
       "      <td>-1.836970e-16</td>\n",
       "    </tr>\n",
       "    <tr>\n",
       "      <th>2453</th>\n",
       "      <td>89176.597368</td>\n",
       "      <td>86280.203194</td>\n",
       "      <td>94.51</td>\n",
       "      <td>2</td>\n",
       "      <td>4</td>\n",
       "      <td>9</td>\n",
       "      <td>-2.449294e-16</td>\n",
       "      <td>1.000000e+00</td>\n",
       "    </tr>\n",
       "    <tr>\n",
       "      <th>2454</th>\n",
       "      <td>89176.597368</td>\n",
       "      <td>86280.203194</td>\n",
       "      <td>94.28</td>\n",
       "      <td>12</td>\n",
       "      <td>4</td>\n",
       "      <td>9</td>\n",
       "      <td>-2.449294e-16</td>\n",
       "      <td>1.000000e+00</td>\n",
       "    </tr>\n",
       "    <tr>\n",
       "      <th>2455</th>\n",
       "      <td>103789.156533</td>\n",
       "      <td>107170.755379</td>\n",
       "      <td>145.96</td>\n",
       "      <td>13</td>\n",
       "      <td>4</td>\n",
       "      <td>13</td>\n",
       "      <td>-1.000000e+00</td>\n",
       "      <td>-1.836970e-16</td>\n",
       "    </tr>\n",
       "  </tbody>\n",
       "</table>\n",
       "</div>"
      ],
      "text/plain": [
       "               dong            apt  exclusive_use_area  floor  \\\n",
       "2451   89176.597368   86280.203194              107.91     14   \n",
       "2452   89176.597368   86280.203194              151.81     10   \n",
       "2453   89176.597368   86280.203194               94.51      2   \n",
       "2454   89176.597368   86280.203194               94.28     12   \n",
       "2455  103789.156533  107170.755379              145.96     13   \n",
       "\n",
       "      transaction_year  until_trans      sin_date      cos_date  \n",
       "2451                 4            9 -1.000000e+00 -1.836970e-16  \n",
       "2452                 4            9 -1.000000e+00 -1.836970e-16  \n",
       "2453                 4            9 -2.449294e-16  1.000000e+00  \n",
       "2454                 4            9 -2.449294e-16  1.000000e+00  \n",
       "2455                 4           13 -1.000000e+00 -1.836970e-16  "
      ]
     },
     "execution_count": 8,
     "metadata": {},
     "output_type": "execute_result"
    }
   ],
   "source": [
    "### 1.6 캣부스트 인코딩\n",
    "enc = CatBoostEncoder(cols=['dong','apt']).fit(train2_x,train2_y)\n",
    "val_cbe= enc.transform(val_x)\n",
    "val_cbe.head()"
   ]
  },
  {
   "cell_type": "code",
   "execution_count": null,
   "id": "nervous-gnome",
   "metadata": {},
   "outputs": [],
   "source": [
    "## 2. 릿지 회귀(Ridge Regression)"
   ]
  },
  {
   "cell_type": "code",
   "execution_count": 9,
   "id": "sophisticated-legislature",
   "metadata": {},
   "outputs": [
    {
     "data": {
      "text/plain": [
       "<AxesSubplot:>"
      ]
     },
     "execution_count": 9,
     "metadata": {},
     "output_type": "execute_result"
    },
    {
     "data": {
      "image/png": "[encoded data removed]",
      "text/plain": [
       "<Figure size 432x288 with 2 Axes>"
      ]
     },
     "metadata": {
      "needs_background": "light"
     },
     "output_type": "display_data"
    }
   ],
   "source": [
    "### 2.1 상관계수 플랏\n",
    "import matplotlib.pyplot as plt\n",
    "import seaborn as sns\n",
    "\n",
    "train2_x_cbe = enc.transform(train2_x)\n",
    "train_set= pd.concat([train2_x_cbe, train2_y], axis=1) \n",
    "\n",
    "sns.heatmap(data = train_set.corr(), annot=True, fmt = '.2f', linewidths=.5, cmap='Blues')"
   ]
  },
  {
   "cell_type": "code",
   "execution_count": 10,
   "id": "creative-custom",
   "metadata": {},
   "outputs": [],
   "source": [
    "### 2.2 해석과 무관하게 일단 릿지 튜닝\n",
    "from sklearn.linear_model import Ridge\n",
    "from sklearn.metrics import mean_squared_error\n",
    "from math import sqrt"
   ]
  },
  {
   "cell_type": "code",
   "execution_count": 12,
   "id": "instrumental-scheme",
   "metadata": {},
   "outputs": [
    {
     "name": "stdout",
     "output_type": "stream",
     "text": [
      "Alpha:0.0000, RMSE: 15377.97766\n",
      "Alpha:0.0001, RMSE: 15377.97766\n",
      "Alpha:0.0010, RMSE: 15377.97766\n",
      "Alpha:0.0100, RMSE: 15377.97768\n",
      "Alpha:0.1000, RMSE: 15377.97786\n"
     ]
    }
   ],
   "source": [
    "alphas = [0.00001, 0.0001, 0.001, 0.01, 0.1]\n",
    "\n",
    "for a in alphas:\n",
    "    model = Ridge(alpha=a).fit(train2_x_cbe, train2_y)\n",
    "    pred_y = model.predict(val_cbe)\n",
    "    rmse = sqrt(mean_squared_error(val_y, pred_y))\n",
    "    print(\"Alpha:{0:.4f}, RMSE:{1: .5f}\".format(a, rmse))"
   ]
  },
  {
   "cell_type": "code",
   "execution_count": 13,
   "id": "capable-finger",
   "metadata": {},
   "outputs": [
    {
     "data": {
      "text/plain": [
       "15377.977659062974"
      ]
     },
     "execution_count": 13,
     "metadata": {},
     "output_type": "execute_result"
    }
   ],
   "source": [
    "### 2.5 그냥 선형 모형으로!\n",
    "\n",
    "from sklearn.linear_model import LinearRegression\n",
    "\n",
    "lm=LinearRegression().fit(train2_x_cbe,train2_y)\n",
    "pred_y=lm.predict(val_cbe)\n",
    "mse = mean_squared_error(val_y,pred_y)\n",
    "sqrt(mse)"
   ]
  },
  {
   "cell_type": "code",
   "execution_count": 14,
   "id": "interested-assistant",
   "metadata": {},
   "outputs": [
    {
     "name": "stdout",
     "output_type": "stream",
     "text": [
      "Requirement already satisfied: lightgbm in c:\\users\\iyuo1\\appdata\\local\\programs\\python\\python39\\lib\\site-packages (3.2.1)\n",
      "Requirement already satisfied: wheel in c:\\users\\iyuo1\\appdata\\local\\programs\\python\\python39\\lib\\site-packages (from lightgbm) (0.36.2)\n",
      "Requirement already satisfied: scikit-learn!=0.22.0 in c:\\users\\iyuo1\\appdata\\local\\programs\\python\\python39\\lib\\site-packages (from lightgbm) (0.24.1)\n",
      "Requirement already satisfied: scipy in c:\\users\\iyuo1\\appdata\\local\\programs\\python\\python39\\lib\\site-packages (from lightgbm) (1.6.2)\n",
      "Requirement already satisfied: numpy in c:\\users\\iyuo1\\appdata\\local\\programs\\python\\python39\\lib\\site-packages (from lightgbm) (1.20.2)\n",
      "Requirement already satisfied: threadpoolctl>=2.0.0 in c:\\users\\iyuo1\\appdata\\local\\programs\\python\\python39\\lib\\site-packages (from scikit-learn!=0.22.0->lightgbm) (2.1.0)\n",
      "Requirement already satisfied: joblib>=0.11 in c:\\users\\iyuo1\\appdata\\local\\programs\\python\\python39\\lib\\site-packages (from scikit-learn!=0.22.0->lightgbm) (1.0.1)\n"
     ]
    },
    {
     "name": "stderr",
     "output_type": "stream",
     "text": [
      "WARNING: Value for scheme.headers does not match. Please report this to <https://github.com/pypa/pip/issues/9617>\n",
      "distutils: c:\\users\\iyuo1\\appdata\\local\\programs\\python\\python39\\Include\\UNKNOWN\n",
      "sysconfig: c:\\users\\iyuo1\\appdata\\local\\programs\\python\\python39\\Include\n",
      "WARNING: Additional context:\n",
      "user = False\n",
      "home = None\n",
      "root = None\n",
      "prefix = None\n",
      "WARNING: Value for scheme.headers does not match. Please report this to <https://github.com/pypa/pip/issues/9617>\n",
      "distutils: c:\\users\\iyuo1\\appdata\\local\\programs\\python\\python39\\Include\\UNKNOWN\n",
      "sysconfig: c:\\users\\iyuo1\\appdata\\local\\programs\\python\\python39\\Include\n",
      "WARNING: Additional context:\n",
      "user = False\n",
      "home = None\n",
      "root = None\n",
      "prefix = None\n"
     ]
    }
   ],
   "source": [
    "# 3. LightGBM\n",
    "! pip install lightgbm"
   ]
  },
  {
   "cell_type": "code",
   "execution_count": null,
   "id": "lucky-mining",
   "metadata": {},
   "outputs": [],
   "source": [
    "# 3.1 LightGBM 이해\n",
    "Light GBM은 Leaf-wise방식을 사용해 최대 손실값을 가지는 리프 노드를 지속적으로 분할하고, \n",
    "트리의 깊이가 깊어지고 비대칭적인 트리가 생성되며, 균형 트리보다 예측오류를 최소화하고 속도가 향상된다. \n",
    "느린 XG boost를 개선한 부스팅 기법으로, 더 많은 실험으로 더 많은 성능을 높일 수 있다.\n",
    "대용량 정형 데이터 분석에서 강력함이 더욱 드러난다.\n",
    "단점으론 데이터셋이 작을 땐 오버피팅에 취약하다."
   ]
  },
  {
   "cell_type": "code",
   "execution_count": 15,
   "id": "severe-antibody",
   "metadata": {},
   "outputs": [
    {
     "name": "stdout",
     "output_type": "stream",
     "text": [
      "[LightGBM] [Info] Total Bins 881\n",
      "[LightGBM] [Info] Number of data points in the train set: 312466, number of used features: 8\n",
      "[LightGBM] [Info] Start training from score 46056.618349\n",
      "[LightGBM] [Info] Total Bins 881\n",
      "[LightGBM] [Info] Number of data points in the train set: 312466, number of used features: 8\n",
      "[LightGBM] [Info] Start training from score 46056.618349\n",
      "[LightGBM] [Info] Total Bins 881\n",
      "[LightGBM] [Info] Number of data points in the train set: 312466, number of used features: 8\n",
      "[LightGBM] [Info] Start training from score 46056.618349\n",
      "[LightGBM] [Info] Total Bins 881\n",
      "[LightGBM] [Info] Number of data points in the train set: 312466, number of used features: 8\n",
      "[LightGBM] [Info] Start training from score 46056.618349\n",
      "[LightGBM] [Info] Total Bins 881\n",
      "[LightGBM] [Info] Number of data points in the train set: 312466, number of used features: 8\n",
      "[LightGBM] [Info] Start training from score 46056.618349\n",
      "[LightGBM] [Info] Total Bins 881\n",
      "[LightGBM] [Info] Number of data points in the train set: 312466, number of used features: 8\n",
      "[LightGBM] [Info] Start training from score 46056.618349\n",
      "[LightGBM] [Info] Total Bins 881\n",
      "[LightGBM] [Info] Number of data points in the train set: 312466, number of used features: 8\n",
      "[LightGBM] [Info] Start training from score 46056.618349\n"
     ]
    }
   ],
   "source": [
    "# 3.2 LGBM 튜닝\n",
    "import lightgbm as lgb\n",
    "from lightgbm import LGBMModel,LGBMRegressor\n",
    "\n",
    "rate = [0.01, 0.05, 0.1, 0.3, 0.5, 0.7, 0.99]\n",
    "ds =lgb.Dataset(train2_x_cbe,label=train2_y)\n",
    "ds_t = lgb.Dataset(val_cbe,label=val_y)\n",
    "\n",
    "m = []\n",
    "\n",
    "for r in rate:\n",
    "    param ={'learning_rate':r,'force_col_wise':True}\n",
    "    model = lgb.train(param,train_set=ds,valid_sets=ds_t)\n",
    "    y_pred = model.predict(val_cbe)\n",
    "    rmse = sqrt(mean_squared_error(val_y,y_pred))\n",
    "    m.append(rmse)"
   ]
  },
  {
   "cell_type": "code",
   "execution_count": 16,
   "id": "organic-banking",
   "metadata": {},
   "outputs": [
    {
     "data": {
      "text/plain": [
       "[<matplotlib.lines.Line2D at 0x2606f216fd0>]"
      ]
     },
     "execution_count": 16,
     "metadata": {},
     "output_type": "execute_result"
    },
    {
     "data": {
      "image/png": "[encoded data removed]",
      "text/plain": [
       "<Figure size 432x288 with 1 Axes>"
      ]
     },
     "metadata": {
      "needs_background": "light"
     },
     "output_type": "display_data"
    }
   ],
   "source": [
    "# 3.3 튜닝결과 시각화\n",
    "plt.plot(rate,m)"
   ]
  },
  {
   "cell_type": "code",
   "execution_count": null,
   "id": "precise-henry",
   "metadata": {},
   "outputs": [],
   "source": [
    "# 3.4 튜닝에 대해 알아보자!\n",
    "Grid search는 모든 parameter의 경우의 수에 대해 cross-validation 결과가 가장 좋은 parameter를 고르는 방법이다.\n",
    "좀 더 균등하고 전역적인 탐색이 가능하다는 장점이 있다.\n",
    "하지만 탐색하고자하는 hyperparameter의 개수를 한 번에 여러 종류로 가져갈수록, 전체 탐색 시간이 기하급수적으로 증가한다는 단점이 있다.\n",
    "\n",
    "Random search는 모든 grid를 전부 search하는 대신, random하게 일부의 parameter들만 관측한 후, 그 중에서 가장 좋은 parameter를 고른다.\n",
    "\n",
    "Random Search는 중요한 parameter를 더 많이 탐색할 수 있기 때문에 최적화하기에 유리하다. \n",
    "반면, Grid Search는 중요하지 않은 hyper-parameter를 너무 많이 탐색한다고 한다.\n",
    "\n",
    "Bayesian Optimization은 목적 함수(탐색대상함수)와 해당 하이퍼파라미터 쌍(pair)을 대상으로 Surrogate Model(대체 모델) 을 만들고, 평가를 통해 순차적으로 업데이트해 가면서 최적의 하이퍼파라미터 조합을 탐색한다."
   ]
  },
  {
   "cell_type": "code",
   "execution_count": null,
   "id": "artificial-statistics",
   "metadata": {},
   "outputs": [],
   "source": [
    "# 4. Test set"
   ]
  },
  {
   "cell_type": "code",
   "execution_count": 18,
   "id": "brazilian-wheat",
   "metadata": {},
   "outputs": [],
   "source": [
    "# 4.1 test set 불러오기\n",
    "test=pd.read_csv('C:/Users/iyuo1/OneDrive/Documents/P-SAT/주제분석 패키지/주제분석 2주차 패키지/test.csv')\n",
    "test_x = test.drop('price',axis=1)\n",
    "test_y = test['price']"
   ]
  },
  {
   "cell_type": "code",
   "execution_count": 19,
   "id": "civil-suspect",
   "metadata": {},
   "outputs": [
    {
     "name": "stderr",
     "output_type": "stream",
     "text": [
      "c:\\users\\iyuo1\\appdata\\local\\programs\\python\\python39\\lib\\site-packages\\category_encoders\\utils.py:21: FutureWarning: is_categorical is deprecated and will be removed in a future version.  Use is_categorical_dtype instead\n",
      "  elif pd.api.types.is_categorical(cols):\n"
     ]
    },
    {
     "data": {
      "text/html": [
       "<div>\n",
       "<style scoped>\n",
       "    .dataframe tbody tr th:only-of-type {\n",
       "        vertical-align: middle;\n",
       "    }\n",
       "\n",
       "    .dataframe tbody tr th {\n",
       "        vertical-align: top;\n",
       "    }\n",
       "\n",
       "    .dataframe thead th {\n",
       "        text-align: right;\n",
       "    }\n",
       "</style>\n",
       "<table border=\"1\" class=\"dataframe\">\n",
       "  <thead>\n",
       "    <tr style=\"text-align: right;\">\n",
       "      <th></th>\n",
       "      <th>dong</th>\n",
       "      <th>apt</th>\n",
       "      <th>exclusive_use_area</th>\n",
       "      <th>floor</th>\n",
       "      <th>transaction_year</th>\n",
       "      <th>until_trans</th>\n",
       "      <th>sin_date</th>\n",
       "      <th>cos_date</th>\n",
       "    </tr>\n",
       "  </thead>\n",
       "  <tbody>\n",
       "    <tr>\n",
       "      <th>0</th>\n",
       "      <td>91827.227742</td>\n",
       "      <td>89369.051084</td>\n",
       "      <td>70.80</td>\n",
       "      <td>1</td>\n",
       "      <td>5</td>\n",
       "      <td>10</td>\n",
       "      <td>-1.000000e+00</td>\n",
       "      <td>-1.836970e-16</td>\n",
       "    </tr>\n",
       "    <tr>\n",
       "      <th>1</th>\n",
       "      <td>91827.227742</td>\n",
       "      <td>89369.051084</td>\n",
       "      <td>94.51</td>\n",
       "      <td>8</td>\n",
       "      <td>5</td>\n",
       "      <td>10</td>\n",
       "      <td>-2.449294e-16</td>\n",
       "      <td>1.000000e+00</td>\n",
       "    </tr>\n",
       "    <tr>\n",
       "      <th>2</th>\n",
       "      <td>91827.227742</td>\n",
       "      <td>89369.051084</td>\n",
       "      <td>160.85</td>\n",
       "      <td>11</td>\n",
       "      <td>5</td>\n",
       "      <td>10</td>\n",
       "      <td>-2.449294e-16</td>\n",
       "      <td>1.000000e+00</td>\n",
       "    </tr>\n",
       "    <tr>\n",
       "      <th>3</th>\n",
       "      <td>91827.227742</td>\n",
       "      <td>89369.051084</td>\n",
       "      <td>94.51</td>\n",
       "      <td>6</td>\n",
       "      <td>5</td>\n",
       "      <td>10</td>\n",
       "      <td>1.000000e+00</td>\n",
       "      <td>3.061617e-16</td>\n",
       "    </tr>\n",
       "    <tr>\n",
       "      <th>4</th>\n",
       "      <td>91827.227742</td>\n",
       "      <td>89369.051084</td>\n",
       "      <td>136.40</td>\n",
       "      <td>3</td>\n",
       "      <td>5</td>\n",
       "      <td>10</td>\n",
       "      <td>1.000000e+00</td>\n",
       "      <td>3.061617e-16</td>\n",
       "    </tr>\n",
       "  </tbody>\n",
       "</table>\n",
       "</div>"
      ],
      "text/plain": [
       "           dong           apt  exclusive_use_area  floor  transaction_year  \\\n",
       "0  91827.227742  89369.051084               70.80      1                 5   \n",
       "1  91827.227742  89369.051084               94.51      8                 5   \n",
       "2  91827.227742  89369.051084              160.85     11                 5   \n",
       "3  91827.227742  89369.051084               94.51      6                 5   \n",
       "4  91827.227742  89369.051084              136.40      3                 5   \n",
       "\n",
       "   until_trans      sin_date      cos_date  \n",
       "0           10 -1.000000e+00 -1.836970e-16  \n",
       "1           10 -2.449294e-16  1.000000e+00  \n",
       "2           10 -2.449294e-16  1.000000e+00  \n",
       "3           10  1.000000e+00  3.061617e-16  \n",
       "4           10  1.000000e+00  3.061617e-16  "
      ]
     },
     "execution_count": 19,
     "metadata": {},
     "output_type": "execute_result"
    }
   ],
   "source": [
    "# 4.2 캣부스트 인코딩\n",
    "enc = CatBoostEncoder(cols=['dong','apt']).fit(train_x,train_y)\n",
    "test_cbe= enc.transform(test_x)\n",
    "test_cbe.head()"
   ]
  },
  {
   "cell_type": "code",
   "execution_count": 21,
   "id": "revised-argentina",
   "metadata": {},
   "outputs": [
    {
     "name": "stderr",
     "output_type": "stream",
     "text": [
      "c:\\users\\iyuo1\\appdata\\local\\programs\\python\\python39\\lib\\site-packages\\category_encoders\\utils.py:21: FutureWarning: is_categorical is deprecated and will be removed in a future version.  Use is_categorical_dtype instead\n",
      "  elif pd.api.types.is_categorical(cols):\n"
     ]
    },
    {
     "name": "stdout",
     "output_type": "stream",
     "text": [
      "[LightGBM] [Info] Total Bins 888\n",
      "[LightGBM] [Info] Number of data points in the train set: 422164, number of used features: 8\n",
      "[LightGBM] [Info] Start training from score 48041.092876\n"
     ]
    }
   ],
   "source": [
    "# 4.3 최적의 파라미터 조합\n",
    "# Linesar Regression\n",
    "enc = CatBoostEncoder(cols=['dong','apt']).fit(train_x,train_y)\n",
    "train_x_cbe= enc.transform(train_x)\n",
    "lm=LinearRegression().fit(train_x_cbe,train_y)\n",
    "\n",
    "\n",
    "# LGBM\n",
    "ds =lgb.Dataset(train_x_cbe,label=train_y)\n",
    "ds_t = lgb.Dataset(test_cbe,label=test_y)\n",
    "\n",
    "param ={'learning_rate':0.5,'force_col_wise':True}\n",
    "model = lgb.train(param,train_set=ds,valid_sets=ds_t)"
   ]
  }
 ],
 "metadata": {
  "kernelspec": {
   "display_name": "Python 3",
   "language": "python",
   "name": "python3"
  },
  "language_info": {
   "codemirror_mode": {
    "name": "ipython",
    "version": 3
   },
   "file_extension": ".py",
   "mimetype": "text/x-python",
   "name": "python",
   "nbconvert_exporter": "python",
   "pygments_lexer": "ipython3",
   "version": "3.9.4"
  }
 },
 "nbformat": 4,
 "nbformat_minor": 5
}
