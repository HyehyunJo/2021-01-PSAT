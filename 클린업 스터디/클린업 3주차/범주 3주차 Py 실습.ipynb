{
 "cells": [
  {
   "cell_type": "markdown",
   "metadata": {},
   "source": [
    "# 범주 3주차 Py 실습\n"
   ]
  },
  {
   "cell_type": "markdown",
   "metadata": {},
   "source": [
    "## 분류 평가지표 \n",
    "\n",
    "Kaggle의 그 유명한 타이타닉 데이터를 통해 3주차에 배운 분류 평가지표들을 실습해봅시다."
   ]
  },
  {
   "cell_type": "code",
   "execution_count": 1,
   "metadata": {},
   "outputs": [],
   "source": [
    "import numpy as np\n",
    "import pandas as pd\n",
    "import matplotlib.pyplot as plt\n",
    "import seaborn as sns\n",
    "\n",
    "from sklearn.metrics import accuracy_score, precision_score, recall_score, confusion_matrix, roc_curve, roc_auc_score\n",
    "from sklearn.linear_model import LogisticRegression \n",
    "from sklearn.model_selection import train_test_split \n",
    "from sklearn.preprocessing import LabelEncoder"
   ]
  },
  {
   "cell_type": "code",
   "execution_count": 2,
   "metadata": {},
   "outputs": [],
   "source": [
    "import warnings  \n",
    "warnings.filterwarnings(action=\"ignore\")"
   ]
  },
  {
   "cell_type": "markdown",
   "metadata": {},
   "source": [
    "skearn.metrics 모듈을 통해 분류 평가지표들을 사용할 수 있음."
   ]
  },
  {
   "cell_type": "code",
   "execution_count": 3,
   "metadata": {},
   "outputs": [],
   "source": [
    "# 전처리 함수 생성\n",
    "def get_category(age):\n",
    "    cat=\"\"\n",
    "    if age <= -1: cat=\"Unknown\"\n",
    "    elif age <= 5: cat=\"Baby\"\n",
    "    elif age <= 12: cat=\"Child\"\n",
    "    elif age <= 18: cat=\"Teenager\"\n",
    "    elif age <= 25: cat=\"Student\"\n",
    "    elif age <=35: cat=\"Young Adult\"\n",
    "    elif age <= 60: cat=\"Adult\"\n",
    "    else: cat=\"Elderly\"\n",
    "    return cat\n",
    "\n",
    "def feature_tf(df):\n",
    "    enc_feature = [\"Sex\", \"AgeGroup\"]\n",
    "    drop_feature = [\"Name\", \"Embarked\", \"Ticket\", \"Cabin\", \"Age\"]\n",
    "    df[\"AgeGroup\"]=df[\"Age\"].apply(lambda x : get_category(x))\n",
    "    df.drop(columns = drop_feature,inplace=True)\n",
    "    for feature in enc_feature:\n",
    "        enc = LabelEncoder()\n",
    "        df[feature] = enc.fit_transform(df[feature])\n",
    "    return df\n",
    "\n",
    "# 평가지표 계산 함수 생성\n",
    "def show_metrics(y_test, y_pred):\n",
    "    confusion = confusion_matrix(y_test, y_pred)\n",
    "    accuracy = accuracy_score(y_test, y_pred)\n",
    "    precision = precision_score(y_test, y_pred)\n",
    "    recall = recall_score(y_test, y_pred)\n",
    "    print(confusion)\n",
    "    print(\"Acc : {}\".format(accuracy))\n",
    "    print(\"precision : {}\".format(precision))\n",
    "    print(\"recall : {}\".format(recall))"
   ]
  },
  {
   "cell_type": "code",
   "execution_count": 4,
   "metadata": {},
   "outputs": [
    {
     "name": "stdout",
     "output_type": "stream",
     "text": [
      "<class 'pandas.core.frame.DataFrame'>\n",
      "RangeIndex: 891 entries, 0 to 890\n",
      "Data columns (total 12 columns):\n",
      " #   Column       Non-Null Count  Dtype  \n",
      "---  ------       --------------  -----  \n",
      " 0   PassengerId  891 non-null    int64  \n",
      " 1   Survived     891 non-null    int64  \n",
      " 2   Pclass       891 non-null    int64  \n",
      " 3   Name         891 non-null    object \n",
      " 4   Sex          891 non-null    object \n",
      " 5   Age          714 non-null    float64\n",
      " 6   SibSp        891 non-null    int64  \n",
      " 7   Parch        891 non-null    int64  \n",
      " 8   Ticket       891 non-null    object \n",
      " 9   Fare         891 non-null    float64\n",
      " 10  Cabin        204 non-null    object \n",
      " 11  Embarked     889 non-null    object \n",
      "dtypes: float64(2), int64(5), object(5)\n",
      "memory usage: 83.7+ KB\n"
     ]
    }
   ],
   "source": [
    "# 데이터 불러오기\n",
    "df = pd.read_csv(\"train.csv\")\n",
    "X = df.iloc[:, df.columns != \"Survived\"]\n",
    "y = df.iloc[:, df.columns == \"Survived\"]\n",
    "feature_tf(X)\n",
    "\n",
    "df.info()"
   ]
  },
  {
   "cell_type": "code",
   "execution_count": 5,
   "metadata": {},
   "outputs": [
    {
     "name": "stdout",
     "output_type": "stream",
     "text": [
      "[[99 13]\n",
      " [19 48]]\n",
      "Acc : 0.8212290502793296\n",
      "precision : 0.7868852459016393\n",
      "recall : 0.7164179104477612\n"
     ]
    }
   ],
   "source": [
    "# train test 데이터셋 분할\n",
    "X_train, X_test, y_train, y_test = train_test_split(X, y, test_size=0.2)\n",
    "\n",
    "# 로지스틱 회귀 모델 적합\n",
    "lr = LogisticRegression()\n",
    "lr.fit(X_train, y_train)\n",
    "y_pred = lr.predict(X_test)\n",
    "show_metrics(y_test, y_pred)"
   ]
  },
  {
   "cell_type": "code",
   "execution_count": 6,
   "metadata": {
    "scrolled": true
   },
   "outputs": [
    {
     "name": "stdout",
     "output_type": "stream",
     "text": [
      "FPR : [0.         0.         0.         0.00892857]\n",
      "TPR : [0.         0.01492537 0.2238806  0.2238806 ]\n",
      "threshold(cut-off point) : [1.99499933 0.99499933 0.81933505 0.81225031]\n"
     ]
    }
   ],
   "source": [
    "# ROC curve 시각화 \n",
    "prob_positive_pred = lr.predict_proba(X_test)[:, 1]\n",
    "fpr, tpr, thresholds = roc_curve(y_test, prob_positive_pred)\n",
    "\n",
    "print(\"FPR : {}\".format(fpr[:4]))\n",
    "print(\"TPR : {}\".format(tpr[:4]))\n",
    "print(\"threshold(cut-off point) : {}\".format(thresholds[:4]))"
   ]
  },
  {
   "cell_type": "code",
   "execution_count": 7,
   "metadata": {},
   "outputs": [
    {
     "data": {
      "text/plain": [
       "<AxesSubplot:xlabel='fpr', ylabel='tpr'>"
      ]
     },
     "execution_count": 7,
     "metadata": {},
     "output_type": "execute_result"
    },
    {
     "data": {
      "image/png": "[encoded data removed]",
      "text/plain": [
       "<Figure size 432x288 with 1 Axes>"
      ]
     },
     "metadata": {
      "needs_background": "light"
     },
     "output_type": "display_data"
    }
   ],
   "source": [
    "df = {\"threshold\":thresholds, \"fpr\":fpr, \"tpr\":tpr}\n",
    "df = pd.DataFrame.from_dict(df)\n",
    "sns.lineplot(x=\"fpr\", y=\"tpr\", data=df)"
   ]
  },
  {
   "cell_type": "code",
   "execution_count": 8,
   "metadata": {
    "scrolled": true
   },
   "outputs": [
    {
     "name": "stdout",
     "output_type": "stream",
     "text": [
      "0.8318230277185501\n"
     ]
    }
   ],
   "source": [
    "# ROC 곡선의 AUC\n",
    "roc_score = roc_auc_score(y_test, prob_positive_pred) \n",
    "print(roc_score)"
   ]
  },
  {
   "cell_type": "markdown",
   "metadata": {},
   "source": [
    "## Sampling\n",
    "\n",
    "클래스 불균형 문제를 해결하기 위한 sampling 실습! imblearn 모듈을 통해서 쉽게 샘플링한 데이터를 만들 수 있다."
   ]
  },
  {
   "cell_type": "code",
   "execution_count": 9,
   "metadata": {},
   "outputs": [],
   "source": [
    "from imblearn.under_sampling import * \n",
    "from imblearn.over_sampling import *\n",
    "from imblearn.combine import * # 복합 샘플링"
   ]
  },
  {
   "cell_type": "code",
   "execution_count": 10,
   "metadata": {},
   "outputs": [],
   "source": [
    "# 데이터 불러오기 \n",
    "data = pd.read_csv(\"data.csv\")\n",
    "y = data.cls\n",
    "X = data"
   ]
  },
  {
   "cell_type": "markdown",
   "metadata": {},
   "source": [
    "### Random UnderSampling"
   ]
  },
  {
   "cell_type": "code",
   "execution_count": 11,
   "metadata": {},
   "outputs": [],
   "source": [
    "new = RandomUnderSampler(random_state = 0).fit_resample(X, y) # random_state는 R에서의 seed와 같음!\n",
    "new = pd.DataFrame(new[0]) \n",
    "new.to_csv(\"Sampling/RandomUnderSampling.csv\", header = False, index = False)"
   ]
  },
  {
   "cell_type": "markdown",
   "metadata": {},
   "source": [
    "### Random OverSampling"
   ]
  },
  {
   "cell_type": "code",
   "execution_count": 12,
   "metadata": {},
   "outputs": [],
   "source": [
    "new = RandomOverSampler(random_state = 0).fit_resample(X, y)\n",
    "new = pd.DataFrame(new[0])\n",
    "new.to_csv(\"Sampling/RandomOverSampling.csv\", header = False, index = False)"
   ]
  },
  {
   "cell_type": "markdown",
   "metadata": {},
   "source": [
    "### SMOTE"
   ]
  },
  {
   "cell_type": "code",
   "execution_count": 13,
   "metadata": {},
   "outputs": [],
   "source": [
    "new = SMOTE(random_state = 0).fit_resample(X, y)\n",
    "new = pd.DataFrame(new[0])\n",
    "new.to_csv(\"Sampling/SMOTE.csv\", header = False, index = False)"
   ]
  }
 ],
 "metadata": {
  "kernelspec": {
   "display_name": "Python 3",
   "language": "python",
   "name": "python3"
  },
  "language_info": {
   "codemirror_mode": {
    "name": "ipython",
    "version": 3
   },
   "file_extension": ".py",
   "mimetype": "text/x-python",
   "name": "python",
   "nbconvert_exporter": "python",
   "pygments_lexer": "ipython3",
   "version": "3.8.5"
  }
 },
 "nbformat": 4,
 "nbformat_minor": 4
}
