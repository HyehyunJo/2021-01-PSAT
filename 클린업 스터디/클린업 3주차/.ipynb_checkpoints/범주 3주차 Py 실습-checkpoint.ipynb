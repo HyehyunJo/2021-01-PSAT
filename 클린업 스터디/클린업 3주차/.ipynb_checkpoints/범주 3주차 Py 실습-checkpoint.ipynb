{
 "cells": [
  {
   "cell_type": "markdown",
   "metadata": {},
   "source": [
    "# 범주 3주차 Py 실습\n"
   ]
  },
  {
   "cell_type": "markdown",
   "metadata": {},
   "source": [
    "## 분류 평가지표 \n",
    "\n",
    "Kaggle의 그 유명한 타이타닉 데이터를 통해 3주차에 배운 분류 평가지표들을 실습해봅시다."
   ]
  },
  {
   "cell_type": "code",
   "execution_count": 63,
   "metadata": {},
   "outputs": [],
   "source": [
    "import numpy as np\n",
    "import pandas as pd\n",
    "import matplotlib.pyplot as plt\n",
    "import seaborn as sns\n",
    "\n",
    "\n",
    "from sklearn.metrics import precision_recall_curve\n",
    "from sklearn.metrics import accuracy_score, precision_score, recall_score, confusion_matrix\n",
    "from sklearn.linear_model import LogisticRegression \n",
    "from sklearn.model_selection import train_test_split \n",
    "from sklearn.preprocessing import LabelEncoder"
   ]
  },
  {
   "cell_type": "code",
   "execution_count": 41,
   "metadata": {},
   "outputs": [],
   "source": [
    "import warnings  \n",
    "warnings.filterwarnings(action=\"ignore\")"
   ]
  },
  {
   "cell_type": "markdown",
   "metadata": {},
   "source": [
    "skearn.metrics 모듈을 통해 분류 평가지표들을 사용할 수 있음."
   ]
  },
  {
   "cell_type": "code",
   "execution_count": 71,
   "metadata": {},
   "outputs": [],
   "source": [
    "# 전처리 함수 생성\n",
    "def get_category(age):\n",
    "    cat=\"\"\n",
    "    if age <= -1: cat=\"Unknown\"\n",
    "    elif age <= 5: cat=\"Baby\"\n",
    "    elif age <= 12: cat=\"Child\"\n",
    "    elif age <= 18: cat=\"Teenager\"\n",
    "    elif age <= 25: cat=\"Student\"\n",
    "    elif age <=35: cat=\"Young Adult\"\n",
    "    elif age <= 60: cat=\"Adult\"\n",
    "    else: cat=\"Elderly\"\n",
    "    return cat\n",
    "\n",
    "def feature_tf(df):\n",
    "    enc_feature = [\"Sex\", \"AgeGroup\"]\n",
    "    drop_feature = [\"Name\", \"Embarked\", \"Ticket\", \"Cabin\", \"Age\"]\n",
    "    df[\"AgeGroup\"]=df[\"Age\"].apply(lambda x : get_category(x))\n",
    "    df.drop(columns = drop_feature,inplace=True)\n",
    "    for feature in enc_feature:\n",
    "        enc = LabelEncoder()\n",
    "        df[feature] = enc.fit_transform(df[feature])\n",
    "    return df\n",
    "\n",
    "# 평가지표 계산 함수 생성\n",
    "def show_metrics(y_test, y_pred):\n",
    "    confusion = confusion_matrix(y_test, y_pred)\n",
    "    accuracy = accuracy_score(y_test, y_pred)\n",
    "    precision = precision_score(y_test, y_pred)\n",
    "    recall = recall_score(y_test, y_pred)\n",
    "    print(confusion)\n",
    "    print(\"Acc : {}\".format(accuracy))\n",
    "    print(\"precision : {}\".format(precision))\n",
    "    print(\"recall : {}\".format(recall))"
   ]
  },
  {
   "cell_type": "code",
   "execution_count": 72,
   "metadata": {},
   "outputs": [
    {
     "name": "stdout",
     "output_type": "stream",
     "text": [
      "[[92 18]\n",
      " [25 44]]\n",
      "Acc : 0.7597765363128491\n",
      "precision : 0.7096774193548387\n",
      "recall : 0.6376811594202898\n"
     ]
    }
   ],
   "source": [
    "# 데이터 불러오기\n",
    "df = pd.read_csv(\"train.csv\")\n",
    "X = df.iloc[:, df.columns != \"Survived\"]\n",
    "y = df.iloc[:, df.columns == \"Survived\"]\n",
    "feature_tf(X)\n",
    "\n",
    "# train test 데이터셋 분할\n",
    "X_train, X_test, y_train, y_test = train_test_split(X, y, test_size=0.2)\n",
    "\n",
    "# 로지스틱 회귀 모델 적합\n",
    "lr = LogisticRegression()\n",
    "lr.fit(X_train, y_train)\n",
    "y_pred = lr.predict(X_test)\n",
    "show_metrics(y_test, y_pred)"
   ]
  },
  {
   "cell_type": "code",
   "execution_count": 93,
   "metadata": {
    "scrolled": true
   },
   "outputs": [
    {
     "name": "stdout",
     "output_type": "stream",
     "text": [
      "FPR : [0.         0.         0.         0.00909091]\n",
      "TPR : [0.         0.01449275 0.30434783 0.30434783]\n",
      "threshold(cut-off point) : [1.99733085 0.99733085 0.78678382 0.78591634]\n"
     ]
    }
   ],
   "source": [
    "# ROC curve 시각화 \n",
    "prob_positive_pred = lr.predict_proba(X_test)[:, 1]\n",
    "fpr, tpr, thresholds = roc_curve(y_test, prob_positive_pred)\n",
    "\n",
    "print(\"FPR : {}\".format(fpr[:4]))\n",
    "print(\"TPR : {}\".format(tpr[:4]))\n",
    "print(\"threshold(cut-off point) : {}\".format(thresholds[:4]))"
   ]
  },
  {
   "cell_type": "code",
   "execution_count": 99,
   "metadata": {},
   "outputs": [
    {
     "data": {
      "text/plain": [
       "<AxesSubplot:xlabel='fpr', ylabel='tpr'>"
      ]
     },
     "execution_count": 99,
     "metadata": {},
     "output_type": "execute_result"
    },
    {
     "data": {
      "image/png": "[encoded data removed]",
      "text/plain": [
       "<Figure size 432x288 with 1 Axes>"
      ]
     },
     "metadata": {
      "needs_background": "light"
     },
     "output_type": "display_data"
    }
   ],
   "source": [
    "df = {\"threshold\":thresholds, \"fpr\":fpr, \"tpr\":tpr}\n",
    "df = pd.DataFrame.from_dict(df)\n",
    "sns.lineplot(x=\"fpr\", y=\"tpr\", data=df)"
   ]
  },
  {
   "cell_type": "code",
   "execution_count": 102,
   "metadata": {},
   "outputs": [
    {
     "name": "stdout",
     "output_type": "stream",
     "text": [
      "0.7744400527009223\n"
     ]
    }
   ],
   "source": [
    "# ROC 곡선의 AUC\n",
    "roc_score = roc_auc_score(y_test, prob_positive_pred) \n",
    "print(roc_score)"
   ]
  },
  {
   "cell_type": "markdown",
   "metadata": {},
   "source": [
    "## Sampling"
   ]
  },
  {
   "cell_type": "code",
   "execution_count": 105,
   "metadata": {},
   "outputs": [
    {
     "ename": "ModuleNotFoundError",
     "evalue": "No module named 'imblearn'",
     "output_type": "error",
     "traceback": [
      "\u001b[1;31m---------------------------------------------------------------------------\u001b[0m",
      "\u001b[1;31mModuleNotFoundError\u001b[0m                       Traceback (most recent call last)",
      "\u001b[1;32m<ipython-input-105-cd6c935037ad>\u001b[0m in \u001b[0;36m<module>\u001b[1;34m\u001b[0m\n\u001b[1;32m----> 1\u001b[1;33m \u001b[1;32mfrom\u001b[0m \u001b[0mimblearn\u001b[0m\u001b[1;33m.\u001b[0m\u001b[0munder_sampling\u001b[0m \u001b[1;32mimport\u001b[0m \u001b[1;33m*\u001b[0m \u001b[1;31m# 언더 샘플링\u001b[0m\u001b[1;33m\u001b[0m\u001b[1;33m\u001b[0m\u001b[0m\n\u001b[0m\u001b[0;32m      2\u001b[0m \u001b[1;32mfrom\u001b[0m \u001b[0mimblearn\u001b[0m\u001b[1;33m.\u001b[0m\u001b[0mover_sampling\u001b[0m \u001b[1;32mimport\u001b[0m \u001b[1;33m*\u001b[0m \u001b[1;31m# 오버 샘플링\u001b[0m\u001b[1;33m\u001b[0m\u001b[1;33m\u001b[0m\u001b[0m\n",
      "\u001b[1;31mModuleNotFoundError\u001b[0m: No module named 'imblearn'"
     ]
    }
   ],
   "source": [
    "from imblearn.under_sampling import * # 언더 샘플링\n",
    "from imblearn.over_sampling import * # 오버 샘플링"
   ]
  }
 ],
 "metadata": {
  "kernelspec": {
   "display_name": "Python 3",
   "language": "python",
   "name": "python3"
  },
  "language_info": {
   "codemirror_mode": {
    "name": "ipython",
    "version": 3
   },
   "file_extension": ".py",
   "mimetype": "text/x-python",
   "name": "python",
   "nbconvert_exporter": "python",
   "pygments_lexer": "ipython3",
   "version": "3.8.5"
  }
 },
 "nbformat": 4,
 "nbformat_minor": 4
}
